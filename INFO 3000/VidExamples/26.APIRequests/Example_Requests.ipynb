{
 "cells": [
  {
   "cell_type": "code",
   "execution_count": 1,
   "metadata": {},
   "outputs": [],
   "source": [
    "'''Import libraries'''\n",
    "import requests # used to make HTTP requests\n",
    "import json # used to work with JSON data"
   ]
  },
  {
   "cell_type": "code",
   "execution_count": 2,
   "metadata": {},
   "outputs": [
    {
     "name": "stdout",
     "output_type": "stream",
     "text": [
      "Response Status Code: <Response [200]>\n",
      "\n",
      " Response Test:\n",
      "{'people': [{'craft': 'ISS', 'name': 'Oleg Kononenko'}, {'craft': 'ISS', 'name': 'Nikolai Chub'}, {'craft': 'ISS', 'name': 'Tracy Caldwell Dyson'}, {'craft': 'ISS', 'name': 'Matthew Dominick'}, {'craft': 'ISS', 'name': 'Michael Barratt'}, {'craft': 'ISS', 'name': 'Jeanette Epps'}, {'craft': 'ISS', 'name': 'Alexander Grebenkin'}, {'craft': 'ISS', 'name': 'Butch Wilmore'}, {'craft': 'ISS', 'name': 'Sunita Williams'}, {'craft': 'Tiangong', 'name': 'Li Guangsu'}, {'craft': 'Tiangong', 'name': 'Li Cong'}, {'craft': 'Tiangong', 'name': 'Ye Guangfu'}], 'number': 12, 'message': 'success'}\n",
      "\n",
      "\n",
      "Number of astros on ISS\n",
      "12\n",
      "\n",
      "Astros on board ISS\n",
      "\n",
      "Oleg Kononenko\n",
      "Nikolai Chub\n",
      "Tracy Caldwell Dyson\n",
      "Matthew Dominick\n",
      "Michael Barratt\n",
      "Jeanette Epps\n",
      "Alexander Grebenkin\n",
      "Butch Wilmore\n",
      "Sunita Williams\n",
      "Li Guangsu\n",
      "Li Cong\n",
      "Ye Guangfu\n"
     ]
    }
   ],
   "source": [
    "url_astro = \"http://api.open-notify.org/astros.json\"\n",
    "\n",
    "astros = requests.request(\"GET\", url_astro) # GET request to the URL\n",
    "print(f\"Response Status Code: {astros}\\n\") # 200 is good\n",
    "\n",
    "result2 = json.loads(astros.text) # Load the JSON data and assign it to a variable\n",
    "print(f\" Response Test:\\n{result2}\\n\") # Print the JSON data\n",
    "print(f\"\\nNumber of astros on ISS\\n{result2['number']}\") # Print the number of astronauts on the ISS\n",
    "\n",
    "who = result2['people'] # Assign the list of astronauts to a variable\n",
    "\n",
    "print(f\"\\nAstros on board ISS\\n\") # Print the list of astronauts\n",
    "for i in who:\n",
    "    print(i['name']) # Print the list of astronauts"
   ]
  },
  {
   "cell_type": "code",
   "execution_count": 3,
   "metadata": {},
   "outputs": [
    {
     "name": "stdout",
     "output_type": "stream",
     "text": [
      "\n",
      "Response Status Code: <Response [200]>\n",
      "\n",
      "{'Server': 'nginx/1.10.3', 'Date': 'Wed, 24 Jul 2024 01:41:44 GMT', 'Content-Type': 'application/json', 'Content-Length': '114', 'Connection': 'keep-alive', 'access-control-allow-origin': '*'}\n",
      "\n",
      "Keys:\n",
      "dict_keys(['message', 'timestamp', 'iss_position'])\n",
      "{'message': 'success', 'timestamp': 1721785303, 'iss_position': {'latitude': '-48.1712', 'longitude': '102.6493'}}\n"
     ]
    }
   ],
   "source": [
    "# Accessing another NASA API - position of the ISS\n",
    "\n",
    "url_nasa = \"http://api.open-notify.org/iss-now.json\"\n",
    "\n",
    "position = requests.request(\"GET\", url_nasa) # GET request to the URL\n",
    "print(f\"\\nResponse Status Code: {position}\\n\") # 200 is good\n",
    "print(position.headers) # Print the headers\n",
    "result1 = json.loads(position.text) # Load the JSON data and assign it to a variable\n",
    "print(f\"\\nKeys:\\n{result1.keys()}\") # Print the keys\n",
    "print(result1) # Print the JSON data"
   ]
  }
 ],
 "metadata": {
  "kernelspec": {
   "display_name": "info2000",
   "language": "python",
   "name": "python3"
  },
  "language_info": {
   "codemirror_mode": {
    "name": "ipython",
    "version": 3
   },
   "file_extension": ".py",
   "mimetype": "text/x-python",
   "name": "python",
   "nbconvert_exporter": "python",
   "pygments_lexer": "ipython3",
   "version": "3.10.13"
  }
 },
 "nbformat": 4,
 "nbformat_minor": 2
}
