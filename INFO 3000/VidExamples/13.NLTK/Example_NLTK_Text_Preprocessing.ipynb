{
 "cells": [
  {
   "cell_type": "markdown",
   "id": "927e3bb0-9111-4592-ab00-6949a75d0b7d",
   "metadata": {},
   "source": [
    "### Text Processing and Analysis using NLTK library ###\n",
    "\n"
   ]
  },
  {
   "cell_type": "code",
   "execution_count": 1,
   "id": "e1593741-b624-44c2-8d32-a5664232f1da",
   "metadata": {
    "tags": []
   },
   "outputs": [
    {
     "name": "stdout",
     "output_type": "stream",
     "text": [
      "The NLTK version is: 3.8.1\n"
     ]
    }
   ],
   "source": [
    "import nltk\n",
    "from nltk.tokenize import sent_tokenize, word_tokenize\n",
    "# sent_tokenize is used to split the text into sentences\n",
    "# word_tokenize is used to split the text into words\n",
    "\n",
    "print(f\"The NLTK version is: {nltk.__version__}\")"
   ]
  },
  {
   "cell_type": "markdown",
   "id": "4e62cd32-2634-4f59-96ae-ee8b5253bd80",
   "metadata": {
    "tags": []
   },
   "source": [
    "### Tokenizing ###"
   ]
  },
  {
   "cell_type": "code",
   "execution_count": 2,
   "id": "7cdd7650-babf-404f-8b48-3900d94e63a4",
   "metadata": {
    "tags": []
   },
   "outputs": [],
   "source": [
    "# Quote from the sci-fi book \"Dune\"\n",
    "\n",
    "text_string = \"\"\"Muad'Dib learned rapidly because his first training was in how to learn.\n",
    "And the first lesson of all was the basic trust that he could learn.\n",
    "It's shocking to find how many people do not believe they can learn, and how many more believe learning to be difficult.\"\"\""
   ]
  },
  {
   "cell_type": "code",
   "execution_count": 3,
   "id": "6c3f641f-be6f-477a-a994-116d27aa6b5c",
   "metadata": {
    "tags": []
   },
   "outputs": [
    {
     "name": "stdout",
     "output_type": "stream",
     "text": [
      "[\"Muad'Dib learned rapidly because his first training was in how to learn.\", 'And the first lesson of all was the basic trust that he could learn.', \"It's shocking to find how many people do not believe they can learn, and how many more believe learning to be difficult.\"]\n"
     ]
    }
   ],
   "source": [
    "print(sent_tokenize(text_string)) # Split the text into sentences"
   ]
  },
  {
   "cell_type": "code",
   "execution_count": 4,
   "id": "14a8d76c-a9a0-4b72-8c40-94cba802eeef",
   "metadata": {
    "tags": []
   },
   "outputs": [
    {
     "name": "stdout",
     "output_type": "stream",
     "text": [
      "[\"Muad'Dib\", 'learned', 'rapidly', 'because', 'his', 'first', 'training', 'was', 'in', 'how', 'to', 'learn', '.', 'And', 'the', 'first', 'lesson', 'of', 'all', 'was', 'the', 'basic', 'trust', 'that', 'he', 'could', 'learn', '.', 'It', \"'s\", 'shocking', 'to', 'find', 'how', 'many', 'people', 'do', 'not', 'believe', 'they', 'can', 'learn', ',', 'and', 'how', 'many', 'more', 'believe', 'learning', 'to', 'be', 'difficult', '.'] "
     ]
    }
   ],
   "source": [
    "print(word_tokenize(text_string), end=' ') # Split the text into words"
   ]
  },
  {
   "cell_type": "markdown",
   "id": "60db437f-ddb7-43eb-87fc-9e87aae1a106",
   "metadata": {
    "tags": []
   },
   "source": [
    "### Stopwords ###"
   ]
  },
  {
   "cell_type": "code",
   "execution_count": 8,
   "id": "de6f806e-cd81-47c9-8cae-3f44bc4c343f",
   "metadata": {
    "tags": []
   },
   "outputs": [],
   "source": [
    "from nltk.corpus import stopwords # nltk.download(\"stopwords\") to download the stopwords"
   ]
  },
  {
   "cell_type": "code",
   "execution_count": 6,
   "id": "30fc7e13-2bf1-4d33-9c88-21f87018f4ec",
   "metadata": {
    "tags": []
   },
   "outputs": [
    {
     "name": "stdout",
     "output_type": "stream",
     "text": [
      "['10.', 'sir', ',', 'i', 'protest', '.', 'i', 'sir', ',', 'am', 'not', 'a', 'merry', 'man', '!']\n"
     ]
    }
   ],
   "source": [
    "word_quote = \"10. Sir, I protest. I sir, am not a merry man!\" # Quote from Star Trek: The Next Generation\n",
    "words_in_quote = word_tokenize(word_quote.lower()) # Tokenize and convert to lower case (to avoid same word being added to the vocabulary)\n",
    "print(words_in_quote) # Print the words in the quote"
   ]
  },
  {
   "cell_type": "code",
   "execution_count": 9,
   "id": "9221b516-1703-4361-8104-fa32939e8c54",
   "metadata": {
    "tags": []
   },
   "outputs": [],
   "source": [
    "stop_words = set(stopwords.words(\"english\")) # Get the stop words in English"
   ]
  },
  {
   "cell_type": "code",
   "execution_count": 10,
   "id": "67d4da3a-30e3-44ee-b997-32941ef1329f",
   "metadata": {
    "tags": []
   },
   "outputs": [
    {
     "name": "stdout",
     "output_type": "stream",
     "text": [
      "['10.', 'sir', ',', 'protest', '.', 'sir', ',', 'merry', 'man', '!']\n"
     ]
    }
   ],
   "source": [
    "filtered_list = [word for word in words_in_quote if word.lower() not in stop_words] # Filter out the stop words\n",
    "print(filtered_list) # Print the words in the quote that are not stop words"
   ]
  },
  {
   "cell_type": "code",
   "execution_count": 11,
   "id": "b45fd4b7-da41-462b-897f-8eac4bde959f",
   "metadata": {
    "tags": []
   },
   "outputs": [
    {
     "name": "stdout",
     "output_type": "stream",
     "text": [
      "['sir', 'protest', 'sir', 'merry', 'man']\n",
      "['sir', 'protest', 'sir', 'merry', 'man']\n"
     ]
    }
   ],
   "source": [
    "# If you want to remove the punctuations  and keep only alphanumeric content\n",
    "filtered_list = [w for w in filtered_list if w.isalnum()] # Filter out the punctuations, where we only get alphanumeric content\n",
    "print(filtered_list) # Print the alphanumeric words in the quote (10 still gets removed because it has a period)\n",
    "filtered_list = [w for w in filtered_list if w.isalpha()] # If you want to remove the numbers too  and keep only alphabetic content\n",
    "print(filtered_list) # Print the alphabetic words in the quote"
   ]
  },
  {
   "cell_type": "markdown",
   "id": "2e371140-e505-45bf-a19b-367e4190d595",
   "metadata": {
    "tags": []
   },
   "source": [
    "### Stemming ###"
   ]
  },
  {
   "cell_type": "code",
   "execution_count": 12,
   "id": "837e137b-5141-42ff-bec8-adcea6b07c1a",
   "metadata": {
    "tags": []
   },
   "outputs": [],
   "source": [
    "from nltk.stem import PorterStemmer # Stemming is the process of reducing a word to its word stem"
   ]
  },
  {
   "cell_type": "code",
   "execution_count": 13,
   "id": "a6c87691-5661-4a2b-8f0b-bd4f201c79f5",
   "metadata": {
    "tags": []
   },
   "outputs": [],
   "source": [
    "stemmer = PorterStemmer() # Create a stemmer object"
   ]
  },
  {
   "cell_type": "code",
   "execution_count": 14,
   "id": "5996a658-7823-4b06-817b-7400adb64bed",
   "metadata": {
    "tags": []
   },
   "outputs": [],
   "source": [
    "string_for_stemming = \"\"\"The crew of the USS Discovery discovered many discoveries.\n",
    "Discovering is what explorers do.\"\"\" # A string with words that have the same root word"
   ]
  },
  {
   "cell_type": "code",
   "execution_count": 15,
   "id": "7f196365-890d-4454-83da-d1ef9ca6b127",
   "metadata": {
    "tags": []
   },
   "outputs": [
    {
     "name": "stdout",
     "output_type": "stream",
     "text": [
      "['The', 'crew', 'of', 'the', 'USS', 'Discovery', 'discovered', 'many', 'discoveries', '.', 'Discovering', 'is', 'what', 'explorers', 'do', '.']\n"
     ]
    }
   ],
   "source": [
    "words = word_tokenize(string_for_stemming) # Tokenize the string by words\n",
    "print(words) # Print the words in the string"
   ]
  },
  {
   "cell_type": "code",
   "execution_count": 16,
   "id": "61557341-742c-470d-bccc-51b731bcc30e",
   "metadata": {
    "tags": []
   },
   "outputs": [
    {
     "name": "stdout",
     "output_type": "stream",
     "text": [
      "['the', 'crew', 'of', 'the', 'uss', 'discoveri', 'discov', 'mani', 'discoveri', '.', 'discov', 'is', 'what', 'explor', 'do', '.']\n"
     ]
    }
   ],
   "source": [
    "stemmed_words = [stemmer.stem(word) for word in words] # Stem the words in the string\n",
    "print(stemmed_words) # Print the stemmed words\n",
    "# Con of Stemming: Might work for text classification problems, but not for others like text generation problems"
   ]
  },
  {
   "cell_type": "markdown",
   "id": "4be67206-5df3-4983-b3dd-511fbc81b70d",
   "metadata": {
    "tags": []
   },
   "source": [
    "<u>Original word \t &emsp;Stemmed version</u><br>\n",
    "'Discovery' \t &emsp;   'discoveri'<br>\n",
    "'discovered' \t &emsp;   'discov'<br>\n",
    "'discoveries' \t &emsp;   'discoveri'<br>\n",
    "'Discovering' \t &emsp;   'discov'<br><br>\n",
    "#### Understemming and overstemming are two ways stemming can go wrong: ####\n",
    "\n",
    "    Understemming happens when two related words should be reduced to the same stem but aren’t. This is a false negative.\n",
    "    \n",
    "    Overstemming happens when two unrelated words are reduced to the same stem even though they shouldn’t be. This is a false positive.\n"
   ]
  },
  {
   "cell_type": "markdown",
   "id": "dd98775d-38b6-45e6-9bf5-0d97d5a9fa8b",
   "metadata": {
    "tags": []
   },
   "source": [
    "### Tagging Parts of Speech ###\n",
    "\n",
    "Part of speech is a grammatical term that deals with the roles words play when you use them together in sentences.<br> Tagging parts of speech, or POS tagging, is the task of labeling the words in your text according to their part of speech."
   ]
  },
  {
   "cell_type": "code",
   "execution_count": 17,
   "id": "fd092270-6be0-4fb4-bac9-1d05e38be311",
   "metadata": {
    "tags": []
   },
   "outputs": [
    {
     "name": "stdout",
     "output_type": "stream",
     "text": [
      "['If', 'you', 'wish', 'to', 'make', 'an', 'apple', 'pie', 'from', 'scratch', ',', 'you', 'must', 'first', 'invent', 'the', 'universe', '.']\n"
     ]
    }
   ],
   "source": [
    "sagan_quote = \"\"\"If you wish to make an apple pie from scratch, you must first invent the universe.\"\"\"\n",
    "words_in_sagan_quote = word_tokenize(sagan_quote)\n",
    "print(words_in_sagan_quote)"
   ]
  },
  {
   "cell_type": "code",
   "execution_count": 18,
   "id": "02074b44-3af2-4d7e-a41b-81de8da26a11",
   "metadata": {
    "tags": []
   },
   "outputs": [
    {
     "data": {
      "text/plain": [
       "[('If', 'IN'),\n",
       " ('you', 'PRP'),\n",
       " ('wish', 'VBP'),\n",
       " ('to', 'TO'),\n",
       " ('make', 'VB'),\n",
       " ('an', 'DT'),\n",
       " ('apple', 'NN'),\n",
       " ('pie', 'NN'),\n",
       " ('from', 'IN'),\n",
       " ('scratch', 'NN'),\n",
       " (',', ','),\n",
       " ('you', 'PRP'),\n",
       " ('must', 'MD'),\n",
       " ('first', 'VB'),\n",
       " ('invent', 'VB'),\n",
       " ('the', 'DT'),\n",
       " ('universe', 'NN'),\n",
       " ('.', '.')]"
      ]
     },
     "execution_count": 18,
     "metadata": {},
     "output_type": "execute_result"
    }
   ],
   "source": [
    "#nltk.download('averaged_perceptron_tagger')\n",
    "\n",
    "nltk.pos_tag(words_in_sagan_quote) # Part of speech tagging"
   ]
  },
  {
   "cell_type": "markdown",
   "id": "f9099f18-49de-47fb-9291-fb1657b7f7de",
   "metadata": {
    "tags": []
   },
   "source": [
    "\n",
    "    'pie' was tagged NN because it’s a singular noun.\n",
    "    'you' was tagged PRP because it’s a personal pronoun.\n",
    "    'invent' was tagged VB because it’s the base form of a verb.\n"
   ]
  },
  {
   "cell_type": "markdown",
   "id": "b27e7ba7-087d-400c-852e-e24dcfa84f8b",
   "metadata": {
    "tags": []
   },
   "source": [
    "### Lemmatization ###"
   ]
  },
  {
   "cell_type": "code",
   "execution_count": 19,
   "id": "39202db4-bedb-44fa-aa92-c87253cdf15f",
   "metadata": {
    "tags": []
   },
   "outputs": [],
   "source": [
    "#nltk.download('wordnet')\n",
    "\n",
    "from nltk.stem import WordNetLemmatizer # Lemmatization is the process of deriving a word to its base or root form"
   ]
  },
  {
   "cell_type": "code",
   "execution_count": 20,
   "id": "1fcfe782-4fa0-418e-a195-1452df982f4b",
   "metadata": {
    "tags": []
   },
   "outputs": [],
   "source": [
    "lemmatizer = WordNetLemmatizer() # Create a lemmatizer object"
   ]
  },
  {
   "cell_type": "code",
   "execution_count": 21,
   "id": "c1329376-68c9-4e91-bf9e-45662e2b9362",
   "metadata": {
    "tags": []
   },
   "outputs": [],
   "source": [
    "string_for_lemmatizing = \"The friends of DeSoto love scarves.\" # A string with words that have the same root word\n",
    "words = word_tokenize(string_for_lemmatizing) # Tokenize the string by words"
   ]
  },
  {
   "cell_type": "code",
   "execution_count": 23,
   "id": "662e68d5-f843-441e-ab19-2b918d2ffcbc",
   "metadata": {
    "tags": []
   },
   "outputs": [
    {
     "name": "stdout",
     "output_type": "stream",
     "text": [
      "['The', 'friend', 'of', 'DeSoto', 'love', 'scarf', '.']\n"
     ]
    }
   ],
   "source": [
    "lemmatized_words = [lemmatizer.lemmatize(word) for word in words] # Lemmatize the words in the string\n",
    "print(lemmatized_words) # Print the lemmatized words\n",
    "# Here, the lemmatizer does better than the stemmer"
   ]
  },
  {
   "cell_type": "markdown",
   "id": "324a65d6-aff1-4143-9cd3-e2e5a45032c0",
   "metadata": {
    "tags": []
   },
   "source": [
    "That looks right. The plurals 'friends' and 'scarves' became the singulars 'friend' and 'scarf'."
   ]
  },
  {
   "cell_type": "code",
   "execution_count": 24,
   "id": "490fa108-dcf1-4f8a-99e1-24728d0b7847",
   "metadata": {
    "tags": []
   },
   "outputs": [
    {
     "data": {
      "text/plain": [
       "'worst'"
      ]
     },
     "execution_count": 24,
     "metadata": {},
     "output_type": "execute_result"
    }
   ],
   "source": [
    "# But what would happen if you lemmatized a word that looked very different from its lemma? Try lemmatizing \"worst\":\n",
    "\n",
    "lemmatizer.lemmatize(\"worst\")\n",
    "\n",
    "#You got the result 'worst' because lemmatizer.lemmatize() assumed that \"worst\" was a noun. \n",
    "#You can make it clear that you want \"worst\" to be an adjective:"
   ]
  },
  {
   "cell_type": "code",
   "execution_count": 25,
   "id": "1fd0a6eb-9a49-4226-a660-260af72d9b91",
   "metadata": {
    "tags": []
   },
   "outputs": [
    {
     "data": {
      "text/plain": [
       "'bad'"
      ]
     },
     "execution_count": 25,
     "metadata": {},
     "output_type": "execute_result"
    }
   ],
   "source": [
    "lemmatizer.lemmatize(\"worst\", pos=\"a\") # POS tagging as adjective\n",
    "# Now lemmatizer.lemmatize() knows that \"worst\" is an adjective and returns \"bad\" as the lemma"
   ]
  },
  {
   "cell_type": "markdown",
   "id": "a0fbb030-6393-4ed6-8005-e2eb6eb4ca85",
   "metadata": {
    "tags": []
   },
   "source": [
    "### Chunking ###\n",
    "While tokenizing allows you to identify words and sentences, chunking allows you to identify phrases."
   ]
  },
  {
   "cell_type": "code",
   "execution_count": 26,
   "id": "4c93cced-2d15-4a8a-b490-c4e842ecfad7",
   "metadata": {
    "tags": []
   },
   "outputs": [],
   "source": [
    "lotr_quote = \"It's a dangerous business, Frodo, going out your door.\" # Quote from The Lord of the Rings"
   ]
  },
  {
   "cell_type": "code",
   "execution_count": 27,
   "id": "4c6cee71-9cd3-4159-8ca0-f8d31c3c724e",
   "metadata": {
    "tags": []
   },
   "outputs": [],
   "source": [
    "words_in_lotr_quote = word_tokenize(lotr_quote) # Tokenize the words in the quote"
   ]
  },
  {
   "cell_type": "code",
   "execution_count": 28,
   "id": "b90ffcd4-77a8-4ee7-9046-c0b43195ae98",
   "metadata": {
    "tags": []
   },
   "outputs": [],
   "source": [
    "lotr_pos_tags = nltk.pos_tag(words_in_lotr_quote) # Tag pos of all the words"
   ]
  },
  {
   "cell_type": "markdown",
   "id": "1c8e7ba2-86b2-43bf-91d1-4c0013bcbd80",
   "metadata": {
    "tags": []
   },
   "source": [
    " In order to chunk, you first need to define a chunk grammar.<br>\n",
    " A chunk grammar is a combination of rules on how sentences should be chunked. It often uses regular expressions, or regexes.\n",
    "\n",
    "Regular expressions come in handy if you want to process text."
   ]
  },
  {
   "cell_type": "code",
   "execution_count": 29,
   "id": "30b144b0-9422-41a5-973a-0b099acd89fc",
   "metadata": {
    "tags": []
   },
   "outputs": [],
   "source": [
    "grammar = \"NP: {<DT>?<JJ>*<NN>}\"   # NP stands for Noun Phrase Chunking, DT: Determiner, JJ: Adjective, NN: Noun"
   ]
  },
  {
   "cell_type": "markdown",
   "id": "f4b8977b-cdbc-4e03-8468-dbb313cadfe0",
   "metadata": {
    "tags": []
   },
   "source": [
    "According to the rule you created, your chunks:\n",
    "\n",
    "    Start with an optional (?) determiner ('DT')\n",
    "    Can have any number (*) of adjectives (JJ)\n",
    "    End with a noun (<NN>)\n",
    "\n",
    "Create a chunk parser with this grammar:\n",
    "\n"
   ]
  },
  {
   "cell_type": "code",
   "execution_count": 30,
   "id": "facd7bde-9ecd-4a0e-97be-efe6f9785eb6",
   "metadata": {
    "tags": []
   },
   "outputs": [],
   "source": [
    "chunk_parser = nltk.RegexpParser(grammar) # Create a chunk parser"
   ]
  },
  {
   "cell_type": "code",
   "execution_count": 32,
   "id": "794d2b61-7f96-44bf-a6c8-eb80455e01e4",
   "metadata": {
    "tags": []
   },
   "outputs": [
    {
     "data": {
      "image/svg+xml": [
       "<svg baseProfile=\"full\" height=\"168px\" preserveAspectRatio=\"xMidYMid meet\" style=\"font-family: times, serif; font-weight: normal; font-style: normal; font-size: 16px;\" version=\"1.1\" viewBox=\"0,0,600.0,168.0\" width=\"600px\" xmlns=\"http://www.w3.org/2000/svg\" xmlns:ev=\"http://www.w3.org/2001/xml-events\" xmlns:xlink=\"http://www.w3.org/1999/xlink\"><defs /><svg width=\"100%\" x=\"0\" y=\"0px\"><defs /><text text-anchor=\"middle\" x=\"50%\" y=\"16px\">S</text></svg><svg width=\"6.66667%\" x=\"0%\" y=\"48px\"><defs /><svg width=\"100%\" x=\"0\" y=\"0px\"><defs /><text text-anchor=\"middle\" x=\"50%\" y=\"16px\">It</text></svg><svg width=\"100%\" x=\"0%\" y=\"48px\"><defs /><svg width=\"100%\" x=\"0\" y=\"0px\"><defs /><text text-anchor=\"middle\" x=\"50%\" y=\"16px\">PRP</text></svg></svg><line stroke=\"black\" x1=\"50%\" x2=\"50%\" y1=\"19.2px\" y2=\"48px\" /></svg><line stroke=\"black\" x1=\"50%\" x2=\"3.33333%\" y1=\"19.2px\" y2=\"48px\" /><svg width=\"6.66667%\" x=\"6.66667%\" y=\"48px\"><defs /><svg width=\"100%\" x=\"0\" y=\"0px\"><defs /><text text-anchor=\"middle\" x=\"50%\" y=\"16px\">'s</text></svg><svg width=\"100%\" x=\"0%\" y=\"48px\"><defs /><svg width=\"100%\" x=\"0\" y=\"0px\"><defs /><text text-anchor=\"middle\" x=\"50%\" y=\"16px\">VBZ</text></svg></svg><line stroke=\"black\" x1=\"50%\" x2=\"50%\" y1=\"19.2px\" y2=\"48px\" /></svg><line stroke=\"black\" x1=\"50%\" x2=\"10%\" y1=\"19.2px\" y2=\"48px\" /><svg width=\"33.3333%\" x=\"13.3333%\" y=\"48px\"><defs /><svg width=\"100%\" x=\"0\" y=\"0px\"><defs /><text text-anchor=\"middle\" x=\"50%\" y=\"16px\">NP</text></svg><svg width=\"16%\" x=\"0%\" y=\"48px\"><defs /><svg width=\"100%\" x=\"0\" y=\"0px\"><defs /><text text-anchor=\"middle\" x=\"50%\" y=\"16px\">a</text></svg><svg width=\"100%\" x=\"0%\" y=\"48px\"><defs /><svg width=\"100%\" x=\"0\" y=\"0px\"><defs /><text text-anchor=\"middle\" x=\"50%\" y=\"16px\">DT</text></svg></svg><line stroke=\"black\" x1=\"50%\" x2=\"50%\" y1=\"19.2px\" y2=\"48px\" /></svg><line stroke=\"black\" x1=\"50%\" x2=\"8%\" y1=\"19.2px\" y2=\"48px\" /><svg width=\"44%\" x=\"16%\" y=\"48px\"><defs /><svg width=\"100%\" x=\"0\" y=\"0px\"><defs /><text text-anchor=\"middle\" x=\"50%\" y=\"16px\">dangerous</text></svg><svg width=\"100%\" x=\"0%\" y=\"48px\"><defs /><svg width=\"100%\" x=\"0\" y=\"0px\"><defs /><text text-anchor=\"middle\" x=\"50%\" y=\"16px\">JJ</text></svg></svg><line stroke=\"black\" x1=\"50%\" x2=\"50%\" y1=\"19.2px\" y2=\"48px\" /></svg><line stroke=\"black\" x1=\"50%\" x2=\"38%\" y1=\"19.2px\" y2=\"48px\" /><svg width=\"40%\" x=\"60%\" y=\"48px\"><defs /><svg width=\"100%\" x=\"0\" y=\"0px\"><defs /><text text-anchor=\"middle\" x=\"50%\" y=\"16px\">business</text></svg><svg width=\"100%\" x=\"0%\" y=\"48px\"><defs /><svg width=\"100%\" x=\"0\" y=\"0px\"><defs /><text text-anchor=\"middle\" x=\"50%\" y=\"16px\">NN</text></svg></svg><line stroke=\"black\" x1=\"50%\" x2=\"50%\" y1=\"19.2px\" y2=\"48px\" /></svg><line stroke=\"black\" x1=\"50%\" x2=\"80%\" y1=\"19.2px\" y2=\"48px\" /></svg><line stroke=\"black\" x1=\"50%\" x2=\"30%\" y1=\"19.2px\" y2=\"48px\" /><svg width=\"4%\" x=\"46.6667%\" y=\"48px\"><defs /><svg width=\"100%\" x=\"0\" y=\"0px\"><defs /><text text-anchor=\"middle\" x=\"50%\" y=\"16px\">,</text></svg><svg width=\"100%\" x=\"0%\" y=\"48px\"><defs /><svg width=\"100%\" x=\"0\" y=\"0px\"><defs /><text text-anchor=\"middle\" x=\"50%\" y=\"16px\">,</text></svg></svg><line stroke=\"black\" x1=\"50%\" x2=\"50%\" y1=\"19.2px\" y2=\"48px\" /></svg><line stroke=\"black\" x1=\"50%\" x2=\"48.6667%\" y1=\"19.2px\" y2=\"48px\" /><svg width=\"9.33333%\" x=\"50.6667%\" y=\"48px\"><defs /><svg width=\"100%\" x=\"0\" y=\"0px\"><defs /><text text-anchor=\"middle\" x=\"50%\" y=\"16px\">Frodo</text></svg><svg width=\"100%\" x=\"0%\" y=\"48px\"><defs /><svg width=\"100%\" x=\"0\" y=\"0px\"><defs /><text text-anchor=\"middle\" x=\"50%\" y=\"16px\">NNP</text></svg></svg><line stroke=\"black\" x1=\"50%\" x2=\"50%\" y1=\"19.2px\" y2=\"48px\" /></svg><line stroke=\"black\" x1=\"50%\" x2=\"55.3333%\" y1=\"19.2px\" y2=\"48px\" /><svg width=\"4%\" x=\"60%\" y=\"48px\"><defs /><svg width=\"100%\" x=\"0\" y=\"0px\"><defs /><text text-anchor=\"middle\" x=\"50%\" y=\"16px\">,</text></svg><svg width=\"100%\" x=\"0%\" y=\"48px\"><defs /><svg width=\"100%\" x=\"0\" y=\"0px\"><defs /><text text-anchor=\"middle\" x=\"50%\" y=\"16px\">,</text></svg></svg><line stroke=\"black\" x1=\"50%\" x2=\"50%\" y1=\"19.2px\" y2=\"48px\" /></svg><line stroke=\"black\" x1=\"50%\" x2=\"62%\" y1=\"19.2px\" y2=\"48px\" /><svg width=\"9.33333%\" x=\"64%\" y=\"48px\"><defs /><svg width=\"100%\" x=\"0\" y=\"0px\"><defs /><text text-anchor=\"middle\" x=\"50%\" y=\"16px\">going</text></svg><svg width=\"100%\" x=\"0%\" y=\"48px\"><defs /><svg width=\"100%\" x=\"0\" y=\"0px\"><defs /><text text-anchor=\"middle\" x=\"50%\" y=\"16px\">VBG</text></svg></svg><line stroke=\"black\" x1=\"50%\" x2=\"50%\" y1=\"19.2px\" y2=\"48px\" /></svg><line stroke=\"black\" x1=\"50%\" x2=\"68.6667%\" y1=\"19.2px\" y2=\"48px\" /><svg width=\"6.66667%\" x=\"73.3333%\" y=\"48px\"><defs /><svg width=\"100%\" x=\"0\" y=\"0px\"><defs /><text text-anchor=\"middle\" x=\"50%\" y=\"16px\">out</text></svg><svg width=\"100%\" x=\"0%\" y=\"48px\"><defs /><svg width=\"100%\" x=\"0\" y=\"0px\"><defs /><text text-anchor=\"middle\" x=\"50%\" y=\"16px\">RP</text></svg></svg><line stroke=\"black\" x1=\"50%\" x2=\"50%\" y1=\"19.2px\" y2=\"48px\" /></svg><line stroke=\"black\" x1=\"50%\" x2=\"76.6667%\" y1=\"19.2px\" y2=\"48px\" /><svg width=\"8%\" x=\"80%\" y=\"48px\"><defs /><svg width=\"100%\" x=\"0\" y=\"0px\"><defs /><text text-anchor=\"middle\" x=\"50%\" y=\"16px\">your</text></svg><svg width=\"100%\" x=\"0%\" y=\"48px\"><defs /><svg width=\"100%\" x=\"0\" y=\"0px\"><defs /><text text-anchor=\"middle\" x=\"50%\" y=\"16px\">PRP$</text></svg></svg><line stroke=\"black\" x1=\"50%\" x2=\"50%\" y1=\"19.2px\" y2=\"48px\" /></svg><line stroke=\"black\" x1=\"50%\" x2=\"84%\" y1=\"19.2px\" y2=\"48px\" /><svg width=\"8%\" x=\"88%\" y=\"48px\"><defs /><svg width=\"100%\" x=\"0\" y=\"0px\"><defs /><text text-anchor=\"middle\" x=\"50%\" y=\"16px\">NP</text></svg><svg width=\"100%\" x=\"0%\" y=\"48px\"><defs /><svg width=\"100%\" x=\"0\" y=\"0px\"><defs /><text text-anchor=\"middle\" x=\"50%\" y=\"16px\">door</text></svg><svg width=\"100%\" x=\"0%\" y=\"48px\"><defs /><svg width=\"100%\" x=\"0\" y=\"0px\"><defs /><text text-anchor=\"middle\" x=\"50%\" y=\"16px\">NN</text></svg></svg><line stroke=\"black\" x1=\"50%\" x2=\"50%\" y1=\"19.2px\" y2=\"48px\" /></svg><line stroke=\"black\" x1=\"50%\" x2=\"50%\" y1=\"19.2px\" y2=\"48px\" /></svg><line stroke=\"black\" x1=\"50%\" x2=\"92%\" y1=\"19.2px\" y2=\"48px\" /><svg width=\"4%\" x=\"96%\" y=\"48px\"><defs /><svg width=\"100%\" x=\"0\" y=\"0px\"><defs /><text text-anchor=\"middle\" x=\"50%\" y=\"16px\">.</text></svg><svg width=\"100%\" x=\"0%\" y=\"48px\"><defs /><svg width=\"100%\" x=\"0\" y=\"0px\"><defs /><text text-anchor=\"middle\" x=\"50%\" y=\"16px\">.</text></svg></svg><line stroke=\"black\" x1=\"50%\" x2=\"50%\" y1=\"19.2px\" y2=\"48px\" /></svg><line stroke=\"black\" x1=\"50%\" x2=\"98%\" y1=\"19.2px\" y2=\"48px\" /></svg>"
      ],
      "text/plain": [
       "Tree('S', [('It', 'PRP'), (\"'s\", 'VBZ'), Tree('NP', [('a', 'DT'), ('dangerous', 'JJ'), ('business', 'NN')]), (',', ','), ('Frodo', 'NNP'), (',', ','), ('going', 'VBG'), ('out', 'RP'), ('your', 'PRP$'), Tree('NP', [('door', 'NN')]), ('.', '.')])"
      ]
     },
     "execution_count": 32,
     "metadata": {},
     "output_type": "execute_result"
    }
   ],
   "source": [
    "tree = chunk_parser.parse(lotr_pos_tags) # Parse the pos tags\n",
    "tree # Print the tree"
   ]
  },
  {
   "cell_type": "markdown",
   "id": "d9b0da95-23b5-42ea-bd1b-1299af4f4d1c",
   "metadata": {
    "tags": []
   },
   "source": [
    "You got two noun phrases:\n",
    "\n",
    "    'a dangerous business' has a determiner, an adjective, and a noun.\n",
    "    'door' has just a noun.\n",
    "\n",
    "Now that you know about chunking, it’s time to look at chinking."
   ]
  },
  {
   "cell_type": "markdown",
   "id": "49efef89-86f5-4e7c-ab72-30eb1010d3bd",
   "metadata": {
    "tags": []
   },
   "source": [
    "### Chinking ###\n",
    "\n",
    "Chinking is used together with chunking, but while chunking is used to include a pattern, chinking is used to exclude a pattern."
   ]
  },
  {
   "cell_type": "code",
   "execution_count": 33,
   "id": "defa562d-924f-446f-86fc-92c1fba573ac",
   "metadata": {
    "tags": []
   },
   "outputs": [],
   "source": [
    "#The first rule of your grammar is {<.*>+}. \n",
    "#This rule has curly braces that face inward ({}) because it’s used to determine what patterns you want to include in you chunks. \n",
    "#In this case, you want to include everything: <.*>+.\n",
    "\n",
    "#The second rule of your grammar is }<JJ>{. \n",
    "#This rule has curly braces that face outward (}{) because it’s used to determine what patterns you want to exclude in your chunks. \n",
    "#In this case, you want to exclude adjectives: <JJ>. \n",
    "\n",
    "grammar = \"\"\"\n",
    "... Chunk: {<.*>+}\n",
    "... Chunk: }<JJ>{\"\"\""
   ]
  },
  {
   "cell_type": "code",
   "execution_count": 30,
   "id": "e3028473-bdda-4942-a24f-ace0bae5eb90",
   "metadata": {
    "tags": []
   },
   "outputs": [],
   "source": [
    "chunk_parser = nltk.RegexpParser(grammar) # Create a chunk parser"
   ]
  },
  {
   "cell_type": "code",
   "execution_count": 34,
   "id": "7736765d-bb16-453a-ade9-e6bfea1e9985",
   "metadata": {
    "tags": []
   },
   "outputs": [
    {
     "data": {
      "image/svg+xml": [
       "<svg baseProfile=\"full\" height=\"168px\" preserveAspectRatio=\"xMidYMid meet\" style=\"font-family: times, serif; font-weight: normal; font-style: normal; font-size: 16px;\" version=\"1.1\" viewBox=\"0,0,600.0,168.0\" width=\"600px\" xmlns=\"http://www.w3.org/2000/svg\" xmlns:ev=\"http://www.w3.org/2001/xml-events\" xmlns:xlink=\"http://www.w3.org/1999/xlink\"><defs /><svg width=\"100%\" x=\"0\" y=\"0px\"><defs /><text text-anchor=\"middle\" x=\"50%\" y=\"16px\">S</text></svg><svg width=\"6.66667%\" x=\"0%\" y=\"48px\"><defs /><svg width=\"100%\" x=\"0\" y=\"0px\"><defs /><text text-anchor=\"middle\" x=\"50%\" y=\"16px\">It</text></svg><svg width=\"100%\" x=\"0%\" y=\"48px\"><defs /><svg width=\"100%\" x=\"0\" y=\"0px\"><defs /><text text-anchor=\"middle\" x=\"50%\" y=\"16px\">PRP</text></svg></svg><line stroke=\"black\" x1=\"50%\" x2=\"50%\" y1=\"19.2px\" y2=\"48px\" /></svg><line stroke=\"black\" x1=\"50%\" x2=\"3.33333%\" y1=\"19.2px\" y2=\"48px\" /><svg width=\"6.66667%\" x=\"6.66667%\" y=\"48px\"><defs /><svg width=\"100%\" x=\"0\" y=\"0px\"><defs /><text text-anchor=\"middle\" x=\"50%\" y=\"16px\">'s</text></svg><svg width=\"100%\" x=\"0%\" y=\"48px\"><defs /><svg width=\"100%\" x=\"0\" y=\"0px\"><defs /><text text-anchor=\"middle\" x=\"50%\" y=\"16px\">VBZ</text></svg></svg><line stroke=\"black\" x1=\"50%\" x2=\"50%\" y1=\"19.2px\" y2=\"48px\" /></svg><line stroke=\"black\" x1=\"50%\" x2=\"10%\" y1=\"19.2px\" y2=\"48px\" /><svg width=\"33.3333%\" x=\"13.3333%\" y=\"48px\"><defs /><svg width=\"100%\" x=\"0\" y=\"0px\"><defs /><text text-anchor=\"middle\" x=\"50%\" y=\"16px\">NP</text></svg><svg width=\"16%\" x=\"0%\" y=\"48px\"><defs /><svg width=\"100%\" x=\"0\" y=\"0px\"><defs /><text text-anchor=\"middle\" x=\"50%\" y=\"16px\">a</text></svg><svg width=\"100%\" x=\"0%\" y=\"48px\"><defs /><svg width=\"100%\" x=\"0\" y=\"0px\"><defs /><text text-anchor=\"middle\" x=\"50%\" y=\"16px\">DT</text></svg></svg><line stroke=\"black\" x1=\"50%\" x2=\"50%\" y1=\"19.2px\" y2=\"48px\" /></svg><line stroke=\"black\" x1=\"50%\" x2=\"8%\" y1=\"19.2px\" y2=\"48px\" /><svg width=\"44%\" x=\"16%\" y=\"48px\"><defs /><svg width=\"100%\" x=\"0\" y=\"0px\"><defs /><text text-anchor=\"middle\" x=\"50%\" y=\"16px\">dangerous</text></svg><svg width=\"100%\" x=\"0%\" y=\"48px\"><defs /><svg width=\"100%\" x=\"0\" y=\"0px\"><defs /><text text-anchor=\"middle\" x=\"50%\" y=\"16px\">JJ</text></svg></svg><line stroke=\"black\" x1=\"50%\" x2=\"50%\" y1=\"19.2px\" y2=\"48px\" /></svg><line stroke=\"black\" x1=\"50%\" x2=\"38%\" y1=\"19.2px\" y2=\"48px\" /><svg width=\"40%\" x=\"60%\" y=\"48px\"><defs /><svg width=\"100%\" x=\"0\" y=\"0px\"><defs /><text text-anchor=\"middle\" x=\"50%\" y=\"16px\">business</text></svg><svg width=\"100%\" x=\"0%\" y=\"48px\"><defs /><svg width=\"100%\" x=\"0\" y=\"0px\"><defs /><text text-anchor=\"middle\" x=\"50%\" y=\"16px\">NN</text></svg></svg><line stroke=\"black\" x1=\"50%\" x2=\"50%\" y1=\"19.2px\" y2=\"48px\" /></svg><line stroke=\"black\" x1=\"50%\" x2=\"80%\" y1=\"19.2px\" y2=\"48px\" /></svg><line stroke=\"black\" x1=\"50%\" x2=\"30%\" y1=\"19.2px\" y2=\"48px\" /><svg width=\"4%\" x=\"46.6667%\" y=\"48px\"><defs /><svg width=\"100%\" x=\"0\" y=\"0px\"><defs /><text text-anchor=\"middle\" x=\"50%\" y=\"16px\">,</text></svg><svg width=\"100%\" x=\"0%\" y=\"48px\"><defs /><svg width=\"100%\" x=\"0\" y=\"0px\"><defs /><text text-anchor=\"middle\" x=\"50%\" y=\"16px\">,</text></svg></svg><line stroke=\"black\" x1=\"50%\" x2=\"50%\" y1=\"19.2px\" y2=\"48px\" /></svg><line stroke=\"black\" x1=\"50%\" x2=\"48.6667%\" y1=\"19.2px\" y2=\"48px\" /><svg width=\"9.33333%\" x=\"50.6667%\" y=\"48px\"><defs /><svg width=\"100%\" x=\"0\" y=\"0px\"><defs /><text text-anchor=\"middle\" x=\"50%\" y=\"16px\">Frodo</text></svg><svg width=\"100%\" x=\"0%\" y=\"48px\"><defs /><svg width=\"100%\" x=\"0\" y=\"0px\"><defs /><text text-anchor=\"middle\" x=\"50%\" y=\"16px\">NNP</text></svg></svg><line stroke=\"black\" x1=\"50%\" x2=\"50%\" y1=\"19.2px\" y2=\"48px\" /></svg><line stroke=\"black\" x1=\"50%\" x2=\"55.3333%\" y1=\"19.2px\" y2=\"48px\" /><svg width=\"4%\" x=\"60%\" y=\"48px\"><defs /><svg width=\"100%\" x=\"0\" y=\"0px\"><defs /><text text-anchor=\"middle\" x=\"50%\" y=\"16px\">,</text></svg><svg width=\"100%\" x=\"0%\" y=\"48px\"><defs /><svg width=\"100%\" x=\"0\" y=\"0px\"><defs /><text text-anchor=\"middle\" x=\"50%\" y=\"16px\">,</text></svg></svg><line stroke=\"black\" x1=\"50%\" x2=\"50%\" y1=\"19.2px\" y2=\"48px\" /></svg><line stroke=\"black\" x1=\"50%\" x2=\"62%\" y1=\"19.2px\" y2=\"48px\" /><svg width=\"9.33333%\" x=\"64%\" y=\"48px\"><defs /><svg width=\"100%\" x=\"0\" y=\"0px\"><defs /><text text-anchor=\"middle\" x=\"50%\" y=\"16px\">going</text></svg><svg width=\"100%\" x=\"0%\" y=\"48px\"><defs /><svg width=\"100%\" x=\"0\" y=\"0px\"><defs /><text text-anchor=\"middle\" x=\"50%\" y=\"16px\">VBG</text></svg></svg><line stroke=\"black\" x1=\"50%\" x2=\"50%\" y1=\"19.2px\" y2=\"48px\" /></svg><line stroke=\"black\" x1=\"50%\" x2=\"68.6667%\" y1=\"19.2px\" y2=\"48px\" /><svg width=\"6.66667%\" x=\"73.3333%\" y=\"48px\"><defs /><svg width=\"100%\" x=\"0\" y=\"0px\"><defs /><text text-anchor=\"middle\" x=\"50%\" y=\"16px\">out</text></svg><svg width=\"100%\" x=\"0%\" y=\"48px\"><defs /><svg width=\"100%\" x=\"0\" y=\"0px\"><defs /><text text-anchor=\"middle\" x=\"50%\" y=\"16px\">RP</text></svg></svg><line stroke=\"black\" x1=\"50%\" x2=\"50%\" y1=\"19.2px\" y2=\"48px\" /></svg><line stroke=\"black\" x1=\"50%\" x2=\"76.6667%\" y1=\"19.2px\" y2=\"48px\" /><svg width=\"8%\" x=\"80%\" y=\"48px\"><defs /><svg width=\"100%\" x=\"0\" y=\"0px\"><defs /><text text-anchor=\"middle\" x=\"50%\" y=\"16px\">your</text></svg><svg width=\"100%\" x=\"0%\" y=\"48px\"><defs /><svg width=\"100%\" x=\"0\" y=\"0px\"><defs /><text text-anchor=\"middle\" x=\"50%\" y=\"16px\">PRP$</text></svg></svg><line stroke=\"black\" x1=\"50%\" x2=\"50%\" y1=\"19.2px\" y2=\"48px\" /></svg><line stroke=\"black\" x1=\"50%\" x2=\"84%\" y1=\"19.2px\" y2=\"48px\" /><svg width=\"8%\" x=\"88%\" y=\"48px\"><defs /><svg width=\"100%\" x=\"0\" y=\"0px\"><defs /><text text-anchor=\"middle\" x=\"50%\" y=\"16px\">NP</text></svg><svg width=\"100%\" x=\"0%\" y=\"48px\"><defs /><svg width=\"100%\" x=\"0\" y=\"0px\"><defs /><text text-anchor=\"middle\" x=\"50%\" y=\"16px\">door</text></svg><svg width=\"100%\" x=\"0%\" y=\"48px\"><defs /><svg width=\"100%\" x=\"0\" y=\"0px\"><defs /><text text-anchor=\"middle\" x=\"50%\" y=\"16px\">NN</text></svg></svg><line stroke=\"black\" x1=\"50%\" x2=\"50%\" y1=\"19.2px\" y2=\"48px\" /></svg><line stroke=\"black\" x1=\"50%\" x2=\"50%\" y1=\"19.2px\" y2=\"48px\" /></svg><line stroke=\"black\" x1=\"50%\" x2=\"92%\" y1=\"19.2px\" y2=\"48px\" /><svg width=\"4%\" x=\"96%\" y=\"48px\"><defs /><svg width=\"100%\" x=\"0\" y=\"0px\"><defs /><text text-anchor=\"middle\" x=\"50%\" y=\"16px\">.</text></svg><svg width=\"100%\" x=\"0%\" y=\"48px\"><defs /><svg width=\"100%\" x=\"0\" y=\"0px\"><defs /><text text-anchor=\"middle\" x=\"50%\" y=\"16px\">.</text></svg></svg><line stroke=\"black\" x1=\"50%\" x2=\"50%\" y1=\"19.2px\" y2=\"48px\" /></svg><line stroke=\"black\" x1=\"50%\" x2=\"98%\" y1=\"19.2px\" y2=\"48px\" /></svg>"
      ],
      "text/plain": [
       "Tree('S', [('It', 'PRP'), (\"'s\", 'VBZ'), Tree('NP', [('a', 'DT'), ('dangerous', 'JJ'), ('business', 'NN')]), (',', ','), ('Frodo', 'NNP'), (',', ','), ('going', 'VBG'), ('out', 'RP'), ('your', 'PRP$'), Tree('NP', [('door', 'NN')]), ('.', '.')])"
      ]
     },
     "execution_count": 34,
     "metadata": {},
     "output_type": "execute_result"
    }
   ],
   "source": [
    "tree = chunk_parser.parse(lotr_pos_tags) # Parse the pos tags\n",
    "tree # Print the tree"
   ]
  },
  {
   "cell_type": "markdown",
   "id": "6c2a185b-0a37-43f7-9862-1b855df4b3e5",
   "metadata": {
    "tags": []
   },
   "source": [
    "### Using Named Entity Recognition (NER) ###\n",
    "Named entities are noun phrases that refer to specific locations, people, organizations, and so on. With named entity recognition, you can find the named entities in your texts and also determine what kind of named entity they are."
   ]
  },
  {
   "cell_type": "code",
   "execution_count": 35,
   "id": "1f5467a6-10c1-4463-a202-82b58c6005e5",
   "metadata": {
    "tags": []
   },
   "outputs": [],
   "source": [
    "#nltk.download(\"words\")\n",
    "\n",
    "quote = \"\"\"\n",
    "... Men like Schiaparelli watched the red planet—it is odd, by-the-bye, that\n",
    "... for countless centuries Mars has been the star of war—but failed to\n",
    "... interpret the fluctuating appearances of the markings they mapped so well.\n",
    "... All that time the Martians must have been getting ready.\n",
    "...\n",
    "... During the opposition of 1894 a great light was seen on the illuminated\n",
    "... part of the disk, first at the Lick Observatory, then by Perrotin of Nice,\n",
    "... and then by other observers. English readers heard of it first in the\n",
    "... issue of Nature dated August 2.\"\"\""
   ]
  },
  {
   "cell_type": "code",
   "execution_count": 36,
   "id": "a1ca562d-207e-4b02-bcd0-5451377107ce",
   "metadata": {
    "tags": []
   },
   "outputs": [],
   "source": [
    "def extract_ne(quote): # Extract named entities from the quote\n",
    "    words = word_tokenize(quote) # Tokenize the words in the quote\n",
    "    tags = nltk.pos_tag(words) # Tag the pos of the words\n",
    "    tree = nltk.ne_chunk(tags, binary=True) # Create a tree of the named entities\n",
    "    return set( # Return a set of the named entities\n",
    "         \" \".join(i[0] for i in t) # Join the words in the named entities\n",
    "         for t in tree # For each named entity in the tree\n",
    "         if hasattr(t, \"label\") and t.label() == \"NE\") # If the named entity has a label and the label is \"NE\""
   ]
  },
  {
   "cell_type": "code",
   "execution_count": 37,
   "id": "6a05c326-9e4a-4a71-92f5-ba2e5ece393b",
   "metadata": {
    "tags": []
   },
   "outputs": [
    {
     "data": {
      "text/plain": [
       "{'Lick Observatory', 'Mars', 'Nature', 'Perrotin', 'Schiaparelli'}"
      ]
     },
     "execution_count": 37,
     "metadata": {},
     "output_type": "execute_result"
    }
   ],
   "source": [
    "extract_ne(quote) # Extract the named entities from the quote"
   ]
  },
  {
   "cell_type": "markdown",
   "id": "fd9fbf97-41a1-4c6d-9e72-2e156c4c928b",
   "metadata": {
    "tags": []
   },
   "source": [
    "\n",
    "    An institution: 'Lick Observatory'\n",
    "    A planet: 'Mars'\n",
    "    A publication: 'Nature'\n",
    "    People: 'Perrotin', 'Schiaparelli'\n"
   ]
  },
  {
   "cell_type": "markdown",
   "id": "22115842-616b-41e4-9936-d5d937ce3c6c",
   "metadata": {
    "tags": []
   },
   "source": [
    "### Text to Analyze ###\n",
    "So far we have done some text processing tasks with small example texts. We are ready to analyze a bunch of texts at once. A group of texts is called a corpus. NLTK provides several corpora covering everything from novels hosted by Project Gutenberg to inaugural speeches by presidents of the United States.\n",
    "\n",
    "In order to analyze texts in NLTK, you first need to import them. This requires nltk.download, which is a pretty big download"
   ]
  },
  {
   "cell_type": "code",
   "execution_count": 38,
   "id": "d2e86742-987a-4cf2-a3ab-3cacd051d201",
   "metadata": {
    "tags": []
   },
   "outputs": [
    {
     "name": "stdout",
     "output_type": "stream",
     "text": [
      "*** Introductory Examples for the NLTK Book ***\n",
      "Loading text1, ..., text9 and sent1, ..., sent9\n",
      "Type the name of the text or sentence to view it.\n",
      "Type: 'texts()' or 'sents()' to list the materials.\n",
      "text1: Moby Dick by Herman Melville 1851\n",
      "text2: Sense and Sensibility by Jane Austen 1811\n",
      "text3: The Book of Genesis\n",
      "text4: Inaugural Address Corpus\n",
      "text5: Chat Corpus\n",
      "text6: Monty Python and the Holy Grail\n",
      "text7: Wall Street Journal\n",
      "text8: Personals Corpus\n",
      "text9: The Man Who Was Thursday by G . K . Chesterton 1908\n"
     ]
    }
   ],
   "source": [
    "from nltk.book import * # Import the nltk book"
   ]
  },
  {
   "cell_type": "markdown",
   "id": "28017463-be42-4511-b5ea-b3fa72f1b192",
   "metadata": {
    "tags": []
   },
   "source": [
    "You now have access to a few linear texts (such as Sense and Sensibility and Monty Python and the Holy Grail) as well as a few groups of texts (such as a chat corpus and a personals corpus). So please use it to practice these concepts you are learning.<br><br>Human nature is fascinating, so let’s see what we can find out by taking a closer look at the personals corpus!<br><br>This corpus is a collection of personals ads, which were an early version of online dating. If you wanted to meet someone, then you could place an ad in a newspaper and wait for other readers to respond to you. "
   ]
  },
  {
   "cell_type": "code",
   "execution_count": 39,
   "id": "f08bc357-066a-4329-b372-9831b8805f26",
   "metadata": {
    "tags": []
   },
   "outputs": [
    {
     "name": "stdout",
     "output_type": "stream",
     "text": [
      "Displaying 22 of 22 matches:\n",
      "usic , cafes , beach & c . Seeks an honest , attractive lady with a European b\n",
      "ium build , Im in my early 30s . Am honest , caring , likes fishing , animals \n",
      "in my life . Looking for a caring , honest lady for friendship to relationship\n",
      "call lets have a chat . GENUINE AND HONEST Hi Im 44 with a good sense of humou\n",
      "d quiet nights at home . Seeking an honest , caring woman , slim or med . buil\n",
      "own hair , Mid 20s , good looking , honest n / smoker . Likes movies , drives \n",
      "hip , view to rship . SWM 45 DtoE , honest , S / D , 178cm , 79kg . Clean cut \n",
      "age is 70 yrs . GSOH , easy going , honest , reliable , DtoE person . I like w\n",
      ". Kids OK as I love family . Nice & honest guy . ASIAN LADY with GSOH sought b\n",
      "ale , romantic , caring , sincere & honest seeks medium / slim attrac single m\n",
      "ngle 47 yo romantic easy going GSOH honest reliable looking to find a friend .\n",
      "man . I would like to meet a sexy , honest , reliable partner who enjoys being\n",
      "3 y . o . med . build , 5 ft . 8 ., honest and sincere . Likes BBQs , fishing \n",
      " motor racing . I am an easygoing , honest and caring person , seeking gentlem\n",
      " pref . clean shaven , non smoker , honest with strong family values for socia\n",
      " & gardening Seeks gentleman who is honest & looking for friendship , maybe le\n",
      "aybe lead to relationship . SEEKING HONEST MAN I am 41 y . o ., 5 ft . 4 , med\n",
      "ves & quiet times . Seeks 35 - 45 , honest man with good SOH & similar interes\n",
      " - s , elegant , articulate , seeks honest , sincere , social , n - s , well p\n",
      "ening , travel . Must be employed , honest , and loving . 48YO SWF WLTM a 42 -\n",
      "WLTM a 42 - 54yo genuine , caring , honest and normal man for fship , poss rsh\n",
      "S , sgl Mum . Looking to meet gen , honest , caring , non judgemental Guy up t\n"
     ]
    }
   ],
   "source": [
    "text8.concordance(\"honest\") # Using a concordance, you can see each time a word is used, along with its immediate context. "
   ]
  },
  {
   "cell_type": "code",
   "execution_count": 37,
   "id": "d1a9ea5b-72c2-413c-832a-621c81253b6c",
   "metadata": {
    "tags": []
   },
   "outputs": [
    {
     "data": {
      "image/png": "[encoded data removed]",
      "text/plain": [
       "<Figure size 640x480 with 1 Axes>"
      ]
     },
     "metadata": {},
     "output_type": "display_data"
    }
   ],
   "source": [
    "text8.dispersion_plot([\"woman\", \"lady\", \"girl\", \"gal\", \"man\", \"gentleman\", \"boy\", \"guy\"]) # Dispersion plot"
   ]
  },
  {
   "cell_type": "markdown",
   "id": "5c05aeb2-23cb-47e3-a136-cd4d9a75b602",
   "metadata": {
    "tags": []
   },
   "source": [
    "Each vertical blue line represents one instance of a word. Each horizontal row of blue lines represents the corpus as a whole. This plot shows that:\n",
    "\n",
    "    \"lady\" was used a lot more than \"woman\" or \"girl\". There were no instances of \"gal\".\n",
    "    \"man\" and \"guy\" were used a similar number of times and were more common than \"gentleman\" or \"boy\".\n",
    "\n",
    "You use a dispersion plot when you want to see where words show up in a text or corpus. If you’re analyzing a single text, this can help you see which words show up near each other. If you’re analyzing a corpus of texts that is organized chronologically, it can help you see which words were being used more or less over a period of time."
   ]
  },
  {
   "cell_type": "markdown",
   "id": "96456715-4581-440d-83bf-d11d4cac91d9",
   "metadata": {
    "tags": []
   },
   "source": [
    "### Making a Frequency Distribution ###\n",
    "With a frequency distribution, you can check which words show up most frequently in your text. "
   ]
  },
  {
   "cell_type": "code",
   "execution_count": 38,
   "id": "1e876d18-2d0d-4e8b-994b-b5a7e74f8550",
   "metadata": {
    "tags": []
   },
   "outputs": [],
   "source": [
    "from nltk import FreqDist"
   ]
  },
  {
   "cell_type": "code",
   "execution_count": 39,
   "id": "bf00aa65-f97c-4511-9a3d-c9d1910b477c",
   "metadata": {
    "tags": []
   },
   "outputs": [
    {
     "name": "stdout",
     "output_type": "stream",
     "text": [
      "[(',', 539), ('.', 353), ('/', 110), ('for', 99), ('and', 74), ('to', 74), ('lady', 68), ('-', 66), ('seeks', 60), ('a', 52), ('with', 44), ('S', 36), ('ship', 33), ('&', 30), ('relationship', 29), ('fun', 28), ('in', 27), ('slim', 27), ('build', 27), ('o', 26)]\n"
     ]
    }
   ],
   "source": [
    "frequency_distribution = FreqDist(text8)\n",
    "frequency_distribution = frequency_distribution.most_common(20)\n",
    "print(frequency_distribution)"
   ]
  },
  {
   "cell_type": "code",
   "execution_count": 40,
   "id": "86b9f61c-38c5-4c5b-aeb3-f75e142011aa",
   "metadata": {
    "tags": []
   },
   "outputs": [],
   "source": [
    "# Remove stopwords\n",
    "\n",
    "meaningful_words = [word for word in text8 if word.casefold() not in stop_words]\n",
    "frequency_distribution = FreqDist(meaningful_words)\n"
   ]
  },
  {
   "cell_type": "code",
   "execution_count": 41,
   "id": "04a25aba-3aff-4151-b165-1539293f0be8",
   "metadata": {
    "tags": []
   },
   "outputs": [
    {
     "data": {
      "text/plain": [
       "[(',', 539),\n",
       " ('.', 353),\n",
       " ('/', 110),\n",
       " ('lady', 68),\n",
       " ('-', 66),\n",
       " ('seeks', 60),\n",
       " ('ship', 33),\n",
       " ('&', 30),\n",
       " ('relationship', 29),\n",
       " ('fun', 28),\n",
       " ('slim', 27),\n",
       " ('build', 27),\n",
       " ('smoker', 23),\n",
       " ('50', 23),\n",
       " ('non', 22),\n",
       " ('movies', 22),\n",
       " ('good', 21),\n",
       " ('honest', 20),\n",
       " ('dining', 19),\n",
       " ('rship', 18)]"
      ]
     },
     "execution_count": 41,
     "metadata": {},
     "output_type": "execute_result"
    }
   ],
   "source": [
    "frequency_distribution.most_common(20)"
   ]
  },
  {
   "cell_type": "code",
   "execution_count": 42,
   "id": "1caecd7f-1b69-4d8a-aa2e-dac48e6a9031",
   "metadata": {
    "tags": []
   },
   "outputs": [
    {
     "data": {
      "image/png": "[encoded data removed]",
      "text/plain": [
       "<Figure size 640x480 with 1 Axes>"
      ]
     },
     "metadata": {},
     "output_type": "display_data"
    },
    {
     "data": {
      "text/plain": [
       "<Axes: xlabel='Samples', ylabel='Cumulative Counts'>"
      ]
     },
     "execution_count": 42,
     "metadata": {},
     "output_type": "execute_result"
    }
   ],
   "source": [
    "# Turn it into graph\n",
    "\n",
    "frequency_distribution.plot(20, cumulative=True)\n"
   ]
  },
  {
   "cell_type": "markdown",
   "id": "326ef806-dfa3-4fa9-b1cb-3c969c10fb04",
   "metadata": {
    "tags": []
   },
   "source": [
    "From what you’ve already learned about the people writing these personals ads, they did seem interested in honesty and used the word 'lady' a lot.<br> In addition, 'slim' and 'build' both show up the same number of times. <br>You saw slim and build used near each other when you were learning about concordances, so maybe those two words are commonly used together in this corpus. <br><br>That brings us to collocations!"
   ]
  },
  {
   "cell_type": "markdown",
   "id": "776cce32-d49e-4883-97da-8e4726ed36df",
   "metadata": {
    "tags": []
   },
   "source": [
    "### Finding Collocations ###\n",
    "A collocation is a sequence of words that shows up often.<br><br>\n",
    "    Example: Syntax tree\\ Family tree\\ Decision tree<br><br>To see pairs of words that come up often in your corpus, you need to call .collocations() on it:\n"
   ]
  },
  {
   "cell_type": "code",
   "execution_count": 43,
   "id": "923eaaa6-3baf-4a93-9d31-e19ac9668d31",
   "metadata": {
    "tags": []
   },
   "outputs": [
    {
     "name": "stdout",
     "output_type": "stream",
     "text": [
      "would like; medium build; social drinker; quiet nights; non smoker;\n",
      "long term; age open; Would like; easy going; financially secure; fun\n",
      "times; similar interests; Age open; weekends away; poss rship; well\n",
      "presented; never married; single mum; permanent relationship; slim\n",
      "build\n"
     ]
    }
   ],
   "source": [
    "text8.collocations()"
   ]
  },
  {
   "cell_type": "markdown",
   "id": "a2b41418-2e70-408a-ad89-6f3b95f90cbf",
   "metadata": {
    "tags": []
   },
   "source": [
    "What we have seen are a wide array of techniques and possibilities wioth the NLTK package. It is not neccessary and most likey not the case that all these are used all the time. It depends on the problem you are trying tosolve or the application you are trying to build.\n",
    "\n",
    "As an example: If you are doing a translation task (one language to another), then, context matters. Therefore we cannot remove things like stopwords as it can change the context. <br>On the other hand, if you are building a spam classifier, we want to remove all words which do not contribute to identifying whether an email is a spam or not."
   ]
  },
  {
   "cell_type": "markdown",
   "id": "2a0e36f0-233a-4b44-9aee-a976ad96993d",
   "metadata": {
    "tags": []
   },
   "source": [
    "#### Sentiment analysis with NLTK Sentiment Analyzer ####"
   ]
  },
  {
   "cell_type": "code",
   "execution_count": 44,
   "id": "ad203caa-d8b0-45fa-aa42-a0ed32df315a",
   "metadata": {
    "tags": []
   },
   "outputs": [],
   "source": [
    "from nltk.sentiment import SentimentIntensityAnalyzer\n",
    "\n",
    "# instantiate an object\n",
    "sid = SentimentIntensityAnalyzer()"
   ]
  },
  {
   "cell_type": "code",
   "execution_count": 45,
   "id": "d89a6093-e1be-4500-8180-eb39c549251c",
   "metadata": {
    "tags": []
   },
   "outputs": [
    {
     "name": "stdout",
     "output_type": "stream",
     "text": [
      "{'neg': 0.467, 'neu': 0.533, 'pos': 0.0, 'compound': -0.5423}\n",
      "{'neg': 0.0, 'neu': 0.508, 'pos': 0.492, 'compound': 0.4404}\n"
     ]
    }
   ],
   "source": [
    "# Product review data\n",
    "review = ['The product is horrible looking','The features are good']\n",
    "\n",
    "score = [] # Empty list to store sentiment values\n",
    "\n",
    "# Compute positive, neutral, negative and compund score for a review using the \"polarity_scores\" function\n",
    "for r in review:\n",
    "        score.append(sid.polarity_scores(r))\n",
    "        print(sid.polarity_scores(r))"
   ]
  },
  {
   "cell_type": "markdown",
   "id": "9036b09e-99c6-49c2-8ab7-8c1afa75d5d4",
   "metadata": {
    "tags": []
   },
   "source": [
    "#### <u>What did we learn?</u> #### \n",
    "\n",
    "    Find text to analyze\n",
    "    Preprocess your text for analysis\n",
    "    Analyze your text\n",
    "    Create visualizations based on your analysis\n",
    "    Do sentiment analysis\n",
    "\n",
    "We are now ready to do more NLP and text analytics\n"
   ]
  },
  {
   "cell_type": "code",
   "execution_count": null,
   "id": "a772968a-231c-4387-9290-4320af1d345e",
   "metadata": {},
   "outputs": [],
   "source": []
  }
 ],
 "metadata": {
  "kernelspec": {
   "display_name": "info2000",
   "language": "python",
   "name": "python3"
  },
  "language_info": {
   "codemirror_mode": {
    "name": "ipython",
    "version": 3
   },
   "file_extension": ".py",
   "mimetype": "text/x-python",
   "name": "python",
   "nbconvert_exporter": "python",
   "pygments_lexer": "ipython3",
   "version": "3.10.13"
  }
 },
 "nbformat": 4,
 "nbformat_minor": 5
}
