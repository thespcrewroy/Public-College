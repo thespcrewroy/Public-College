{
 "cells": [
  {
   "cell_type": "markdown",
   "id": "d75089de-de7c-473f-97d1-b150d9a9f0c2",
   "metadata": {},
   "source": [
    "### A simple Naive Bayes Classifier ###"
   ]
  },
  {
   "cell_type": "code",
   "execution_count": 1,
   "id": "27adfb08-3704-45e7-ab37-d26891c546c4",
   "metadata": {
    "tags": []
   },
   "outputs": [],
   "source": [
    "import numpy as np\n",
    "import pandas as pd\n",
    "import warnings\n",
    "warnings.filterwarnings('ignore')"
   ]
  },
  {
   "cell_type": "code",
   "execution_count": 2,
   "id": "aea72c05-87a1-4482-be8e-9e7a8b6a72fb",
   "metadata": {
    "tags": []
   },
   "outputs": [],
   "source": [
    "# Assigning features and label variables\n",
    "\n",
    "weather=['Sunny','Sunny','Overcast','Rainy','Rainy','Rainy','Overcast','Sunny','Sunny',\n",
    "'Rainy','Sunny','Overcast','Overcast','Rainy']\n",
    "\n",
    "temp=['Hot','Hot','Hot','Mild','Cool','Cool','Cool','Mild','Cool','Mild','Mild','Mild','Hot','Mild']\n",
    "\n",
    "play=['No','No','Yes','Yes','Yes','No','Yes','No','Yes','Yes','Yes','Yes','Yes','No']\n"
   ]
  },
  {
   "cell_type": "markdown",
   "id": "9ada4b92-fdfd-47d3-8fd4-0244e6072c02",
   "metadata": {
    "tags": []
   },
   "source": [
    "### The algorithm cannot take categorical text values and hence you have to encode it numerically ###\n",
    "#### Encode as shown below ####\n",
    "weather: 0 -> Overcast, 1 -> Rainy, 2 -> Sunny<br>temp: 0 -> Cool, 1 -> Hot, 2 -> Mild<br> play: 0 -> No, 1 -> Yes\n",
    "\n",
    "#### Use the 'LabelEncoder' operator from sklearn - Look at the documentation and examples therein to see how it is used ####"
   ]
  },
  {
   "cell_type": "code",
   "execution_count": 3,
   "id": "52a6c63a-2594-4a85-9990-a4e1d4d44608",
   "metadata": {
    "tags": []
   },
   "outputs": [
    {
     "name": "stdout",
     "output_type": "stream",
     "text": [
      "Weather [2 2 0 1 1 1 0 2 2 1 2 0 0 1]\n",
      "Temp: [1 1 1 2 0 0 0 2 0 2 2 2 1 2]\n",
      "Play: [0 0 1 1 1 0 1 0 1 1 1 1 1 0]\n"
     ]
    }
   ],
   "source": [
    "# Import LabelEncoder\n",
    "from sklearn import preprocessing\n",
    "\n",
    "# Instantiate a labelEncoder object\n",
    "le = preprocessing.LabelEncoder()\n",
    "\n",
    "# Converting string 'weather' into numbers with fit_transform.\n",
    "weather_encoded=le.fit_transform(weather)\n",
    "\n",
    "# Converting string 'temp' into numbers with fit_transform.\n",
    "temp_encoded=le.fit_transform(temp)\n",
    "\n",
    "# Converting string label 'play' into numbers with fit_transform.\n",
    "label=le.fit_transform(play)\n",
    "\n",
    "# Use the print command to check all encodings are correct.\n",
    "print('Weather',weather_encoded)\n",
    "print (\"Temp:\",temp_encoded)\n",
    "print(\"Play:\",label)"
   ]
  },
  {
   "cell_type": "code",
   "execution_count": 4,
   "id": "0b7ef89d-acf5-41cc-b702-201598d89a58",
   "metadata": {
    "tags": []
   },
   "outputs": [
    {
     "name": "stdout",
     "output_type": "stream",
     "text": [
      "   Weather  Temp  Play\n",
      "0        2     1     0\n",
      "1        2     1     0\n",
      "2        0     1     1\n",
      "3        1     2     1\n",
      "4        1     0     1\n"
     ]
    },
    {
     "data": {
      "text/plain": [
       "(   Weather  Temp\n",
       " 0        2     1\n",
       " 1        2     1\n",
       " 2        0     1\n",
       " 3        1     2\n",
       " 4        1     0,\n",
       " 0    0\n",
       " 1    0\n",
       " 2    1\n",
       " 3    1\n",
       " 4    1\n",
       " Name: Play, dtype: int64)"
      ]
     },
     "execution_count": 4,
     "metadata": {},
     "output_type": "execute_result"
    }
   ],
   "source": [
    "# Create a dictionary of encoded features\n",
    "features = {'Weather':weather_encoded,'Temp':temp_encoded}\n",
    "\n",
    "# Convert the dictionary into a dataframe called 'data'\n",
    "data = pd.DataFrame(features)\n",
    "\n",
    "# Add an additional column called 'play' to the dataframe\n",
    "data['Play'] = label\n",
    "\n",
    "# Print 'data,head()' to make sure the dataframe has been created\n",
    "print(data.head())\n",
    "\n",
    "\n",
    "# Separate into X and y (features and label)\n",
    "# Let us not bother to split it into train and test in this case\n",
    "X = data.drop('Play',axis=1)\n",
    "y = data['Play']\n",
    "X.head(),y.head()"
   ]
  },
  {
   "cell_type": "code",
   "execution_count": 5,
   "id": "0ab00206-9717-4c79-92dd-35c4d358bf36",
   "metadata": {
    "tags": []
   },
   "outputs": [
    {
     "name": "stdout",
     "output_type": "stream",
     "text": [
      "Predicted Value: [1]\n"
     ]
    }
   ],
   "source": [
    "# Import the Gaussian Naive Bayes model from sklearn - look for it in the documentation\n",
    "from sklearn.naive_bayes import GaussianNB,MultinomialNB,BernoulliNB # You can also import the other types of Naive Bayes\n",
    "\n",
    "# Instantiate an object from the Naive Bayes Gaussian Classifier class\n",
    "model = GaussianNB()\n",
    "\n",
    "# Train the model using the training sets\n",
    "model.fit(X,y)\n",
    "\n",
    "# Predict Output for a given situation (say: Overcast and Mild) - Always feed values as a numpy array\n",
    "# Remember this model expects 2 features as inputs\n",
    "# Check if the answer looks right\n",
    "\n",
    "predicted= model.predict([[0,2]]) # 0:Overcast, 2:Mild\n",
    "print(\"Predicted Value:\", predicted)"
   ]
  }
 ],
 "metadata": {
  "kernelspec": {
   "display_name": "Python 3 (ipykernel)",
   "language": "python",
   "name": "python3"
  },
  "language_info": {
   "codemirror_mode": {
    "name": "ipython",
    "version": 3
   },
   "file_extension": ".py",
   "mimetype": "text/x-python",
   "name": "python",
   "nbconvert_exporter": "python",
   "pygments_lexer": "ipython3",
   "version": "3.10.13"
  },
  "vscode": {
   "interpreter": {
    "hash": "342d407fae211b669909305b7aab8e64dafbdb3c86a5a66066c166c69d826ff6"
   }
  }
 },
 "nbformat": 4,
 "nbformat_minor": 5
}
