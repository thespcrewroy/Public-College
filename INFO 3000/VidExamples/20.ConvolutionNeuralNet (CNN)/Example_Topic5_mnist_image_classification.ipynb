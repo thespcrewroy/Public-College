{
 "cells": [
  {
   "cell_type": "markdown",
   "id": "4dd2dca1-be7c-4b57-adf8-905f1eb027cb",
   "metadata": {},
   "source": [
    "### Complete Example of developing a CNN application including saving the model and predicting on new data ###"
   ]
  },
  {
   "cell_type": "code",
   "execution_count": 1,
   "id": "faf746cd-494d-4b10-982b-d9d717f3eb65",
   "metadata": {
    "tags": []
   },
   "outputs": [
    {
     "data": {
      "text/plain": [
       "<torch._C.Generator at 0x13388e6d0>"
      ]
     },
     "execution_count": 1,
     "metadata": {},
     "output_type": "execute_result"
    }
   ],
   "source": [
    "'''Import standard modules for data processing and visualization'''\n",
    "from matplotlib import pyplot as plt\n",
    "import pandas as pd\n",
    "import numpy as np\n",
    "\n",
    "'''Import all the required torch modules'''\n",
    "import torch\n",
    "import torch.optim as optim\n",
    "import torch.nn as nn\n",
    "import torch.nn.functional as F\n",
    "from torch.utils.data import Dataset,DataLoader\n",
    "from torch.utils.data.dataset import random_split\n",
    "import torchvision.transforms as transforms\n",
    "\n",
    "'''Import all the required torch summery module for model summary'''\n",
    "from torchsummary import summary  # pip install torchsummary\n",
    "\n",
    "'''For checking if path to image is correct path'''\n",
    "import os\n",
    "\n",
    "'''Import skimage modules for saving, manupulating, and reading images'''\n",
    "from skimage.io import imsave, imread\n",
    "from skimage import io,transform\n",
    "from skimage.color import rgb2gray\n",
    "\n",
    "'''Import warnings module to ignore warnings'''\n",
    "import warnings\n",
    "warnings.filterwarnings('ignore')\n",
    "\n",
    "'''Set manual seed for the torch randomly generated parameters to have same values'''\n",
    "torch.manual_seed(1)"
   ]
  },
  {
   "cell_type": "code",
   "execution_count": 2,
   "id": "0cf380eb-1a91-4a8d-b8bf-bb2e1bb66044",
   "metadata": {
    "tags": []
   },
   "outputs": [],
   "source": [
    "device = 'cuda' if torch.cuda.is_available() else 'cpu' # Check if CPU is available"
   ]
  },
  {
   "cell_type": "code",
   "execution_count": 13,
   "id": "c4938128-4bf3-4060-aae4-57b6d3037e41",
   "metadata": {
    "tags": []
   },
   "outputs": [],
   "source": [
    "# Which is the root directory in which my image files located?\n",
    "\n",
    "img_path = 'Mnist_Image_Data/Images'"
   ]
  },
  {
   "cell_type": "code",
   "execution_count": 14,
   "id": "58de8561-a11f-466e-9e0f-12ff5c148fdc",
   "metadata": {
    "tags": []
   },
   "outputs": [
    {
     "name": "stdout",
     "output_type": "stream",
     "text": [
      "Mnist_Image_Data/Images/test\n",
      "Mnist_Image_Data/Images/train\n"
     ]
    }
   ],
   "source": [
    "# Which directories are there in the img path which contain my inages?\n",
    "\n",
    "for root, dirs, files in os.walk(img_path, topdown=False):\n",
    "        for name in dirs:\n",
    "              print(os.path.join(root, name))\n",
    "              "
   ]
  },
  {
   "cell_type": "code",
   "execution_count": 16,
   "id": "f66f0317-1dfc-4777-a9f9-4f39669ced5d",
   "metadata": {
    "tags": []
   },
   "outputs": [
    {
     "name": "stdout",
     "output_type": "stream",
     "text": [
      "Label file contains image filename and the corresponding label:\n",
      "\n",
      "  filename  label\n",
      "0    0.png      4\n",
      "1    1.png      9\n",
      "2    2.png      1\n",
      "3    3.png      7\n",
      "4    4.png      3\n",
      "\n"
     ]
    }
   ],
   "source": [
    "# Read in the train and test labels from .csv files\n",
    "\n",
    "train_labels =  pd.read_csv('Mnist_Image_Data/train.csv') # Read in the train labels\n",
    "\n",
    "test_labels =  pd.read_csv('Mnist_Image_Data/test.csv') # Read in the test labels\n",
    "\n",
    "print(f\"Label file contains image filename and the corresponding label:\\n\\n{train_labels.head()}\\n\") # Display the first 5 rows of the train labels\n"
   ]
  },
  {
   "cell_type": "code",
   "execution_count": 17,
   "id": "58c3e8a3-2067-4029-9a65-8a492fd43e85",
   "metadata": {
    "tags": []
   },
   "outputs": [
    {
     "name": "stdout",
     "output_type": "stream",
     "text": [
      "Image filename:\n",
      "Mnist_Image_Data/Images/train/0.png\n",
      "\n",
      "Image Shape(28, 28, 4)\n",
      "\n",
      "Single channel image shape: (28, 28, 1)\n"
     ]
    },
    {
     "data": {
      "image/png": "[encoded data removed]",
      "text/plain": [
       "<Figure size 640x480 with 1 Axes>"
      ]
     },
     "metadata": {},
     "output_type": "display_data"
    }
   ],
   "source": [
    "# Let us check a single image file using the destination information\n",
    "img = os.path.join(img_path+'/train/'+train_labels['filename'][0]) # use the image path and go into the train directory's train_label dataset and get the 0th item from the filename column\n",
    "print(f\"Image filename:\\n{img}\")\n",
    "\n",
    "# Display image\n",
    "img = plt.imread(img) # read the image\n",
    "print(f\"\\nImage Shape{img.shape}\") # read the image shape\n",
    "\n",
    "# We need omly one channel as represntative of a image because they are 28x28x1 images\n",
    "img =  img[:,:,:1] # get the first channel of the image\n",
    "print(f\"\\nSingle channel image shape: {img.shape}\") # Display the shape of the image\n",
    "\n",
    "# Display the image\n",
    "io.imshow(img) # Display the image\n",
    "plt.show() # Show the image"
   ]
  },
  {
   "cell_type": "code",
   "execution_count": 18,
   "id": "ee523765-3065-45d7-b745-f493ec0e7955",
   "metadata": {
    "tags": []
   },
   "outputs": [],
   "source": [
    "# Create the dataset class to read in data by inheriting the PyTorch Dataset class\n",
    "# The dataset class should return 1 datapoint as a tuple - an image and its label\n",
    "\n",
    "class mnist(Dataset): # inherit from parent dataset class of PyTorch\n",
    "\n",
    "    def __init__(self, img_path,labels,transforms=None): # read the image path, labels file and the transforms to be applied\n",
    "        self.img_path = img_path # store the image path\n",
    "        self.labels = labels # store the labels file (test or train labels files)\n",
    "        self.transforms = transforms # if there are any transforms to be applied\n",
    "        \n",
    "\n",
    "    def __len__(self): # get the length of the dataset\n",
    "        return len(self.labels) # return the length of the labels file\n",
    "\n",
    "\n",
    "    def __getitem__(self,idx): # get the item at the index\n",
    "\n",
    "        img = os.path.join(self.img_path+self.labels['filename'][idx]) # get the image path\n",
    "        img = io.imread(img) # read one image at a time\n",
    "        \n",
    "        img = img[:,:,:1] # Read a single channel only out of the 3 channels\n",
    "    \n",
    "        img = img/255.0   # Normalize or Feature Scale data\n",
    "        img = np.moveaxis(img,2,0) # bring the 1 part of the 28x28x1 image to the front (pring position 2 to position 0)\n",
    "        \n",
    "        label = self.labels['label'][idx] # get the label of the image\n",
    "        label = label.astype('float') # conver the label to float cause the model expects float values\n",
    "        label = np.array(label).reshape(-1,1) # convert the label to a numpy array and reshape it to a single column\n",
    "        \n",
    "        if self.transforms is not None: # if there are any transforms to be applied\n",
    "            img = self.transforms(img) # apply the transforms to the image\n",
    "        \n",
    "        return torch.from_numpy(img),torch.from_numpy(label) # return the image and the label as a torch tensor"
   ]
  },
  {
   "cell_type": "code",
   "execution_count": 19,
   "id": "3e62253e-a858-49a1-9223-f3eca47ab7a1",
   "metadata": {
    "tags": []
   },
   "outputs": [
    {
     "name": "stdout",
     "output_type": "stream",
     "text": [
      "49000 100\n"
     ]
    }
   ],
   "source": [
    "# Instantiate the train and test data objects from the mnist class just created\n",
    "train_data =  mnist(img_path+'/train/',train_labels) # instantiate the train data object\n",
    "test_data =  mnist(img_path+'/test/',test_labels) # instantiate the test data object\n",
    "\n",
    "# Amount of data - train and test while testing the __len__ method\n",
    "print(train_data.__len__(),test_data.__len__()) # Display the length of the train and test data"
   ]
  },
  {
   "cell_type": "code",
   "execution_count": 20,
   "id": "faed68da-b850-4960-aa86-4a015dabd2f9",
   "metadata": {
    "tags": []
   },
   "outputs": [
    {
     "name": "stdout",
     "output_type": "stream",
     "text": [
      "Image Shape as read in:torch.Size([1, 28, 28])\n",
      "Image Type:<class 'torch.Tensor'>\n",
      "\n",
      "The label for this image is: tensor([[9.]], dtype=torch.float64)\n",
      "\n",
      "Image Shape after moving axis:(28, 28)\n",
      "Label Shape:torch.Size([1, 1])\n",
      "\n"
     ]
    },
    {
     "data": {
      "image/png": "[encoded data removed]",
      "text/plain": [
       "<Figure size 640x480 with 1 Axes>"
      ]
     },
     "metadata": {},
     "output_type": "display_data"
    }
   ],
   "source": [
    "# Look at an image while testing the __getitem__ method\n",
    "\n",
    "# Use \"get item\" method to get one data point from any index (idx = 1 in this example)\n",
    "image1,label1 = train_data.__getitem__(1) # get the image and label at index 1\n",
    "print(f\"Image Shape as read in:{image1.shape}\\nImage Type:{type(image1)}\\n\") # Display the shape of the image and the type of the image\n",
    "print(f\"The label for this image is: {label1}\\n\") # Display the label of the image\n",
    "\n",
    "image1 = np.array(image1)        #1,28,28 and convert to numpy array\n",
    "image1 = np.moveaxis(image1,0,2) #28,28,1 - move back to original shape\n",
    "image1 = np.squeeze(image1)      #28,28 - move back to original form to display the image\n",
    "\n",
    "print(f\"Image Shape after moving axis:{image1.shape}\\nLabel Shape:{label1.shape}\\n\") # Display the shape of the image and the label\n",
    "\n",
    "io.imshow(image1) # Display the image\n",
    "plt.title(label1) # Display the label as the title of the image\n",
    "plt.show() # Show the image\n"
   ]
  },
  {
   "cell_type": "code",
   "execution_count": 21,
   "id": "b7456b79-736f-4754-b070-118a37953cb3",
   "metadata": {
    "tags": []
   },
   "outputs": [],
   "source": [
    "# Dataloader to get mini batched of data\n",
    "\n",
    "train_loader = DataLoader(dataset=train_data, batch_size=64,shuffle=False) # create the train loader\n",
    "test_loader = DataLoader(dataset=test_data, batch_size=20,shuffle=False) # create the test loader\n"
   ]
  },
  {
   "cell_type": "code",
   "execution_count": 22,
   "id": "faf644cf-5be0-4b1f-9391-2451fcc5fdc6",
   "metadata": {
    "tags": []
   },
   "outputs": [
    {
     "data": {
      "text/plain": [
       "(torch.Size([64, 1, 28, 28]), torch.Size([64, 1, 1]))"
      ]
     },
     "execution_count": 22,
     "metadata": {},
     "output_type": "execute_result"
    }
   ],
   "source": [
    "# let us check if the mini batch is being loaded everytime we call train loader\n",
    "\n",
    "#next(iter(train_loader)) # one way to check if the data is being loaded correctly by checking the first batch of data is loaded correctly\n",
    "\n",
    "for i , (x_batch,y_batch) in enumerate(train_loader): # another way to check if the data is being loaded correctly by getting key value pairs of the train loader as x_batch (image) and y_batch (label)\n",
    "    break # break the loop after the first iteration\n",
    "\n",
    "x_batch.shape,y_batch.shape # Display the shape of the image and the label"
   ]
  },
  {
   "cell_type": "code",
   "execution_count": 23,
   "id": "1dd7cec6-d3bf-41a8-90f1-478812c7628d",
   "metadata": {
    "tags": []
   },
   "outputs": [],
   "source": [
    "# Build the CNN model architecture\n",
    "\n",
    "class Net(nn.Module): # inherit from the super class nn.Module\n",
    "    def __init__(self): # constructor of the class\n",
    "        '''Order does not matter in the constructor'''\n",
    "        super(Net, self).__init__() # inherit the super class constructor\n",
    "        self.conv1 = nn.Conv2d(1, 32, kernel_size=5,padding=2) # convolutional layer 1 (1 input channel because 28x28x1, generate 32 images because of 32 filters, filter size 5x5, padding is 2) \n",
    "        self.conv2 = nn.Conv2d(32,64, kernel_size=5,padding=2) # convolutional layer 2 (32 input channels, generate 64 images out of the 32 channels, filter size 5x5, padding is 2)\n",
    "        self.dropout = nn.Dropout2d(p=0.2) # create a dropout layer with 20% probability of dropout\n",
    "        self.conv3 = nn.Conv2d(64,128, kernel_size=5,padding=2) # convolutional layer 3 (64 input channels, generate 128 images out of the 64 channels, filter size 5x5, padding is 2).\n",
    "\n",
    "        '''Now unravel the images so that we can feed the pixels to the fully connected layers - remember to completely determine the image size before connecting to the fully connected layers'''\n",
    "        '''The amount of fully connected layers you choose depends on the accuracy of the model. If the accuracy is not good, you can add more fully connected layers to improve the accuracy'''\n",
    "        self.fc1 = nn.Linear(7*7*128, 1000) # fully connected layer 1 (128 images of size 7x7, 1000 neurons). You have to figure out the 7x7 size by using the formula ((28 size + (2 padding * (2)) - 5 kernel size) / 1) + 1 = 28/2 = 14/2 = 7. If you get it wrong, the model will throw an error. This is a linear layer so you are taking in the 7x7x128 pixels and outputting 1000 neurons\n",
    "        self.fc2 = nn.Linear(1000,50) # fully connected layer 2 (1000 neurons, 50 neurons)  - we drop from 1000 neurons to 50 neurons to reduce the number of parameters\n",
    "        self.fc3 = nn.Linear(50, 10) # fully connected layer 3 (50 neurons, 10 neurons) - 10 neurons because we have 10 classes (0-9 digits)\n",
    "        self.relu = nn.ReLU() # activation function\n",
    "        self.maxpool = nn.MaxPool2d(2) # maxpooling layer with a kernel size of 2. Maxpooling reduces the size of the image by half\n",
    "\n",
    "    def forward(self, x): # take in the input x (image) to build the foward network\n",
    "        '''While we generated 3 convolutional layers, we only use 2 maxpooling layers in the forward network. This is so that if we run the model and the accuracy is not good, we can add the third maxpooling layer to see if the accuracy improves'''\n",
    "        x = self.conv1(x) # feed it through convolutional layer 1 : ((28 size + (2 padding * (2)) - 5 kernel size) / 1) + 1 = 28\n",
    "        x = self.relu(x) # apply the activation function\n",
    "        x = self.maxpool(x) # apply maxpooling : 28/2 = 14\n",
    "        \n",
    "        x = self.conv2(x) # feed it through convolutional layer 2 : ((14 size + (2 padding * (2)) - 5 kernel size) / 1) + 1 = 14\n",
    "        x = self.dropout(x) # apply dropout which does not affect the dimensions of the image\n",
    "        x = self.relu(x) # apply the activation function\n",
    "        x = self.maxpool(x) # apply maxpooling : 14/2 = 7\n",
    "        \n",
    "        x = self.relu(self.conv3(x)) # feed it through convolutional layer 3, apply the activation function : We are generating 128 images of size 7x7 in the final layer of the convolutional network\n",
    "        \n",
    "        '''Final images are 7x7x128 where 128 is the number of channels/pixels in the image'''\n",
    "\n",
    "        x = x.view(-1, 7*7*128) # the pytorch equivalent of numpy's reshape function which reshapes the image to 1 row so it fits in the batch size of 64 images. There are a ton of columns: 7x7x128 columns/pixels\n",
    "        \n",
    "        x = self.relu(self.fc1(x)) # feed it through the fully connected layer 1 with activation function\n",
    "        \n",
    "        # Dropout will work only during training with that comment\n",
    "        if self.training: # if the model is training mode\n",
    "            x = self.dropout(x) # even though the later model.eval() will eliminate dropout, this is a good practice to show that dropout is only applied during training\n",
    "        x = self.fc2(x) # feed it through the fully connected layer 2 without activation function (direct output)\n",
    "        x = self.fc3(x) # feed it through the fully connected layer 3 without activation function (direct output)\n",
    "        return x # return the output"
   ]
  },
  {
   "cell_type": "code",
   "execution_count": 24,
   "id": "48320025-5eea-4b05-9ab8-346fc9a26382",
   "metadata": {
    "tags": []
   },
   "outputs": [
    {
     "name": "stdout",
     "output_type": "stream",
     "text": [
      "----------------------------------------------------------------\n",
      "        Layer (type)               Output Shape         Param #\n",
      "================================================================\n",
      "            Conv2d-1           [-1, 32, 28, 28]             832\n",
      "              ReLU-2           [-1, 32, 28, 28]               0\n",
      "         MaxPool2d-3           [-1, 32, 14, 14]               0\n",
      "            Conv2d-4           [-1, 64, 14, 14]          51,264\n",
      "         Dropout2d-5           [-1, 64, 14, 14]               0\n",
      "              ReLU-6           [-1, 64, 14, 14]               0\n",
      "         MaxPool2d-7             [-1, 64, 7, 7]               0\n",
      "            Conv2d-8            [-1, 128, 7, 7]         204,928\n",
      "              ReLU-9            [-1, 128, 7, 7]               0\n",
      "           Linear-10                 [-1, 1000]       6,273,000\n",
      "             ReLU-11                 [-1, 1000]               0\n",
      "        Dropout2d-12                 [-1, 1000]               0\n",
      "           Linear-13                   [-1, 50]          50,050\n",
      "           Linear-14                   [-1, 10]             510\n",
      "================================================================\n",
      "Total params: 6,580,584\n",
      "Trainable params: 6,580,584\n",
      "Non-trainable params: 0\n",
      "----------------------------------------------------------------\n",
      "Input size (MB): 0.00\n",
      "Forward/backward pass size (MB): 0.86\n",
      "Params size (MB): 25.10\n",
      "Estimated Total Size (MB): 25.97\n",
      "----------------------------------------------------------------\n"
     ]
    }
   ],
   "source": [
    "# Print model summary\n",
    "\n",
    "model = Net()   # Instantiate the model object out of the Net class\n",
    "summary(model,(1,28,28)) # make sure the model is working by passing in the input shape of the image (1 batch size, 28x28 image). 1 channel is already specified in the Net class model.\n",
    "\n",
    "'''\n",
    "Tells you how you built the model:\n",
    "    * the number of parameters in the model\n",
    "    * the weights in every convolutional layer that need to get trained in the fully connected layers\n",
    "    * tells use that there are 6.58 million weights that need to be trained when we train the model\n",
    "'''"
   ]
  },
  {
   "cell_type": "code",
   "execution_count": 25,
   "id": "4dc553b1-fa68-438d-9fde-13f7f0e22429",
   "metadata": {
    "tags": []
   },
   "outputs": [],
   "source": [
    "# We can also inspect its parameters using its state_dict\n",
    "# print(model.state_dict()) # we are not doing it here because there is a large number of parameters\n",
    "\n",
    "# Fix learning rate, number of epochs\n",
    "lr = 0.001 # typical learning rate for image data\n",
    "n_epochs = 1 # increase the number of epochs later if the accuracy is not good\n",
    "\n",
    "# Loss function for multiclass classification\n",
    "loss_fn = nn.CrossEntropyLoss() # CrossEntropyLoss is used for multiclass classification problems\n",
    "\n",
    "log_interval = 10 # Variable used to display the gradient descent progress - purely for printing purposes\n",
    "\n",
    "# Instantiate the optimizer with Adam for gradient descent\n",
    "optimizer = optim.Adam(model.parameters(),lr=lr) # Adam is the go to gradient descent optimizer for deep learning and is more advanced than stochastic gradient descent. We are passing in the model paramters because we are optimizing the weights in the model. We are passing in the learning rate as well."
   ]
  },
  {
   "cell_type": "code",
   "execution_count": 26,
   "id": "52a91508-a32f-4bb8-80a5-e07fb0b6f030",
   "metadata": {
    "tags": []
   },
   "outputs": [],
   "source": [
    "# Storage containers for capturing loss values \n",
    "\n",
    "train_losses = [] # compute training loss for every epoch\n",
    "train_counter = [] # compute the number of training examples seen for every epoch\n",
    "\n",
    "test_losses = [] # compute test loss for every epoch\n",
    "test_counter = [i*len(train_data) for i in range(n_epochs + 1)] # compute the number of test examples for every epoch"
   ]
  },
  {
   "cell_type": "code",
   "execution_count": 27,
   "id": "5ddb5182-247e-410a-bd77-7d3f6433a20b",
   "metadata": {
    "tags": []
   },
   "outputs": [],
   "source": [
    "# Train step function\n",
    "\n",
    "def train(epoch): # build a function to train the model\n",
    "    model.train() # set the model to training mode\n",
    "    \n",
    "    # Read mini batch of training from dataloader and assign read in values to variables\n",
    "    for batch_idx, (data, target) in enumerate(train_loader): # read the batch data from teh trainloader\n",
    "        data,target = data.float(),target.long() # data should be float and label should be long (double float)\n",
    "        #print(data,target)\n",
    "        \n",
    "        # Clear the cache from past gradient values\n",
    "        optimizer.zero_grad() # remove any stored gradients from the optimizer\n",
    "        \n",
    "        # Predict on training data\n",
    "        output = model(data) # send the data (images) in mini batch to the model to get the output\n",
    "        \n",
    "        # Remove the additional dimension\n",
    "        output = torch.squeeze(output) # remove the additional dimension from the output\n",
    "        target = torch.squeeze(target) # remove the additional dimension from the target\n",
    "        #print(output.shape,target.shape)\n",
    "        \n",
    "        # Compute loss, back propogate and update weights\n",
    "        loss = loss_fn(output,target) # find the output and the target to compute the loss\n",
    "        loss.backward() # back propogate the loss\n",
    "        optimizer.step() # update the weights to get ready for the next epoch\n",
    "        \n",
    "        # Bunch of code to print the progress every 10 epochs - copy and paste this code\n",
    "        if batch_idx % log_interval == 0: # if the batch index is divisible by 10\n",
    "            print(f\"Train Epoch: {epoch} [{batch_idx * len(data)}/{len(train_data)} {100. * batch_idx* len(data) / len(train_data):.0f}%)]\\tLoss: {loss.item():.6f}\") # print the epoch, the batch index, the length of the data, the percentage of the data, and the loss value\n",
    "            \n",
    "            # Store counter and loss values\n",
    "            train_losses.append(loss.item()) # append the loss value to the train losses list\n",
    "            train_counter.append((batch_idx*64) + ((epoch-1)*len(train_data))) # append the batch index and the epoch to the train counter list\n",
    "            \n",
    "            # Save the model and the weight parameters\n",
    "            torch.save(model.state_dict(), 'model.pth') # save the model to the model.pth file\n",
    "            torch.save(optimizer.state_dict(), 'results.pth') # save the optimizer to the results.pth file"
   ]
  },
  {
   "cell_type": "code",
   "execution_count": 28,
   "id": "a3584634-78ca-4ed6-be3e-0bf2836a343c",
   "metadata": {
    "tags": []
   },
   "outputs": [],
   "source": [
    "# Test step function\n",
    "\n",
    "def test(): # build a function to test the model\n",
    "    model.eval() # set the model to evaluation mode\n",
    "    \n",
    "    # Create variable to compute accuracy\n",
    "    test_loss = 0 # initialize the test loss to 0\n",
    "    correct = 0 # initialize the correct predictions to 0 - how many correct predictions we have\n",
    "    \n",
    "    # Make sure gradient descent is not happening\n",
    "    with torch.no_grad(): # make sure gradient descent is not happening as this is the prediction phase\n",
    "        for data, target in test_loader: # read the data and target from the test loader\n",
    "            data,target = data.float(),target.long() # data should be float and target should be long (double float)\n",
    "            output = model(data) # send the data to the model to get the output\n",
    "            \n",
    "            # Remove additional dimension\n",
    "            output = torch.squeeze(output) # remove the additional dimension from the output\n",
    "            target = torch.squeeze(target) # remove the additional dimension from the target\n",
    "            #print(output.shape,target.shape)\n",
    "            \n",
    "            # Compute loss and add\n",
    "            test_loss += loss_fn(output, target).item() # compute the loss and add it to the test loss\n",
    "            \n",
    "            # Store the predicted value\n",
    "            pred = output.data.max(1, keepdim=True)[1] # from the output object that contains the 10 classes, get the first element of the max value (the max value of all the 10 predictions) and the index of the max value. The index of the max value is the predicted value\n",
    "            \n",
    "            # Compute accuracy\n",
    "            correct += pred.eq(target.data.view_as(pred)).sum() # sum up the values of the 100 predictions where the target data is equal to the predicted value (the sum of the correct predictions)\n",
    "\n",
    "    # Compute average test loss \n",
    "    test_loss /= len(test_loader) # compute the average test loss by dividing the test loss by the length of the test loader\n",
    "    \n",
    "    # Store loss values\n",
    "    test_losses.append(test_loss) # append the test loss to the test losses list\n",
    "    \n",
    "    print(f\"\\nTest set: Avg. loss: {test_loss:.4f}, Accuracy: {correct}/{len(test_data)} ({100. * correct / len(test_data):.0f}%)\") # print the average test loss and the accuracy of the model"
   ]
  },
  {
   "cell_type": "code",
   "execution_count": 29,
   "id": "98645534-f98a-44a9-bfbd-303d87b980a5",
   "metadata": {
    "tags": []
   },
   "outputs": [
    {
     "name": "stdout",
     "output_type": "stream",
     "text": [
      "\n",
      "Test set: Avg. loss: 2.2952, Accuracy: 14/100 (14%)\n",
      "Train Epoch: 1 [0/49000 0%)]\tLoss: 2.310618\n",
      "Train Epoch: 1 [640/49000 1%)]\tLoss: 1.506098\n",
      "Train Epoch: 1 [1280/49000 3%)]\tLoss: 0.681024\n",
      "Train Epoch: 1 [1920/49000 4%)]\tLoss: 0.590793\n",
      "Train Epoch: 1 [2560/49000 5%)]\tLoss: 0.416260\n",
      "Train Epoch: 1 [3200/49000 7%)]\tLoss: 0.535779\n",
      "Train Epoch: 1 [3840/49000 8%)]\tLoss: 0.195589\n",
      "Train Epoch: 1 [4480/49000 9%)]\tLoss: 0.079696\n",
      "Train Epoch: 1 [5120/49000 10%)]\tLoss: 0.500549\n",
      "Train Epoch: 1 [5760/49000 12%)]\tLoss: 0.272966\n",
      "Train Epoch: 1 [6400/49000 13%)]\tLoss: 0.228746\n",
      "Train Epoch: 1 [7040/49000 14%)]\tLoss: 0.215462\n",
      "Train Epoch: 1 [7680/49000 16%)]\tLoss: 0.100085\n",
      "Train Epoch: 1 [8320/49000 17%)]\tLoss: 0.152809\n",
      "Train Epoch: 1 [8960/49000 18%)]\tLoss: 0.183487\n",
      "Train Epoch: 1 [9600/49000 20%)]\tLoss: 0.109761\n",
      "Train Epoch: 1 [10240/49000 21%)]\tLoss: 0.137382\n",
      "Train Epoch: 1 [10880/49000 22%)]\tLoss: 0.042668\n",
      "Train Epoch: 1 [11520/49000 24%)]\tLoss: 0.138441\n",
      "Train Epoch: 1 [12160/49000 25%)]\tLoss: 0.398780\n",
      "Train Epoch: 1 [12800/49000 26%)]\tLoss: 0.099017\n",
      "Train Epoch: 1 [13440/49000 27%)]\tLoss: 0.016390\n",
      "Train Epoch: 1 [14080/49000 29%)]\tLoss: 0.078267\n",
      "Train Epoch: 1 [14720/49000 30%)]\tLoss: 0.043338\n",
      "Train Epoch: 1 [15360/49000 31%)]\tLoss: 0.145106\n",
      "Train Epoch: 1 [16000/49000 33%)]\tLoss: 0.128852\n",
      "Train Epoch: 1 [16640/49000 34%)]\tLoss: 0.046565\n",
      "Train Epoch: 1 [17280/49000 35%)]\tLoss: 0.110334\n",
      "Train Epoch: 1 [17920/49000 37%)]\tLoss: 0.112574\n",
      "Train Epoch: 1 [18560/49000 38%)]\tLoss: 0.063095\n",
      "Train Epoch: 1 [19200/49000 39%)]\tLoss: 0.223444\n",
      "Train Epoch: 1 [19840/49000 40%)]\tLoss: 0.115626\n",
      "Train Epoch: 1 [20480/49000 42%)]\tLoss: 0.197650\n",
      "Train Epoch: 1 [21120/49000 43%)]\tLoss: 0.146616\n",
      "Train Epoch: 1 [21760/49000 44%)]\tLoss: 0.089085\n",
      "Train Epoch: 1 [22400/49000 46%)]\tLoss: 0.026733\n",
      "Train Epoch: 1 [23040/49000 47%)]\tLoss: 0.061242\n",
      "Train Epoch: 1 [23680/49000 48%)]\tLoss: 0.091180\n",
      "Train Epoch: 1 [24320/49000 50%)]\tLoss: 0.033276\n",
      "Train Epoch: 1 [24960/49000 51%)]\tLoss: 0.213666\n",
      "Train Epoch: 1 [25600/49000 52%)]\tLoss: 0.174029\n",
      "Train Epoch: 1 [26240/49000 54%)]\tLoss: 0.081913\n",
      "Train Epoch: 1 [26880/49000 55%)]\tLoss: 0.130820\n",
      "Train Epoch: 1 [27520/49000 56%)]\tLoss: 0.072314\n",
      "Train Epoch: 1 [28160/49000 57%)]\tLoss: 0.018358\n",
      "Train Epoch: 1 [28800/49000 59%)]\tLoss: 0.094445\n",
      "Train Epoch: 1 [29440/49000 60%)]\tLoss: 0.195360\n",
      "Train Epoch: 1 [30080/49000 61%)]\tLoss: 0.071442\n",
      "Train Epoch: 1 [30720/49000 63%)]\tLoss: 0.017799\n",
      "Train Epoch: 1 [31360/49000 64%)]\tLoss: 0.087748\n",
      "Train Epoch: 1 [32000/49000 65%)]\tLoss: 0.072988\n",
      "Train Epoch: 1 [32640/49000 67%)]\tLoss: 0.027627\n",
      "Train Epoch: 1 [33280/49000 68%)]\tLoss: 0.169084\n",
      "Train Epoch: 1 [33920/49000 69%)]\tLoss: 0.088488\n",
      "Train Epoch: 1 [34560/49000 71%)]\tLoss: 0.070172\n",
      "Train Epoch: 1 [35200/49000 72%)]\tLoss: 0.015794\n",
      "Train Epoch: 1 [35840/49000 73%)]\tLoss: 0.039977\n",
      "Train Epoch: 1 [36480/49000 74%)]\tLoss: 0.022895\n",
      "Train Epoch: 1 [37120/49000 76%)]\tLoss: 0.054264\n",
      "Train Epoch: 1 [37760/49000 77%)]\tLoss: 0.066744\n",
      "Train Epoch: 1 [38400/49000 78%)]\tLoss: 0.161124\n",
      "Train Epoch: 1 [39040/49000 80%)]\tLoss: 0.065162\n",
      "Train Epoch: 1 [39680/49000 81%)]\tLoss: 0.310986\n",
      "Train Epoch: 1 [40320/49000 82%)]\tLoss: 0.044826\n",
      "Train Epoch: 1 [40960/49000 84%)]\tLoss: 0.028669\n",
      "Train Epoch: 1 [41600/49000 85%)]\tLoss: 0.049869\n",
      "Train Epoch: 1 [42240/49000 86%)]\tLoss: 0.143200\n",
      "Train Epoch: 1 [42880/49000 88%)]\tLoss: 0.026751\n",
      "Train Epoch: 1 [43520/49000 89%)]\tLoss: 0.125105\n",
      "Train Epoch: 1 [44160/49000 90%)]\tLoss: 0.005282\n",
      "Train Epoch: 1 [44800/49000 91%)]\tLoss: 0.083578\n",
      "Train Epoch: 1 [45440/49000 93%)]\tLoss: 0.008696\n",
      "Train Epoch: 1 [46080/49000 94%)]\tLoss: 0.014239\n",
      "Train Epoch: 1 [46720/49000 95%)]\tLoss: 0.074625\n",
      "Train Epoch: 1 [47360/49000 97%)]\tLoss: 0.131704\n",
      "Train Epoch: 1 [48000/49000 98%)]\tLoss: 0.286251\n",
      "Train Epoch: 1 [48640/49000 99%)]\tLoss: 0.056783\n",
      "\n",
      "Test set: Avg. loss: 0.0458, Accuracy: 98/100 (98%)\n",
      "Execution took: 0:01:35 secs (Wall clock time)\n"
     ]
    }
   ],
   "source": [
    "'''\n",
    "What we have done so far:\n",
    "    * Built the dataset class to read in the data\n",
    "    * Instantiated the data loader to get mini batches of data\n",
    "    * Built the CNN model architecture to predict and train the model\n",
    "    * Built the train and test step functions to train and test the model\n",
    "Now we are ready to put all of the pre-made functions into a loop and run it.\n",
    "Any tweaking should be run for 1 epoch since the models are computationally expensive to run.\n",
    "When there is good reduction in the loss and the accuracy is not bad after 1 epoch (sometimes 2 epochs), then we can increase the number of epochs.\n",
    "'''\n",
    "\n",
    "import time # import the time module to compute the time taken to run the model\n",
    "from datetime import timedelta # import timedelta to convert the time to seconds\n",
    "\n",
    "start_time = time.time() # start the timer\n",
    "\n",
    "# Perform lots of computations.\n",
    "\n",
    "test() # compute the test error straight away after the model is built to get that information\n",
    "for epoch in range(1, n_epochs + 1): # loop through the number of epochs with human readable epoch numbers\n",
    "    train(epoch) # train the model for the epoch\n",
    "    test() # test the model after training the model for the epoch\n",
    "    \n",
    "elapsed_time_secs = time.time() - start_time\n",
    "\n",
    "msg = \"Execution took: %s secs (Wall clock time)\" % timedelta(seconds=round(elapsed_time_secs)) # compute the time taken to run the model\n",
    "\n",
    "print(msg) # print the time taken to run the model\n",
    "\n",
    "'''As seen below, with every minibatch, the accuracy dramatically comes down.'''"
   ]
  },
  {
   "cell_type": "code",
   "execution_count": 30,
   "id": "2a0654a4-ded1-44a9-984a-013646b00729",
   "metadata": {
    "tags": []
   },
   "outputs": [
    {
     "data": {
      "text/plain": [
       "Text(0, 0.5, 'negative log likelihood loss')"
      ]
     },
     "execution_count": 30,
     "metadata": {},
     "output_type": "execute_result"
    },
    {
     "data": {
      "image/png": "[encoded data removed]",
      "text/plain": [
       "<Figure size 640x480 with 1 Axes>"
      ]
     },
     "metadata": {},
     "output_type": "display_data"
    }
   ],
   "source": [
    "# Plot the loss curve to see how the loss is decreasing with each mini batch\n",
    "\n",
    "fig = plt.figure() # create a figure object\n",
    "plt.plot(train_counter, train_losses, color='blue') # plot the train counter and the train losses in blue\n",
    "plt.scatter(test_counter, test_losses, color='red') # plot the test counter and the test losses in red\n",
    "plt.legend(['Train Loss', 'Test Loss'], loc='upper right')  # create a legend for the plot\n",
    "plt.xlabel('number of training examples seen') # label the x axis\n",
    "plt.ylabel('negative log likelihood loss') # label the y axis"
   ]
  },
  {
   "cell_type": "code",
   "execution_count": 31,
   "id": "435193c8-1da8-4eb7-952f-a48595bdfb65",
   "metadata": {
    "tags": []
   },
   "outputs": [],
   "source": [
    "# Function to predict on new images from trained model\n",
    "\n",
    "read_in_images = []  # To store the images read in\n",
    "\n",
    "def classify(model,image,classes,count): # send a model, an image, the classes, and the count of the image\n",
    "    # Preprocess the image to make it the same type of image the model was trained on (remove color images with multiple channels, resize the image to 28x28, convert to grayscale if necessary)\n",
    "    image = io.imread(image) # read in the image\n",
    "    print(image.shape) # print the shape of the image\n",
    "    read_in_images.append(image) # append the image to the read in images list\n",
    "    io.imshow(read_in_images[count]) # display the image\n",
    "    plt.show() # show the image\n",
    "    count += 1 # increment the count\n",
    "    \n",
    "    # Transform to correct shape\n",
    "    image = transform.resize(image,(28,28)) # resize the image to 28x28\n",
    "    \n",
    "    # Check if image has more than 2 channels (RGB type) and if yes convert to grayscale\n",
    "    if len(image.shape) > 2: # for example, if the image has 3 channels\n",
    "        image = rgb2gray(image) # convert the image to grayscale\n",
    "    print(image.shape) # print the shape of the image\n",
    "    #image = image/255\n",
    "    \n",
    "    # Put in eval mode\n",
    "    model = model.eval() # set the model to evaluation mode\n",
    "    image = torch.from_numpy(image) # Convert to torch tensor\n",
    "    image = image.float() # of type float\n",
    "    \n",
    "    image = image.unsqueeze(0) # since it is a single batch, add an additional dimension 1 to the 0th column (1,28,28)\n",
    "    \n",
    "    # Predict\n",
    "    output = model(image) # send the image to the model to predict and get the output\n",
    "    print(f\"Predictions:\\n{output.data}\\n\") # print the output data\n",
    "    \n",
    "    # Pick the value with the highes probability score in the output\n",
    "    _,predicted = torch.max(output.data,1) # take the maximum value of the output data and the index of the maximum value\n",
    "    print(f\"Predicted Number:{classes[predicted.item()]}\\n\") # the maximum value is the predicted value"
   ]
  },
  {
   "cell_type": "code",
   "execution_count": 33,
   "id": "7f0c21cd-2389-4d3c-b467-10db773a1ee9",
   "metadata": {
    "tags": []
   },
   "outputs": [
    {
     "name": "stdout",
     "output_type": "stream",
     "text": [
      "(224, 225, 3)\n"
     ]
    },
    {
     "data": {
      "image/png": "[encoded data removed]",
      "text/plain": [
       "<Figure size 640x480 with 1 Axes>"
      ]
     },
     "metadata": {},
     "output_type": "display_data"
    },
    {
     "name": "stdout",
     "output_type": "stream",
     "text": [
      "(28, 28)\n",
      "Predictions:\n",
      "tensor([[-2.9711, -0.0645, -1.5772,  3.9525, -1.8744, -1.9147, -5.9468, 10.6986,\n",
      "         -2.4706, -0.7262]])\n",
      "\n",
      "Predicted Number:7\n",
      "\n",
      "(28, 28)\n"
     ]
    },
    {
     "data": {
      "image/png": "[encoded data removed]",
      "text/plain": [
       "<Figure size 640x480 with 1 Axes>"
      ]
     },
     "metadata": {},
     "output_type": "display_data"
    },
    {
     "name": "stdout",
     "output_type": "stream",
     "text": [
      "(28, 28)\n",
      "Predictions:\n",
      "tensor([[ 1.4166, -0.4875, -1.6249, -2.7382,  1.8274,  2.2910,  9.2995, -1.8014,\n",
      "          0.7999, -0.6795]])\n",
      "\n",
      "Predicted Number:6\n",
      "\n"
     ]
    }
   ],
   "source": [
    "# Feed new unseen images\n",
    "\n",
    "pics = ['7.png','nr6.png'] # download 2 images from the internet and put them in the same directory as the notebook\n",
    "\n",
    "count = 0 # initialize the counter to 0\n",
    "\n",
    "# Define the classes\n",
    "classes = [0,1,2,3,4,5,6,7,8,9] # define the classes which are the digits 0-9\n",
    "\n",
    "# Call the prediction function\n",
    "for i in pics: # pick the images one by one\n",
    "    classify(model,i,classes,count) # call the classify function to classify the image\n",
    "    count += 1 # increment the count by 1\n",
    "\n",
    "'''\n",
    "Preprocessing:\n",
    "We reduced the 7.png from 224x225x3 to 28x28.\n",
    "The nr6.png was already 28x28.\n",
    "\n",
    "Predictions:\n",
    "We show the number 7 image and the model predicts the number 7 correctly. \n",
    "We show the number 6 image and the model predicts the number 6 correctly.\n",
    "'''"
   ]
  }
 ],
 "metadata": {
  "kernelspec": {
   "display_name": "info2000",
   "language": "python",
   "name": "python3"
  },
  "language_info": {
   "codemirror_mode": {
    "name": "ipython",
    "version": 3
   },
   "file_extension": ".py",
   "mimetype": "text/x-python",
   "name": "python",
   "nbconvert_exporter": "python",
   "pygments_lexer": "ipython3",
   "version": "3.10.13"
  }
 },
 "nbformat": 4,
 "nbformat_minor": 5
}
