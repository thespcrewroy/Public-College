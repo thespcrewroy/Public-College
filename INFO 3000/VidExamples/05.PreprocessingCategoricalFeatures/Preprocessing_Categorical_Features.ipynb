{
 "cells": [
  {
   "cell_type": "markdown",
   "id": "f32005c7-432c-47c2-8c27-cabfa2c6dc63",
   "metadata": {},
   "source": [
    "### Encoding categorical data into numeric representation ###\n",
    "\n",
    "<b>Please note - This is done only to features as many algorithms cannot accept categoric features. Do not do this to labels.</b>"
   ]
  },
  {
   "cell_type": "code",
   "execution_count": 1,
   "id": "8ee884f8-de4b-45ef-8e9a-0d8951ac458a",
   "metadata": {
    "tags": []
   },
   "outputs": [],
   "source": [
    "import pandas as pd\n",
    "import numpy as np"
   ]
  },
  {
   "cell_type": "code",
   "execution_count": 2,
   "id": "700bbbd3-a62e-41f6-abf3-db6a331d4ef1",
   "metadata": {
    "tags": []
   },
   "outputs": [
    {
     "name": "stdout",
     "output_type": "stream",
     "text": [
      "Data:\n",
      "   Gender       City Temperature Rating\n",
      "0  female   New York         low      4\n",
      "1  female     London      medium     3f\n",
      "2    male  New Delhi        high      2\n",
      "Shape:\n",
      "(3, 4)\n",
      "\n",
      "Data Types:\n",
      "Gender         object\n",
      "City           object\n",
      "Temperature    object\n",
      "Rating         object\n",
      "dtype: object\n"
     ]
    }
   ],
   "source": [
    "# Create example dataframe\n",
    "# Feature Columns: gender, city, temperature\n",
    "# Label Column: rating\n",
    "\n",
    "\n",
    "data = pd.DataFrame(\n",
    "       [['female', 'New York', 'low', 4], ['female', 'London', 'medium', '3f'], ['male', 'New Delhi', 'high', 2]],\n",
    "       columns=['Gender', 'City', 'Temperature', 'Rating'])\n",
    "print(f\"Data:\\n{data}\\nShape:\\n{data.shape}\\n\\nData Types:\\n{data.dtypes}\")"
   ]
  },
  {
   "cell_type": "code",
   "execution_count": 3,
   "id": "b9a3031a-cbde-43a5-9f9b-b287c26e4ce3",
   "metadata": {
    "tags": []
   },
   "outputs": [
    {
     "name": "stdout",
     "output_type": "stream",
     "text": [
      "   Gender       City Temperature  Rating\n",
      "0  female   New York         low       4\n",
      "1  female     London      medium       3\n",
      "2    male  New Delhi        high       2\n",
      "Data TypeGender         object\n",
      "City           object\n",
      "Temperature    object\n",
      "Rating          int64\n",
      "dtype: object\n"
     ]
    },
    {
     "name": "stderr",
     "output_type": "stream",
     "text": [
      "/var/folders/34/vzwf82z17w56m8n_7h6wclc80000gn/T/ipykernel_79514/1830090044.py:4: FutureWarning: A value is trying to be set on a copy of a DataFrame or Series through chained assignment using an inplace method.\n",
      "The behavior will change in pandas 3.0. This inplace method will never work because the intermediate object on which we are setting values always behaves as a copy.\n",
      "\n",
      "For example, when doing 'df[col].method(value, inplace=True)', try using 'df.method({col: value}, inplace=True)' or df[col] = df[col].method(value) instead, to perform the operation inplace on the original object.\n",
      "\n",
      "\n",
      "  data[\"Rating\"].replace(['3f'],3,inplace=True)\n",
      "/var/folders/34/vzwf82z17w56m8n_7h6wclc80000gn/T/ipykernel_79514/1830090044.py:4: FutureWarning: Downcasting behavior in `replace` is deprecated and will be removed in a future version. To retain the old behavior, explicitly call `result.infer_objects(copy=False)`. To opt-in to the future behavior, set `pd.set_option('future.no_silent_downcasting', True)`\n",
      "  data[\"Rating\"].replace(['3f'],3,inplace=True)\n"
     ]
    }
   ],
   "source": [
    "# Preprocessing: remove the f in 3f\n",
    "# If these type of data aberrations are large in a dataset, then the most efficient way is to use the regular expressions library for string manipulations\n",
    "\n",
    "data[\"Rating\"].replace(['3f'],3,inplace=True)\n",
    "\n",
    "print(f\"{data}\\nData Type{data.dtypes}\")"
   ]
  },
  {
   "cell_type": "markdown",
   "id": "c4cc9840-097e-4684-9893-3cd11ebe3731",
   "metadata": {},
   "source": [
    "\n",
    "    - All of the features are categorical data. Most are strings, one should be numeric.\n",
    "    \n",
    "    - Gender is a binary category. It's either male of female.\n",
    "    \n",
    "    - City is nominal category. This is because it's not meaningful to order the cities in any way.\n",
    "    \n",
    "    - Temperature is an ordinal category. This is because there is a meaningful order to the category \n",
    "        i.e. greater-than and less-than comparisons are meaningful.\n",
    "    \n"
   ]
  },
  {
   "cell_type": "code",
   "execution_count": 4,
   "id": "e9e3ff7b-2b7e-4e30-8e58-5279d59261f0",
   "metadata": {
    "tags": []
   },
   "outputs": [
    {
     "name": "stdout",
     "output_type": "stream",
     "text": [
      "   Gender       City Temperature  Rating  Temperature_encoded\n",
      "0  female   New York         low       4                    0\n",
      "1  female     London      medium       3                    1\n",
      "2    male  New Delhi        high       2                    2\n"
     ]
    }
   ],
   "source": [
    "# One can specify the order if we know it - as in the case of temperature in this dataset\n",
    "data['Temperature_encoded'] = data['Temperature'].map( {'low':0, 'medium':1, 'high':2}) # Encoding Categorical Data\n",
    "print(data)"
   ]
  },
  {
   "cell_type": "code",
   "execution_count": 5,
   "id": "f1c5bb5f-4f13-48d1-91e1-dc80777efdc0",
   "metadata": {
    "tags": []
   },
   "outputs": [
    {
     "name": "stdout",
     "output_type": "stream",
     "text": [
      "Encoded Data:\n",
      "   Gender  Rating  Temperature_encoded  City_Encoded\n",
      "0  female       4                    0             2\n",
      "1  female       3                    1             0\n",
      "2    male       2                    2             1\n"
     ]
    }
   ],
   "source": [
    "# Use LabalEncoder for the city column\n",
    "from sklearn.preprocessing import LabelEncoder\n",
    "\n",
    "le = LabelEncoder() # Instantiate the labelencode object\n",
    "\n",
    "data[\"City_Encoded\"] = le.fit_transform(data['City']) # Fit transform the city column\n",
    "\n",
    "print(f\"Encoded Data:\\n{data.drop(['City','Temperature'],axis=1)}\") # Drop the original columns and replace with encoded columns"
   ]
  },
  {
   "cell_type": "markdown",
   "id": "4fb246dd-7d18-4abc-93f8-e216964921c5",
   "metadata": {},
   "source": [
    "<b>Binary encoding</b>\n",
    "\n",
    "Binary encodings are a special case of categoric features (such as Gender). Here's a way to do this that also happens to preserve any missing values as missing:"
   ]
  },
  {
   "cell_type": "code",
   "execution_count": 6,
   "id": "cc5eff2c-618e-4ac2-a82a-b1011f774cb8",
   "metadata": {},
   "outputs": [
    {
     "name": "stdout",
     "output_type": "stream",
     "text": [
      "Encoded Data:\n",
      "   Gender  Rating  Temperature_encoded  City_Encoded\n",
      "0       0       4                    0             2\n",
      "1       0       3                    1             0\n",
      "2       1       2                    2             1\n"
     ]
    }
   ],
   "source": [
    "data['Gender'] = data['Gender'].map( {'male':1, 'female':0} )\n",
    "print(f\"Encoded Data:\\n{data.drop(['City','Temperature'],axis=1)}\")"
   ]
  },
  {
   "cell_type": "markdown",
   "id": "3da7ee36-6460-4219-be14-93762df5ed69",
   "metadata": {},
   "source": [
    "<b>One-hot encoding (Very popular method)</b>.\n",
    "\n",
    "One-hot encoding is where you represent each possible value for a category as a separate feature. The most straight-forward way to do this is with pandas (e.g. with the City feature again):"
   ]
  },
  {
   "cell_type": "code",
   "execution_count": 10,
   "id": "49bbf4c8-d277-45ab-9f9d-17950ea03762",
   "metadata": {},
   "outputs": [
    {
     "data": {
      "text/html": [
       "<div>\n",
       "<style scoped>\n",
       "    .dataframe tbody tr th:only-of-type {\n",
       "        vertical-align: middle;\n",
       "    }\n",
       "\n",
       "    .dataframe tbody tr th {\n",
       "        vertical-align: top;\n",
       "    }\n",
       "\n",
       "    .dataframe thead th {\n",
       "        text-align: right;\n",
       "    }\n",
       "</style>\n",
       "<table border=\"1\" class=\"dataframe\">\n",
       "  <thead>\n",
       "    <tr style=\"text-align: right;\">\n",
       "      <th></th>\n",
       "      <th>Gender_female</th>\n",
       "      <th>Gender_male</th>\n",
       "    </tr>\n",
       "  </thead>\n",
       "  <tbody>\n",
       "    <tr>\n",
       "      <th>0</th>\n",
       "      <td>1</td>\n",
       "      <td>0</td>\n",
       "    </tr>\n",
       "    <tr>\n",
       "      <th>1</th>\n",
       "      <td>1</td>\n",
       "      <td>0</td>\n",
       "    </tr>\n",
       "    <tr>\n",
       "      <th>2</th>\n",
       "      <td>0</td>\n",
       "      <td>1</td>\n",
       "    </tr>\n",
       "  </tbody>\n",
       "</table>\n",
       "</div>"
      ],
      "text/plain": [
       "   Gender_female  Gender_male\n",
       "0              1            0\n",
       "1              1            0\n",
       "2              0            1"
      ]
     },
     "execution_count": 10,
     "metadata": {},
     "output_type": "execute_result"
    }
   ],
   "source": [
    "pd.get_dummies(data['Gender'], prefix='Gender').astype(int) # One hot encoding"
   ]
  },
  {
   "cell_type": "code",
   "execution_count": 9,
   "id": "ed3ac151-b427-49a5-ae9e-fd1f25b78dbf",
   "metadata": {},
   "outputs": [
    {
     "name": "stdout",
     "output_type": "stream",
     "text": [
      "   Rating  Gender_female  Gender_male  City_London  City_New Delhi  \\\n",
      "0       4              1            0            0               0   \n",
      "1       3              1            0            1               0   \n",
      "2       2              0            1            0               1   \n",
      "\n",
      "   City_New York  Temperature_high  Temperature_low  Temperature_medium  \n",
      "0              1                 0                1                   0  \n",
      "1              0                 0                0                   1  \n",
      "2              0                 1                0                   0   \n",
      " (3, 9)\n"
     ]
    }
   ],
   "source": [
    "# To transform the datasets categoric features, if order does not matter to us we can do the following\n",
    "\n",
    "data = pd.DataFrame(\n",
    "       [['female', 'New York', 'low', 4], ['female', 'London', 'medium', 3], ['male', 'New Delhi', 'high', 2]],\n",
    "       columns=['Gender', 'City', 'Temperature', 'Rating'])\n",
    "\n",
    "new_data =  pd.get_dummies(data).astype(int)\n",
    "\n",
    "print(new_data,'\\n',new_data.shape)"
   ]
  },
  {
   "cell_type": "markdown",
   "id": "ba996139-05d5-4fb9-8be1-d2e5c675378e",
   "metadata": {},
   "source": [
    "https://pandas.pydata.org/docs/reference/api/pandas.get_dummies.html"
   ]
  }
 ],
 "metadata": {
  "kernelspec": {
   "display_name": "Python 3 (ipykernel)",
   "language": "python",
   "name": "python3"
  },
  "language_info": {
   "codemirror_mode": {
    "name": "ipython",
    "version": 3
   },
   "file_extension": ".py",
   "mimetype": "text/x-python",
   "name": "python",
   "nbconvert_exporter": "python",
   "pygments_lexer": "ipython3",
   "version": "3.1.-1"
  }
 },
 "nbformat": 4,
 "nbformat_minor": 5
}
