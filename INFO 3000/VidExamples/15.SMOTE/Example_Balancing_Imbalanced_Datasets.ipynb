{
 "cells": [
  {
   "cell_type": "code",
   "execution_count": 1,
   "id": "b037718c-0cdd-4287-90c3-568dfd6b2985",
   "metadata": {
    "tags": []
   },
   "outputs": [],
   "source": [
    "# Import modules\n",
    "# You can get the imblearn module by doing \"pip install imbalanced-learn\"\n",
    "\n",
    "from imblearn.over_sampling import SMOTE # Import the SMOTE algorithm based oversmapler\n",
    "\n",
    "from collections import Counter # This is a standard python module and function to count the number of similar items in a variable\n",
    "\n",
    "from sklearn.datasets import make_classification\n",
    "from sklearn.model_selection import train_test_split\n",
    "\n"
   ]
  },
  {
   "cell_type": "code",
   "execution_count": 2,
   "id": "74b90372-c3f8-4acf-b1b5-37ddaef87c37",
   "metadata": {
    "tags": []
   },
   "outputs": [
    {
     "name": "stdout",
     "output_type": "stream",
     "text": [
      "Original dataset shape Counter({2: 4674, 1: 262, 0: 64})\n",
      "Resampled (SMOTE) dataset shape Counter({0: 3283, 2: 3283, 1: 3283})\n"
     ]
    }
   ],
   "source": [
    "# assume X, y are your data\n",
    "X, y = make_classification(n_samples=5000, n_features=2, n_informative=2,\n",
    "                           n_redundant=0, n_repeated=0, n_classes=3,\n",
    "                           n_clusters_per_class=1,\n",
    "                           weights=[0.01, 0.05, 0.94],\n",
    "                           class_sep=0.8, random_state=0) # Create a classification dataset with 3 classes and 2 features\n",
    "print('Original dataset shape %s' % Counter(y)) # Count the number of samples in each class\n",
    "X_train, X_test, y_train, y_test = train_test_split(X, y, test_size=0.3, random_state=42) # First, split your data into training and testing sets\n",
    "\n",
    "sm = SMOTE(random_state=42) # Create a SMOTE object\n",
    "X_res, y_res = sm.fit_resample(X_train, y_train) # Resample the training data, NEVER resample the testing data\n",
    "\n",
    "print('Resampled (SMOTE) dataset shape %s' % Counter(y_res)) # Count the number of samples in each class after resampling"
   ]
  }
 ],
 "metadata": {
  "kernelspec": {
   "display_name": "info2000",
   "language": "python",
   "name": "python3"
  },
  "language_info": {
   "codemirror_mode": {
    "name": "ipython",
    "version": 3
   },
   "file_extension": ".py",
   "mimetype": "text/x-python",
   "name": "python",
   "nbconvert_exporter": "python",
   "pygments_lexer": "ipython3",
   "version": "3.10.13"
  }
 },
 "nbformat": 4,
 "nbformat_minor": 5
}
