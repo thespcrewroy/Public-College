{
 "cells": [
  {
   "cell_type": "markdown",
   "metadata": {},
   "source": [
    "## Data Preprocessing Insights"
   ]
  },
  {
   "cell_type": "code",
   "execution_count": 5,
   "metadata": {},
   "outputs": [],
   "source": [
    "import numpy as np\n",
    "import pandas as pd\n",
    "from matplotlib import pyplot as plt"
   ]
  },
  {
   "cell_type": "markdown",
   "metadata": {},
   "source": [
    "### __Feature engineering example__"
   ]
  },
  {
   "cell_type": "code",
   "execution_count": 6,
   "metadata": {},
   "outputs": [
    {
     "name": "stdout",
     "output_type": "stream",
     "text": [
      "    X      y\n",
      "0   1    0.8\n",
      "1   3   10.2\n",
      "2   2    3.8\n",
      "3   5   38.0\n",
      "4   6   61.8\n",
      "5   8  135.2\n",
      "6   7   93.8\n",
      "7   9  187.2\n",
      "8   8  135.2\n",
      "9   5   38.0\n",
      "10  4   21.2\n"
     ]
    }
   ],
   "source": [
    "# Feature engineering example\n",
    "\n",
    "# Create some data\n",
    "X = np.array([1,3,2,5,6,8,7,9,8,5,4])\n",
    "y = np.array([  0.8, 10.2, 3.8, 38.0, 61.8, 135.2,  93.8, 187.2, 135.2 , 38.0,21.2])\n",
    "df = pd.DataFrame({'X': X, 'y': y})\n",
    "\n",
    "\n",
    "print(df)"
   ]
  },
  {
   "cell_type": "code",
   "execution_count": 7,
   "metadata": {},
   "outputs": [
    {
     "data": {
      "image/png": "[encoded data removed]",
      "text/plain": [
       "<Figure size 300x300 with 1 Axes>"
      ]
     },
     "metadata": {},
     "output_type": "display_data"
    }
   ],
   "source": [
    "# Plotting this data you will notice that the relationship is not linear between X and y\n",
    "plt.figure(figsize=(3,3))\n",
    "plt.scatter(df['X'],df['y'])\n",
    "plt.show()"
   ]
  },
  {
   "cell_type": "markdown",
   "metadata": {},
   "source": [
    "#### A Linear regression model will not fit this data well. \n",
    "\n",
    "In other words, the model is not able to find a function relating X and y as it is trying to build it based on the function : $h_\\theta(X) = \\theta_0 + \\theta_1 * X$.<br>\n",
    "The function the model needs to find, looking at the nature of the curve, could be : $h_\\theta(X) = \\theta_0 + \\theta_1 * X + \\theta_2 * X^2$<br><br>\n",
    "But we do not have the $X^2$ terms in our data.<br>\n",
    "However, we can feature engineer the dataset and add the $X^2$ term in our dataset.\n",
    "\n",
    "Having more than 3 dimensions where you cannot visualize the graph requires trial and error of 2nd order polynomial firt, 3rd order polynomial fit, etc."
   ]
  },
  {
   "cell_type": "code",
   "execution_count": 8,
   "metadata": {},
   "outputs": [
    {
     "name": "stdout",
     "output_type": "stream",
     "text": [
      "Feature engineered dataset :\n",
      "    X      y  poly_2\n",
      "0   1    0.8       1\n",
      "1   3   10.2       9\n",
      "2   2    3.8       4\n",
      "3   5   38.0      25\n",
      "4   6   61.8      36\n",
      "5   8  135.2      64\n",
      "6   7   93.8      49\n",
      "7   9  187.2      81\n",
      "8   8  135.2      64\n",
      "9   5   38.0      25\n",
      "10  4   21.2      16\n",
      "\n",
      "\n",
      "New X and y\n",
      "    X  poly_2\n",
      "0   1       1\n",
      "1   3       9\n",
      "2   2       4\n",
      "3   5      25\n",
      "4   6      36\n",
      "5   8      64\n",
      "6   7      49\n",
      "7   9      81\n",
      "8   8      64\n",
      "9   5      25\n",
      "10  4      16 0       0.8\n",
      "1      10.2\n",
      "2       3.8\n",
      "3      38.0\n",
      "4      61.8\n",
      "5     135.2\n",
      "6      93.8\n",
      "7     187.2\n",
      "8     135.2\n",
      "9      38.0\n",
      "10     21.2\n",
      "Name: y, dtype: float64\n"
     ]
    }
   ],
   "source": [
    "# Example of feature engineering \n",
    "# The plot looks like it may need a polynomial of degree 2.\n",
    "\n",
    "df['poly_2'] = df['X'] **2  # Adding the polynomial feature to the original dataset\n",
    "\n",
    "print(f\"Feature engineered dataset :\\n{df}\")\n",
    "\n",
    "# So now we have 2 features (one original and one which we engineered) \n",
    "# We could separate X and y\n",
    "\n",
    "print(f\"\\n\\nNew X and y\")\n",
    "X_new = df.drop('y',axis=1)\n",
    "y = df['y']\n",
    "\n",
    "print(X_new,y)"
   ]
  },
  {
   "cell_type": "markdown",
   "metadata": {},
   "source": [
    "The model will most likely fit the the data well and we should get much better results.\n",
    "\n",
    "Please nore one very important thing: If you feature engineer your dataset and create a model with it, then the model always expects any new inputs for prediction to have as many number of features as it was built with. In the above example the model expects as inputs 2 features. \n",
    "\n",
    "__So, you must have built into your prediction function a preprocessing step where the new input is taken and an additional features are added (same way as above) before feeding the input to the model.__\n",
    "\n",
    "For plotting the line of regression (a curve in such cases), you plot the scatter plot of the original data and super impose the regression line by generating the 'y_predicted' values as<br> model.__predict(X_new)__"
   ]
  },
  {
   "cell_type": "markdown",
   "metadata": {},
   "source": [
    "### __Outlier identification example__"
   ]
  },
  {
   "cell_type": "code",
   "execution_count": 9,
   "metadata": {},
   "outputs": [
    {
     "name": "stdout",
     "output_type": "stream",
     "text": [
      "Q1: 9.5\n",
      "Q3: 16.5\n",
      "IQR: 7.0\n"
     ]
    }
   ],
   "source": [
    "\n",
    "# Example data\n",
    "data = [6, 8, 10, 12, 14, 16, 18, 20]\n",
    "\n",
    "# Create a pandas Series\n",
    "data_series = pd.Series(data)\n",
    "\n",
    "# Calculate Q1 and Q3\n",
    "Q1 = data_series.quantile(0.25)\n",
    "Q3 = data_series.quantile(0.75)\n",
    "\n",
    "# Calculate IQR\n",
    "IQR = Q3 - Q1\n",
    "\n",
    "print(f\"Q1: {Q1}\")\n",
    "print(f\"Q3: {Q3}\")\n",
    "print(f\"IQR: {IQR}\")\n"
   ]
  },
  {
   "cell_type": "markdown",
   "metadata": {},
   "source": [
    "#### Now you can apply the formulas for the upper and lower bounds and all data points above and below the bounds are considered outliers. You can then remove them as part of the data preprocessing step ####\n",
    "\n",
    "Lower bound: Q1−1.5×IQRQ1−1.5×IQR<br>\n",
    "Upper bound: Q3+1.5×IQRQ3+1.5×IQR\n"
   ]
  },
  {
   "cell_type": "markdown",
   "metadata": {},
   "source": [
    "### __Correlation__"
   ]
  },
  {
   "cell_type": "code",
   "execution_count": 10,
   "metadata": {},
   "outputs": [
    {
     "name": "stdout",
     "output_type": "stream",
     "text": [
      "Correlation Matrix:\n",
      "          A         B         C         D\n",
      "A  1.000000  0.325816  0.853492 -0.493197\n",
      "B  0.325816  1.000000  0.342253 -0.053564\n",
      "C  0.853492  0.342253  1.000000  0.032380\n",
      "D -0.493197 -0.053564  0.032380  1.000000\n"
     ]
    }
   ],
   "source": [
    "# Sample data\n",
    "data = {\n",
    "    'A': [1, 2, 3, 4, 5],\n",
    "    'B': [2, 4, 16, 1, 10],\n",
    "    'C': [5, 1, 9, 11, 13],\n",
    "    'D': [10, 5, 8, 7, 6]\n",
    "}\n",
    "\n",
    "# Create a DataFrame\n",
    "df = pd.DataFrame(data)\n",
    "\n",
    "# Compute the Pearson correlation coefficient matrix\n",
    "correlation_matrix = df.corr()\n",
    "\n",
    "print(\"Correlation Matrix:\")\n",
    "print(correlation_matrix)\n"
   ]
  }
 ],
 "metadata": {
  "kernelspec": {
   "display_name": "Python 3 (ipykernel)",
   "language": "python",
   "name": "python3"
  },
  "language_info": {
   "codemirror_mode": {
    "name": "ipython",
    "version": 3
   },
   "file_extension": ".py",
   "mimetype": "text/x-python",
   "name": "python",
   "nbconvert_exporter": "python",
   "pygments_lexer": "ipython3",
   "version": "3.10.14"
  }
 },
 "nbformat": 4,
 "nbformat_minor": 4
}
