{
 "cells": [
  {
   "cell_type": "markdown",
   "metadata": {},
   "source": [
    "# Intro to Sklearn\n",
    "\n",
    "This notebook is a resource for you to use when learning your way around the Scikit Learn library. \n",
    "Below I've demonstrated some of the functions we will use most frequently in this course. (Please be forgiving of any spelling errors I've made throughout this notebook- markdown doesn't have spellcheck (: ).\n",
    "\n",
    "Here are some great adittional resources that I definetly reccomend checking out:\n",
    "- [Scikit Learn: Getting Started](https://scikit-learn.org/stable/getting_started.html)\n",
    "- [Tutorials Point: Scikit Learn](https://www.tutorialspoint.com/scikit_learn/index.htm)\n",
    "- [fkromer on GitHub: awesome-scikit-learn](https://github.com/fkromer/awesome-scikit-learn#examples)"
   ]
  },
  {
   "cell_type": "markdown",
   "metadata": {},
   "source": [
    "<b>Before getting started</b>:\n",
    "\n",
    "Make sure you have the proper dependecy versions & that you have installed the scikit-learn library itself in your commandline. See more instructions on how to do that [here](https://scikit-learn.org/stable/install.html#installation-instructions)."
   ]
  },
  {
   "cell_type": "markdown",
   "metadata": {},
   "source": [
    "### Importing Datasets\n",
    "\n",
    "Most of the time, you will be provided with the dataset you are to use for a given assignment. Scikit Learn also has built in datasets you can use for testing, though. Below is how you can load in a dataset:"
   ]
  },
  {
   "cell_type": "code",
   "execution_count": 1,
   "metadata": {},
   "outputs": [],
   "source": [
    "# importing 'load_diabetes' function from sklearn\n",
    "from sklearn.datasets import load_diabetes\n",
    "\n",
    "# use the 'load_diabetes' function to load the Diabetes dataset (this is a regression dataset, which is why I picked it)\n",
    "dataset = load_diabetes() "
   ]
  },
  {
   "cell_type": "markdown",
   "metadata": {},
   "source": [
    "It's important to know that the datasets this course deals with are composed of two main parts- <b>features</b> and <b>labels</b>.\n",
    "\n",
    "- <b>Features</b> are the characteristics or properties of the data. They can pretty much describe anything.\n",
    "- <b>Labels</b> are the classifications given to datapoints based on their features- this is what we predict using models."
   ]
  },
  {
   "cell_type": "markdown",
   "metadata": {},
   "source": [
    "Here is some information about the [Diabetes dataset](https://scikit-learn.org/stable/modules/generated/sklearn.datasets.load_diabetes.html#sklearn.datasets.load_diabetes) specifically:\n",
    "\n",
    "- Number of Instances: 442\n",
    "\n",
    "- Number of Attributes: First 10 columns are numeric predictive values\n",
    "\n",
    "- Target: Column 11 is a quantitative measure of disease progression one year after baseline\n",
    "\n",
    "- Attribute Information:\n",
    "    - age age in years\n",
    "    - sex\n",
    "    - bmi body mass index\n",
    "    - bp average blood pressure\n",
    "    - s1 tc, total serum cholesterol\n",
    "    - s2 ldl, low-density lipoproteins\n",
    "    - s3 hdl, high-density lipoproteins\n",
    "    - s4 tch, total cholesterol / HDL\n",
    "    - s5 ltg, possibly log of serum triglycerides level\n",
    "    - s6 glu, blood sugar level"
   ]
  },
  {
   "cell_type": "code",
   "execution_count": 2,
   "metadata": {},
   "outputs": [
    {
     "name": "stdout",
     "output_type": "stream",
     "text": [
      "Feature names: ['age', 'sex', 'bmi', 'bp', 's1', 's2', 's3', 's4', 's5', 's6']\n",
      "\n",
      "Head of X:\n",
      " [[ 0.03807591  0.05068012  0.06169621  0.02187239 -0.0442235  -0.03482076\n",
      "  -0.04340085 -0.00259226  0.01990749 -0.01764613]\n",
      " [-0.00188202 -0.04464164 -0.05147406 -0.02632753 -0.00844872 -0.01916334\n",
      "   0.07441156 -0.03949338 -0.06833155 -0.09220405]\n",
      " [ 0.08529891  0.05068012  0.04445121 -0.00567042 -0.04559945 -0.03419447\n",
      "  -0.03235593 -0.00259226  0.00286131 -0.02593034]\n",
      " [-0.08906294 -0.04464164 -0.01159501 -0.03665608  0.01219057  0.02499059\n",
      "  -0.03603757  0.03430886  0.02268774 -0.00936191]\n",
      " [ 0.00538306 -0.04464164 -0.03638469  0.02187239  0.00393485  0.01559614\n",
      "   0.00814208 -0.00259226 -0.03198764 -0.04664087]]\n",
      "\n",
      "Head of y:\n",
      " [151.  75. 141. 206. 135.]\n"
     ]
    }
   ],
   "source": [
    "# split the dataset into its X & y components \n",
    "X = dataset.data\n",
    "y = dataset.target # NOTE: target & label are terms used interchangebly \n",
    "\n",
    "'''\n",
    "NOTE: Since you will usually be given a csv file containing the data for an assignment, you will just have to slice the dataframe\n",
    "      using your numpy/pandas skills into it's features and labels columns. \n",
    "      \n",
    "      Here is an example of this where there is both just one column of features and labels:\n",
    "\n",
    "      dataset = pd.read_csv('provided_dataset.csv')\n",
    "      X = data[['Features Column']]\n",
    "      y = data[['Labels Column']]\n",
    "'''\n",
    "\n",
    "# This step is *exclusive* to the Scikit Learn datasets, getting the feature names \n",
    "print(\"Feature names:\", dataset.feature_names) \n",
    "\n",
    "# displaying the head of the labels & features to get a scope of the data\n",
    "print(f\"\\nHead of X:\\n {X[:5]}\")\n",
    "print(f\"\\nHead of y:\\n\", y[:5]) "
   ]
  },
  {
   "cell_type": "markdown",
   "metadata": {},
   "source": [
    "### Splitting Datasets\n",
    "\n",
    "Before training any model, you have to split the dataset into <b>training</b> and <b>testing</b> portions. The most common split is 70% (training) to 30% (testing). I reccomend you use this ratio unless instructed otherwise. \n",
    "\n",
    "The uses of the split datasets are pretty straightforward- the training data is for training a given model & the testing is used to check the accuracy of the model after training. "
   ]
  },
  {
   "cell_type": "code",
   "execution_count": 3,
   "metadata": {},
   "outputs": [
    {
     "name": "stdout",
     "output_type": "stream",
     "text": [
      "X train shape: (309, 10)\n",
      "X test shape: (133, 10)\n",
      "\n",
      "y train shape: (309,)\n",
      "y test shape: (133,)\n"
     ]
    }
   ],
   "source": [
    "# import the 'train_test_split' function from sklearn\n",
    "from sklearn.model_selection import train_test_split\n",
    "\n",
    "# use the 'train_test_split' function \n",
    "X_train, X_test, y_train, y_test = train_test_split( X, y, test_size = 0.3, random_state = 42) # splitting the the variables X & y so that 30% is testing\n",
    "                                                                                               # this also means the other 70% will be training \n",
    "\n",
    "print(f\"X train shape: {X_train.shape}\")\n",
    "print(f\"X test shape: {X_test.shape}\")\n",
    "\n",
    "print(f\"\\ny train shape: {y_train.shape}\")\n",
    "print(f\"y test shape: {y_test.shape}\")"
   ]
  },
  {
   "cell_type": "markdown",
   "metadata": {},
   "source": [
    "Note how **y** has no number in the column positiion of its shape. This is because **y** is representing the **'labels'** of this dataset. The labels classify each row (an object) with the characteristics of the **features** contained in the **X** variable. "
   ]
  },
  {
   "cell_type": "markdown",
   "metadata": {},
   "source": [
    "For the rest of this example, I am going to use only **one** feature. This will simplify the process of plotting results later. The feature I chose to use is **BMI** (but you can replace the index below with one for another feature if you want to experiment w/ results).\n",
    "\n",
    "In Machine Learning, it is also common to pick & choose columns from a dataset that best represent the relationship you are trying to show/prove. You can even create new columns from the pre-existing data. This is called **feature engineering**. "
   ]
  },
  {
   "cell_type": "code",
   "execution_count": 4,
   "metadata": {},
   "outputs": [
    {
     "name": "stdout",
     "output_type": "stream",
     "text": [
      "X train shape: (309, 1)\n",
      "X test shape: (133, 1)\n",
      "\n",
      "y train shape: (309,)\n",
      "y test shape: (133,)\n"
     ]
    }
   ],
   "source": [
    "import numpy as np\n",
    "\n",
    "X_train = X_train[:, np.newaxis, 2] # Use only one feature \n",
    "X_test = X_test[:, np.newaxis, 2] # Use only one feature \n",
    "\n",
    "print(f\"X train shape: {X_train.shape}\")\n",
    "print(f\"X test shape: {X_test.shape}\")\n",
    "\n",
    "print(f\"\\ny train shape: {y_train.shape}\")\n",
    "print(f\"y test shape: {y_test.shape}\")"
   ]
  },
  {
   "cell_type": "markdown",
   "metadata": {},
   "source": [
    "### Instatinating Algorithims \n",
    "\n",
    "Since the dataset I used for this notebook was curated for regression, I will be using the [**Linear Regression**](https://scikit-learn.org/stable/modules/generated/sklearn.linear_model.LinearRegression.html#sklearn.linear_model.LinearRegression) model for the following example."
   ]
  },
  {
   "cell_type": "code",
   "execution_count": 5,
   "metadata": {},
   "outputs": [],
   "source": [
    "# import the 'LinearRegression' model from sklearn \n",
    "from sklearn.linear_model import LinearRegression"
   ]
  },
  {
   "cell_type": "code",
   "execution_count": 6,
   "metadata": {},
   "outputs": [],
   "source": [
    "# Create the linear regression object\n",
    "linreg = LinearRegression()\n",
    "\n",
    "# Train the model using the training sets\n",
    "linreg.fit(X_train, y_train)\n",
    "\n",
    "# Use the model to make predictions using the testing set\n",
    "y_pred = linreg.predict(X_test)"
   ]
  },
  {
   "cell_type": "markdown",
   "metadata": {},
   "source": [
    "Predictions have been made on the data using the model, so now we can view the linear relationship found!"
   ]
  },
  {
   "cell_type": "code",
   "execution_count": 7,
   "metadata": {},
   "outputs": [
    {
     "data": {
      "text/plain": [
       "[<matplotlib.lines.Line2D at 0x11f02da60>]"
      ]
     },
     "execution_count": 7,
     "metadata": {},
     "output_type": "execute_result"
    },
    {
     "data": {
      "image/png": "[encoded data removed]",
      "text/plain": [
       "<Figure size 640x480 with 1 Axes>"
      ]
     },
     "metadata": {},
     "output_type": "display_data"
    }
   ],
   "source": [
    "import matplotlib.pyplot as plt\n",
    "\n",
    "plt.title(\"BMI\")  # titling plot w/ corresponding name\n",
    "plt.scatter(X_test, y_test, color=\"black\")  # scattering original data\n",
    "plt.plot(X_test, y_pred, color=\"blue\", linewidth=3)  # drawing line with predicted data"
   ]
  },
  {
   "cell_type": "markdown",
   "metadata": {},
   "source": [
    "### Getting Metrics\n",
    "\n",
    "Once you fit a model, it is very important to run metric evaluations on them in order to see how well your model performs. There are a couple different metric tests we will use in this course. If you want to read more about all of the metrics provided to you by sklearn, visit [here](https://scikit-learn.org/stable/modules/model_evaluation.html). \n",
    "\n",
    "Here are some of the most important evaluations we will be using on **regression algorithims**:\n",
    "\n",
    "\n",
    "- **Mean Squared Error (MSE)**: It measures the average of the squares of the errors or deviations, that is, the difference between the estimator and what is estimated. It gives more weight to larger errors. A lower MSE indicates a better fit.\n",
    "\n",
    "- **Root Mean Squared Error (RMSE)**: It is the square root of the MSE. RMSE is in the same unit as the response variable, which makes it easier to interpret. Like MSE, a lower RMSE indicates a better fit.\n",
    "\n",
    "- **R-squared (coefficient of determination)**: It measures the proportion of the variance in the dependent variable that is predictable from the independent variable(s). A higher R-squared value indicates a better fit.\n",
    "\n",
    "\n",
    "and for **classification algorithims**:\n",
    "\n",
    "\n",
    "- **Accuracy**: It measures the proportion of correct predictions out of the total predictions. However, it may not be suitable for imbalanced datasets.\n",
    "\n",
    "- **Precision**: It indicates the proportion of true positive predictions out of all positive predictions made by the model. It is useful when the cost of false positives is high.\n",
    "\n",
    "- **Recall (Sensitivity)**: It measures the proportion of true positive predictions out of all actual positive instances. It is useful when the cost of false negatives is high.\n",
    "\n",
    "- **F1 Score**: It is the harmonic mean of precision and recall, providing a balance between the two metrics. It is suitable for imbalanced datasets.\n",
    "\n",
    "- **Confusion Matrix**: A table that presents the model's predictions against the actual outcomes, showing true positives, true negatives, false positives, and false negatives.\n",
    "\n",
    "\n",
    "(you will learn more about all of these terms in class)!"
   ]
  },
  {
   "cell_type": "code",
   "execution_count": 8,
   "metadata": {},
   "outputs": [
    {
     "name": "stdout",
     "output_type": "stream",
     "text": [
      "RMSE score: 62.32926055201547on a mean value of y: 152.13348416289594\n",
      "Coefficient of determination: 0.28\n"
     ]
    }
   ],
   "source": [
    "# since the model we used for this example is a regression model, lets look at the first 3 evaluation metrics\n",
    "from sklearn.metrics import mean_squared_error, r2_score\n",
    "\n",
    "print(f\"RMSE score: {np.sqrt(mean_squared_error(y_test,y_pred))}on a mean value of y: {y.mean()}\")\n",
    "\n",
    "print(\"Coefficient of determination: %.2f\" % r2_score(y_test, y_pred)) # (a score of 1 indicates perfect prediction)"
   ]
  },
  {
   "cell_type": "markdown",
   "metadata": {},
   "source": [
    "These values can usually reflect what we see displayed on a graph. In this case, we see a large scattering of the original data that has a linear relationship, but is not fit too tightly to it. This is shown in the RMSE & R scores. "
   ]
  }
 ],
 "metadata": {
  "kernelspec": {
   "display_name": "info4000",
   "language": "python",
   "name": "python3"
  },
  "language_info": {
   "codemirror_mode": {
    "name": "ipython",
    "version": 3
   },
   "file_extension": ".py",
   "mimetype": "text/x-python",
   "name": "python",
   "nbconvert_exporter": "python",
   "pygments_lexer": "ipython3",
   "version": "3.9.18"
  }
 },
 "nbformat": 4,
 "nbformat_minor": 2
}
