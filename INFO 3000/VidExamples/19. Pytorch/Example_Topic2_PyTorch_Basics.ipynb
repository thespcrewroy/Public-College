{
 "cells": [
  {
   "cell_type": "markdown",
   "id": "2870f331-eff0-4e05-81c4-2ac470885daa",
   "metadata": {
    "tags": []
   },
   "source": [
    "## In this Regression Example we will look at the basic operations of PyTorch in building a model manually ##\n",
    "\n",
    "The same aplies for classification problems with one or two things being different (like loss function, etc,.)"
   ]
  },
  {
   "cell_type": "markdown",
   "id": "df369376-2c8f-44f2-b2a2-4e17f03c3d39",
   "metadata": {},
   "source": [
    "#### We are going to study the basic PyTorch operations in this notebook in a step-by-step manner as follows:\n",
    "\n",
    "1. We shall generate some random data and create a train and test set using the basic numpy library.\n",
    "\n",
    "2. We will then create a linear regression model using some PyTorch operations but in a very manual way (like you did with the gradient descent exercise).\n",
    "\n",
    "3. Then we will partially automate the model building process using more PyTorch operations.\n",
    "\n",
    "4. Finally, we will build the same model using all PyTorch operations.\n",
    "\n",
    "Through this process you will get a very good a good grasp of the PyTorch basics."
   ]
  },
  {
   "cell_type": "code",
   "execution_count": 1,
   "id": "fe42e46e-0f96-4489-9a31-cf09c189d62b",
   "metadata": {
    "tags": []
   },
   "outputs": [],
   "source": [
    "import numpy as np\n",
    "\n",
    "from matplotlib import pyplot as plt\n",
    "import seaborn as sns"
   ]
  },
  {
   "cell_type": "code",
   "execution_count": 2,
   "id": "8e057a6e-cd1e-450f-9168-0d4cf2caedd3",
   "metadata": {
    "tags": []
   },
   "outputs": [
    {
     "data": {
      "image/png": "[encoded data removed]",
      "text/plain": [
       "<Figure size 640x480 with 1 Axes>"
      ]
     },
     "metadata": {},
     "output_type": "display_data"
    }
   ],
   "source": [
    "# Data Generation\n",
    "np.random.seed(42) # for reproducibility\n",
    "x = np.random.rand(100, 1) # generates 100 random numbers from a uniform distribution between 0 and 1\n",
    "y = 1 + 2 * x + .1 * np.random.randn(100, 1) # actual data generation\n",
    "\n",
    "# Shuffles the indices\n",
    "idx = np.arange(100) # generates an array of indices from 0 to 99\n",
    "np.random.shuffle(idx) # shuffles the indices\n",
    "\n",
    "# Uses first 80 random indices for train\n",
    "train_idx = idx[:80] # selects the first 80 indices\n",
    "# Uses the remaining indices for validation\n",
    "val_idx = idx[80:] # selects the remaining indices\n",
    "\n",
    "# Generates train and validation sets\n",
    "x_train, y_train = x[train_idx], y[train_idx] # selects the x and y values for the train indices\n",
    "x_val, y_val = x[val_idx], y[val_idx] # selects the x and y values for the validation indices\n",
    "plt.scatter(x,y) # plots the data\n",
    "plt.show() # shows the plot"
   ]
  },
  {
   "cell_type": "code",
   "execution_count": 4,
   "id": "5bb4b13e",
   "metadata": {},
   "outputs": [],
   "source": [
    "import torch as torch"
   ]
  },
  {
   "cell_type": "code",
   "execution_count": 5,
   "id": "7dd9fcc8-2114-4314-8ea8-9a6da9c8c6a9",
   "metadata": {
    "tags": []
   },
   "outputs": [
    {
     "name": "stdout",
     "output_type": "stream",
     "text": [
      "Original data type:<class 'numpy.ndarray'>\n",
      "Array converted to tensor:<class 'torch.Tensor'>\n",
      "Including type and location of data:torch.FloatTensor\n"
     ]
    }
   ],
   "source": [
    "# We want to take advantage of Nvidia's GPU processing if a Nvidia GPU is available on the machine\n",
    "device = 'cuda' if torch.cuda.is_available() else 'cpu' # checks if a GPU is available\n",
    "\n",
    "# Our data was in Numpy arrays, but we need to transform them into PyTorch's Tensors\n",
    "# and then we send them to the chosen device\n",
    "x_train_tensor = torch.from_numpy(x_train).float().to(device) # converts the numpy array to a tensor and sends it to the GPU core\n",
    "y_train_tensor = torch.from_numpy(y_train).float().to(device) # converts the numpy array to a tensor and sends it to the GPU core\n",
    "\n",
    "# Here we can see the difference - notice that .type() is more useful\n",
    "# since it also tells us WHERE the tensor is (device)\n",
    "# torch.FloatTensor — a CPU tensor in this case.\n",
    "# else, torch.cuda.FloatTensor — a GPU tensor.\n",
    "\n",
    "print(f\"Original data type:{type(x_train)}\\nArray converted to tensor:{type(x_train_tensor)}\\nIncluding type and location of data:{x_train_tensor.type()}\") # prints the type of the original data, the type of the tensor, and the type and location of the tensor"
   ]
  },
  {
   "cell_type": "code",
   "execution_count": 6,
   "id": "5687ef7f-dfc9-4bf0-a08d-1937b5501890",
   "metadata": {
    "tags": []
   },
   "outputs": [
    {
     "name": "stdout",
     "output_type": "stream",
     "text": [
      "The random initial values of weights:(tensor([-0.1097], requires_grad=True), tensor([-0.6008], requires_grad=True))\n",
      "\n",
      "\n",
      "Values and shape of our parameters w0 and w1:\n",
      "(tensor([0.3367], requires_grad=True), tensor([0.1288], requires_grad=True), torch.Size([1]), torch.Size([1]))\n"
     ]
    }
   ],
   "source": [
    "# FIRST METHOD\n",
    "# Initializes parameters \"w0\" and \"w1\" randomly, ALMOST as we did in Numpy\n",
    "# w0 and w1 are the weights which are the same as theta0 and theta1 that we are familiar with. \n",
    "# Since we want to apply gradient descent on these parameters, we need to set REQUIRES_GRAD = TRUE\n",
    "w0 = torch.randn(1, requires_grad=True, dtype=torch.float) # initializes w0 with a random value\n",
    "w1 = torch.randn(1, requires_grad=True, dtype=torch.float) # initializes w1 with a random value\n",
    "print(f\"The random initial values of weights:{w0,w1}\\n\") # prints the random initial values of the weights\n",
    "\n",
    "# SECOND METHOD\n",
    "# But what if we want to run it on a GPU? We could just send them to device, right?\n",
    "# We can create regular tensors and send them to the device (as we did with our data)\n",
    "w0 = torch.randn(1, dtype=torch.float).to(device) # initializes w0 with a random value and sends it to the GPU\n",
    "w1 = torch.randn(1, dtype=torch.float).to(device) # initializes w1 with a random value and sends it to the GPU\n",
    "\n",
    "# and THEN set them as requiring gradients...\n",
    "w0.requires_grad_() # sets w0 as requiring gradients\n",
    "w1.requires_grad_() # sets w1 as requiring gradients\n",
    "\n",
    "# THIRD METHOD\n",
    "# The best method is to send to device when the parameters are being created\n",
    "# We can specify the device at the moment of creation - RECOMMENDED!\n",
    "torch.manual_seed(42) # for reproducibility\n",
    "w0 = torch.randn(1, requires_grad=True, dtype=torch.float, device=device) # initializes w0 with a random value and sends it to the GPU\n",
    "w1 = torch.randn(1, requires_grad=True, dtype=torch.float, device=device) # initializes w1 with a random value and sends it to the GPU\n",
    "print(f\"\\nValues and shape of our parameters w0 and w1:\\n{w0,w1,w0.shape,w1.shape}\") # prints the values and shapes of the parameters"
   ]
  },
  {
   "cell_type": "code",
   "execution_count": 7,
   "id": "64299688-4bbb-4361-ab01-892dfb80a3d2",
   "metadata": {
    "tags": []
   },
   "outputs": [
    {
     "name": "stdout",
     "output_type": "stream",
     "text": [
      "tensor([1.0235], requires_grad=True) tensor([1.9690], requires_grad=True)\n"
     ]
    }
   ],
   "source": [
    "# Now we are ready and so let us do the gradient descent and compute the parameter values\n",
    "\n",
    "lr = 1e-1 # sets the learning rate\n",
    "n_epochs = 1000 # sets the number of epochs\n",
    "\n",
    "\n",
    "w0 = torch.randn(1, requires_grad=True, dtype=torch.float, device=device) # initializes w0 with a random value and sends it to the GPU\n",
    "w1 = torch.randn(1, requires_grad=True, dtype=torch.float, device=device) # initializes w1 with a random value and sends it to the GPU\n",
    "\n",
    "for epoch in range(n_epochs): # iterates over the number of epochs\n",
    "    yhat = w0 + w1 * x_train_tensor # computes the predicted values\n",
    "    error = y_train_tensor - yhat # computes the error\n",
    "    loss = (error ** 2).mean() # computes the loss\n",
    "\n",
    "    # No more manual computation of gradients! \n",
    "    # We just tell PyTorch to work its way BACKWARDS from the specified loss!\n",
    "    loss.backward() # computes the gradients\n",
    "    \n",
    "    # What about UPDATING the parameters? Not so fast...      \n",
    "    \n",
    "    # We need to use NO_GRAD to keep the update out of the gradient computation\n",
    "    # Why is that? It boils down to the DYNAMIC GRAPH that PyTorch uses...explanation in next cell\n",
    "    # It allows us to perform regular Python operations on tensors, independent of PyTorch’s computation graph.\n",
    "    \n",
    "    with torch.no_grad(): # tells PyTorch to not compute the gradients\n",
    "        w0 -= lr * w0.grad # updates w0\n",
    "        w1 -= lr * w1.grad # updates w1\n",
    "    \n",
    "    # PyTorch is \"clingy\" to its computed gradients, we need to tell it to let it go...\n",
    "    w0.grad.zero_() # zeros the gradients\n",
    "    w1.grad.zero_() # zeros the gradients\n",
    "    \n",
    "print(w0,w1) # prints the final values of the parameters"
   ]
  },
  {
   "cell_type": "markdown",
   "id": "916db4b6-c928-443a-8c37-faae3c9f0485",
   "metadata": {
    "tags": []
   },
   "source": [
    "## Optimizer ##\n",
    "* So far, we've been manually updating the parametrs using the computed gradients.\n",
    "* That's probably fine for two parameters, but what if we had a while lot of them?\n",
    "* We use one of PyTorch's optimizers, like SGD or Adam but there are many more.\n",
    "* An optimizer takes the parameters we want to update, the learning rate we want to use (and possible many other hyper-parameters as well!) and performs the updates through its step() method.\n",
    "* Beisdes, we also don't need to zero the gradients one by one anymore. We just invoke the optimizer's zero grad() method and that's it!\n",
    "* If we use all training data at once for the update, as we are doing in the example code, the optimizer is perroming a batch gradient descent, despite of its name"
   ]
  },
  {
   "cell_type": "code",
   "execution_count": 8,
   "id": "b1a1c882-a261-4df9-b605-61e6fee3e329",
   "metadata": {
    "tags": []
   },
   "outputs": [
    {
     "name": "stdout",
     "output_type": "stream",
     "text": [
      "tensor([1.0235], requires_grad=True) tensor([1.9690], requires_grad=True)\n"
     ]
    }
   ],
   "source": [
    "# Defines a SGD optimizer to update the parameters (eliminates the need for manual updates)\n",
    "\n",
    "import torch.optim as optim # imports the optimizer\n",
    "#from torch.optim import SGD\n",
    "\n",
    "optimizer = optim.SGD([w0, w1], lr=lr) # initializes the optimizer\n",
    "\n",
    "for epoch in range(n_epochs): # iterates over the number of epochs\n",
    "    yhat = w0 + w1 * x_train_tensor # computes the predicted values\n",
    "    error = y_train_tensor - yhat # computes the error\n",
    "    loss = (error ** 2).mean() # computes the loss\n",
    "\n",
    "    loss.backward() # computes the gradients using backpropagation\n",
    "    \n",
    "    optimizer.step() # updates the parameters\n",
    "    \n",
    "    # No more telling PyTorch to let gradients go!\n",
    "    # w0.grad.zero_()\n",
    "    # w1.grad.zero_()\n",
    "    optimizer.zero_grad() # zeros the gradients\n",
    "    \n",
    "print(w0, w1) # prints the final values of the parameters"
   ]
  },
  {
   "cell_type": "markdown",
   "id": "d7c0c76a-066a-48db-926c-39cb1ff2680f",
   "metadata": {
    "tags": []
   },
   "source": [
    "## Loss function implementation ##"
   ]
  },
  {
   "cell_type": "code",
   "execution_count": 10,
   "id": "8da01164-fe2a-4493-a7f4-c65b3d7797fa",
   "metadata": {
    "tags": []
   },
   "outputs": [
    {
     "name": "stdout",
     "output_type": "stream",
     "text": [
      "tensor([1.0235], requires_grad=True) tensor([1.9690], requires_grad=True)\n"
     ]
    }
   ],
   "source": [
    "# Loss function implementation and loss computation (eliminates the need for manual loss computation)\n",
    "\n",
    "import torch.nn as nn # imports the neural network module\n",
    "\n",
    "# Inititlaize parameters again\n",
    "w0 = torch.randn(1, requires_grad=True, dtype=torch.float, device=device) # initializes w0 with a random value and sends it to the GPU\n",
    "w1 = torch.randn(1, requires_grad=True, dtype=torch.float, device=device) # initializes w1 with a random value and sends it to the GPU\n",
    "\n",
    "lr = 1e-1 # sets the learning rate\n",
    "n_epochs = 1000 # sets the number of epochs\n",
    "\n",
    "# Defines a MSE loss function\n",
    "loss_fn = nn.MSELoss(reduction='mean') # initializes the loss function\n",
    "\n",
    "optimizer = optim.SGD([w0,w1], lr=lr) # initializes the optimizer\n",
    "\n",
    "for epoch in range(n_epochs): # iterates over the number of epochs\n",
    "    yhat = w0 + w1 * x_train_tensor # computes the predicted values\n",
    "    \n",
    "    # No more manual loss!\n",
    "    # error = y_tensor - yhat\n",
    "    # loss = (error ** 2).mean()\n",
    "    loss = loss_fn(y_train_tensor, yhat) # computes the loss\n",
    "\n",
    "    loss.backward() # computes the gradients using backpropagation\n",
    "    optimizer.step() # updates the parameters\n",
    "    optimizer.zero_grad() # zeros the gradients\n",
    "    \n",
    "print(w0,w1) # prints the final values of the parameters"
   ]
  },
  {
   "cell_type": "markdown",
   "id": "24527f4d-08c9-4f20-81c3-16efe36d4d04",
   "metadata": {
    "tags": []
   },
   "source": [
    "## Creating a Model ##\n",
    "\n",
    "* In PyTorch, a model is represented by  aregular Python class that inherits from the Module class\n",
    "* The most fundamental methods it needs to implement are: __init__(self): it defines the parts that make up the model (wo, w1)\n",
    "* You are not limited to defining parameters, models can contain other models (or layers) as its attributes as well, you can easily nest them\n",
    "* forward(self, x): performs the actual computation, where it outputs a prediction given the input x\n",
    "* Do NOT call the forward(x) method, rather, call the whole model itself with model(x) to perform a forward pass and output predictions\n",
    "* As an example, let us build a proper model for our regression task as a Class.\n",
    "* The __init_ method defines our two params, wo and w1, using the Parameter() class, to tell PyTorch these tensors should be considered parameters of the model they are an attribute of\n",
    "* By doing so, we can use our model's parameters() method ot retreive an interator over all model's parameters, even those  parameters of nested models, that we can use to feed our optimizer instead of building a list of parameters ourselves\n",
    "* Moreover, we can get teh current values for all paramters using our model's state_dict() method\n"
   ]
  },
  {
   "cell_type": "code",
   "execution_count": 11,
   "id": "83557d85-44c5-4772-9948-eddbdb1804fa",
   "metadata": {
    "tags": []
   },
   "outputs": [],
   "source": [
    "# How about simplifying everything by creating a model as a class\n",
    "# We can inherit the parent class from PyTorch module call nn for neural networks\n",
    "\n",
    "class ManualLinearRegression(nn.Module): # creates a class for the model\n",
    "    def __init__(self): # initializes the class\n",
    "        super().__init__() # initializes the parent class\n",
    "        # To make \"a\" and \"b\" real parameters of the model, we need to wrap them with nn.Parameter\n",
    "        self.w0 = nn.Parameter(torch.randn(1, requires_grad=True, dtype=torch.float)) # initializes w0 with a random value\n",
    "        self.w1 = nn.Parameter(torch.randn(1, requires_grad=True, dtype=torch.float)) # initializes w1 with a random values\n",
    "        \n",
    "    def forward(self, x): # defines the forward pass\n",
    "        # Computes the outputs / predictions\n",
    "        return self.w0 + self.w1 * x # returns the predicted values"
   ]
  },
  {
   "cell_type": "code",
   "execution_count": 12,
   "id": "e436eebb-7f89-4dac-a2b8-abe662cc2549",
   "metadata": {
    "tags": []
   },
   "outputs": [
    {
     "name": "stdout",
     "output_type": "stream",
     "text": [
      "Parameters or weights of our model before training:\n",
      "OrderedDict([('w0', tensor([2.2082])), ('w1', tensor([-0.6380]))])\n",
      "\n",
      "Parameters or weights of our model after training:\n",
      "OrderedDict([('w0', tensor([1.0533])), ('w1', tensor([1.9107]))])\n"
     ]
    }
   ],
   "source": [
    "# Now we can create a model object and send it at once to the device\n",
    "model = ManualLinearRegression().to(device) # instantiates the model (class) and sends it to the GPU\n",
    "\n",
    "# We can also inspect its parameters or weights using its state_dict method\n",
    "print(f\"Parameters or weights of our model before training:\\n{model.state_dict()}\") # prints the initial values of the parameters\n",
    "\n",
    "# Set learning rate and number of epochs\n",
    "lr = 1e-3 # sets the learning rate for the model\n",
    "n_epochs = 25000 # sets the number of epochs for the model\n",
    "\n",
    "loss_fn = nn.MSELoss(reduction='mean') # initializes the loss function\n",
    "optimizer = optim.SGD(model.parameters(), lr=lr) # initializes the optimizer\n",
    "\n",
    "for epoch in range(n_epochs): # build the training loop by iterating over the number of epochs\n",
    "    \n",
    "    model.train() # sets the model to training mode\n",
    "    # What is this?!?\n",
    "    # In PyTorch, models have a train() method which, \n",
    "    # does NOT perform a training step. Its only purpose is to set the model to training mode. \n",
    "    # When set in training mode it does gradient descent on any values which \"require grad\" during backpropogation\n",
    "    \n",
    "\n",
    "    # No more manual prediction! (yhat = a + b * x_tensor)\n",
    "    # We use the model to predict\n",
    "    yhat = model(x_train_tensor) # computes the predicted values\n",
    "    \n",
    "    # Compute loss using loss function\n",
    "    loss = loss_fn(y_train_tensor, yhat) # computes the loss\n",
    "    \n",
    "    # Back propogate with backward()\n",
    "    loss.backward() # computes the gradients using backpropagation\n",
    "    optimizer.step() # updates the parameters\n",
    "    optimizer.zero_grad() # zeros the gradients\n",
    "    \n",
    "print(f\"\\nParameters or weights of our model after training:\\n{model.state_dict()}\") # prints the final values of the parameters"
   ]
  },
  {
   "cell_type": "markdown",
   "id": "11dd5221-b83b-41bd-b60b-37030e896262",
   "metadata": {
    "tags": []
   },
   "source": [
    "## Complete Model using all PyTorch classes, functions and operators ##\n",
    "* In our model, we manually created two parameters to perform a linear regression\n",
    "* Let's use PyTorch's Linear model as an attribute of our own, thus creating a nested model\n",
    "* In the __init__ method, we created an attribute that contains ournested Linear model\n",
    "* In the forward() method, we call the nested model itself to perform the forward pass (notice, we are not calling self.linear.forward(x)!)\n",
    "* Our model is simple, and you may be thinking: \"why even bother to build a class for it?!\"\n",
    "* For straightforward models, that use run-of-the-mill layers, where the output of a layer is sequentially fed as an input to the next, we can use a, Sequential model: >> model = nn.Sequential(nn.Linear(1, 1)).to(device)"
   ]
  },
  {
   "cell_type": "code",
   "execution_count": 10,
   "id": "503201c9",
   "metadata": {
    "tags": []
   },
   "outputs": [],
   "source": [
    "# Finally - Everything with PyTorch classes, functions and operators\n",
    "\n",
    "class LayerLinearRegression(nn.Module): # creates a class for the model\n",
    "    def __init__(self): # initializes the class\n",
    "        super().__init__() # initializes the parent class\n",
    "        self.linear = nn.Linear(1, 1) # Instead of our custom parameters, we use a Linear layer with single input and single output\n",
    "                \n",
    "    def forward(self, x): # defines the forward pass\n",
    "        x = self.Linear(x) # Now it only takes a call to the layer to make predictions\n",
    "        return x # returns the predicted values"
   ]
  },
  {
   "cell_type": "markdown",
   "id": "5af1e6ca-07af-45c8-8e08-cfb5c1f9d478",
   "metadata": {
    "tags": []
   },
   "source": [
    "## What Next? ##\n",
    "* We have defined an **optimizer**, a **loss function**, and a **model**\n",
    "* Would it **change** if we were using a **different optimizer**, or **loss**, or even **model**? If yes, how can we make it **more generic**?\n",
    "* All these lines of code **perform a training step**, given those **three elements** (optimizer, loss, and model), the **features** and **labels**\n",
    "* How about we, in our example code, **write a function that takes those three elements** and **returns another function that performs a training step**"
   ]
  },
  {
   "cell_type": "code",
   "execution_count": 12,
   "id": "61bc000a-8609-4cd9-8652-15a8045877f6",
   "metadata": {
    "tags": []
   },
   "outputs": [],
   "source": [
    "# Train step\n",
    "\n",
    "def make_train_step(model, loss_fn, optimizer): # creates a function that performs one step in the train loop\n",
    "    \n",
    "    # Builds function that performs one step in the train loop\n",
    "    def train_step(x, y):\n",
    "        \n",
    "        model.train() # Sets model to TRAIN mode\n",
    "        yhat = model(x) # Makes predictions\n",
    "        loss = loss_fn(y, yhat) # Computes loss\n",
    "        loss.backward() # Computes gradients\n",
    "        optimizer.step() # Updates parameters and zeroes gradients\n",
    "        optimizer.zero_grad() # Zeros gradients\n",
    "        return loss.item() # Returns the loss\n",
    "    \n",
    "    return train_step # Returns the function that will be called inside the train loop\n"
   ]
  },
  {
   "cell_type": "code",
   "execution_count": 13,
   "id": "34ecaf59-3c36-44a7-85ef-cf1db51046c8",
   "metadata": {
    "tags": []
   },
   "outputs": [
    {
     "name": "stdout",
     "output_type": "stream",
     "text": [
      "Final optimal parameters or eweights of our model:\n",
      "OrderedDict([('w0', tensor([1.0243])), ('w1', tensor([1.9675]))])\n"
     ]
    }
   ],
   "source": [
    "train_step = make_train_step(model, loss_fn, optimizer) # Creates the train_step function for our model, loss function and optimizer\n",
    "\n",
    "losses = [] # A list to store losses per rpoch\n",
    "\n",
    "for epoch in range(n_epochs): # For each epoch...\n",
    "    loss = train_step(x_train_tensor, y_train_tensor) # Performs one train step and returns the corresponding loss\n",
    "    losses.append(loss) # Appends the loss to the list of losses\n",
    "    \n",
    "print(f\"Final optimal parameters or eweights of our model:\\n{model.state_dict()}\") # Checks model's parameters"
   ]
  },
  {
   "cell_type": "markdown",
   "id": "3e6d64e1-a6e8-4fdd-97c0-d5c4f34d32a1",
   "metadata": {
    "tags": []
   },
   "source": [
    "### Line of Regression"
   ]
  },
  {
   "cell_type": "code",
   "execution_count": 14,
   "id": "6921751a-2b11-4201-81c3-755f6729707b",
   "metadata": {
    "tags": []
   },
   "outputs": [
    {
     "data": {
      "image/png": "[encoded data removed]",
      "text/plain": [
       "<Figure size 640x480 with 1 Axes>"
      ]
     },
     "metadata": {},
     "output_type": "display_data"
    }
   ],
   "source": [
    "# Plot line of regression\n",
    "# Remember that we never converted 'x' to a tensor (we only converted x_train to a tensor) and so we need to.\n",
    "# To plot using matplotlib we need to make them np arrays again using the \"detach\" function\n",
    "\n",
    "prediction_on_x = model(torch.from_numpy(x).float().to(device)) # computes the predicted values\n",
    "\n",
    "plt.scatter(x,y) # plots the data\n",
    "plt.plot(x,prediction_on_x.detach().numpy(),c='r') # plots the regression line\n",
    "plt.show() # shows the plot"
   ]
  },
  {
   "cell_type": "markdown",
   "id": "65772fb9-72dd-4dc3-a9ca-15d5fc8d04c9",
   "metadata": {
    "tags": []
   },
   "source": [
    "### Loss curve"
   ]
  },
  {
   "cell_type": "code",
   "execution_count": 15,
   "id": "1f87c208-1954-4245-b678-3fd57c10def0",
   "metadata": {
    "tags": []
   },
   "outputs": [
    {
     "data": {
      "image/png": "[encoded data removed]",
      "text/plain": [
       "<Figure size 640x480 with 1 Axes>"
      ]
     },
     "metadata": {},
     "output_type": "display_data"
    }
   ],
   "source": [
    "plt.plot(losses) # plots the losses\n",
    "plt.xlabel('Epochs') # labels the x-axis\n",
    "plt.ylabel('Loss') # labels the y-axis\n",
    "plt.title('Loss versus Epochs Curve') # titles the plot\n",
    "plt.show() # shows the plot"
   ]
  },
  {
   "cell_type": "code",
   "execution_count": null,
   "id": "40f94ac0-3996-4ed3-8cea-e97f58a5d6ea",
   "metadata": {},
   "outputs": [],
   "source": []
  }
 ],
 "metadata": {
  "kernelspec": {
   "display_name": "info2000",
   "language": "python",
   "name": "python3"
  },
  "language_info": {
   "codemirror_mode": {
    "name": "ipython",
    "version": 3
   },
   "file_extension": ".py",
   "mimetype": "text/x-python",
   "name": "python",
   "nbconvert_exporter": "python",
   "pygments_lexer": "ipython3",
   "version": "3.10.13"
  }
 },
 "nbformat": 4,
 "nbformat_minor": 5
}
