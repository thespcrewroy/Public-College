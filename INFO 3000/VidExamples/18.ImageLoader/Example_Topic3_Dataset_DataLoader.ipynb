{
 "cells": [
  {
   "cell_type": "markdown",
   "id": "7db59fcc-eeef-47d8-9253-618cd700fba8",
   "metadata": {},
   "source": [
    "### Data handling in PyTorch with Dataset and Dataloader classes ###"
   ]
  },
  {
   "cell_type": "code",
   "execution_count": 1,
   "id": "e07ea193-6172-4cf2-becd-73b06f0912a9",
   "metadata": {
    "tags": []
   },
   "outputs": [],
   "source": [
    "import numpy as np\n",
    "from matplotlib import pyplot as plt"
   ]
  },
  {
   "cell_type": "code",
   "execution_count": 2,
   "id": "198eb5e3-3fc7-4a44-a6ef-4a7edd21be3e",
   "metadata": {
    "tags": []
   },
   "outputs": [
    {
     "data": {
      "image/png": "[encoded data removed]",
      "text/plain": [
       "<Figure size 640x480 with 1 Axes>"
      ]
     },
     "metadata": {},
     "output_type": "display_data"
    }
   ],
   "source": [
    "# Data Generation x and y\n",
    "\n",
    "np.random.seed(42) # For reproducibility\n",
    "\n",
    "x = np.random.rand(100, 1) # 100 random numbers between 0 and 1\n",
    "y = 1 + 2 * x + .1 * np.random.randn(100, 1) # y = 1 + 2x + noise\n",
    "\n",
    "plt.scatter(x,y) # Scatter plot of x and y\n",
    "plt.show() # Show the plot"
   ]
  },
  {
   "cell_type": "code",
   "execution_count": 3,
   "id": "55ef88ef-ed25-46ed-9644-1b17e8044eef",
   "metadata": {
    "tags": []
   },
   "outputs": [],
   "source": [
    "# import required modules to use pyTorch\n",
    "\n",
    "import torch # PyTorch\n",
    "import torch.optim as optim # Optimizer\n",
    "import torch.nn as nn # Neural Network"
   ]
  },
  {
   "cell_type": "code",
   "execution_count": 4,
   "id": "bbc5c94e-eb3e-421d-8c13-dedcb8417a1e",
   "metadata": {
    "tags": []
   },
   "outputs": [],
   "source": [
    "device = 'cuda' if torch.cuda.is_available() else 'cpu' # Send data and model to GPU or CPU"
   ]
  },
  {
   "cell_type": "code",
   "execution_count": 5,
   "id": "f0c6bfb9-3e5c-4361-a4a4-c632ba051c04",
   "metadata": {
    "tags": []
   },
   "outputs": [
    {
     "data": {
      "text/plain": [
       "<torch._C.Generator at 0x122f65e50>"
      ]
     },
     "execution_count": 5,
     "metadata": {},
     "output_type": "execute_result"
    }
   ],
   "source": [
    "torch.manual_seed(42) # For reproducibility"
   ]
  },
  {
   "cell_type": "code",
   "execution_count": 13,
   "id": "85d00b8c-23cb-45cc-8e61-539edaa7ff77",
   "metadata": {
    "tags": []
   },
   "outputs": [],
   "source": [
    "# Create the Model Class\n",
    "\n",
    "class LayerLinearRegression(nn.Module): # Inherit from nn.Module\n",
    "    def __init__(self): # Constructor\n",
    "        super().__init__() # Call the parent constructor\n",
    "        self.linear = nn.Linear(1, 1) # Instead of custom parameters, we use Linear layer with single input and output\n",
    "                \n",
    "    def forward(self, x): # Forward pass\n",
    "        x = self.linear(x) # Now it only takes a call to the layer to make predictions\n",
    "        return x # Return the prediction"
   ]
  },
  {
   "cell_type": "markdown",
   "id": "3aba6092-9bd3-47de-8c28-c1a3931210e7",
   "metadata": {
    "tags": []
   },
   "source": [
    "#### Dataset and reading in the dataset ####\n",
    "\n",
    "In PyTorch, a dataset is represented by a regular Python class that inherits from the Dataset class.<br> \n",
    "When called, the Dataset class sends a Python tuple consisting of one datapoint (feature, lanel) ,<br><br>\n",
    "The most fundamental methods it needs to implement are:\n",
    "\n",
    "    __init__(self) : it takes whatever arguments needed to build a list of tuples — it may be the name of a CSV file that will be loaded and processed; it may be two tensors, one for features, another one for labels; or anything else, depending on the task at hand. \n",
    "\n",
    "There is no need to load the whole dataset in the constructor method (__init__). If your dataset is big (tens of thousands of image files, for instance), loading it at once would not be memory efficient. It is recommended to load them on demand (whenever __get_item__ is called):\n",
    "\n",
    "    __get_item__(self, index): it allows the dataset to be indexed, so it can work like a list (dataset[i]) — it must return a tuple (features, label) corresponding to the requested data point. We can either return the corresponding slices of our pre-loaded dataset or tensors or, as mentioned above, load them on demand (like in this example).\n",
    "    \n",
    "    __len__(self): it should simply return the size of the whole dataset so, whenever it is sampled, its indexing is limited to the actual size."
   ]
  },
  {
   "cell_type": "code",
   "execution_count": 6,
   "id": "7148d38c-2aa9-4bc2-9646-f097bbb9b703",
   "metadata": {
    "tags": []
   },
   "outputs": [],
   "source": [
    "# We use the PyTorch Dataset Class to construct a customized class for data retrieval\n",
    "# It should return to us a single datapoint tuple as a torch tensor\n",
    "\n",
    "from torch.utils.data import Dataset # Dataset class\n",
    "\n",
    "class CustomDataset(Dataset): # Inherit from Dataset\n",
    "    def __init__(self, x_tensor, y_tensor): # Constructor\n",
    "        self.x = x_tensor # Store the data\n",
    "        self.y = y_tensor # Store the data\n",
    "\n",
    "    def __len__(self): # Length of the dataset\n",
    "        return len(self.x) # Return the length of the data\n",
    "    \n",
    "    def __getitem__(self, index): # Get a single item\n",
    "        x = self.x[index] # Get the x value\n",
    "        y = self.y[index] # Get the y value\n",
    "        return (torch.from_numpy(x).float(),torch.from_numpy(y).float()) # Return the data as torch tensor\n"
   ]
  },
  {
   "cell_type": "code",
   "execution_count": 12,
   "id": "c8aacb81-826f-416d-9852-89a5f49dbcb6",
   "metadata": {
    "tags": []
   },
   "outputs": [
    {
     "name": "stdout",
     "output_type": "stream",
     "text": [
      "Length of the dataset is:100\n",
      "\n",
      "The data point tuple is:(tensor([0.3745]), tensor([1.7578]))\n",
      "\n",
      " ITWORKS!!!\n"
     ]
    }
   ],
   "source": [
    "# Let us test the methods in the above class to make sure it gives us what we need\n",
    "\n",
    "# Instantiate an object of the dataset class\n",
    "dataset = CustomDataset(x, y)\n",
    "\n",
    "# Let us see if it provides us the length of the dataset\n",
    "print(f\"Length of the dataset is:{dataset.__len__()}\")\n",
    "\n",
    "# Let us see if it returns a single data point when called with an index number\n",
    "print(f\"\\nThe data point tuple is:{dataset.__getitem__(0)}\")\n",
    "\n",
    "print('\\n',\"ITWORKS!!!\")"
   ]
  },
  {
   "cell_type": "code",
   "execution_count": 7,
   "id": "e70302ec-f439-4810-a951-f57690fee97a",
   "metadata": {
    "tags": []
   },
   "outputs": [],
   "source": [
    "# Import Dataloader \n",
    "from torch.utils.data import DataLoader # Dataloader\n",
    "from sklearn.model_selection import train_test_split # Useful for large datasets"
   ]
  },
  {
   "cell_type": "code",
   "execution_count": 8,
   "id": "b3b867f3-45f0-439d-b12a-54bf5a9b77e2",
   "metadata": {
    "tags": []
   },
   "outputs": [],
   "source": [
    "X_train,X_test,y_train,y_test = train_test_split(x,y,test_size=0.2) # Split data into train and test"
   ]
  },
  {
   "cell_type": "code",
   "execution_count": 9,
   "id": "e3f08660-671e-4cd5-ab68-ed8c8c06ee82",
   "metadata": {
    "tags": []
   },
   "outputs": [],
   "source": [
    "# Create train and test Dataset Class objects\n",
    "\n",
    "train_dataset = CustomDataset(X_train,y_train) # Train dataset\n",
    "test_dataset = CustomDataset(X_test,y_test) # Test dataset\n",
    "\n",
    "# Use the PyTorch Dataloader function to dataset object in mini batch sizes\n",
    "train_loader = DataLoader(dataset=train_dataset, batch_size=16) # Batch size of 16\n",
    "test_loader = DataLoader(dataset=test_dataset, batch_size=20) # Batch size of 20"
   ]
  },
  {
   "cell_type": "code",
   "execution_count": 10,
   "id": "b3096f9e-a9af-4eb5-9843-2f92e397e3e6",
   "metadata": {
    "tags": []
   },
   "outputs": [],
   "source": [
    "# Function defining a basic single Train step \n",
    "\n",
    "def make_train_step(model, loss_fn, optimizer): # Function that returns a function\n",
    "    def train_step(x, y): # Builds function that performs a step in the train loop\n",
    "\n",
    "        model.train() # Sets model to TRAIN mode\n",
    "        yhat = model(x) # Makes predictions\n",
    "        loss = loss_fn(y, yhat) # Computes loss\n",
    "        loss.backward() # Computes gradients\n",
    "        optimizer.step() # Updates parameters\n",
    "        optimizer.zero_grad() # Zero the gradients\n",
    "        return loss.item() # Returns the loss\n",
    "    \n",
    "    return train_step # Returns the function that will be called inside the train loop"
   ]
  },
  {
   "cell_type": "code",
   "execution_count": 14,
   "id": "39305885-a37c-4f2c-a360-392b4a321aff",
   "metadata": {
    "tags": []
   },
   "outputs": [
    {
     "name": "stdout",
     "output_type": "stream",
     "text": [
      "Initial parameters w0 and w1:\n",
      "OrderedDict([('linear.weight', tensor([[0.7645]])), ('linear.bias', tensor([0.8300]))])\n"
     ]
    }
   ],
   "source": [
    "# Now we can create a object of the model and send it at once to the device\n",
    "# Make this a standard practice even if using only CPU\n",
    "\n",
    "model = LayerLinearRegression().to(device) # Send model to device CPU or GPU\n",
    "print(f\"Initial parameters w0 and w1:\\n{model.state_dict()}\") # We can also inspect its parameters using its state_dict\n",
    "\n",
    "# Initialize learning rate and number of epochs\n",
    "lr = 1e-1 # Learning rate\n",
    "n_epochs = 1000 # Number of epochs\n",
    "\n",
    "# Instantiate the loss function objectthe optimizer\n",
    "loss_fn = nn.MSELoss(reduction='mean') # Loss function\n",
    "\n",
    "# Instantiate the optimizer by feed it the parameters to be optimized and the learning rate\n",
    "optimizer = optim.SGD(model.parameters(), lr=lr) # Optimizer"
   ]
  },
  {
   "cell_type": "code",
   "execution_count": 15,
   "id": "ea8e384b-b07d-406f-a831-602aa8f06c86",
   "metadata": {
    "tags": []
   },
   "outputs": [
    {
     "name": "stdout",
     "output_type": "stream",
     "text": [
      " Final Model Parameters Values of w0 and w1:OrderedDict([('linear.weight', tensor([[1.9536]])), ('linear.bias', tensor([1.0057]))])\n"
     ]
    }
   ],
   "source": [
    "# Start the model training process by calling the training function n-epochs number of times\n",
    "# Create containers for holding the parameters we need for plotting\n",
    "# Include evaluation requirements\n",
    "\n",
    "losses = [] # Training losses\n",
    "val_losses = [] # Validation losses\n",
    "\n",
    "train_step = make_train_step(model, loss_fn, optimizer) # Create the train step function\n",
    "\n",
    "for epoch in range(n_epochs): # Loop over the dataset multiple times\n",
    "    for x_batch, y_batch in train_loader: # Loop over the mini-batches\n",
    "        x_batch = x_batch.to(device) # Send data to device\n",
    "        y_batch = y_batch.to(device) # Send data to device\n",
    "\n",
    "        loss = train_step(x_batch, y_batch) # Perform a training step\n",
    "        losses.append(loss) # Record the loss\n",
    "        \n",
    "    # Put the model in eval mode to output its predictions on the validation data\n",
    "    # Notice we also tell the model that gradient descent is not required in this step\n",
    "    with torch.no_grad(): # No gradient descent\n",
    "        for x_val, y_val in test_loader: # Loop over the mini-batches\n",
    "            x_val = x_val.to(device) # Send data to device\n",
    "            y_val = y_val.to(device) # Send data to device\n",
    "            \n",
    "            model.eval() # Set model to EVAL mode\n",
    "\n",
    "            yhat = model(x_val) # Make predictions\n",
    "            val_loss = loss_fn(y_val, yhat) # Compute the loss\n",
    "            val_losses.append(val_loss.item()) # Record the loss\n",
    "\n",
    "parameters = model.state_dict() # Get the final parameters of the model\n",
    "print(f\" Final Model Parameters Values of w0 and w1:{model.state_dict()}\") # Print the final parameters"
   ]
  },
  {
   "cell_type": "code",
   "execution_count": 16,
   "id": "a9423bdc-c570-4d45-9ce8-d8215c23f1c8",
   "metadata": {
    "tags": []
   },
   "outputs": [
    {
     "data": {
      "image/png": "[encoded data removed]",
      "text/plain": [
       "<Figure size 640x480 with 1 Axes>"
      ]
     },
     "metadata": {},
     "output_type": "display_data"
    }
   ],
   "source": [
    "# Line of regression\n",
    "\n",
    "plt.scatter(x,y) # Scatter plot of x and y\n",
    "plt.plot(x,parameters['linear.bias'] + parameters['linear.weight']*x,c='r') # Regression line\n",
    "plt.show() # Show the plot"
   ]
  },
  {
   "cell_type": "code",
   "execution_count": 17,
   "id": "9ee78030-dad3-4671-bc55-cdf43d76267b",
   "metadata": {
    "tags": []
   },
   "outputs": [
    {
     "name": "stdout",
     "output_type": "stream",
     "text": [
      "Starting training loss:0.7973276376724243,\n",
      "Ending training loss:0.008481704629957676\n"
     ]
    }
   ],
   "source": [
    "print(f\"Starting training loss:{losses[0]},\\nEnding training loss:{losses[-1]}\") # Print the starting and ending training losses"
   ]
  },
  {
   "cell_type": "code",
   "execution_count": 18,
   "id": "24f13598-49b4-4e52-8692-b27045cd214d",
   "metadata": {
    "tags": []
   },
   "outputs": [
    {
     "data": {
      "image/png": "[encoded data removed]",
      "text/plain": [
       "<Figure size 640x480 with 1 Axes>"
      ]
     },
     "metadata": {},
     "output_type": "display_data"
    }
   ],
   "source": [
    "# Plot loss vs epochs - See how SGD performed\n",
    "\n",
    "plt.plot(losses[:25]) # Plot the first 25 epochs\n",
    "plt.xlabel('Epochs(25)') # Label x-axis\n",
    "plt.ylabel('Loss') # Label y-axis\n",
    "plt.title('SGD Loss curve') # Title\n",
    "plt.show() # Show the plot"
   ]
  }
 ],
 "metadata": {
  "kernelspec": {
   "display_name": "info2000",
   "language": "python",
   "name": "python3"
  },
  "language_info": {
   "codemirror_mode": {
    "name": "ipython",
    "version": 3
   },
   "file_extension": ".py",
   "mimetype": "text/x-python",
   "name": "python",
   "nbconvert_exporter": "python",
   "pygments_lexer": "ipython3",
   "version": "3.10.13"
  }
 },
 "nbformat": 4,
 "nbformat_minor": 5
}
