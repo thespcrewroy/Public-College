{
 "cells": [
  {
   "cell_type": "markdown",
   "id": "7c2bb5eb-403c-4283-9f79-b74259b225b4",
   "metadata": {},
   "source": [
    "#### Exercise 4: Computing TF, IDF and TF-IDF for documents in text ####"
   ]
  },
  {
   "cell_type": "code",
   "execution_count": 1,
   "id": "81982036-10d7-44a1-8113-0463f82128aa",
   "metadata": {
    "tags": []
   },
   "outputs": [],
   "source": [
    "import nltk\n",
    "from nltk.corpus import stopwords\n",
    "from nltk.tokenize import word_tokenize\n",
    "from sklearn.feature_extraction.text import TfidfVectorizer,CountVectorizer"
   ]
  },
  {
   "cell_type": "code",
   "execution_count": 2,
   "id": "e05f32fd-fee2-40d9-ab62-52c7463d4535",
   "metadata": {
    "tags": []
   },
   "outputs": [],
   "source": [
    "# # Download necessary NLTK datasets\n",
    "# nltk.download('punkt')\n",
    "# nltk.download('stopwords')\n",
    "\n",
    "# Documents\n",
    "text = [\n",
    "    \"The cat sat on the mat!\",\n",
    "    \"Dogs are sitting on the log. Dogs love logs.\",\n",
    "    \"Cats are lying on the rug, but the cat prefers the mat.\"\n",
    "]\n"
   ]
  },
  {
   "cell_type": "code",
   "execution_count": 17,
   "id": "020f1be0-d1f9-43f0-a656-2a93d354bb1d",
   "metadata": {
    "tags": []
   },
   "outputs": [],
   "source": [
    "# Preprocessing using Python's list comprehension \n",
    "\n",
    "def preprocess(document):\n",
    "    # Convert to lowercase\n",
    "    document = document.lower()\n",
    "    # Tokenize\n",
    "    tokens = word_tokenize(document)\n",
    "    # Remove punctuation and non-alphabetic characters\n",
    "    tokens = [word for word in tokens if word.isalpha()]\n",
    "    # Remove stopwords\n",
    "    tokens = \" \".join([word for word in tokens if word not in stopwords.words('english')])\n",
    "\n",
    "    return tokens\n"
   ]
  },
  {
   "cell_type": "code",
   "execution_count": 19,
   "id": "f692b277-e1bd-4269-9f5f-c01b7ce1d0d9",
   "metadata": {
    "tags": []
   },
   "outputs": [
    {
     "name": "stdout",
     "output_type": "stream",
     "text": [
      "These are the preprocessed Documents:\n",
      "['cat sat mat', 'dogs sitting log dogs love logs', 'cats lying rug cat prefers mat']\n",
      "\n",
      "Count matrix Array:\n",
      "[[1 0 0 0 0 0 0 1 0 0 1 0]\n",
      " [0 0 2 1 1 1 0 0 0 0 0 1]\n",
      " [1 1 0 0 0 0 1 1 1 1 0 0]]\n",
      "\n",
      "TF-IDF matrix Array:\n",
      "[[0.51785612 0.         0.         0.         0.         0.\n",
      "  0.         0.51785612 0.         0.         0.68091856 0.        ]\n",
      " [0.         0.         0.70710678 0.35355339 0.35355339 0.35355339\n",
      "  0.         0.         0.         0.         0.         0.35355339]\n",
      " [0.3349067  0.44036207 0.         0.         0.         0.\n",
      "  0.44036207 0.3349067  0.44036207 0.44036207 0.         0.        ]]\n"
     ]
    }
   ],
   "source": [
    "# Preprocess documents by sending one document at a time to the preprocess function\n",
    "processed_docs = [preprocess(doc) for doc in text]\n",
    "\n",
    "print(f\"These are the preprocessed Documents:\\n{processed_docs}\")\n",
    "\n",
    "# Compute Count and TF-IDF and display them as dense matrix\n",
    "\n",
    "# Instantiate the vectorizers\n",
    "count = CountVectorizer()\n",
    "tfidf = TfidfVectorizer()\n",
    "\n",
    "# Count Matrix\n",
    "c_matrix = count.fit_transform(processed_docs)\n",
    "print(f\"\\nCount matrix Array:\\n{c_matrix.toarray()}\")\n",
    "\n",
    "# TF-IDF matrix\n",
    "tfidf_matrix = tfidf.fit_transform(processed_docs)\n",
    "print(f\"\\nTF-IDF matrix Array:\\n{tfidf_matrix.toarray()}\")\n"
   ]
  },
  {
   "cell_type": "code",
   "execution_count": null,
   "id": "d2ac509e-9608-4ebe-ba84-68bac268d330",
   "metadata": {},
   "outputs": [],
   "source": []
  }
 ],
 "metadata": {
  "kernelspec": {
   "display_name": "ml",
   "language": "python",
   "name": "ml"
  },
  "language_info": {
   "codemirror_mode": {
    "name": "ipython",
    "version": 3
   },
   "file_extension": ".py",
   "mimetype": "text/x-python",
   "name": "python",
   "nbconvert_exporter": "python",
   "pygments_lexer": "ipython3",
   "version": "3.10.13"
  }
 },
 "nbformat": 4,
 "nbformat_minor": 5
}
