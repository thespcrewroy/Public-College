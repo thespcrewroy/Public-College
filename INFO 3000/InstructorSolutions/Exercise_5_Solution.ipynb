{
 "cells": [
  {
   "cell_type": "markdown",
   "id": "e04b11dd",
   "metadata": {},
   "source": [
    "### Exercise 5 Solution"
   ]
  },
  {
   "cell_type": "code",
   "execution_count": 1,
   "id": "533bcfff-2e85-4009-a777-4d69b86af6fe",
   "metadata": {},
   "outputs": [],
   "source": [
    "import numpy as np"
   ]
  },
  {
   "cell_type": "markdown",
   "id": "b7a65a45",
   "metadata": {},
   "source": [
    "#### Generate Data "
   ]
  },
  {
   "cell_type": "code",
   "execution_count": 2,
   "id": "9b0427ea-1446-4245-a98b-a06387af386b",
   "metadata": {},
   "outputs": [
    {
     "name": "stdout",
     "output_type": "stream",
     "text": [
      "Shapes of X, W and b:((1, 2), (2, 1), (1,))\n"
     ]
    }
   ],
   "source": [
    "# Initialize inputs values.\n",
    "\n",
    "X = np.array([[2,1]])\n",
    "W = np.array([[0.5],[0.5]])\n",
    "b = np.array([0.5])\n",
    "\n",
    "print(f\"Shapes of X, W and b:{X.shape, W.shape,b.shape}\")"
   ]
  },
  {
   "cell_type": "code",
   "execution_count": 3,
   "id": "05f5a8ae-e6cd-4d60-93fa-d9708d4c2e74",
   "metadata": {},
   "outputs": [
    {
     "name": "stdout",
     "output_type": "stream",
     "text": [
      "Shape of X: (5, 2) and X:\n",
      "[[1 5]\n",
      " [2 6]\n",
      " [3 7]\n",
      " [4 8]\n",
      " [1 0]]\n"
     ]
    }
   ],
   "source": [
    "# New data\n",
    "\n",
    "X1 = np.array([1,5,2,6,3,7,4,8,1,0]).reshape(5,2)\n",
    "print(f\"Shape of X: {X1.shape} and X:\\n{X1}\")"
   ]
  },
  {
   "cell_type": "markdown",
   "id": "bbc8711e",
   "metadata": {},
   "source": [
    "#### NN Class ####"
   ]
  },
  {
   "cell_type": "code",
   "execution_count": 4,
   "id": "c8edc374-79e0-471f-b765-f4c9a13b5267",
   "metadata": {},
   "outputs": [],
   "source": [
    "class Neuron:\n",
    "    def __init__(self,W,X,b):\n",
    "        self.W = W\n",
    "        self.X = X\n",
    "        self.b = b\n",
    "        \n",
    "    def summation(self):\n",
    "        return np.dot(self.X,self.W) + self.b\n",
    "    \n",
    "    def sigmoid(self):\n",
    "        return 1/(1 + np.exp(-self.summation()))\n",
    "    \n",
    "    def print_values(self):\n",
    "        print(f\"Weights:\\n{self.W}\\n\\nBias: {b}\")"
   ]
  },
  {
   "cell_type": "code",
   "execution_count": 5,
   "id": "fb95f8a1-543f-436f-9696-be74b7d99775",
   "metadata": {},
   "outputs": [],
   "source": [
    "# Instantiate  objects\n",
    "\n",
    "neuron1 = Neuron(W,X,b)\n",
    "neuron2 = Neuron(W,X1,b)\n"
   ]
  },
  {
   "cell_type": "code",
   "execution_count": 6,
   "id": "2dfb0cc1-dc02-49ae-a468-f35d36db78aa",
   "metadata": {},
   "outputs": [
    {
     "name": "stdout",
     "output_type": "stream",
     "text": [
      "Summation: [[2.]]\n",
      "Activation Output: [[0.88079708]]\n",
      "\n",
      "Weights:\n",
      "[[0.5]\n",
      " [0.5]]\n",
      "\n",
      "Bias: [0.5]\n"
     ]
    }
   ],
   "source": [
    "# neuron 1 output\n",
    "\n",
    "print(f\"Summation: {neuron1.summation()}\")\n",
    "print(f\"Activation Output: {neuron1.sigmoid()}\\n\")\n",
    "\n",
    "# Weights and bias\n",
    "neuron1.print_values()"
   ]
  },
  {
   "cell_type": "code",
   "execution_count": 9,
   "id": "c23dcf17-22c0-4d04-896e-9a3700dc5449",
   "metadata": {},
   "outputs": [
    {
     "name": "stdout",
     "output_type": "stream",
     "text": [
      "Summation:\n",
      "[[3.5]\n",
      " [4.5]\n",
      " [5.5]\n",
      " [6.5]\n",
      " [1. ]]\n",
      "\n",
      "Activation Output:\n",
      "[[0.97068777]\n",
      " [0.98901306]\n",
      " [0.99592986]\n",
      " [0.99849882]\n",
      " [0.73105858]]\n",
      "\n",
      "Weights:\n",
      "[[0.5]\n",
      " [0.5]]\n",
      "\n",
      "Bias: [0.5]\n"
     ]
    }
   ],
   "source": [
    "# neuron 2 output\n",
    "\n",
    "print(f\"Summation:\\n{neuron2.summation()}\\n\")\n",
    "print(f\"Activation Output:\\n{neuron2.sigmoid()}\\n\")\n",
    "\n",
    "# Weights and bias\n",
    "neuron2.print_values()"
   ]
  }
 ],
 "metadata": {
  "kernelspec": {
   "display_name": "Python 3 (ipykernel)",
   "language": "python",
   "name": "python3"
  },
  "language_info": {
   "codemirror_mode": {
    "name": "ipython",
    "version": 3
   },
   "file_extension": ".py",
   "mimetype": "text/x-python",
   "name": "python",
   "nbconvert_exporter": "python",
   "pygments_lexer": "ipython3",
   "version": "3.10.13"
  }
 },
 "nbformat": 4,
 "nbformat_minor": 5
}
