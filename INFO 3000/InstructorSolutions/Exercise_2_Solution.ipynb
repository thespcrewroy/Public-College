{
 "cells": [
  {
   "cell_type": "code",
   "execution_count": 1,
   "id": "739149e3-5ea7-4b2b-bdce-826f48fffce5",
   "metadata": {},
   "outputs": [],
   "source": [
    "import pandas as pd\n",
    "from matplotlib import pyplot as plt"
   ]
  },
  {
   "cell_type": "code",
   "execution_count": 3,
   "id": "7a602608-6d2b-4255-842b-490adb338bd8",
   "metadata": {},
   "outputs": [
    {
     "data": {
      "text/html": [
       "<div>\n",
       "<style scoped>\n",
       "    .dataframe tbody tr th:only-of-type {\n",
       "        vertical-align: middle;\n",
       "    }\n",
       "\n",
       "    .dataframe tbody tr th {\n",
       "        vertical-align: top;\n",
       "    }\n",
       "\n",
       "    .dataframe thead th {\n",
       "        text-align: right;\n",
       "    }\n",
       "</style>\n",
       "<table border=\"1\" class=\"dataframe\">\n",
       "  <thead>\n",
       "    <tr style=\"text-align: right;\">\n",
       "      <th></th>\n",
       "      <th>feature</th>\n",
       "      <th>target</th>\n",
       "    </tr>\n",
       "  </thead>\n",
       "  <tbody>\n",
       "    <tr>\n",
       "      <th>0</th>\n",
       "      <td>0.926178</td>\n",
       "      <td>2.523524</td>\n",
       "    </tr>\n",
       "    <tr>\n",
       "      <th>1</th>\n",
       "      <td>1.909417</td>\n",
       "      <td>5.593312</td>\n",
       "    </tr>\n",
       "    <tr>\n",
       "      <th>2</th>\n",
       "      <td>-1.398568</td>\n",
       "      <td>-4.685085</td>\n",
       "    </tr>\n",
       "    <tr>\n",
       "      <th>3</th>\n",
       "      <td>0.562969</td>\n",
       "      <td>1.466761</td>\n",
       "    </tr>\n",
       "    <tr>\n",
       "      <th>4</th>\n",
       "      <td>-0.650643</td>\n",
       "      <td>-1.763277</td>\n",
       "    </tr>\n",
       "    <tr>\n",
       "      <th>...</th>\n",
       "      <td>...</td>\n",
       "      <td>...</td>\n",
       "    </tr>\n",
       "    <tr>\n",
       "      <th>95</th>\n",
       "      <td>8.195169</td>\n",
       "      <td>24.430734</td>\n",
       "    </tr>\n",
       "    <tr>\n",
       "      <th>96</th>\n",
       "      <td>15.796649</td>\n",
       "      <td>47.553014</td>\n",
       "    </tr>\n",
       "    <tr>\n",
       "      <th>97</th>\n",
       "      <td>4.594683</td>\n",
       "      <td>13.158493</td>\n",
       "    </tr>\n",
       "    <tr>\n",
       "      <th>98</th>\n",
       "      <td>13.079678</td>\n",
       "      <td>39.701048</td>\n",
       "    </tr>\n",
       "    <tr>\n",
       "      <th>99</th>\n",
       "      <td>12.965506</td>\n",
       "      <td>38.804068</td>\n",
       "    </tr>\n",
       "  </tbody>\n",
       "</table>\n",
       "<p>100 rows × 2 columns</p>\n",
       "</div>"
      ],
      "text/plain": [
       "      feature     target\n",
       "0    0.926178   2.523524\n",
       "1    1.909417   5.593312\n",
       "2   -1.398568  -4.685085\n",
       "3    0.562969   1.466761\n",
       "4   -0.650643  -1.763277\n",
       "..        ...        ...\n",
       "95   8.195169  24.430734\n",
       "96  15.796649  47.553014\n",
       "97   4.594683  13.158493\n",
       "98  13.079678  39.701048\n",
       "99  12.965506  38.804068\n",
       "\n",
       "[100 rows x 2 columns]"
      ]
     },
     "execution_count": 3,
     "metadata": {},
     "output_type": "execute_result"
    }
   ],
   "source": [
    "data = pd.read_csv('regression_dataset_with_outliers.csv')\n",
    "data"
   ]
  },
  {
   "cell_type": "code",
   "execution_count": 5,
   "id": "748a4417-9034-4942-8754-3490b675a591",
   "metadata": {},
   "outputs": [
    {
     "data": {
      "text/plain": [
       "<matplotlib.collections.PathCollection at 0x1a96ca32ce0>"
      ]
     },
     "execution_count": 5,
     "metadata": {},
     "output_type": "execute_result"
    },
    {
     "data": {
      "image/png": "[encoded data removed]",
      "text/plain": [
       "<Figure size 640x480 with 1 Axes>"
      ]
     },
     "metadata": {},
     "output_type": "display_data"
    }
   ],
   "source": [
    "plt.scatter(data['feature'],data['target'])"
   ]
  },
  {
   "cell_type": "code",
   "execution_count": 6,
   "id": "e711687f-ab8b-4bd6-89f5-e6eb4104d678",
   "metadata": {},
   "outputs": [
    {
     "name": "stdout",
     "output_type": "stream",
     "text": [
      "Outliers detected:\n",
      "      feature     target\n",
      "95   8.195169  24.430734\n",
      "96  15.796649  47.553014\n",
      "97   4.594683  13.158493\n",
      "98  13.079678  39.701048\n",
      "99  12.965506  38.804068\n"
     ]
    }
   ],
   "source": [
    "\n",
    "# Calculate Q1 (25th percentile) and Q3 (75th percentile)\n",
    "Q1 = data['feature'].quantile(0.25)\n",
    "Q3 = data['feature'].quantile(0.75)\n",
    "\n",
    "# Calculate the Interquartile Range (IQR)\n",
    "IQR = Q3 - Q1\n",
    "\n",
    "# Define the lower and upper bounds for outliers\n",
    "lower_bound = Q1 - 1.5 * IQR\n",
    "upper_bound = Q3 + 1.5 * IQR\n",
    "\n",
    "# Identify outliers\n",
    "outliers = data[(data['feature'] < lower_bound) | (data['feature'] > upper_bound)]\n",
    "\n",
    "# Display outliers\n",
    "print(\"Outliers detected:\")\n",
    "print(outliers)"
   ]
  },
  {
   "cell_type": "code",
   "execution_count": 7,
   "id": "b35bbc6f-8f1a-48bd-935c-10b244e2603b",
   "metadata": {},
   "outputs": [
    {
     "name": "stdout",
     "output_type": "stream",
     "text": [
      "Cleaned dataset:\n",
      "     feature    target\n",
      "0   0.926178  2.523524\n",
      "1   1.909417  5.593312\n",
      "2  -1.398568 -4.685085\n",
      "3   0.562969  1.466761\n",
      "4  -0.650643 -1.763277\n",
      "..       ...       ...\n",
      "90  0.071566  0.571198\n",
      "91 -0.477657 -1.553135\n",
      "92  0.478980  1.249529\n",
      "93  0.333662  1.356466\n",
      "94  1.037540  3.334751\n",
      "\n",
      "[95 rows x 2 columns]\n",
      "Cleaned dataset saved to cleaned_regression_dataset.csv\n"
     ]
    }
   ],
   "source": [
    "# Remove outliers\n",
    "data_cleaned = data[(data['feature'] >= lower_bound) & (data['feature'] <= upper_bound)]\n",
    "\n",
    "# Display the cleaned dataset\n",
    "print(\"Cleaned dataset:\")\n",
    "print(data_cleaned)\n",
    "\n",
    "# Optionally, save the cleaned dataset to a new CSV file\n",
    "cleaned_csv_path = 'cleaned_regression_dataset.csv'\n",
    "data_cleaned.to_csv(cleaned_csv_path, index=False)\n",
    "print(f\"Cleaned dataset saved to {cleaned_csv_path}\")"
   ]
  },
  {
   "cell_type": "code",
   "execution_count": 9,
   "id": "ed895988-33ae-4021-b68a-ff2b20fbb0cc",
   "metadata": {},
   "outputs": [
    {
     "data": {
      "text/plain": [
       "<matplotlib.collections.PathCollection at 0x1a97189bfa0>"
      ]
     },
     "execution_count": 9,
     "metadata": {},
     "output_type": "execute_result"
    },
    {
     "data": {
      "image/png": "[encoded data removed]",
      "text/plain": [
       "<Figure size 640x480 with 1 Axes>"
      ]
     },
     "metadata": {},
     "output_type": "display_data"
    }
   ],
   "source": [
    "plt.scatter(data_cleaned['feature'],data_cleaned['target'])"
   ]
  },
  {
   "cell_type": "code",
   "execution_count": null,
   "id": "c68603da-55a7-4a9f-8493-5c62d6f02f62",
   "metadata": {},
   "outputs": [],
   "source": []
  }
 ],
 "metadata": {
  "kernelspec": {
   "display_name": "Python 3 (ipykernel)",
   "language": "python",
   "name": "python3"
  },
  "language_info": {
   "codemirror_mode": {
    "name": "ipython",
    "version": 3
   },
   "file_extension": ".py",
   "mimetype": "text/x-python",
   "name": "python",
   "nbconvert_exporter": "python",
   "pygments_lexer": "ipython3",
   "version": "3.10.14"
  }
 },
 "nbformat": 4,
 "nbformat_minor": 5
}
