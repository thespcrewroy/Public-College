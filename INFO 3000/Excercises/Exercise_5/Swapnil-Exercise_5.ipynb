{
 "cells": [
  {
   "cell_type": "code",
   "execution_count": 1,
   "metadata": {},
   "outputs": [],
   "source": [
    "import numpy as np"
   ]
  },
  {
   "cell_type": "code",
   "execution_count": 2,
   "metadata": {},
   "outputs": [],
   "source": [
    "'''Write a “Python Class” with “methods” to completely represent a simple Nural Network.'''\n",
    "class NN:\n",
    "    def __init__(self, W, b): # constructor where W is the weights, b is the bias\n",
    "        self.W = W # W is a matrix of weights\n",
    "        self.b = b  # b is a vector of biases\n",
    "\n",
    "    def compute_z(self, X): # X is the input\n",
    "        return np.dot(X, self.W.T) + self.b # z = transpose(W)*X + b\n",
    "\n",
    "    def sigmoid(self, z): # compute the activation function, which is the sigmoid function\n",
    "        return 1 / (1 + np.exp(-z)) # sigmoid function\n",
    "\n",
    "    def predict(self, X): # perform the sigmoid calculations all together in one function\n",
    "        z = self.compute_z(X) # compute z\n",
    "        h_w = self.sigmoid(z) # Sigmoid computation with computed z\n",
    "        return h_w  # returning value of activation ‘a’ as ‘hw’\n",
    "\n",
    "    def print_weights_bias(self): # print the weights and bias\n",
    "        print(\"Weights:\\n\", self.W) # print the weights\n",
    "        print(\"Bias:\\n\", self.b) # print the bias\n"
   ]
  },
  {
   "cell_type": "code",
   "execution_count": 3,
   "metadata": {},
   "outputs": [
    {
     "name": "stdout",
     "output_type": "stream",
     "text": [
      "Computed z: [[2.]]\n",
      "Computed h_w: [[0.88079708]]\n",
      "Weights:\n",
      " [[0.5 0.5]]\n",
      "Bias:\n",
      " [[0.5]]\n"
     ]
    }
   ],
   "source": [
    "'''Test the Simple Neural Network Class'''\n",
    "# Define the given values\n",
    "X = np.array([[2, 1]]) # input\n",
    "W = np.array([[0.5, 0.5]]) # weights\n",
    "b = np.array([[0.5]]) # bias\n",
    "\n",
    "# Create an instance of the class\n",
    "nn = NN(W, b) # create an instance of the class\n",
    "\n",
    "# Compute and print the results\n",
    "z = nn.compute_z(X) # compute z\n",
    "h_w = nn.predict(X) # compute the sigmoid function\n",
    "\n",
    "print(\"Computed z:\", z) # print the computed z\n",
    "print(\"Computed h_w:\", h_w) # print the computed hw\n",
    "nn.print_weights_bias() # print the weights and bias"
   ]
  },
  {
   "cell_type": "code",
   "execution_count": 4,
   "metadata": {},
   "outputs": [
    {
     "name": "stdout",
     "output_type": "stream",
     "text": [
      "Computed z:\n",
      " [[3.5]\n",
      " [4.5]\n",
      " [5.5]\n",
      " [6.5]\n",
      " [1. ]]\n",
      "Computed h_w should be a (5,1) matrix:\n",
      " [[0.97068777]\n",
      " [0.98901306]\n",
      " [0.99592986]\n",
      " [0.99849882]\n",
      " [0.73105858]]\n",
      "Weights:\n",
      " [[0.5 0.5]]\n",
      "Bias:\n",
      " [[0.5]]\n"
     ]
    }
   ],
   "source": [
    "'''Create an X matrix of shape (5, 2) with arbitrary values'''\n",
    "X = np.array([1,5,2,6,3,7,4,8,1,0]).reshape(5,2)\n",
    "W = np.array([[0.5, 0.5]]) # weights\n",
    "b = np.array([[0.5]]) # bias\n",
    "\n",
    "# Create an instance of the class\n",
    "nn = NN(W, b) # create an instance of the class\n",
    "\n",
    "# Compute and print the results\n",
    "z = nn.compute_z(X) # compute z\n",
    "h_w = nn.predict(X) # compute the sigmoid function\n",
    "\n",
    "print(f\"Computed z:\\n\", z) # print the computed z\n",
    "print(f\"Computed h_w should be a (5,1) matrix:\\n\", h_w) # print the computed hw\n",
    "nn.print_weights_bias() # print the weights and bias"
   ]
  }
 ],
 "metadata": {
  "kernelspec": {
   "display_name": "info2000",
   "language": "python",
   "name": "python3"
  },
  "language_info": {
   "codemirror_mode": {
    "name": "ipython",
    "version": 3
   },
   "file_extension": ".py",
   "mimetype": "text/x-python",
   "name": "python",
   "nbconvert_exporter": "python",
   "pygments_lexer": "ipython3",
   "version": "3.10.13"
  }
 },
 "nbformat": 4,
 "nbformat_minor": 2
}
