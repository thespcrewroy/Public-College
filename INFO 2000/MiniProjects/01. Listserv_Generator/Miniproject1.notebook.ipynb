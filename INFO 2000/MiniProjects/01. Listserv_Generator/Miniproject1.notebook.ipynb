{
 "cells": [
  {
   "cell_type": "markdown",
   "metadata": {},
   "source": [
    "# 1.1: Interactive Monty Hall Simulator"
   ]
  },
  {
   "cell_type": "code",
   "execution_count": 3,
   "metadata": {},
   "outputs": [],
   "source": [
    "'''\n",
    "Keep track of the player's stats\n",
    "# % wins\n",
    "# % switch\n",
    "'''\n",
    "wins = 0  # Number of wins\n",
    "switches = 0  # Number of times the player switched doors\n",
    "total_games = 0  # Total number of games played"
   ]
  },
  {
   "cell_type": "code",
   "execution_count": 4,
   "metadata": {},
   "outputs": [
    {
     "name": "stdout",
     "output_type": "stream",
     "text": [
      "INTRODUCTION:\n",
      "Welcome to the Monty Hall Problem Simulator!\n",
      "The Monty Hall problem is a well-known probability puzzle.\n",
      "Behind three doors, there are two goats and a car. The contestant\n",
      "picks a door. Monty Hall then opens another door to reveal a goat.\n",
      "The contestant has the option to switch doors. What should they do?\n",
      "\n",
      "User selected door 1.\n",
      "Monty opens door 2 to reveal a goat.\n",
      "User switched to door 3.\n",
      "You got the car. You win!\n",
      "\n",
      "STATISTICS:\n",
      "% wins: 100.00%\n",
      "% switch: 100.00%\n"
     ]
    }
   ],
   "source": [
    "import random\n",
    "\n",
    "'''\n",
    "Introduction to the Monty Hall Problem\n",
    "'''\n",
    "print(\"INTRODUCTION:\")\n",
    "print(\"Welcome to the Monty Hall Problem Simulator!\")\n",
    "print(\"The Monty Hall problem is a well-known probability puzzle.\")\n",
    "print(\"Behind three doors, there are two goats and a car. The contestant\")\n",
    "print(\"picks a door. Monty Hall then opens another door to reveal a goat.\")\n",
    "print(\"The contestant has the option to switch doors. What should they do?\\n\")\n",
    "\n",
    "'''\n",
    "Prompt the user to choose a door (1, 2, or 3)\n",
    "'''\n",
    "player_choice = int(input(\"Choose a door (1, 2, or 3): \")) - 1 # Player chooses a door\n",
    "\n",
    "'''\n",
    "Simulate the game\n",
    "# Randomly place a car behind one of the doors\n",
    "# Place goats behind the other two doors\n",
    "# Ask the user to select a door\n",
    "# Monty reveals a goat behind one of the other doors\n",
    "'''\n",
    "doors = ['goat', 'goat', 'goat']  # Place goats behind all doors\n",
    "car = random.randint(0, len(doors) - 1) # Randomly choose a door to place the car\n",
    "doors[car] = \"car\" # Place the car behind the chosen door\n",
    "print(f\"User selected door {player_choice + 1}.\") # Print the user's choice\n",
    "\n",
    "# Monty reveals a door with a goat\n",
    "Monty_reveal = random.choice([i for i in range(len(doors)) if i != player_choice and doors[i] == 'goat']) # Monty reveals a goat behind one of the other doors\n",
    "print(f\"Monty opens door {Monty_reveal + 1} to reveal a {doors[Monty_reveal]}.\") # Corrected print statement\n",
    "\n",
    "'''\n",
    "Prompt the user to switch or stay with their choice\n",
    "'''\n",
    "switch = input(\"Do you want to switch doors? (yes/no): \").lower()\n",
    "if switch.startswith('y'): # If the player chooses to switch doors\n",
    "    player_choice = [i for i in range(len(doors)) if i != player_choice and i != Monty_reveal][0] # Switch to the other door\n",
    "    print(f\"User switched to door {player_choice + 1}.\") # Print the new door the player switched to\n",
    "    switches += 1 # Increment the number of switches\n",
    "else: # If the player chooses not to switch doors\n",
    "    print(f\"User stayed with door {player_choice + 1}.\")\n",
    "\n",
    "'''\n",
    "Display the final outcome (win or lose)\n",
    "'''\n",
    "if doors[player_choice] == 'car': # If the player chose the door with the car\n",
    "    print(\"You got the car. You win!\") # Print a win message\n",
    "    wins += 1 # Increment the number of wins\n",
    "else: # If the player chose a door with a goat\n",
    "    print(\"You got a goat. You lose :C.\") # Print a lose message\n",
    "\n",
    "total_games += 1 # Increment the total number of games played\n",
    "\n",
    "'''\n",
    "Display player's stats\n",
    "'''\n",
    "print(\"\\nSTATISTICS:\")\n",
    "print(f\"% wins: {wins / total_games * 100:.2f}%\") # Print the total number of games played\n",
    "print(f\"% switch: {switches / total_games * 100:.2f}%\") # Print the number of times the player switched doors"
   ]
  },
  {
   "cell_type": "markdown",
   "metadata": {},
   "source": [
    "# 1.2 Function to Simulate Multiple Trial Runs"
   ]
  },
  {
   "cell_type": "code",
   "execution_count": 5,
   "metadata": {},
   "outputs": [
    {
     "name": "stdout",
     "output_type": "stream",
     "text": [
      "Number of trials: 10000\n",
      "Switch: True\n",
      "Wins: 6715\n",
      "Win percentage: 67.15%\n"
     ]
    }
   ],
   "source": [
    "def monty_hall_simulation(num_trials, switch):\n",
    "    \"\"\"\n",
    "    Simulates the Monty Hall problem for the specified number of trials.\n",
    "    Parameters:\n",
    "    - num_trials (int): The number of trials to simulate.\n",
    "    - switch(bool): Whether to switch or not\n",
    "    Returns:\n",
    "    - wins (int)\n",
    "    - win_percentage (float)\n",
    "    \"\"\"\n",
    "\n",
    "    wins = 0 # Number of wins\n",
    "    total_games = 0 # Total number of games played\n",
    "\n",
    "    for i in range(num_trials):\n",
    "        player_choice = random.randint(0,2) # Player chooses a door\n",
    "        doors = ['goat', 'goat', 'goat']  # Place goats behind all doors\n",
    "        car = random.randint(0, len(doors) - 1) # Randomly choose a door to place the car\n",
    "        doors[car] = \"car\" # Place the car behind the chosen door\n",
    "        Monty_reveal = random.choice([i for i in range(len(doors)) if i != player_choice and doors[i] == 'goat']) # Monty reveals a goat behind one of the other doors\n",
    "\n",
    "        # Switch to the other door if switch is True\n",
    "        if switch:\n",
    "            player_choice = [i for i in range(len(doors)) if i != player_choice and i != Monty_reveal][0]\n",
    "\n",
    "        # Increment the number of wins if the player chose the door with the car\n",
    "        if doors[player_choice] == 'car': # If the player chose the door with the car\n",
    "            wins += 1\n",
    "\n",
    "        total_games += 1 # Increment the total number of games played\n",
    "\n",
    "    win_percentage = wins / total_games * 100\n",
    "    return wins, win_percentage\n",
    "\n",
    "# Display wins and win percentage\n",
    "num_trials = 10000\n",
    "switch = True\n",
    "wins, win_percentage = monty_hall_simulation(num_trials, switch)\n",
    "print(f\"Number of trials: {num_trials}\")\n",
    "print(f\"Switch: {switch}\")\n",
    "print(f\"Wins: {wins}\")\n",
    "print(f\"Win percentage: {win_percentage:.2f}%\")"
   ]
  },
  {
   "cell_type": "markdown",
   "metadata": {},
   "source": [
    "# 2: Email Tempelate and Listserve"
   ]
  },
  {
   "cell_type": "code",
   "execution_count": 7,
   "metadata": {},
   "outputs": [],
   "source": [
    "import random\n",
    "\n",
    "with open(\"listserv_files/student_names.txt\", \"r\") as file: # Open the file containing student names\n",
    "    students= file.readlines()[1:]  # Skip header and load student names from the file\n",
    "\n",
    "with open(\"listserv_files/athens_attractions.txt\", \"r\") as file: # Open the file containing attractions\n",
    "    attractions = file.readlines() # Load attractions from the file\n",
    "    \n",
    "with open(\"completed_emails.txt\", \"w\") as output_file: # Open a file to write the completed emails\n",
    "    for i in students: # Iterate over each line in the student file\n",
    "        last_name, first_name = i.strip().split(\"\\t\") # Extract the first and last name of the student\n",
    "        selected_attractions = random.sample(attractions, 3) # Select three random attractions\n",
    "        email_line1 = f\"Dear {first_name} {last_name},\\n\\n\"\n",
    "        email_line2 = \"On behalf of the University of Georgia community, we are thrilled to welcome you to our campus!\\n\"\n",
    "        email_line3 = \"We are excited to have you join us as a member of the Bulldog family, and we hope that your time\\n\"\n",
    "        email_line4 = \"here is filled with growth, exploration, and meaningful experiences.\\n\\n\"\n",
    "        email_line5 = \"As you embark on this exciting journey, we would like to offer some suggestions of places to visit in\\n\"\n",
    "        email_line6 = \"and around Athens, Georgia. These destinations are not only fun and interesting, but they also give\\n\"\n",
    "        email_line7 = \"you a chance to experience the rich history and culture of our beautiful city.\\n\\n\"\n",
    "        email_line8 = \"1. \" + selected_attractions[0].strip() + \"\\n\"\n",
    "        email_line9 = \"2. \" + selected_attractions[1].strip() + \"\\n\"\n",
    "        email_line10 = \"3. \" + selected_attractions[2].strip() + \"\\n\\n\"\n",
    "        email_line11 = \"We hope that you find these suggestions helpful, and we encourage you to explore all that Athens\\n\"\n",
    "        email_line12 = \"has to offer. Once again, welcome to the University of Georgia! We look forward to getting to know\\n\"\n",
    "        email_line13 = \"you and watching you thrive during your time here.\\n\\n\"\n",
    "        email_line14 = \"Sincerely,\\n\\n\"\n",
    "        email_line15 = \"Jere Morehead,\\n\\n\"\n",
    "        email_line16 = \"UGA President\\n\\n\"\n",
    "        email = email_line1 + email_line2 + email_line3 + email_line4 + email_line5 + email_line6 + email_line7 + email_line8 + email_line9 + email_line10 + email_line11 + email_line12 + email_line13 + email_line14 + email_line15 + email_line16\n",
    "        email = email.strip() # Remove leading and trailing whitespace\n",
    "        output_file.write(email + \"\\n------------------------------------------------------------------------------------------\\n\") # Write the email to the output file\n"
   ]
  },
  {
   "cell_type": "code",
   "execution_count": null,
   "metadata": {},
   "outputs": [],
   "source": []
  }
 ],
 "metadata": {
  "kernelspec": {
   "display_name": "info2000",
   "language": "python",
   "name": "python3"
  },
  "language_info": {
   "codemirror_mode": {
    "name": "ipython",
    "version": 3
   },
   "file_extension": ".py",
   "mimetype": "text/x-python",
   "name": "python",
   "nbconvert_exporter": "python",
   "pygments_lexer": "ipython3",
   "version": "3.9.18"
  }
 },
 "nbformat": 4,
 "nbformat_minor": 2
}
