{
 "cells": [
  {
   "cell_type": "markdown",
   "metadata": {},
   "source": [
    "# Files"
   ]
  },
  {
   "cell_type": "markdown",
   "metadata": {},
   "source": [
    "## Part 1"
   ]
  },
  {
   "cell_type": "code",
   "execution_count": 1,
   "metadata": {},
   "outputs": [
    {
     "name": "stdout",
     "output_type": "stream",
     "text": [
      "Python is named after Monty Python.\n",
      "\n",
      "Anaconda is a distribution of Python that comes with packages for data science.\n",
      "\n",
      "Python was created in 1991.\n"
     ]
    }
   ],
   "source": [
    "# Open the file in read mode\n",
    "file = open('myfile.txt', \"r\")\n",
    "\n",
    "# Uses a for loop to read contents of the file and print each line\n",
    "for line in file:\n",
    "    print(line) # print each line"
   ]
  },
  {
   "cell_type": "markdown",
   "metadata": {},
   "source": [
    "## Part 2"
   ]
  },
  {
   "cell_type": "code",
   "execution_count": 2,
   "metadata": {},
   "outputs": [],
   "source": [
    "color = ['Red', 'Green', 'White', 'Black', 'Pink', 'Yellow'] # Create a list of colors\n",
    "\n",
    "# Write the colors to a file called \"color_list_file.txt\" which each element in a new line\n",
    "with open('color_list_file.txt', 'w') as file: # Open the file in write mode\n",
    "    for i in color: # Loop through the color list\n",
    "        file.write(\"%s\\n\" % i) # Write the index of color list, then print a new line"
   ]
  },
  {
   "cell_type": "markdown",
   "metadata": {},
   "source": [
    "## Part 3"
   ]
  },
  {
   "cell_type": "code",
   "execution_count": 3,
   "metadata": {},
   "outputs": [
    {
     "name": "stdout",
     "output_type": "stream",
     "text": [
      "{'Swapnil': 18, 'Rakangu': 35, 'Mom': 45, 'Dad': 55, 'Baby': 0}\n"
     ]
    }
   ],
   "source": [
    "user_json = {} # Create an empty dictionary\n",
    "\n",
    "# Get age and name input data from 5 users and store it in the dictionary\n",
    "for i in range(5): # Loop through 5 times\n",
    "    name = input(\"Enter your name: \") # Ask the user to enter their name\n",
    "    age = int(input(\"Enter you age: \")) # Ask the user to enter their age\n",
    "    user_json[name] = age # Add the name and age to the dictionary\n",
    "\n",
    "\n",
    "# Store the dictionary with name and age data in a file called \"data.txt\"\n",
    "with open('data.txt', 'w') as file: # Open the file in write mode\n",
    "    file.write(str(user_json)) # Write the dictionary to the file as a string\n",
    "\n",
    "# Read data.txt and print out the people and their ages\n",
    "with open('data.txt', 'r') as file: # Open the file in read mode\n",
    "    data = file.read() # Read the file and store contents in data\n",
    "    print(data) # Print the data"
   ]
  },
  {
   "cell_type": "markdown",
   "metadata": {},
   "source": [
    "## Part 4"
   ]
  },
  {
   "cell_type": "code",
   "execution_count": 4,
   "metadata": {},
   "outputs": [],
   "source": [
    "# Write the line numbers 1, 2, and 3 to the file.\n",
    "with open('lines.txt', 'w') as file: # Open the file in write mode\n",
    "    for i in range(3): # Loop through 3 times\n",
    "        file.write(\"line %d\\n\" % (i+1)) # Write the line number and print a new line\n",
    "\n",
    "\"\"\"\n",
    "Overwrites the file and writes the line numbers 3, 2, and 1 to it.\n",
    "Additionally, it inserts an extra line with a custom message when the line number is 2.\n",
    "\"\"\"\n",
    "with open('lines.txt', 'w') as file: # Open the file in write mode\n",
    "    for i in range(3, 0, -1): # Loop through 3 to 1\n",
    "        if i == 2: # If i is 2\n",
    "            file.write(\"this line has been inserted via Python code\\n\") # Write this line\n",
    "            file.write(\"line %d\\n\" % (i)) # Write the line number\n",
    "        else: # If i is not 2\n",
    "            file.write(\"line %d\\n\" % (i)) # Write the line number"
   ]
  },
  {
   "cell_type": "markdown",
   "metadata": {},
   "source": [
    "# Functions and Lambdas"
   ]
  },
  {
   "cell_type": "markdown",
   "metadata": {},
   "source": [
    "## Part 1"
   ]
  },
  {
   "cell_type": "code",
   "execution_count": 5,
   "metadata": {},
   "outputs": [
    {
     "name": "stdout",
     "output_type": "stream",
     "text": [
      "3.0\n",
      "The number is zero or even, or negative\n",
      "The number is zero or even, or negative\n",
      "The number is zero or even, or negative\n"
     ]
    }
   ],
   "source": [
    "\"\"\"\n",
    "The function takes in a number and returns its cube-root if the\n",
    "number is odd and greater than zero. Otherwise, print a statement\n",
    "that the number is zero or even, or negative.\n",
    "\n",
    "@param: num - an integer number\n",
    "\n",
    "@return: the cube-root of the number if it is odd and greater than zero\n",
    "@return: a statement that the number is zero or even, or negative\n",
    "\"\"\"\n",
    "def oddCuberoot(num): # Define the function\n",
    "    if num > 0 and num % 2 != 0: # If the number is greater than 0 and odd\n",
    "        return num ** (1/3) # Return the cube root of the number\n",
    "    else: # If the number is even, zero, or negative\n",
    "        return \"The number is zero or even, or negative\" # Return this statement\n",
    "\n",
    "# Test the function with different numbers\n",
    "print(oddCuberoot(27)) # 3.0\n",
    "print(oddCuberoot(8)) # The number is zero or even, or negative\n",
    "print(oddCuberoot(-27)) # The number is zero or even, or negative\n",
    "print(oddCuberoot(0)) # The number is zero or even, or negative"
   ]
  },
  {
   "cell_type": "markdown",
   "metadata": {},
   "source": [
    "## Part 2"
   ]
  },
  {
   "cell_type": "code",
   "execution_count": 6,
   "metadata": {},
   "outputs": [
    {
     "name": "stdout",
     "output_type": "stream",
     "text": [
      "[10, 4, 6, 12]\n"
     ]
    }
   ],
   "source": [
    "numbers = [10,3,4,6,35,9,3,12] # Create a list of numbers\n",
    "even = [i for i in numbers if i % 2 == 0] # Create a new list of even numbers using list comprehension\n",
    "print(even)"
   ]
  },
  {
   "cell_type": "markdown",
   "metadata": {},
   "source": [
    "## Part 3"
   ]
  },
  {
   "cell_type": "code",
   "execution_count": 7,
   "metadata": {},
   "outputs": [
    {
     "name": "stdout",
     "output_type": "stream",
     "text": [
      "Will succeed tried that trick?\n",
      "will succeed tried that trick?\n",
      "['will', 'succeed', 'tried', 'that', 'trick?']\n"
     ]
    }
   ],
   "source": [
    "my_string = \"Will I succeed if I tried that trick?\"\n",
    "\n",
    "# Remove any short words (containing 2 or fewer characters) from the string\n",
    "rem_short = ' '.join([word for word in my_string.split() if len(word) > 2]) # Remove any short words\n",
    "print(rem_short) # Print the new string\n",
    "\n",
    "# Convert all the returned characters to lower case\n",
    "lower = rem_short.lower() # Lowercase all the characters\n",
    "print(lower) # Print the new string\n",
    "\n",
    "# Return the modified string as a new list\n",
    "new_list = lower.split() # Split the string into a list\n",
    "print(new_list) # Print the new list"
   ]
  },
  {
   "cell_type": "markdown",
   "metadata": {},
   "source": [
    "## Part 4"
   ]
  },
  {
   "cell_type": "code",
   "execution_count": 8,
   "metadata": {},
   "outputs": [
    {
     "name": "stdout",
     "output_type": "stream",
     "text": [
      "[1, 2, 3, 4, 5, 6]\n"
     ]
    }
   ],
   "source": [
    "\"\"\"\n",
    "Removes duplicates from a list and returns a new list.\n",
    "\n",
    "@param: old_list - a list of numbers\n",
    "\n",
    "@return: list - a new list with no duplicates\n",
    "\"\"\"\n",
    "def remove_duplicates(old_list): # Define the function\n",
    "    return list(set(old_list)) # Convert the list to a set and back to a list\n",
    "\n",
    "old_list = [1,2,3,3,4,5,5,6] # Create a list of numbers\n",
    "print(remove_duplicates(old_list)) # Print the new list"
   ]
  },
  {
   "cell_type": "markdown",
   "metadata": {},
   "source": [
    "## Part 5"
   ]
  },
  {
   "cell_type": "code",
   "execution_count": 9,
   "metadata": {},
   "outputs": [
    {
     "name": "stdout",
     "output_type": "stream",
     "text": [
      "1683\n",
      "2280\n",
      "1162\n"
     ]
    }
   ],
   "source": [
    "# Constant values\n",
    "hotel_room_costs = 140 # Set the cost of a hotel room\n",
    "rental_car_costs = 40 # Set the cost of a rental car\n",
    "\n",
    "# Airfare costs\n",
    "air_charlotte = 183 # Set the cost of airfare to Charlotte\n",
    "air_tampa = 220 # Set the cost of airfare to Tampa\n",
    "air_pittsburgh = 222 # Set the cost of airfare to Pittsburgh\n",
    "air_atlanta = 475 # Set the cost of airfare to Atlanta\n",
    "\n",
    "\"\"\"\n",
    "Computer hotel cost based on the number of days of stay\n",
    "\n",
    "@param: days_of_stay - the number of days of stay\n",
    "\n",
    "@return: the cost of the hotel room\n",
    "\"\"\"\n",
    "def hotel_cost(days_of_stay): # Define the function\n",
    "    return hotel_room_costs * days_of_stay # Return the cost of the hotel room\n",
    "\"\"\"\n",
    "Determine airfare cost based on the city\n",
    "\n",
    "@param: city - the city of destination\n",
    "\n",
    "@return: the cost of airfare to the city\n",
    "\"\"\"\n",
    "def airfare_cost(city): # Define the function\n",
    "    if city == \"Charlotte\": # If the city is Charlotte\n",
    "        return air_charlotte # Return the cost of airfare to Charlotte\n",
    "    elif city == \"Tampa\": # If the city is Tampa\n",
    "        return air_tampa # Return the cost of airfare to Tampa\n",
    "    elif city == \"Pittsburgh\": # If the city is Pittsburgh\n",
    "        return air_pittsburgh # Return the cost of airfare to Pittsburgh\n",
    "    elif city == \"Atlanta\": # If the city is Atlanta\n",
    "        return air_atlanta # Return the cost of airfare to Atlanta\n",
    "    \n",
    "\"\"\"\n",
    "Computer the rental car cost based on the number of days of stay\n",
    "\n",
    "@param: days_of_stay - the number of days of stay\n",
    "\n",
    "@return: the cost of the rental car\n",
    "\"\"\"\n",
    "def rental_car_cost(days_of_stay): # Define the function\n",
    "    return rental_car_costs * days_of_stay # Return the cost of the hotel room\n",
    "\n",
    "\"\"\"\n",
    "Calculate the total trip cost based on city, days, \n",
    "and spending money as inputs from the users by calling\n",
    "hotel_cost, airfare_cost, and rental_car_cost.\n",
    "\n",
    "@param: city - the city of destination\n",
    "@param: days - the number of days of stay\n",
    "@param: spending_money - the amount of spending money\n",
    "\n",
    "@return: the total trip cost\n",
    "\"\"\"\n",
    "def total_trip_cost(city, days, spending_money): # Define the function\n",
    "    return hotel_cost(days) + airfare_cost(city) + rental_car_cost(days) + spending_money # Return the total trip cost\n",
    "\n",
    "# Test the functions with different inputs\n",
    "print(total_trip_cost(\"Charlotte\", 5, 600)) # 1683\n",
    "print(total_trip_cost(\"Tampa\", 7, 800)) # 2280\n",
    "print(total_trip_cost(\"Pittsburgh\", 3, 400)) # 1162"
   ]
  },
  {
   "cell_type": "markdown",
   "metadata": {},
   "source": [
    "## Part 6"
   ]
  },
  {
   "cell_type": "code",
   "execution_count": 10,
   "metadata": {},
   "outputs": [
    {
     "name": "stdout",
     "output_type": "stream",
     "text": [
      "checker_board(2, 7, 6) -> [\n",
      "[7, 6]\n",
      "[6, 7]\n",
      "]\n",
      "checker_board(3, A, B) -> [\n",
      "['A', 'B', 'A']\n",
      "['B', 'A', 'B']\n",
      "['A', 'B', 'A']\n",
      "]\n",
      "checker_board(4, c, d) -> [\n",
      "['c', 'd', 'c', 'd']\n",
      "['d', 'c', 'd', 'c']\n",
      "['c', 'd', 'c', 'd']\n",
      "['d', 'c', 'd', 'c']\n",
      "]\n",
      "checker_board(4, c, c) -> invalid\n"
     ]
    }
   ],
   "source": [
    "\"\"\"\n",
    "Create a checker board of size n by n using two elements.\n",
    "\n",
    "@param: n - the size of the checker board\n",
    "@param: element1 - the first element\n",
    "@param: element2 - the second element\n",
    "\n",
    "@return: the checker board\n",
    "\"\"\"\n",
    "def checker_board(n, element1, element2):\n",
    "    if element1 == element2: # If the two elements are the same\n",
    "        return \"invalid\" # Return invalid\n",
    "    else: # If the two elements are different\n",
    "        board = [] # Create an empty list\n",
    "        for i in range(n): # Loop through the rows\n",
    "            row = [] # Create an empty list for each row to hold the column elements\n",
    "            for j in range(n): # Loop through the columns\n",
    "                if (i + j) % 2 == 0: # If the sum of the row and column indices is even\n",
    "                    row.append(element1) # Append element1 to the index\n",
    "                else: # If the sum of the row and column indices is odd\n",
    "                    row.append(element2) # Append element2 to the index\n",
    "            board.append(row) # Append the row to the board\n",
    "        return board # Return the board\n",
    "\n",
    "\"\"\"\n",
    "Print the checker board.\n",
    "\n",
    "@param: n - the size of the checker board\n",
    "@param: element1 - the first element\n",
    "@param: element2 - the second element\n",
    "\n",
    "@return: the checker board\n",
    "\"\"\"\n",
    "def print_checker_board(n, element1, element2):\n",
    "    board = checker_board(n, element1, element2)\n",
    "    if board == \"invalid\":\n",
    "        print(f\"checker_board({n}, {element1}, {element2}) -> invalid\")\n",
    "    else:\n",
    "        print(f\"checker_board({n}, {element1}, {element2}) -> [\")\n",
    "        for row in board:\n",
    "            print(row)\n",
    "        print(\"]\")\n",
    "\n",
    "# Test cases\n",
    "print_checker_board(2, 7, 6)\n",
    "print_checker_board(3, \"A\", \"B\")\n",
    "print_checker_board(4, \"c\", \"d\")\n",
    "print_checker_board(4, \"c\", \"c\")"
   ]
  }
 ],
 "metadata": {
  "kernelspec": {
   "display_name": "Python 3",
   "language": "python",
   "name": "python3"
  },
  "language_info": {
   "codemirror_mode": {
    "name": "ipython",
    "version": 3
   },
   "file_extension": ".py",
   "mimetype": "text/x-python",
   "name": "python",
   "nbconvert_exporter": "python",
   "pygments_lexer": "ipython3",
   "version": "3.9.18"
  }
 },
 "nbformat": 4,
 "nbformat_minor": 2
}
