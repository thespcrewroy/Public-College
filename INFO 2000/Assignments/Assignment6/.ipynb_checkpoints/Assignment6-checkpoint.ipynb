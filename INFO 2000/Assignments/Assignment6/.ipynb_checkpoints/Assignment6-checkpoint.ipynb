{
 "cells": [
  {
   "cell_type": "markdown",
   "id": "10fbbb8f-e899-48e5-9a84-5c5d1a939e39",
   "metadata": {},
   "source": [
    "# Deep Thought"
   ]
  },
  {
   "cell_type": "code",
   "execution_count": 7,
   "id": "0cd8df88-67b0-49a2-bfbe-f239043080d1",
   "metadata": {},
   "outputs": [
    {
     "name": "stdin",
     "output_type": "stream",
     "text": [
      "What's the answer to the Great Question of Life, the Universe and Everything? (q to quit) FORTY TWO\n"
     ]
    },
    {
     "name": "stdout",
     "output_type": "stream",
     "text": [
      "Yes\n"
     ]
    },
    {
     "name": "stdin",
     "output_type": "stream",
     "text": [
      "What's the answer to the Great Question of Life, the Universe and Everything? (q to quit) FORTY-Two\n"
     ]
    },
    {
     "name": "stdout",
     "output_type": "stream",
     "text": [
      "Yes\n"
     ]
    },
    {
     "name": "stdin",
     "output_type": "stream",
     "text": [
      "What's the answer to the Great Question of Life, the Universe and Everything? (q to quit) q\n"
     ]
    },
    {
     "name": "stdout",
     "output_type": "stream",
     "text": [
      "Thanks for trying. Bye!\n"
     ]
    }
   ],
   "source": [
    "# Prompt the user for the answer to the Great Question of Life\n",
    "user = input(\"What's the answer to the Great Question of Life, the Universe and Everything? (q to quit)\")\n",
    "\n",
    "# Keep prompting the user while the input is not 'q'\n",
    "while user.lower() != \"q\":    \n",
    "    # Case-insensitivity\n",
    "    user = user.lower()\n",
    "    \n",
    "    # Output 'Yes' or 'No' based on user input\n",
    "    if user == str(42):\n",
    "        print(\"Yes\")\n",
    "    elif user == \"forty-two\":\n",
    "        print(\"Yes\")\n",
    "    elif user == \"forty two\":\n",
    "        print(\"Yes\")\n",
    "    elif user == \"q\":\n",
    "        break\n",
    "    else:\n",
    "        print(\"No\")\n",
    "\n",
    "    # Keep prompting the user\n",
    "    user = input(\"What's the answer to the Great Question of Life, the Universe and Everything? (q to quit)\")\n",
    "print(\"Thanks for trying. Bye!\")"
   ]
  },
  {
   "cell_type": "markdown",
   "id": "c2c842c9-5bbf-4aa3-86b0-776ef1a980c9",
   "metadata": {},
   "source": [
    "# Playback Speed"
   ]
  },
  {
   "cell_type": "code",
   "execution_count": 10,
   "id": "34ce57cc-9c80-4cec-898d-751f1d41ac4c",
   "metadata": {},
   "outputs": [
    {
     "name": "stdin",
     "output_type": "stream",
     "text": [
      "Say something please (q|Q to quit) Q\n"
     ]
    },
    {
     "name": "stdout",
     "output_type": "stream",
     "text": [
      "Bye!\n"
     ]
    }
   ],
   "source": [
    "# Prompt the user for an input\n",
    "user = input(\"Say something please (q|Q to quit)\")\n",
    "\n",
    "# Keep prompting the user while input is not 'q'\n",
    "while user.lower() != \"q\":\n",
    "    # Output the same input but replaces each SPACE with '...'\n",
    "    print(user.replace(\" \", \"...\"))\n",
    "    # Prompt the user again\n",
    "    user = input(\"Say something please (q|Q to quit)\")\n",
    "print(\"Bye!\")"
   ]
  },
  {
   "cell_type": "markdown",
   "id": "ef18b16e-9891-4ada-a1d2-8ff8d4a586dd",
   "metadata": {},
   "source": [
    "# Database and Grades"
   ]
  },
  {
   "cell_type": "markdown",
   "id": "0845447e-8c4d-42ac-9fd0-2ca9dd97ba7a",
   "metadata": {},
   "source": [
    "## Part 1"
   ]
  },
  {
   "cell_type": "code",
   "execution_count": 6,
   "id": "8c74abf4-32e5-444b-81c4-128a77c325b2",
   "metadata": {},
   "outputs": [],
   "source": [
    "# Create/Reset the necessary databases\n",
    "user_database = {}\n",
    "grade_database = {'Math': None, 'Physics': None, 'Geography': None, 'Chemistry': None}"
   ]
  },
  {
   "cell_type": "code",
   "execution_count": null,
   "id": "3601a68e-1020-46c5-ac37-14ca45a242c2",
   "metadata": {},
   "outputs": [],
   "source": [
    "# Create a boolean that determines if the user's name exists in the database\n",
    "user_exists = False\n",
    "\n",
    "# Prompt the user for their name\n",
    "username = input(\"Name: \")\n",
    "\n",
    "# Check if the name exists in the database\n",
    "for key in user_database:\n",
    "    # If user's name exists in the database\n",
    "    if key == username:\n",
    "        # Set boolean user_exists to True\n",
    "        user_exists = True\n",
    "        # Prompt for thier password\n",
    "        password = input(\"Password: \")\n",
    "        # While the password entered is incorrect\n",
    "        while user_database[key] != password:\n",
    "            print(\"Incorrect password\")\n",
    "            password = input(\"Password: \")\n",
    "        print(grade_database)\n",
    "\n",
    "# If user doesn't exist in the database\n",
    "if user_exists == False:\n",
    "    # Request them to create a new password\n",
    "    password = input(\"New Password: \")\n",
    "    # Add their name and password to the database for future logins\n",
    "    user_database[username] = password\n",
    "\n",
    "    # Iterate through the grade_database\n",
    "    for specified_subject in grade_database:\n",
    "        # Prompt them for their grades\n",
    "        grade = int(input(f\"{specified_subject} Grade (0 - 100): \"))\n",
    "        # Store them for future access\n",
    "        grade_database[specified_subject] = grade"
   ]
  },
  {
   "cell_type": "markdown",
   "id": "fc616667-2d4f-4503-8b3c-756ec0bca24f",
   "metadata": {},
   "source": [
    "## Part 2"
   ]
  },
  {
   "cell_type": "code",
   "execution_count": null,
   "id": "5519210b-1d3c-42c7-8d76-7e4239c0f581",
   "metadata": {},
   "outputs": [],
   "source": []
  }
 ],
 "metadata": {
  "kernelspec": {
   "display_name": "base",
   "language": "python",
   "name": "base"
  },
  "language_info": {
   "codemirror_mode": {
    "name": "ipython",
    "version": 3
   },
   "file_extension": ".py",
   "mimetype": "text/x-python",
   "name": "python",
   "nbconvert_exporter": "python",
   "pygments_lexer": "ipython3",
   "version": "3.9.18"
  }
 },
 "nbformat": 4,
 "nbformat_minor": 5
}
