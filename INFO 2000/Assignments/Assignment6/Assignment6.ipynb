{
 "cells": [
  {
   "cell_type": "markdown",
   "id": "10fbbb8f-e899-48e5-9a84-5c5d1a939e39",
   "metadata": {},
   "source": [
    "# Deep Thought"
   ]
  },
  {
   "cell_type": "code",
   "execution_count": 1,
   "id": "0cd8df88-67b0-49a2-bfbe-f239043080d1",
   "metadata": {},
   "outputs": [
    {
     "name": "stdin",
     "output_type": "stream",
     "text": [
      "What's the answer to the Great Question of Life, the Universe and Everything? (q to quit) 33\n"
     ]
    },
    {
     "name": "stdout",
     "output_type": "stream",
     "text": [
      "No\n"
     ]
    },
    {
     "name": "stdin",
     "output_type": "stream",
     "text": [
      "What's the answer to the Great Question of Life, the Universe and Everything? (q to quit) food\n"
     ]
    },
    {
     "name": "stdout",
     "output_type": "stream",
     "text": [
      "No\n"
     ]
    },
    {
     "name": "stdin",
     "output_type": "stream",
     "text": [
      "What's the answer to the Great Question of Life, the Universe and Everything? (q to quit) spices\n"
     ]
    },
    {
     "name": "stdout",
     "output_type": "stream",
     "text": [
      "No\n"
     ]
    },
    {
     "name": "stdin",
     "output_type": "stream",
     "text": [
      "What's the answer to the Great Question of Life, the Universe and Everything? (q to quit) music\n"
     ]
    },
    {
     "name": "stdout",
     "output_type": "stream",
     "text": [
      "No\n"
     ]
    },
    {
     "name": "stdin",
     "output_type": "stream",
     "text": [
      "What's the answer to the Great Question of Life, the Universe and Everything? (q to quit) 42\n"
     ]
    },
    {
     "name": "stdout",
     "output_type": "stream",
     "text": [
      "Yes\n"
     ]
    },
    {
     "name": "stdin",
     "output_type": "stream",
     "text": [
      "What's the answer to the Great Question of Life, the Universe and Everything? (q to quit) forty two\n"
     ]
    },
    {
     "name": "stdout",
     "output_type": "stream",
     "text": [
      "Yes\n"
     ]
    },
    {
     "name": "stdin",
     "output_type": "stream",
     "text": [
      "What's the answer to the Great Question of Life, the Universe and Everything? (q to quit) forty-two\n"
     ]
    },
    {
     "name": "stdout",
     "output_type": "stream",
     "text": [
      "Yes\n"
     ]
    },
    {
     "name": "stdin",
     "output_type": "stream",
     "text": [
      "What's the answer to the Great Question of Life, the Universe and Everything? (q to quit) q\n"
     ]
    },
    {
     "name": "stdout",
     "output_type": "stream",
     "text": [
      "Thanks for trying. Bye!\n"
     ]
    }
   ],
   "source": [
    "# Prompt the user for the answer to the Great Question of Life\n",
    "user = input(\"What's the answer to the Great Question of Life, the Universe and Everything? (q to quit)\")\n",
    "\n",
    "# Keep prompting the user while the input is not 'q'\n",
    "while user.lower() != \"q\":    \n",
    "    # Case-insensitivity\n",
    "    user = user.lower()\n",
    "    \n",
    "    # Output 'Yes' or 'No' based on user input\n",
    "    if user == str(42):\n",
    "        print(\"Yes\")\n",
    "    elif user == \"forty-two\":\n",
    "        print(\"Yes\")\n",
    "    elif user == \"forty two\":\n",
    "        print(\"Yes\")\n",
    "    elif user == \"q\":\n",
    "        break\n",
    "    else:\n",
    "        print(\"No\")\n",
    "\n",
    "    # Keep prompting the user\n",
    "    user = input(\"What's the answer to the Great Question of Life, the Universe and Everything? (q to quit)\")\n",
    "print(\"Thanks for trying. Bye!\")"
   ]
  },
  {
   "cell_type": "markdown",
   "id": "c2c842c9-5bbf-4aa3-86b0-776ef1a980c9",
   "metadata": {},
   "source": [
    "# Playback Speed"
   ]
  },
  {
   "cell_type": "code",
   "execution_count": 2,
   "id": "34ce57cc-9c80-4cec-898d-751f1d41ac4c",
   "metadata": {},
   "outputs": [
    {
     "name": "stdin",
     "output_type": "stream",
     "text": [
      "Say something please (q|Q to quit) Speaking really fast\n"
     ]
    },
    {
     "name": "stdout",
     "output_type": "stream",
     "text": [
      "Speaking...really...fast\n"
     ]
    },
    {
     "name": "stdin",
     "output_type": "stream",
     "text": [
      "Say something please (q|Q to quit) speaking really slow\n"
     ]
    },
    {
     "name": "stdout",
     "output_type": "stream",
     "text": [
      "speaking...really...slow\n"
     ]
    },
    {
     "name": "stdin",
     "output_type": "stream",
     "text": [
      "Say something please (q|Q to quit) hello info2000\n"
     ]
    },
    {
     "name": "stdout",
     "output_type": "stream",
     "text": [
      "hello...info2000\n"
     ]
    },
    {
     "name": "stdin",
     "output_type": "stream",
     "text": [
      "Say something please (q|Q to quit) q\n"
     ]
    },
    {
     "name": "stdout",
     "output_type": "stream",
     "text": [
      "Bye!\n"
     ]
    }
   ],
   "source": [
    "# Prompt the user for an input\n",
    "user = input(\"Say something please (q|Q to quit)\")\n",
    "\n",
    "# Keep prompting the user while input is not 'q'\n",
    "while user.lower() != \"q\":\n",
    "    # Output the same input but replaces each SPACE with '...'\n",
    "    print(user.replace(\" \", \"...\"))\n",
    "    # Prompt the user again\n",
    "    user = input(\"Say something please (q|Q to quit)\")\n",
    "print(\"Bye!\")"
   ]
  },
  {
   "cell_type": "markdown",
   "id": "ef18b16e-9891-4ada-a1d2-8ff8d4a586dd",
   "metadata": {},
   "source": [
    "# Database and Grades"
   ]
  },
  {
   "cell_type": "markdown",
   "id": "0845447e-8c4d-42ac-9fd0-2ca9dd97ba7a",
   "metadata": {},
   "source": [
    "## Part 1"
   ]
  },
  {
   "cell_type": "code",
   "execution_count": 3,
   "id": "8c74abf4-32e5-444b-81c4-128a77c325b2",
   "metadata": {},
   "outputs": [],
   "source": [
    "# Create/Reset the necessary databases\n",
    "user_database = {}\n",
    "grade_database = {'Math': None, 'Physics': None, 'Geography': None, 'Chemistry': None}"
   ]
  },
  {
   "cell_type": "code",
   "execution_count": 5,
   "id": "3601a68e-1020-46c5-ac37-14ca45a242c2",
   "metadata": {},
   "outputs": [
    {
     "name": "stdin",
     "output_type": "stream",
     "text": [
      "Name:  Swap\n",
      "Password:  hello\n"
     ]
    },
    {
     "name": "stdout",
     "output_type": "stream",
     "text": [
      "{'Math': 50, 'Physics': 60, 'Geography': 90, 'Chemistry': 100}\n"
     ]
    }
   ],
   "source": [
    "# Create a boolean that determines if the user's name exists in the database\n",
    "user_exists = False\n",
    "\n",
    "# Prompt the user for their name\n",
    "username = input(\"Name: \")\n",
    "\n",
    "# Check if the name exists in the database\n",
    "for key in user_database:\n",
    "    # If user's name exists in the database\n",
    "    if key == username:\n",
    "        # Set boolean user_exists to True\n",
    "        user_exists = True\n",
    "        # Prompt for thier password\n",
    "        password = input(\"Password: \")\n",
    "        # While the password entered is incorrect\n",
    "        while user_database[key] != password:\n",
    "            print(\"Incorrect password\")\n",
    "            password = input(\"Password: \")\n",
    "        print(grade_database)\n",
    "\n",
    "# If user doesn't exist in the database\n",
    "if user_exists == False:\n",
    "    # Request them to create a new password\n",
    "    password = input(\"New Password: \")\n",
    "    # Add their name and password to the database for future logins\n",
    "    user_database[username] = password\n",
    "\n",
    "    # Iterate through the grade_database\n",
    "    for specified_subject in grade_database:\n",
    "        # Prompt them for their grades\n",
    "        grade = int(input(f\"{specified_subject} Grade (0 - 100): \"))\n",
    "        # Store them for future access\n",
    "        grade_database[specified_subject] = grade"
   ]
  },
  {
   "cell_type": "markdown",
   "id": "fc616667-2d4f-4503-8b3c-756ec0bca24f",
   "metadata": {},
   "source": [
    "## Part 2"
   ]
  },
  {
   "cell_type": "code",
   "execution_count": 6,
   "id": "5519210b-1d3c-42c7-8d76-7e4239c0f581",
   "metadata": {},
   "outputs": [
    {
     "name": "stdout",
     "output_type": "stream",
     "text": [
      "who_passed_1 -> ['Curie', 'Einstein']\n",
      "who_passed_2 -> ['Cruise', 'Gandhi', 'Hawking', 'Newton']\n",
      "who_passed_3 -> []\n"
     ]
    }
   ],
   "source": [
    "# Given a dictionary named student_scores_1\n",
    "student_scores_1 = {\n",
    "    \"Einstein\": [\"5/5\", \"50/50\", \"10/10\", \"10/10\"],\n",
    "    \"Jordan\": [\"4/8\", \"50/57\", \"7/10\", \"10/18\"],\n",
    "    \"Tesla\": [\"8/10\", \"22/25\", \"3/5\", \"5/5\"],\n",
    "    \"Curie\": [\"3/3\", \"20/20\"]\n",
    "}\n",
    "\n",
    "# Create a list of students who passed for student_scores_1\n",
    "who_passed_1 = []\n",
    "for student, scores in student_scores_1.items(): # Iterate through the items in the dict\n",
    "    passed = True\n",
    "    for score in scores: # Iterate through the list\n",
    "        if score.split('/')[0] != score.split('/')[1]: # If the score is not 'a/a'\n",
    "            passed = False\n",
    "            break\n",
    "    if passed: # If score is 'a/a'\n",
    "        who_passed_1.append(student)\n",
    "\n",
    "# Sort the list alphabetically for student_scores_1\n",
    "who_passed_1.sort()\n",
    "\n",
    "print(\"who_passed_1 ->\", who_passed_1)\n",
    "\n",
    "# Given a dictionary named student_scores_2\n",
    "student_scores_2 = {\n",
    "    \"Hawking\": [\"10/10\"],\n",
    "    \"Newton\": [\"30/30\"],\n",
    "    \"Gandhi\": [\"100/100\"],\n",
    "    \"Cruise\": [\"1/1\"]\n",
    "}\n",
    "\n",
    "# Create a list of students who passed for student_scores_2\n",
    "who_passed_2 = []\n",
    "for student, scores in student_scores_2.items(): # Iterate through the items in the dict\n",
    "    passed = True\n",
    "    for score in scores: # Iterate through the list\n",
    "        if score.split('/')[0] != score.split('/')[1]: # If the score is not 'a/a'\n",
    "            passed = False\n",
    "            break\n",
    "    if passed: # If score is 'a/a'\n",
    "        who_passed_2.append(student)\n",
    "\n",
    "# Sort the list alphabetically for student_scores_2\n",
    "who_passed_2.sort()\n",
    "\n",
    "print(\"who_passed_2 ->\", who_passed_2)\n",
    "\n",
    "# Given a dictionary named student_scores_3\n",
    "student_scores_3 = {\n",
    "    \"Turing\": [\"10/10\", \"2/4\"],\n",
    "    \"Ali\": [\"7/9\", \"2/3\"]\n",
    "}\n",
    "\n",
    "# Create a list of students who passed for student_scores_3\n",
    "who_passed_3 = []\n",
    "for student, scores in student_scores_3.items(): # Iterate through the items in the duct\n",
    "    passed = True\n",
    "    for score in scores: # Iterate through the list\n",
    "        if score.split('/')[0] != score.split('/')[1]: # If the score is not 'a/a'\n",
    "            passed = False\n",
    "            break\n",
    "    if passed: # If score is 'a/a'\n",
    "        who_passed_3.append(student)\n",
    "\n",
    "# Sort the list alphabetically for student_scores_1\n",
    "who_passed_3.sort()\n",
    "\n",
    "print(\"who_passed_3 ->\", who_passed_3)\n"
   ]
  },
  {
   "cell_type": "markdown",
   "id": "e6459c8e-9981-4f6f-8f92-eacb4d99faf8",
   "metadata": {},
   "source": [
    "# Pluralizing"
   ]
  },
  {
   "cell_type": "code",
   "execution_count": 7,
   "id": "03bf9972-af84-4e2e-a114-78b71cd384cd",
   "metadata": {},
   "outputs": [
    {
     "name": "stdin",
     "output_type": "stream",
     "text": [
      "Name (enter 'q' to quit):  Einstein\n"
     ]
    },
    {
     "name": "stdout",
     "output_type": "stream",
     "text": [
      "Hello Einstein, you get 4 bananas. Enjoy!\n"
     ]
    },
    {
     "name": "stdin",
     "output_type": "stream",
     "text": [
      "Name (enter 'q' to quit):  Curie\n"
     ]
    },
    {
     "name": "stdout",
     "output_type": "stream",
     "text": [
      "Hello Curie, you get 6 apples. Enjoy!\n"
     ]
    },
    {
     "name": "stdin",
     "output_type": "stream",
     "text": [
      "Name (enter 'q' to quit):  Newton\n"
     ]
    },
    {
     "name": "stdout",
     "output_type": "stream",
     "text": [
      "Hello Newton, you get 4 watermelons. Enjoy!\n"
     ]
    },
    {
     "name": "stdin",
     "output_type": "stream",
     "text": [
      "Name (enter 'q' to quit):  q\n"
     ]
    }
   ],
   "source": [
    "import random\n",
    "\n",
    "# Given a list of 10 fruits\n",
    "fruits = [\"apple\",\"banana\",\"orange\",\"grape\",\"kiwi\",\"mango\",\"strawberry\",\"pineapple\",\"watermelon\",\"cherry\"]\n",
    "\n",
    "while True:\n",
    "    # Ask the user for their name\n",
    "    name = input(\"Name (enter 'q' to quit): \")\n",
    "\n",
    "    # Quit if the user enters 'q' or 'Q'\n",
    "    if name.lower() == 'q':\n",
    "        break\n",
    "    \n",
    "    # Randomly select a number between 0 and 10\n",
    "    number = random.randint(0,10)\n",
    "    \n",
    "    # Pick one type of fruit from the list to give to the user\n",
    "    random_fruit = random.randint(0,9)\n",
    "    fruit = fruits[random_fruit]\n",
    "    \n",
    "    if number == 0: # If the user receives 0 fruits\n",
    "        print(f\"Sorry {name}, you get no fruits today.\")\n",
    "    elif number == 1: # If the user receives only one fruit\n",
    "        print(f\"Hello {name}, you get {number} {fruit}. Enjoy!\")\n",
    "    else: # If the user receives multiple fruits\n",
    "        if fruit.endswith(\"y\"): # If the fruit string ends with 'y'\n",
    "            fruit = fruit[:-1] + \"ies\"\n",
    "            print(f\"Hello {name}, you get {number} {fruit}. Enjoy!\")\n",
    "        else: # If the fruit does not end in 'y'\n",
    "            fruit = fruit + \"s\"\n",
    "            print(f\"Hello {name}, you get {number} {fruit}. Enjoy!\")"
   ]
  },
  {
   "cell_type": "code",
   "execution_count": null,
   "id": "59d429ff-72db-455a-884b-6c65342aed53",
   "metadata": {},
   "outputs": [],
   "source": []
  }
 ],
 "metadata": {
  "kernelspec": {
   "display_name": "base",
   "language": "python",
   "name": "base"
  },
  "language_info": {
   "codemirror_mode": {
    "name": "ipython",
    "version": 3
   },
   "file_extension": ".py",
   "mimetype": "text/x-python",
   "name": "python",
   "nbconvert_exporter": "python",
   "pygments_lexer": "ipython3",
   "version": "3.9.18"
  }
 },
 "nbformat": 4,
 "nbformat_minor": 5
}
