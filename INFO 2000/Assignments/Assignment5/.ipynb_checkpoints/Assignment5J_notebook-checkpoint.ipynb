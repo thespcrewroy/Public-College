{
 "cells": [
  {
   "cell_type": "markdown",
   "id": "0d094863-6fe2-4a2e-89c8-f5d61cf35d33",
   "metadata": {},
   "source": [
    "# Assignment 5 Solution\n"
   ]
  },
  {
   "cell_type": "markdown",
   "id": "372d4566-68e8-493c-8a85-35c14fd4382c",
   "metadata": {},
   "source": [
    "## 1. Palindrome detector: \n",
    "\n",
    "Ask the user for a word and print ’True’ if it is a palindrome, otherwise, print\n",
    "’False’.(A palindrome is a string that reads the same forwards and backwards.) Make sure to take care\n",
    "of user inconsistencies. e.g. trailing or leading white spaces shouldn’t make your program fail to detect\n",
    "the palindrome. Same with inconsistent capitalization or if the word has a mixture of upper or lower\n",
    "case letters. i.e if a user enters civic, CIvIC, cIVIc your program should print true"
   ]
  },
  {
   "cell_type": "code",
   "execution_count": 1,
   "id": "08e3591d-1e07-4a21-8d4b-e776b29be405",
   "metadata": {},
   "outputs": [
    {
     "name": "stdin",
     "output_type": "stream",
     "text": [
      "Please enter palindromatic word: civIC\n"
     ]
    },
    {
     "name": "stdout",
     "output_type": "stream",
     "text": [
      "True\n"
     ]
    }
   ],
   "source": [
    "# get user input\n",
    "word = input(\"Please enter palindromatic word:\").casefold() # casefold it to avoid case inconsistencies\n",
    "word = word.strip() # strip both trailing and leading whitespace\n",
    "print(word == word[::-1]) # reverse the word and compare it to the original"
   ]
  },
  {
   "cell_type": "markdown",
   "id": "24b8c130-b74e-47ac-994d-99e9f4d968aa",
   "metadata": {},
   "source": [
    "## 2. Password generator: \n",
    "\n",
    "Sometimes, when you create a new account online, google suggests a strong\n",
    "random password for your account. Let’s recreate that functionality! Write a program that asks the user\n",
    "for the length of password that the user desires. Then, generate a random password of the desired length\n",
    "with a mix of uppercase and lowercase letters, numbers and special characters. Print the password."
   ]
  },
  {
   "cell_type": "code",
   "execution_count": 2,
   "id": "2798da0b-d8e6-4cfa-a0be-1218885e026c",
   "metadata": {},
   "outputs": [
    {
     "name": "stdin",
     "output_type": "stream",
     "text": [
      "Enter password length: 20\n"
     ]
    },
    {
     "name": "stdout",
     "output_type": "stream",
     "text": [
      "Your new password is: X4)KNt9yd\\.g@1iU=o$T\n"
     ]
    }
   ],
   "source": [
    "import random # import random library to access its functions\n",
    "\n",
    "password_length = int(input(\"Enter password length:\")) # get input from user and cast it into an int\n",
    "character_pool = 'ABCDEFGHIJKLMNOPQRSTUVWXYZabcdefghijklmnopqrstuvwxyz012345789~!@#$%^&*()-=]|\\/.,'\n",
    "\n",
    "# Now sample the password from the string\n",
    "password = \"\".join(random.sample(character_pool, password_length)) # join to create a string from the result of sampling (which is a list)\n",
    "\n",
    "print(f\"Your new password is: {password}\")"
   ]
  },
  {
   "cell_type": "markdown",
   "id": "626fac5d-d614-4696-8fea-47902b3e0f57",
   "metadata": {},
   "source": [
    "## 3. Century age calculator: \n",
    "\n",
    "Write a program that asks the user for their name and their age. Then print out\n",
    "a message addressing them by their name and telling them the year that they will turn 100 years old. e.g\n",
    "If Messi (who’s 36 years old) ran your program, it would print out: ” Hello Messi! You will turn 100 in\n",
    "the year 2087!”"
   ]
  },
  {
   "cell_type": "code",
   "execution_count": 3,
   "id": "256642aa-1b15-4855-9f17-a49c90240308",
   "metadata": {},
   "outputs": [
    {
     "name": "stdin",
     "output_type": "stream",
     "text": [
      "Your name please: Messi\n",
      "Your age please: 36\n"
     ]
    },
    {
     "name": "stdout",
     "output_type": "stream",
     "text": [
      "Hello Messi! You will turn 100 in the year 2087\n"
     ]
    }
   ],
   "source": [
    "# get user input\n",
    "name = input(\"Your name please:\")\n",
    "age = int(input(\"Your age please:\"))\n",
    "print(f\"Hello {name}! You will turn 100 in the year {2023 - age + 100}\")"
   ]
  },
  {
   "cell_type": "markdown",
   "id": "87260641-24b1-48ec-bd90-cf45bed3fbe6",
   "metadata": {},
   "source": [
    "## 4\n",
    "print the following statement verbatim using raw strings and/or f string formatting:\n",
    "````verbatim\n",
    "\"The world is round\", said the quick brown fox, ’and the\n",
    "ocean is blue’, said the lazy dog.\n",
    "````"
   ]
  },
  {
   "cell_type": "code",
   "execution_count": 4,
   "id": "1005f579-4046-47b8-ba74-88f53893c266",
   "metadata": {},
   "outputs": [
    {
     "name": "stdout",
     "output_type": "stream",
     "text": [
      " \"The world is round\", said the quick brown fox, 'and the\n",
      "ocean is blue', said the lazy dog.\n"
     ]
    }
   ],
   "source": [
    "my_string = ''' \"The world is round\", said the quick brown fox, 'and the\n",
    "ocean is blue', said the lazy dog.'''\n",
    "print(my_string)"
   ]
  },
  {
   "cell_type": "markdown",
   "id": "0d30ef54-13ee-4cc9-8a5c-4d9945b5a09b",
   "metadata": {},
   "source": [
    "## 5 Divider\n"
   ]
  },
  {
   "cell_type": "code",
   "execution_count": 5,
   "id": "497b6ec2-2944-450f-b20d-a28a5ea80dcd",
   "metadata": {},
   "outputs": [
    {
     "name": "stdin",
     "output_type": "stream",
     "text": [
      "Enter the numerator: 88\n",
      "Enter the denominator: 22.3\n"
     ]
    },
    {
     "name": "stdout",
     "output_type": "stream",
     "text": [
      "88.0 ÷ 22.3 = +3.95\n"
     ]
    }
   ],
   "source": [
    "# division with formatted printing\n",
    "num1 = float(input(\"Enter the numerator:\"))\n",
    "num2 = float(input(\"Enter the denominator:\"))\n",
    "print(f\"{num1} {chr(247)} {num2} = {num1/num2:+.2f}\") # chr() and ord() are opposites. character <-> integer and vice versa"
   ]
  },
  {
   "cell_type": "markdown",
   "id": "699408ef-abbf-459c-bca8-f7ebe274f1cc",
   "metadata": {},
   "source": [
    "## Dot Product Calculator: \n",
    "\n",
    "The dot product of two matrices combines the two matrices (not necessarily\n",
    "of the same dimension) into a third matrix. It involves taking the sum of the product of corresponding\n",
    "elements from the rows of the first matrix and the columns of the second matrix.\n",
    "The dot product is useful for operations in deep learning, optimization among other topics.\n",
    "\n",
    "Assuming that we represent matrices as nested lists, e.g.\n",
    "matrix1 = [[1, 2], [3, 4]]\n",
    "matrix2 = [[5, 6], [7, 8]]\n",
    "\n",
    "\n",
    "Write a program that calculates the dot product of any two matrices whose dimensions agree, and prints\n",
    "out the result. Confirm that your program can handle matrices that are not square matrices e.g does it\n",
    "compute the dot product of a 5 by 2 matrix and a 2 by 3 matrix? (this would result in a 5 by 3 matrix)"
   ]
  },
  {
   "cell_type": "code",
   "execution_count": 21,
   "id": "1a5e716d-768c-445d-8fb1-18791341831d",
   "metadata": {},
   "outputs": [
    {
     "name": "stdout",
     "output_type": "stream",
     "text": [
      "empty result matrix: [[0, 0], [0, 0]]\n",
      "[[245, 260], [620, 660]]\n"
     ]
    }
   ],
   "source": [
    "matrix1 = [[1,2,3,4,5],[6,7,8,9,10]] # 2 by 5\n",
    "matrix2 = [[11,12],[13,14],[15,16],[17,18],[19,20]] # 5 by 2\n",
    "# we expect the result to be a 2 by 2 matrix\n",
    "\n",
    "# generate an empty matrix to hold the dot product\n",
    "# recall, the new matrix has the same number of columns as the matrix on the left \n",
    "# and same number of rows as the matrix on the right\n",
    "dot = []\n",
    "for _ in range(len(matrix1)): #rows of left hand side matrix\n",
    "    row = []\n",
    "    for _ in range(len(matrix2[0])): # columns of RH matrix\n",
    "        row.append(0)\n",
    "    dot.append(row)\n",
    "print (f\"empty result matrix: {dot}\")\n",
    "        \n",
    "\n",
    "for i in range(len(matrix1)): #rows of left hand side matrix\n",
    "    for j in range(len(matrix2[0])): # Iterate over columns of the second matrix\n",
    "        for k in range(len(matrix2)):\n",
    "            dot[i][j] += matrix1[i][k] * matrix2[k][j]\n",
    "print(dot)"
   ]
  },
  {
   "cell_type": "code",
   "execution_count": 7,
   "id": "3ef3a682-ff0f-43c2-a222-6b3ccd8561f4",
   "metadata": {},
   "outputs": [
    {
     "name": "stdout",
     "output_type": "stream",
     "text": [
      "[[245 260]\n",
      " [620 660]]\n"
     ]
    }
   ],
   "source": [
    "# sanity check with numpy\n",
    "import numpy as np\n",
    "m1 = np.matrix(matrix1)\n",
    "m2 = np.matrix(matrix2)\n",
    "print(m1.dot(m2))"
   ]
  },
  {
   "cell_type": "code",
   "execution_count": 8,
   "id": "31e81d72-bafe-4105-aeed-cfccb7be9886",
   "metadata": {},
   "outputs": [
    {
     "name": "stdout",
     "output_type": "stream",
     "text": [
      "[[0, 0, 0], [0, 0, 0], [0, 0, 0]]\n",
      "[[84, 90, 96], [201, 216, 231], [318, 342, 366]]\n"
     ]
    }
   ],
   "source": [
    "# test the solution with a square matrix\n",
    "# square matrix\n",
    "matrix1 = [[1,2,3],[4,5,6],[7,8,9]] # 3 by 3\n",
    "matrix2 = [[10,11,12],[13,14,15],[16,17,18]] # 3 by 3\n",
    "\n",
    "# we expect the result to be a 3 by 3 matrix\n",
    "\n",
    "# generate an empty matrix to hold the dot product\n",
    "# recall, the new matrix has the same number of columns as the matrix on the left \n",
    "# and same number of rows as the matrix on the right\n",
    "dot = []\n",
    "for _ in range(len(matrix1)): #rows of left hand side matrix\n",
    "    row = []\n",
    "    for _ in range(len(matrix2[0])): # columns of RH matrix\n",
    "        row.append(0)\n",
    "    dot.append(row)\n",
    "print (dot)\n",
    "\n",
    "for i in range(len(matrix1)): #rows of left hand side matrix\n",
    "    for j in range(len(matrix2[0])): # Iterate over columns of the second matrix\n",
    "        for k in range(len(matrix2)):\n",
    "            dot[i][j] += matrix1[i][k] * matrix2[k][j]\n",
    "print(dot)"
   ]
  },
  {
   "cell_type": "code",
   "execution_count": 9,
   "id": "4485d4aa-c695-450e-8e4a-67b66ba89a25",
   "metadata": {},
   "outputs": [
    {
     "name": "stdout",
     "output_type": "stream",
     "text": [
      "[[ 84  90  96]\n",
      " [201 216 231]\n",
      " [318 342 366]]\n"
     ]
    }
   ],
   "source": [
    "m1 = np.matrix(matrix1)\n",
    "m2 = np.matrix(matrix2)\n",
    "print(m1.dot(m2))"
   ]
  },
  {
   "cell_type": "code",
   "execution_count": 10,
   "id": "77cc6e34-3200-47a2-b7c5-76594f568ea7",
   "metadata": {},
   "outputs": [
    {
     "name": "stdout",
     "output_type": "stream",
     "text": [
      "[10, 13, 16]\n"
     ]
    }
   ],
   "source": [
    "# A (step-by-step) walkthrough of a solution to the dot product\n",
    "\n",
    "\n",
    "# the goal is to get the columns of the second matrix and multiply them with the rows of the first matrix\n",
    "# for example, given two square matrices:\n",
    "# matrix1 = [[1,2,3],[4,5,6],[7,8,9]] # 3 by 3\n",
    "# matrix2 = [[10,11,12],[13,14,15],[16,17,18]] # 3 by 3\n",
    "\n",
    "# we see that we can easily get the rows of the first matrix by iterating through the list\n",
    "# matrix1[0] gives you the first row, matrix1[1] gives you the second row and so on and so forth\n",
    "# but extracting the columns of the second matrix is not straightfoward because of how we're representing the matrix\n",
    "# We need to manipulate things a little to get the desired form\n",
    "\n",
    "# to get the first column, we need to get the first element of the nested lists e.g. \n",
    "# if matrix2 = [[10,11,12],[13,14,15],[16,17,18]], we need to get 10, 13, and 16 to form the first column\n",
    "# in python, we can do it this way:\n",
    "matrix2 = [[10,11,12],[13,14,15],[16,17,18]]\n",
    "col1 = []\n",
    "for row in matrix2:\n",
    "    col1.append(row[0])\n",
    "print(col1)\n"
   ]
  },
  {
   "cell_type": "code",
   "execution_count": 11,
   "id": "aed70e37-99ff-41d2-ae14-4f20ee60a50f",
   "metadata": {},
   "outputs": [
    {
     "name": "stdout",
     "output_type": "stream",
     "text": [
      "[11, 14, 17]\n"
     ]
    }
   ],
   "source": [
    "# likewise, to get the second column, we need to get the second element in each of the nested lists as follows\n",
    "col2 = []\n",
    "for row in matrix2:\n",
    "    col2.append(row[1])\n",
    "print(col2)"
   ]
  },
  {
   "cell_type": "code",
   "execution_count": 12,
   "id": "d4b82c3d-fb17-42ac-9138-8f5e93b12eec",
   "metadata": {},
   "outputs": [
    {
     "name": "stdout",
     "output_type": "stream",
     "text": [
      "[12, 15, 18]\n"
     ]
    }
   ],
   "source": [
    "# third column\n",
    "col3 = []\n",
    "for row in matrix2:\n",
    "    col3.append(row[2])\n",
    "print(col3)"
   ]
  },
  {
   "cell_type": "code",
   "execution_count": 13,
   "id": "4c81fd81-a527-40cc-a8c1-645653e14ff9",
   "metadata": {},
   "outputs": [
    {
     "name": "stdout",
     "output_type": "stream",
     "text": [
      "original matrix:  [[10, 11, 12], [13, 14, 15], [16, 17, 18]]\n",
      "transposed matrix: [[10, 13, 16], [11, 14, 17], [12, 15, 18]]\n"
     ]
    }
   ],
   "source": [
    "# so, basically, we have transposed our matrix2!\n",
    "matrix2_transposed = [col1,col2,col3]\n",
    "print(f\"original matrix:  {matrix2}\")\n",
    "print(f\"transposed matrix: {matrix2_transposed}\")"
   ]
  },
  {
   "cell_type": "code",
   "execution_count": 14,
   "id": "f0fd71d6-1735-4d7a-b260-851390df1c4c",
   "metadata": {},
   "outputs": [
    {
     "name": "stdout",
     "output_type": "stream",
     "text": [
      "[[0, 0, 0, 0, 0], [0, 0, 0, 0, 0]]\n"
     ]
    }
   ],
   "source": [
    "# can we do it in one go using for loops? We want our solution to work for any 2 dimensional matrix size, not just for 3 by 3 matrices\n",
    "# let's test it with non-square matrices\n",
    "matrix1 = [[1,2,3,4,5],[6,7,8,9,10]] # 2 by 5\n",
    "matrix2 = [[11,12],[13,14],[15,16],[17,18],[19,20]] # 5 by 2\n",
    "matrix2_transposed = [] # note, this overwrites the matrix2_transposed that we created manually in the previous cell\n",
    "#if matrix2 is of size n by m, the size of the transposed matrix is going to be m by n\n",
    "n = len(matrix2)\n",
    "m = len(matrix2[0]) # length of any of the internal lists gives us the number of columns\n",
    "\n",
    "# create an empty transposed matrix:\n",
    "for i in range(m):\n",
    "    row = []\n",
    "    for j in range(n):\n",
    "        row.append(0)\n",
    "    matrix2_transposed.append(row)\n",
    "print(matrix2_transposed)\n",
    "\n"
   ]
  },
  {
   "cell_type": "code",
   "execution_count": 15,
   "id": "320087f5-83d2-416e-abb1-30b27f55d46e",
   "metadata": {},
   "outputs": [
    {
     "name": "stdout",
     "output_type": "stream",
     "text": [
      "[[11, 13, 15, 17, 19], [12, 14, 16, 18, 20]]\n",
      "matrix1: [[1, 2, 3, 4, 5], [6, 7, 8, 9, 10]]\n",
      "original matrix2:  [[11, 12], [13, 14], [15, 16], [17, 18], [19, 20]]\n",
      "transposed matrix2: [[11, 13, 15, 17, 19], [12, 14, 16, 18, 20]]\n"
     ]
    }
   ],
   "source": [
    "# you'll notice that this is very similar to the operation that we need to do! \n",
    "# i.e we want to fill matrix2_transposed rows with the column values of matrix2 (instead of with zeros)\n",
    "# remember how the columns correspond to the rows?\n",
    "\n",
    "# from this comment : \n",
    "# to get the first column: we need to get the first element of the nested lists e.g. \n",
    "# if matrix2 = [[10,11,12],[13,14,15],[16,17,18]], we need to get 10, 13, and 14 to form the first column\n",
    "            \n",
    "# transpose\n",
    "for i in range(len(matrix2)):\n",
    "    for j in range(len(matrix2[0])):\n",
    "        matrix2_transposed[j][i] = matrix2[i][j] # basically swapping the row and column indeces\n",
    "print(matrix2_transposed)            \n",
    "\n",
    "print(f\"matrix1: {matrix1}\")\n",
    "print(f\"original matrix2:  {matrix2}\")\n",
    "print(f\"transposed matrix2: {matrix2_transposed}\")"
   ]
  },
  {
   "cell_type": "code",
   "execution_count": 16,
   "id": "d161d83b-a900-4182-9999-f3e4a802e6cb",
   "metadata": {},
   "outputs": [
    {
     "name": "stdout",
     "output_type": "stream",
     "text": [
      "245\n",
      "260\n",
      "620\n",
      "660\n"
     ]
    }
   ],
   "source": [
    "# first , let's do a sanity check and confirm that our dot product works before assigning it to the empty result matrix\n",
    "for row in matrix1:\n",
    "    for column in matrix2_transposed:  \n",
    "        total = 0\n",
    "        for r,c in zip(row,column): # r is row in matrix1, and c is column in matrix2\n",
    "            total += r*c\n",
    "        print(total)"
   ]
  },
  {
   "cell_type": "code",
   "execution_count": 17,
   "id": "4f181072-f0eb-458c-9365-ca6dc7e52e23",
   "metadata": {},
   "outputs": [
    {
     "name": "stdout",
     "output_type": "stream",
     "text": [
      "[[0, 0], [0, 0]]\n"
     ]
    }
   ],
   "source": [
    "# now that we have transposed the matrix, and confirmed that our multiplication operation works...\n",
    "#...we can perform the actual multiplication for the dot product while assigning it to our empty result matrix\n",
    "\n",
    "# We can use the loop structure that we developed above to iterate through the matrices\n",
    "\n",
    "# let's create an empty matrix to hold the values of the resulting dot product\n",
    "# it'll be of size len(matrix1) and len(matrix2[0])\n",
    "dot_matrix = []\n",
    "for i in range (len(matrix1)):\n",
    "    row = []\n",
    "    for j in range(len(matrix2[0])):\n",
    "        row.append(0)\n",
    "    dot_matrix.append(row)\n",
    "print(dot_matrix)"
   ]
  },
  {
   "cell_type": "code",
   "execution_count": 18,
   "id": "195254d4-4e6d-4927-9fbd-5b6accb5ae2e",
   "metadata": {},
   "outputs": [
    {
     "name": "stdout",
     "output_type": "stream",
     "text": [
      "245\n",
      "260\n",
      "620\n",
      "660\n",
      "[[245, 260], [620, 660]]\n"
     ]
    }
   ],
   "source": [
    "# Now, we just need to assign the sums to our empty dot_matrix and we're done!\n",
    "# Our main challenge here is to figure out how the sums get stored in the results matrix\n",
    "result_matrix = []\n",
    "for row in matrix1:\n",
    "    result_row = []\n",
    "    for column in matrix2_transposed:  \n",
    "        total = 0\n",
    "        for r,c in zip(row,column): # r is row in matrix1, and c is column in matrix2\n",
    "            total += r*c\n",
    "        print(total)\n",
    "        result_row.append(total)\n",
    "    result_matrix.append(result_row)\n",
    "print(result_matrix)\n"
   ]
  },
  {
   "cell_type": "code",
   "execution_count": 19,
   "id": "d98255a2-513a-4ba4-892f-de2f3c0ef0e3",
   "metadata": {},
   "outputs": [
    {
     "name": "stdout",
     "output_type": "stream",
     "text": [
      "solution: [[84, 90, 96], [201, 216, 231], [318, 342, 366]]\n"
     ]
    }
   ],
   "source": [
    "# The solution in full:\n",
    "# combining all the parts into one cell\n",
    "\n",
    "# # uncomment these to test with square matrices\n",
    "matrix1 = [[1,2,3],[4,5,6],[7,8,9]] # 3 by 3\n",
    "matrix2 = [[10,11,12],[13,14,15],[16,17,18]] # 3 by 3\n",
    "\n",
    "# uncomment to test with non-square matrices\n",
    "# matrix1 = [[1,2,3,4,5],[6,7,8,9,10]] # 2 by 5\n",
    "# matrix2 = [[11,12],[13,14],[15,16],[17,18],[19,20]] # 5 by 2\n",
    "\n",
    "# create empty matrix to hold the transpose of matrix2\n",
    "#if matrix2 is of size n by m, the size of the transposed matrix is going to be m by n\n",
    "n = len(matrix2)\n",
    "m = len(matrix2[0]) # length of any of the internal lists gives us the number of columns\n",
    "\n",
    "# create an empty transposed matrix:\n",
    "matrix2_transposed = []\n",
    "for i in range(m):\n",
    "    row = []\n",
    "    for j in range(n):\n",
    "        row.append(0)\n",
    "    matrix2_transposed.append(row)\n",
    "\n",
    "# transpose matrix2\n",
    "for i in range(len(matrix2)):\n",
    "    for j in range(len(matrix2[0])):\n",
    "        matrix2_transposed[j][i] = matrix2[i][j] # basically swapping the row and column indeces\n",
    "# print(matrix2_transposed)     \n",
    "\n",
    "\n",
    "# perform the multiplication and assignment to result matrix\n",
    "result_matrix = []\n",
    "for row in matrix1:\n",
    "    result_row = []\n",
    "    for column in matrix2_transposed:  \n",
    "        total = 0\n",
    "        for r,c in zip(row,column): # r is row in matrix1, and c is column in matrix2\n",
    "            total += r*c\n",
    "        result_row.append(total)\n",
    "    result_matrix.append(result_row)\n",
    "print(f'solution: {result_matrix}')\n"
   ]
  },
  {
   "cell_type": "markdown",
   "id": "275b3a2d-7a2a-4ab1-b13c-06aad56a3388",
   "metadata": {},
   "source": [
    "## The doctors\n",
    "\n",
    "Use a for loop to append the letters “Dr.” in front of each name in the following list: [”Phil”, ”Oz”, ”Seuss”,\n",
    "”Dre”, ”Johnsen”, ”Morelock”] . Save the prefixed names in a new list called updated docs. updated docs\n",
    "should be: [”Dr.Phil”, ”Dr.Oz”, ”Dr.Seuss”, ”Dr.Dre”, ”Dr.Johnsen”, ”Dr.Morelock”]"
   ]
  },
  {
   "cell_type": "code",
   "execution_count": 20,
   "id": "519de1de-f155-4520-b4ee-d286d9fd112d",
   "metadata": {},
   "outputs": [
    {
     "name": "stdout",
     "output_type": "stream",
     "text": [
      "['Dr. Phil', 'Dr. Oz', 'Dr. Seuss', 'Dr. Dre', 'Dr. Johnsen', 'Dr. Morelock']\n"
     ]
    }
   ],
   "source": [
    "docs = ['Phil', 'Oz', 'Seuss','Dre', 'Johnsen', 'Morelock']\n",
    "updated_docs = []\n",
    "for doctor in docs:\n",
    "    updated_docs.append(\"Dr. \" + doctor)\n",
    "print(updated_docs)"
   ]
  }
 ],
 "metadata": {
  "kernelspec": {
   "display_name": "info2000",
   "language": "python",
   "name": "info2000"
  },
  "language_info": {
   "codemirror_mode": {
    "name": "ipython",
    "version": 3
   },
   "file_extension": ".py",
   "mimetype": "text/x-python",
   "name": "python",
   "nbconvert_exporter": "python",
   "pygments_lexer": "ipython3",
   "version": "3.9.16"
  }
 },
 "nbformat": 4,
 "nbformat_minor": 5
}
