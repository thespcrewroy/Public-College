{
 "cells": [
  {
   "cell_type": "code",
   "execution_count": null,
   "metadata": {},
   "outputs": [],
   "source": [
    "# We'll use matrix decomposition from linear algebra to do some image processing\n"
   ]
  },
  {
   "cell_type": "code",
   "execution_count": null,
   "metadata": {},
   "outputs": [],
   "source": [
    "import numpy as np\n",
    "import cv2\n",
    "import matplotlib.pyplot as plt\n",
    "import matplotlib\n",
    "from scipy import misc"
   ]
  },
  {
   "cell_type": "code",
   "execution_count": null,
   "metadata": {},
   "outputs": [],
   "source": [
    "img = misc.face()\n",
    "# img = cv2.imread('face.png')\n"
   ]
  },
  {
   "cell_type": "code",
   "execution_count": null,
   "metadata": {},
   "outputs": [],
   "source": [
    "# show the image\n",
    "plt.imshow(img)"
   ]
  },
  {
   "cell_type": "code",
   "execution_count": null,
   "metadata": {},
   "outputs": [],
   "source": [
    "# get the shape, axis and array properties\n",
    "print(img.shape)\n",
    "print(type(img))\n",
    "print(img.ndim)"
   ]
  },
  {
   "cell_type": "code",
   "execution_count": null,
   "metadata": {},
   "outputs": [],
   "source": [
    "# crop the immage\n",
    "\n",
    "cropped_image = img[50:500,400:850,:]\n",
    "plt.imshow(cropped_image)"
   ]
  },
  {
   "cell_type": "code",
   "execution_count": null,
   "metadata": {},
   "outputs": [],
   "source": [
    "# the three dimensions represent the red green blue color channels of the image\n",
    "# img[:,:,0] # red channel\n",
    "# img[:,:,1] green channel\n",
    "# img[:,:,2] blue \n",
    "rgb_image = np.zeros(img.shape, dtype=\"uint8\")\n",
    "rgb_image[:,:,0] = img[:,:,0]\n",
    "plt.imshow(rgb_image)\n"
   ]
  },
  {
   "cell_type": "code",
   "execution_count": null,
   "metadata": {},
   "outputs": [],
   "source": [
    "fig,axs = plt.subplots(2,2)\n",
    "colors = ['red', 'green', 'blue']\n",
    "for i in range(2):    \n",
    "    for j in range(2):\n",
    "        ax = axs[i,j]\n",
    "        if i == 1 and j == 1:\n",
    "            break\n",
    "        c = i*2 + j\n",
    "        print(c)\n",
    "        rgb_image = np.zeros(img.shape, dtype=\"uint8\")\n",
    "        rgb_image[:,:,c] = img[:,:,c]\n",
    "        ax.imshow(rgb_image)\n",
    "        ax.set_title(colors[c])        \n",
    "\n",
    "plt.suptitle(\"The different channels\")\n",
    "plt.tight_layout()"
   ]
  },
  {
   "cell_type": "code",
   "execution_count": null,
   "metadata": {},
   "outputs": [],
   "source": [
    "print(img.max(), img.min()) # max and min values in the image"
   ]
  },
  {
   "cell_type": "code",
   "execution_count": null,
   "metadata": {},
   "outputs": [],
   "source": [
    "# let's convert the values into floats for better linear algebra operations\n",
    "# Normalizing...\n",
    "img_array = img/255"
   ]
  },
  {
   "cell_type": "code",
   "execution_count": null,
   "metadata": {},
   "outputs": [],
   "source": [
    "print(img_array.max(), img_array.min(), img_array.dtype)"
   ]
  },
  {
   "cell_type": "code",
   "execution_count": null,
   "metadata": {},
   "outputs": [],
   "source": [
    "# assign each color to a seperate matrix using array slicing\n",
    "\n",
    "red_channel = img_array[:,:,0]\n",
    "green_channel = img_array[:,:,1]\n",
    "blue_channel = img_array[:,:,2]"
   ]
  },
  {
   "cell_type": "code",
   "execution_count": null,
   "metadata": {},
   "outputs": [],
   "source": [
    "# from linear algebra, it's possible to approximate existing sets of data\n",
    "# we'll use the SVF (Singular Value decomposition)\n",
    "#SVD returns 3 matrices which can be multiplied to form a given matrix A\n",
    "# U.S.V_transpose = A\n",
    "#U and V are square, and S is same size as A\n",
    "# S is a diagonal matrix and contains the singular values of A\n",
    "# The values on the diagonal are always non-negative \n",
    "# and is an indicator of the importance of some features in A\n"
   ]
  },
  {
   "cell_type": "code",
   "execution_count": null,
   "metadata": {},
   "outputs": [],
   "source": [
    "# According to colorimetry you can obtain a grayscale image\n",
    "# of a color image using the following formula\n",
    "# Y = 0.2126R + 0.7152G + 0.0722B\n",
    "\n",
    "# img_gray = img_array @ [0.2126, 0.7152, 0.0722]\n",
    "img_gray=np.matmul(img_array,[0.2126, 0.7152, 0.0722])"
   ]
  },
  {
   "cell_type": "code",
   "execution_count": null,
   "metadata": {},
   "outputs": [],
   "source": [
    "img_gray.shape"
   ]
  },
  {
   "cell_type": "code",
   "execution_count": null,
   "metadata": {},
   "outputs": [],
   "source": [
    "plt.imshow(img_gray, cmap='gray')"
   ]
  },
  {
   "cell_type": "code",
   "execution_count": null,
   "metadata": {},
   "outputs": [],
   "source": [
    "# applying the SVD to obtain the decomposition\n",
    "U,s,Vt = np.linalg.svd(img_gray)"
   ]
  },
  {
   "cell_type": "code",
   "execution_count": null,
   "metadata": {},
   "outputs": [],
   "source": [
    "# let's confirm the shapes of the matrices\n",
    "print(U.shape, s.shape, Vt.shape)"
   ]
  },
  {
   "cell_type": "code",
   "execution_count": null,
   "metadata": {},
   "outputs": [],
   "source": [
    "# peculiar shape of s is for space saving. Let's reconstruct the original S matrix\n",
    "Sigma = np.zeros((768,1024))\n",
    "for i in range(768):\n",
    "    Sigma[i,i] = s[i] # values are only in the diagonal\n"
   ]
  },
  {
   "cell_type": "code",
   "execution_count": null,
   "metadata": {},
   "outputs": [],
   "source": [
    "# how close is the reconstructed U . Sigma . Vt to original grayscale image?\n",
    "# we can do check this using the norm of the difference\n",
    "\n",
    "# print(np.linalg.norm(img_gray - U @ Sigma @ Vt))\n",
    "print(np.linalg.norm(img_gray - np.matmul(np.matmul( U , Sigma) , Vt)))"
   ]
  },
  {
   "cell_type": "code",
   "execution_count": null,
   "metadata": {},
   "outputs": [],
   "source": [
    "# Let's see which singular values are important in building an approximation for our image\n",
    "plt.plot(s)\n",
    "plt.xlabel('s')\n",
    "plt.ylabel('i')\n",
    "plt.title('SVD')"
   ]
  },
  {
   "cell_type": "code",
   "execution_count": null,
   "metadata": {},
   "outputs": [],
   "source": [
    "# the idea is to consider all but the first k singuular values in Sigma as 0 and keep U and Vt intact\n",
    "# e.g k = 10\n",
    "\n",
    "k = 100\n",
    "approx = U @ Sigma[:,:k] @ Vt[:k,:]\n",
    "plt.imshow(approx, cmap = 'gray')"
   ]
  },
  {
   "cell_type": "code",
   "execution_count": null,
   "metadata": {},
   "outputs": [],
   "source": [
    "k = 768\n",
    "approx = U @ Sigma[:,:k] @ Vt[:k,:]\n",
    "plt.imshow(approx, cmap = 'gray')"
   ]
  }
 ],
 "metadata": {
  "kernelspec": {
   "display_name": "info2000",
   "language": "python",
   "name": "python3"
  },
  "language_info": {
   "codemirror_mode": {
    "name": "ipython",
    "version": 3
   },
   "file_extension": ".py",
   "mimetype": "text/x-python",
   "name": "python",
   "nbconvert_exporter": "python",
   "pygments_lexer": "ipython3",
   "version": "3.9.16"
  },
  "orig_nbformat": 4
 },
 "nbformat": 4,
 "nbformat_minor": 2
}
