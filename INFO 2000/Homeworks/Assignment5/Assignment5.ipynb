{
 "cells": [
  {
   "cell_type": "markdown",
   "id": "db5e7ec6-8dfe-486e-b283-16712e19e8b0",
   "metadata": {},
   "source": [
    "# Palindrome Detector"
   ]
  },
  {
   "cell_type": "code",
   "execution_count": 1,
   "id": "b7f6c073-b143-4103-bc12-7fab95fe2c74",
   "metadata": {},
   "outputs": [
    {
     "name": "stdin",
     "output_type": "stream",
     "text": [
      "Enter a word:  civIC\n"
     ]
    },
    {
     "name": "stdout",
     "output_type": "stream",
     "text": [
      "True\n"
     ]
    }
   ],
   "source": [
    "user = input(\"Enter a word: \")\n",
    "user = user.strip().lower()\n",
    "if user == user[::-1]:\n",
    "    print(\"True\")\n",
    "else:\n",
    "    print(\"False\")"
   ]
  },
  {
   "cell_type": "markdown",
   "id": "0553c5e4-e146-4fcd-b572-b76cca03a4f0",
   "metadata": {},
   "source": [
    "# Password Generator"
   ]
  },
  {
   "cell_type": "code",
   "execution_count": 2,
   "id": "a2c3341f-f228-4f57-8ee5-2b7b56b8dc70",
   "metadata": {},
   "outputs": [
    {
     "name": "stdin",
     "output_type": "stream",
     "text": [
      "Enter the desired length of the password:  20\n"
     ]
    },
    {
     "name": "stdout",
     "output_type": "stream",
     "text": [
      "Generated Password: tDFMax*f9usdO1f;WXjx\n"
     ]
    }
   ],
   "source": [
    "import random\n",
    "\n",
    "length = int(input(\"Enter the desired length of the password: \"))\n",
    "\n",
    "# Define all characters and organize them\n",
    "characters = 'ABCDEFGHIJKLMNOPQRSTUVWXYZabcdefghijklmnopqrstuvwxyz0123456789!@#$%^&*()_+[]{}|;:,.<>?'\n",
    "\n",
    "# Generate a password\n",
    "password = ''.join(random.choice(characters) for i in range(length))\n",
    "\n",
    "print(f\"Generated Password: {password}\")"
   ]
  },
  {
   "cell_type": "markdown",
   "id": "202946a7-1733-4c96-bd73-ca128c26c1ba",
   "metadata": {},
   "source": [
    "# Century Age Calculator"
   ]
  },
  {
   "cell_type": "code",
   "execution_count": 3,
   "id": "3cfd8d3a-0893-40c2-b7d5-d9be8189aff4",
   "metadata": {},
   "outputs": [
    {
     "name": "stdin",
     "output_type": "stream",
     "text": [
      "Enter your name:  Messi\n",
      "Enter your age:  36\n"
     ]
    },
    {
     "name": "stdout",
     "output_type": "stream",
     "text": [
      "Hello Messi! You will turn 100 in the year 2087!\n"
     ]
    }
   ],
   "source": [
    "user = input(\"Enter your name: \")\n",
    "age = int(input(\"Enter your age: \"))\n",
    "current_year = 2023\n",
    "years_until_100 = 100 - age\n",
    "date_when_100 = current_year + years_until_100\n",
    "print(f\"Hello {user}! You will turn 100 in the year {date_when_100}!\")"
   ]
  },
  {
   "cell_type": "markdown",
   "id": "59c6a9f8-60f7-4e26-b6f0-7b759780d2e8",
   "metadata": {},
   "source": [
    "# Print Statement"
   ]
  },
  {
   "cell_type": "code",
   "execution_count": 5,
   "id": "5e50e020-a6f6-444c-9eb8-45fc4bf6756b",
   "metadata": {},
   "outputs": [
    {
     "name": "stdout",
     "output_type": "stream",
     "text": [
      "\"The world is round\", said the quick brown fox, ’and the\n",
      "ocean is blue’, said the lazy dog.\n"
     ]
    }
   ],
   "source": [
    "print(f'\"The world is round\", said the quick brown fox, ’and the\\nocean is blue’, said the lazy dog.')"
   ]
  },
  {
   "cell_type": "markdown",
   "id": "2fd4b405-e054-4487-9fe5-5d4b34c59af0",
   "metadata": {},
   "source": [
    "# Arithmetic"
   ]
  },
  {
   "cell_type": "code",
   "execution_count": 2,
   "id": "cb261b37-50be-46a1-84e2-9b13b47b163b",
   "metadata": {},
   "outputs": [
    {
     "name": "stdin",
     "output_type": "stream",
     "text": [
      "Enter a numerator:  88\n",
      "Enter a denominator:  22.3\n"
     ]
    },
    {
     "name": "stdout",
     "output_type": "stream",
     "text": [
      "+3.95\n"
     ]
    }
   ],
   "source": [
    "numerator = float(input(\"Enter a numerator: \"))\n",
    "denominator = float(input(\"Enter a denominator: \"))\n",
    "\n",
    "if denominator != 0:\n",
    "    result = numerator / denominator\n",
    "    print(f\"{result:+.2f}\")"
   ]
  },
  {
   "cell_type": "markdown",
   "id": "94751679-22e9-4755-94c0-254c714ac6ed",
   "metadata": {},
   "source": [
    "# Dot Product Calculator"
   ]
  },
  {
   "cell_type": "code",
   "execution_count": 18,
   "id": "55817f3a-cbe4-48b2-bd94-9432c217aa01",
   "metadata": {},
   "outputs": [],
   "source": [
    "matrix1 = [[1, 2], [4, 5]]\n",
    "matrix2 = [[1, 2], [4, 5]]\n",
    "# if len(matrix1[0]) == len(matrix2):\n",
    "    # I don't know what to do after this"
   ]
  },
  {
   "cell_type": "markdown",
   "id": "774b1df7-ca4c-44d0-9f73-5387bc26a9ba",
   "metadata": {},
   "source": [
    "# Append"
   ]
  },
  {
   "cell_type": "code",
   "execution_count": 10,
   "id": "80c668a1-1d18-4beb-b9ee-4d023068976b",
   "metadata": {},
   "outputs": [
    {
     "name": "stdout",
     "output_type": "stream",
     "text": [
      "['Dr.Phil', 'Dr.Oz', 'Dr.Seuss', 'Dr.Dre', 'Dr.Johnsen', 'Dr.Morelock']\n"
     ]
    }
   ],
   "source": [
    "names = [\"Phil\", \"Oz\", \"Seuss\", \"Dre\", \"Johnsen\", \"Morelock\"]\n",
    "updated_docs = []\n",
    "\n",
    "for name in names:\n",
    "    updated_name = \"Dr.\" + name\n",
    "    updated_docs.append(updated_name)\n",
    "\n",
    "print(updated_docs)"
   ]
  }
 ],
 "metadata": {
  "kernelspec": {
   "display_name": "info2000",
   "language": "python",
   "name": "info2000"
  },
  "language_info": {
   "codemirror_mode": {
    "name": "ipython",
    "version": 3
   },
   "file_extension": ".py",
   "mimetype": "text/x-python",
   "name": "python",
   "nbconvert_exporter": "python",
   "pygments_lexer": "ipython3",
   "version": "3.9.18"
  }
 },
 "nbformat": 4,
 "nbformat_minor": 5
}
