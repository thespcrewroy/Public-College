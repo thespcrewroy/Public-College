{
 "cells": [
  {
   "cell_type": "markdown",
   "id": "5ac7fb73-b7ec-42fe-b9c4-61190a827fdd",
   "metadata": {},
   "source": [
    "# Datatypes and Variables"
   ]
  },
  {
   "cell_type": "markdown",
   "id": "513b4efe-2162-43f9-9486-6c5dd2b5b707",
   "metadata": {},
   "source": [
    "## Step 1"
   ]
  },
  {
   "cell_type": "code",
   "execution_count": 1,
   "id": "0b36ad4f-79ec-447c-8e6a-0b863c6a2eb3",
   "metadata": {},
   "outputs": [],
   "source": [
    "data1 = 18\n",
    "data2 = \"numbers\"\n",
    "data3 = 12.5"
   ]
  },
  {
   "cell_type": "code",
   "execution_count": 2,
   "id": "e2d9b80e-67a0-4014-a587-8589b683d4a7",
   "metadata": {},
   "outputs": [
    {
     "data": {
      "text/plain": [
       "18"
      ]
     },
     "execution_count": 2,
     "metadata": {},
     "output_type": "execute_result"
    }
   ],
   "source": [
    "data1"
   ]
  },
  {
   "cell_type": "code",
   "execution_count": 3,
   "id": "8d2c94bb-bbcb-4919-aa70-0c4085a2294a",
   "metadata": {},
   "outputs": [
    {
     "data": {
      "text/plain": [
       "'numbers'"
      ]
     },
     "execution_count": 3,
     "metadata": {},
     "output_type": "execute_result"
    }
   ],
   "source": [
    "data2"
   ]
  },
  {
   "cell_type": "code",
   "execution_count": 4,
   "id": "26dd3b5c-da06-48d6-a4d8-b68f86e61eee",
   "metadata": {},
   "outputs": [
    {
     "data": {
      "text/plain": [
       "12.5"
      ]
     },
     "execution_count": 4,
     "metadata": {},
     "output_type": "execute_result"
    }
   ],
   "source": [
    "data3"
   ]
  },
  {
   "cell_type": "markdown",
   "id": "c0e28bd9-b5f1-4a9c-b6e9-7a4d1b9977be",
   "metadata": {},
   "source": [
    "## Step 2"
   ]
  },
  {
   "cell_type": "code",
   "execution_count": 5,
   "id": "e4795d0a-643a-4c7b-be28-407881261a0e",
   "metadata": {},
   "outputs": [
    {
     "name": "stdout",
     "output_type": "stream",
     "text": [
      " 18 and 12.5 are numbers\n"
     ]
    }
   ],
   "source": [
    "print(f\" {data1} and {data3} are {data2}\")"
   ]
  },
  {
   "cell_type": "markdown",
   "id": "29ee0f7c-ddce-425f-9f32-6291a93d7938",
   "metadata": {},
   "source": [
    "## Step 3"
   ]
  },
  {
   "cell_type": "code",
   "execution_count": 6,
   "id": "8c34ef3a-869e-4bf6-abc6-f347c3087b9f",
   "metadata": {},
   "outputs": [
    {
     "name": "stdout",
     "output_type": "stream",
     "text": [
      "12\n"
     ]
    }
   ],
   "source": [
    "print(int(data3))"
   ]
  },
  {
   "cell_type": "code",
   "execution_count": 7,
   "id": "79d5f82d-d333-4608-86fe-61670e799872",
   "metadata": {},
   "outputs": [
    {
     "name": "stdout",
     "output_type": "stream",
     "text": [
      "True\n"
     ]
    }
   ],
   "source": [
    "print(bool(data2))"
   ]
  },
  {
   "cell_type": "code",
   "execution_count": 8,
   "id": "c6e5250d-61f3-4e25-a86d-8db42f911d2d",
   "metadata": {},
   "outputs": [
    {
     "name": "stdout",
     "output_type": "stream",
     "text": [
      "18\n"
     ]
    }
   ],
   "source": [
    "print(str(data1))"
   ]
  },
  {
   "cell_type": "markdown",
   "id": "6abfd01f-39b9-4e4c-8e11-c4ee18772383",
   "metadata": {},
   "source": [
    "## Step 4"
   ]
  },
  {
   "cell_type": "code",
   "execution_count": 9,
   "id": "a275a9cf-ca8a-4293-aa45-0147184418cf",
   "metadata": {},
   "outputs": [
    {
     "name": "stdout",
     "output_type": "stream",
     "text": [
      "When you compare games and Games, \n",
      "the capitalization makes them different.\n",
      "This means comparing them evaluates to False\n"
     ]
    }
   ],
   "source": [
    "compare = ('games' == 'Games')\n",
    "print('When you compare games and Games, ')\n",
    "print('the capitalization makes them different.')\n",
    "print(f'This means comparing them evaluates to {compare}')"
   ]
  },
  {
   "cell_type": "markdown",
   "id": "3ff5dd98-4939-4421-8558-958bfbdea381",
   "metadata": {},
   "source": [
    "## Step 5"
   ]
  },
  {
   "cell_type": "code",
   "execution_count": 10,
   "id": "c1f0dc7d-a9fa-4c86-ab9f-0353b0ccf3ea",
   "metadata": {},
   "outputs": [],
   "source": [
    "# Einstein was never instantiated to a memory location\n",
    "# thus, the instance object cannot be assigned to name since it does not exist.\n",
    "# name = Einstein"
   ]
  },
  {
   "cell_type": "markdown",
   "id": "c6a4a209-7b33-46ff-8854-f50c68f17df2",
   "metadata": {},
   "source": [
    "# Math Operators"
   ]
  },
  {
   "cell_type": "markdown",
   "id": "f5ad1dbd-6900-4818-a3a9-c4865fe99aa7",
   "metadata": {},
   "source": [
    "## Step 1"
   ]
  },
  {
   "cell_type": "code",
   "execution_count": 11,
   "id": "52797ee6-4ec9-4631-8f41-569cc8010f71",
   "metadata": {},
   "outputs": [],
   "source": [
    "e = 2.71821\n",
    "x = 2\n",
    "y = 1.5\n",
    "z = 4"
   ]
  },
  {
   "cell_type": "code",
   "execution_count": 12,
   "id": "b1856390-4f7d-438f-b605-b335764114ac",
   "metadata": {},
   "outputs": [
    {
     "data": {
      "text/plain": [
       "2.71821"
      ]
     },
     "execution_count": 12,
     "metadata": {},
     "output_type": "execute_result"
    }
   ],
   "source": [
    "e"
   ]
  },
  {
   "cell_type": "code",
   "execution_count": 13,
   "id": "eb04a300-b9b3-4954-8d83-b6c990c46d26",
   "metadata": {},
   "outputs": [
    {
     "data": {
      "text/plain": [
       "2"
      ]
     },
     "execution_count": 13,
     "metadata": {},
     "output_type": "execute_result"
    }
   ],
   "source": [
    "x"
   ]
  },
  {
   "cell_type": "code",
   "execution_count": 14,
   "id": "0ca3bab3-961e-48dd-9f0e-93b7561be372",
   "metadata": {},
   "outputs": [
    {
     "data": {
      "text/plain": [
       "1.5"
      ]
     },
     "execution_count": 14,
     "metadata": {},
     "output_type": "execute_result"
    }
   ],
   "source": [
    "y"
   ]
  },
  {
   "cell_type": "code",
   "execution_count": 15,
   "id": "6e250b5e-7413-4108-9aa0-c8a2ff1e785c",
   "metadata": {},
   "outputs": [
    {
     "data": {
      "text/plain": [
       "4"
      ]
     },
     "execution_count": 15,
     "metadata": {},
     "output_type": "execute_result"
    }
   ],
   "source": [
    "z"
   ]
  },
  {
   "cell_type": "code",
   "execution_count": 16,
   "id": "f2fa0ee8-f994-4f0a-a4b6-a311f9262142",
   "metadata": {},
   "outputs": [
    {
     "data": {
      "text/plain": [
       "3.333333333333333"
      ]
     },
     "execution_count": 16,
     "metadata": {},
     "output_type": "execute_result"
    }
   ],
   "source": [
    "# Problem a\n",
    "((z**(1/2))/y) + x"
   ]
  },
  {
   "cell_type": "code",
   "execution_count": 17,
   "id": "dfa5c44e-e58a-4988-ad85-5454c591635a",
   "metadata": {},
   "outputs": [
    {
     "data": {
      "text/plain": [
       "12.25"
      ]
     },
     "execution_count": 17,
     "metadata": {},
     "output_type": "execute_result"
    }
   ],
   "source": [
    "# Problem b\n",
    "(x + y)**2"
   ]
  },
  {
   "cell_type": "code",
   "execution_count": 18,
   "id": "15e19951-1ff1-4616-be14-eb78195db58f",
   "metadata": {},
   "outputs": [
    {
     "data": {
      "text/plain": [
       "8.31836394967972e-07"
      ]
     },
     "execution_count": 18,
     "metadata": {},
     "output_type": "execute_result"
    }
   ],
   "source": [
    "# Problem c\n",
    "e**((-2*x)*(y+x))"
   ]
  },
  {
   "cell_type": "markdown",
   "id": "6c276479-f530-456c-aea9-b25a765aa4d7",
   "metadata": {},
   "source": [
    "## Step 2"
   ]
  },
  {
   "cell_type": "code",
   "execution_count": 19,
   "id": "633e5320-bed0-411e-b08f-b86c2aac4b12",
   "metadata": {},
   "outputs": [
    {
     "name": "stdin",
     "output_type": "stream",
     "text": [
      "What is your height (inches):  72\n"
     ]
    },
    {
     "data": {
      "text/plain": [
       "72"
      ]
     },
     "execution_count": 19,
     "metadata": {},
     "output_type": "execute_result"
    }
   ],
   "source": [
    "# Prompt user for height in inches\n",
    "height = int(input ('What is your height (inches): '))\n",
    "height"
   ]
  },
  {
   "cell_type": "code",
   "execution_count": 20,
   "id": "91c28e3a-0412-4e6e-951b-735e5b350cd8",
   "metadata": {},
   "outputs": [
    {
     "name": "stdin",
     "output_type": "stream",
     "text": [
      "What is your weight (pounds):  3\n"
     ]
    },
    {
     "data": {
      "text/plain": [
       "3"
      ]
     },
     "execution_count": 20,
     "metadata": {},
     "output_type": "execute_result"
    }
   ],
   "source": [
    "# Prompt user for weight in pounds\n",
    "weight = int(input('What is your weight (pounds): '))\n",
    "weight"
   ]
  },
  {
   "cell_type": "code",
   "execution_count": 21,
   "id": "4df50eeb-dbb8-4389-9d2a-634bb61845bc",
   "metadata": {},
   "outputs": [],
   "source": [
    "# Convert to metric units\n",
    "height_in_meters = height*0.0254\n",
    "weight_in_kilograms = weight*0.453592"
   ]
  },
  {
   "cell_type": "code",
   "execution_count": 22,
   "id": "621348a8-4c76-43a0-abd5-b8a289a842f0",
   "metadata": {},
   "outputs": [
    {
     "data": {
      "text/plain": [
       "1.8288"
      ]
     },
     "execution_count": 22,
     "metadata": {},
     "output_type": "execute_result"
    }
   ],
   "source": [
    "height_in_meters"
   ]
  },
  {
   "cell_type": "code",
   "execution_count": 23,
   "id": "19c987ff-351b-4948-95fe-12c76acd03c9",
   "metadata": {},
   "outputs": [
    {
     "data": {
      "text/plain": [
       "1.360776"
      ]
     },
     "execution_count": 23,
     "metadata": {},
     "output_type": "execute_result"
    }
   ],
   "source": [
    "weight_in_kilograms"
   ]
  },
  {
   "cell_type": "code",
   "execution_count": 24,
   "id": "44128515-f580-4198-b822-8cf7e9806b2b",
   "metadata": {},
   "outputs": [
    {
     "data": {
      "text/plain": [
       "0.4068686378113497"
      ]
     },
     "execution_count": 24,
     "metadata": {},
     "output_type": "execute_result"
    }
   ],
   "source": [
    "# Find user's BMI\n",
    "bmi = (weight_in_kilograms)/(height_in_meters**2)\n",
    "bmi"
   ]
  },
  {
   "cell_type": "markdown",
   "id": "554b0122-ebcd-483d-8c83-1be7d98e0d96",
   "metadata": {},
   "source": [
    "## Step 3"
   ]
  },
  {
   "cell_type": "code",
   "execution_count": null,
   "id": "f8dea0ad-e8ce-4e29-9563-a46ef765fb4b",
   "metadata": {},
   "outputs": [],
   "source": [
    "# Prompt the user for coefficient a\n",
    "a = int(input('Coefficient a: '))\n",
    "a"
   ]
  },
  {
   "cell_type": "code",
   "execution_count": null,
   "id": "04f7b972-1819-4de4-bb36-a56bab44b1b4",
   "metadata": {},
   "outputs": [],
   "source": [
    "# Prompt the user for coefficient b\n",
    "b = int(input('Coefficient b: '))\n",
    "b"
   ]
  },
  {
   "cell_type": "code",
   "execution_count": null,
   "id": "fa3e7943-a2f2-464b-87eb-9e7292fcbf08",
   "metadata": {},
   "outputs": [],
   "source": [
    "# Prompt the user for coefficient c\n",
    "c = int(input('Coefficient c: '))\n",
    "c"
   ]
  },
  {
   "cell_type": "code",
   "execution_count": null,
   "id": "f6ef08c3-b771-4a3a-80c5-b680aefa4b6c",
   "metadata": {},
   "outputs": [],
   "source": [
    "# Calculate the first root\n",
    "x1 = (-b + ((b**2) - 4*a*c)**(1/2))/(2*a)\n",
    "x1"
   ]
  },
  {
   "cell_type": "code",
   "execution_count": null,
   "id": "4de8f78d-729b-482b-bdd1-e8ae0607036a",
   "metadata": {},
   "outputs": [],
   "source": [
    "# Calculate the first root\n",
    "x2 = (-b - ((b**2) - 4*a*c)**(1/2))/(2*a)\n",
    "x2"
   ]
  },
  {
   "cell_type": "markdown",
   "id": "59c7cacd-3412-444c-94e7-c022b87f60be",
   "metadata": {},
   "source": [
    "# Lists"
   ]
  },
  {
   "cell_type": "markdown",
   "id": "f750c10c-cb7e-4612-a6fd-20d3dd37ae57",
   "metadata": {},
   "source": [
    "## Step 1"
   ]
  },
  {
   "cell_type": "code",
   "execution_count": null,
   "id": "72c1a3b1-9cde-4083-abf0-39cccb0ef6d0",
   "metadata": {},
   "outputs": [],
   "source": [
    "my_list = [3,7,12,34,1,37,23,14,34,29]\n",
    "my_list = my_list[:9]\n",
    "my_list"
   ]
  },
  {
   "cell_type": "markdown",
   "id": "6c95dace-681d-4335-ae39-7e4cf3f584e3",
   "metadata": {},
   "source": [
    "## Step 2"
   ]
  },
  {
   "cell_type": "code",
   "execution_count": null,
   "id": "06cdbd2a-7070-4669-b9f7-70eb0124dc67",
   "metadata": {},
   "outputs": [],
   "source": [
    "x = my_list[1]\n",
    "x"
   ]
  },
  {
   "cell_type": "code",
   "execution_count": null,
   "id": "640f2950-eec7-4bf9-8696-be80373296e2",
   "metadata": {},
   "outputs": [],
   "source": [
    "y = my_list[6]\n",
    "y"
   ]
  },
  {
   "cell_type": "code",
   "execution_count": null,
   "id": "575983d5-fe58-4908-b24b-5149f610fca5",
   "metadata": {},
   "outputs": [],
   "source": [
    "ans = (x + y)**(1/2)\n",
    "ans"
   ]
  },
  {
   "cell_type": "markdown",
   "id": "fcc37df8-ef5d-4463-b457-3d24f5697b2b",
   "metadata": {},
   "source": [
    "## Step 3"
   ]
  },
  {
   "cell_type": "code",
   "execution_count": null,
   "id": "7b75a356-3931-4b42-bfb2-acba6e3049c3",
   "metadata": {},
   "outputs": [],
   "source": [
    "list_2 = []\n",
    "list_2"
   ]
  },
  {
   "cell_type": "code",
   "execution_count": null,
   "id": "6c67862d-239e-4639-9006-c366f22aead7",
   "metadata": {},
   "outputs": [],
   "source": [
    "list_2 += [x, y, ans]\n",
    "list_2"
   ]
  },
  {
   "cell_type": "markdown",
   "id": "8cab6083-b029-4246-a4eb-78ea8c2ccc6c",
   "metadata": {},
   "source": [
    "## Step 4"
   ]
  },
  {
   "cell_type": "code",
   "execution_count": null,
   "id": "10a4d352-a025-4530-b294-ca8100b67ba9",
   "metadata": {},
   "outputs": [],
   "source": [
    "list_2.reverse()\n",
    "list_2"
   ]
  },
  {
   "cell_type": "markdown",
   "id": "0252951b-2914-43e9-9c44-d7b783de4420",
   "metadata": {},
   "source": [
    "## Step 5"
   ]
  },
  {
   "cell_type": "code",
   "execution_count": null,
   "id": "14ac401e-e289-498e-bd15-8420ff3f87c3",
   "metadata": {},
   "outputs": [],
   "source": [
    "odd_indexed_list = my_list[1::2]\n",
    "odd_indexed_list"
   ]
  },
  {
   "cell_type": "markdown",
   "id": "b120f630-f993-4236-a9b6-c2bbc5d9ac79",
   "metadata": {},
   "source": [
    "## Step 6"
   ]
  },
  {
   "cell_type": "code",
   "execution_count": null,
   "id": "0b202acd-70bb-4bf6-97be-5b5760166b9d",
   "metadata": {},
   "outputs": [],
   "source": [
    "sorted(odd_indexed_list)"
   ]
  },
  {
   "cell_type": "markdown",
   "id": "0371ce40-51ef-4bdc-8a72-6bb37927b076",
   "metadata": {},
   "source": [
    "## Step 7"
   ]
  },
  {
   "cell_type": "code",
   "execution_count": null,
   "id": "c129f05b-57aa-4d09-831e-a090962c4f3c",
   "metadata": {},
   "outputs": [],
   "source": [
    "odd_indexed_list += [24, 65, 13]\n",
    "odd_indexed_list"
   ]
  },
  {
   "cell_type": "markdown",
   "id": "75b4951a-6f1c-4a13-bd12-9eb5f2259cba",
   "metadata": {},
   "source": [
    "## Step 8"
   ]
  },
  {
   "cell_type": "code",
   "execution_count": null,
   "id": "54ff50c4-2dae-426a-8a1c-09af9e65a728",
   "metadata": {},
   "outputs": [],
   "source": [
    "del my_list\n",
    "my_list"
   ]
  },
  {
   "cell_type": "markdown",
   "id": "0a695382-7563-478b-a919-a4a34cd64491",
   "metadata": {},
   "source": [
    "# Random Library"
   ]
  },
  {
   "cell_type": "markdown",
   "id": "a35086d8-a4b0-4ad9-b727-fe97bc8edad6",
   "metadata": {},
   "source": [
    "## Step 1"
   ]
  },
  {
   "cell_type": "code",
   "execution_count": null,
   "id": "3bcbfc0a-d3a7-477f-9f9c-3e9a7163d366",
   "metadata": {},
   "outputs": [],
   "source": [
    "import random\n",
    "pizza_toppings = ['mushrooms', 'olives', 'pepperoni', 'chicken', 'pineapple', 'onions', 'bacon', 'sausage', 'feta', 'pepper flakes'] \n",
    "tonight = random.sample(pizza_toppings, 3)\n",
    "tonight"
   ]
  },
  {
   "cell_type": "markdown",
   "id": "49853760-c925-4725-84fb-f53db16f2200",
   "metadata": {},
   "source": [
    "## Step 2"
   ]
  },
  {
   "cell_type": "code",
   "execution_count": null,
   "id": "f321e10e-3b37-4c5a-aba8-a3b99d9f8c0b",
   "metadata": {},
   "outputs": [],
   "source": [
    "local_restaurants = ['last resort grill: $19.95', 'Cali n Titos: $10.00', 'Taqueria Tsunami: $21.35', 'Paloma Park: $14.00', 'The Place: $16.00']\n",
    "random.shuffle(local_restaurants)\n",
    "selected_restaurant = local_restaurants[0]\n",
    "selected_restaurant\n",
    "print(f'Lets go to {selected_restaurant}!')"
   ]
  },
  {
   "cell_type": "markdown",
   "id": "4d408865-7464-4a70-87fe-0ea751dac794",
   "metadata": {},
   "source": [
    "## Step 3"
   ]
  },
  {
   "cell_type": "code",
   "execution_count": null,
   "id": "090d54e2-c299-43d7-8220-720db3448bba",
   "metadata": {},
   "outputs": [],
   "source": [
    "outdoor_activities = ['vollayball', 'badminton', 'surfing', 'kayaking', 'snowboarding', 'skateboarding', 'discus throwing', 'javeline', 'running', 'soccer']\n",
    "random_activty = random.choice(outdoor_activities)\n",
    "random_activty"
   ]
  },
  {
   "cell_type": "code",
   "execution_count": null,
   "id": "2cf06a34-87cd-4058-a17d-4582699ab425",
   "metadata": {},
   "outputs": [],
   "source": []
  }
 ],
 "metadata": {
  "kernelspec": {
   "display_name": "info2000",
   "language": "python",
   "name": "info2000"
  },
  "language_info": {
   "codemirror_mode": {
    "name": "ipython",
    "version": 3
   },
   "file_extension": ".py",
   "mimetype": "text/x-python",
   "name": "python",
   "nbconvert_exporter": "python",
   "pygments_lexer": "ipython3",
   "version": "3.9.18"
  }
 },
 "nbformat": 4,
 "nbformat_minor": 5
}
