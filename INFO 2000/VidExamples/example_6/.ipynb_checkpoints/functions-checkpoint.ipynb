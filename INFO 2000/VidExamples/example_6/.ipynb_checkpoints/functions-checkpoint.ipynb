{
 "cells": [
  {
   "cell_type": "code",
   "execution_count": 3,
   "id": "f47e3b1e-6a40-4083-8c00-277c8d151b42",
   "metadata": {},
   "outputs": [],
   "source": [
    "# Create a function\n",
    "import numpy as np\n",
    "def roll_die():\n",
    "    return np.random.randint(1,7) # Give a number between 1 and 6"
   ]
  },
  {
   "cell_type": "code",
   "execution_count": 4,
   "id": "8c72c928-6893-4eac-96e5-86c9b014cb89",
   "metadata": {},
   "outputs": [
    {
     "data": {
      "text/plain": [
       "5"
      ]
     },
     "execution_count": 4,
     "metadata": {},
     "output_type": "execute_result"
    }
   ],
   "source": [
    "roll_die()"
   ]
  },
  {
   "cell_type": "code",
   "execution_count": 5,
   "id": "70c7dace-c2ce-477e-92bb-be95090449ec",
   "metadata": {},
   "outputs": [],
   "source": [
    "# Take in an input value\n",
    "import numpy as np\n",
    "def roll_dice(num_dice):\n",
    "    return np.random.randint(1,7,num_dice) # Give a number between 1 and 6"
   ]
  },
  {
   "cell_type": "code",
   "execution_count": 6,
   "id": "b8fe0e84-872c-4849-ab2b-7b5321caea0c",
   "metadata": {},
   "outputs": [
    {
     "data": {
      "text/plain": [
       "array([2, 4, 3, 2, 1])"
      ]
     },
     "execution_count": 6,
     "metadata": {},
     "output_type": "execute_result"
    }
   ],
   "source": [
    "roll_dice(5)"
   ]
  },
  {
   "cell_type": "code",
   "execution_count": 12,
   "id": "76be5a78-5bf1-4364-8906-9e59837ddc57",
   "metadata": {},
   "outputs": [],
   "source": [
    "# Give a number between 1 and sides\n",
    "import numpy as np\n",
    "def roll_dice(num_dice, sides):\n",
    "    return np.random.randint(1,sides+1,num_dice)"
   ]
  },
  {
   "cell_type": "code",
   "execution_count": 13,
   "id": "de422335-2d9e-421d-8959-ea9016124fd9",
   "metadata": {},
   "outputs": [
    {
     "data": {
      "text/plain": [
       "array([57, 27])"
      ]
     },
     "execution_count": 13,
     "metadata": {},
     "output_type": "execute_result"
    }
   ],
   "source": [
    "roll_dice(2,60)"
   ]
  },
  {
   "cell_type": "code",
   "execution_count": 16,
   "id": "e03961ab-c943-44dd-9791-9283cab2b23b",
   "metadata": {},
   "outputs": [
    {
     "data": {
      "text/plain": [
       "array([4, 1, 6, 3, 3, 5, 2])"
      ]
     },
     "execution_count": 16,
     "metadata": {},
     "output_type": "execute_result"
    }
   ],
   "source": [
    "# Another way to call Python functions and out of order\n",
    "roll_dice(sides=6,num_dice=7)"
   ]
  },
  {
   "cell_type": "code",
   "execution_count": 17,
   "id": "74546c69-d917-4aa4-a60c-fff345a4a12e",
   "metadata": {},
   "outputs": [],
   "source": [
    "# Provide default inputs\n",
    "import numpy as np\n",
    "def roll_dice(num_dice=2, sides=6):\n",
    "    return np.random.randint(1,sides+1,num_dice)"
   ]
  },
  {
   "cell_type": "code",
   "execution_count": 18,
   "id": "6dba1e2f-d97b-4fba-a4ef-53137ce361d9",
   "metadata": {},
   "outputs": [
    {
     "data": {
      "text/plain": [
       "array([5, 2])"
      ]
     },
     "execution_count": 18,
     "metadata": {},
     "output_type": "execute_result"
    }
   ],
   "source": [
    "roll_dice()"
   ]
  },
  {
   "cell_type": "code",
   "execution_count": 19,
   "id": "263e06aa-c431-4f19-8355-d40c975d3450",
   "metadata": {},
   "outputs": [
    {
     "data": {
      "text/plain": [
       "array([1, 1, 6, 6, 3])"
      ]
     },
     "execution_count": 19,
     "metadata": {},
     "output_type": "execute_result"
    }
   ],
   "source": [
    "roll_dice(5)"
   ]
  },
  {
   "cell_type": "code",
   "execution_count": 20,
   "id": "2d855a9d-bc8d-4875-8e4b-2433b00b6ba9",
   "metadata": {},
   "outputs": [
    {
     "data": {
      "text/plain": [
       "array([1, 2])"
      ]
     },
     "execution_count": 20,
     "metadata": {},
     "output_type": "execute_result"
    }
   ],
   "source": [
    "roll_dice(sides=2)"
   ]
  },
  {
   "cell_type": "code",
   "execution_count": 21,
   "id": "fb1435ca-ecbd-4989-bc1a-3766a39e441a",
   "metadata": {},
   "outputs": [],
   "source": [
    "# Specify the expected input and expected output so the editor can provide context when unclear\n",
    "import numpy as np\n",
    "def roll_dice(num_dice:int=2,sides:int=6)->np.array:\n",
    "    return np.random.randint(1,sides+1,num_dice)"
   ]
  },
  {
   "cell_type": "code",
   "execution_count": 22,
   "id": "8e76f21e-454c-4287-a4de-3a4b1e99a92a",
   "metadata": {},
   "outputs": [
    {
     "data": {
      "text/plain": [
       "array([2, 1, 2, 1, 1, 1])"
      ]
     },
     "execution_count": 22,
     "metadata": {},
     "output_type": "execute_result"
    }
   ],
   "source": [
    "roll_dice(6,2)"
   ]
  },
  {
   "cell_type": "code",
   "execution_count": 23,
   "id": "0517e368-324b-4b9f-8684-4cf5cc8983a9",
   "metadata": {},
   "outputs": [
    {
     "data": {
      "text/plain": [
       "<function __main__.roll_dice(num_dice: int = 2, sides: int = 6) -> <built-in function array>>"
      ]
     },
     "execution_count": 23,
     "metadata": {},
     "output_type": "execute_result"
    }
   ],
   "source": [
    "roll_dice"
   ]
  },
  {
   "cell_type": "code",
   "execution_count": 25,
   "id": "3433856e-d76f-4f1b-99fb-6aecdc098101",
   "metadata": {},
   "outputs": [
    {
     "data": {
      "text/plain": [
       "array([1, 2, 2, 2, 1, 2])"
      ]
     },
     "execution_count": 25,
     "metadata": {},
     "output_type": "execute_result"
    }
   ],
   "source": [
    "# Functions are objects\n",
    "a = roll_dice\n",
    "a(6,2)"
   ]
  },
  {
   "cell_type": "code",
   "execution_count": 26,
   "id": "a8dd38d9-abbb-4018-90ba-1dd606c03fe6",
   "metadata": {},
   "outputs": [
    {
     "data": {
      "text/plain": [
       "array([2, 2, 4, 4, 1, 1])"
      ]
     },
     "execution_count": 26,
     "metadata": {},
     "output_type": "execute_result"
    }
   ],
   "source": [
    "numbers = roll_dice(6,6)\n",
    "numbers"
   ]
  },
  {
   "cell_type": "code",
   "execution_count": 27,
   "id": "5d6a0269-c85e-4003-b088-b7a0497d5d44",
   "metadata": {},
   "outputs": [
    {
     "name": "stdout",
     "output_type": "stream",
     "text": [
      "[array([2, 2]), array([4, 3]), array([2, 3, 4, 2]), array([3, 5, 3, 3]), array([3]), array([3])]\n"
     ]
    }
   ],
   "source": [
    "# Roll dice is applied to each of the numbers in 'numbers'\n",
    "mapped = list(map(roll_dice,numbers))\n",
    "print(mapped)"
   ]
  },
  {
   "cell_type": "code",
   "execution_count": 30,
   "id": "4e618a92-4d74-40ac-8a2c-ef5710e6b10e",
   "metadata": {},
   "outputs": [],
   "source": [
    "# We can implement our own map function\n",
    "def my_map(function_to_map,list_to_map):\n",
    "    to_return=[]\n",
    "    for n in list_to_map:\n",
    "        to_return.append(function_to_map(n))\n",
    "    return to_return"
   ]
  },
  {
   "cell_type": "code",
   "execution_count": 31,
   "id": "fe68f18e-6f43-4618-8bd0-afcbf67d0777",
   "metadata": {},
   "outputs": [
    {
     "data": {
      "text/plain": [
       "[array([6, 5]),\n",
       " array([2, 4]),\n",
       " array([5, 5, 5, 3]),\n",
       " array([6, 3, 3, 4]),\n",
       " array([3]),\n",
       " array([3])]"
      ]
     },
     "execution_count": 31,
     "metadata": {},
     "output_type": "execute_result"
    }
   ],
   "source": [
    "my_map(roll_dice,numbers)"
   ]
  },
  {
   "cell_type": "code",
   "execution_count": 32,
   "id": "5d96ca25-45f0-428f-91e1-9313cc9ef54e",
   "metadata": {},
   "outputs": [],
   "source": [
    "def clip_first(l:list):\n",
    "    del l[0]"
   ]
  },
  {
   "cell_type": "code",
   "execution_count": 33,
   "id": "0827b4b8-4c76-4dec-9428-1545b8adf50d",
   "metadata": {},
   "outputs": [
    {
     "name": "stdout",
     "output_type": "stream",
     "text": [
      "[2, 3]\n"
     ]
    }
   ],
   "source": [
    "a_list = [1,2,3]\n",
    "clip_first(a_list)\n",
    "print(a_list)"
   ]
  },
  {
   "cell_type": "code",
   "execution_count": 34,
   "id": "6c017ff2-d46a-4af3-9047-a713f7d8d6f3",
   "metadata": {},
   "outputs": [
    {
     "name": "stdout",
     "output_type": "stream",
     "text": [
      "[3]\n"
     ]
    }
   ],
   "source": [
    "# Values are passed into the function so changes are saved\n",
    "clip_first(a_list)\n",
    "print(a_list)"
   ]
  },
  {
   "cell_type": "code",
   "execution_count": 38,
   "id": "dfd7948b-ec32-453e-a0ed-b022b718f8c7",
   "metadata": {},
   "outputs": [],
   "source": [
    "A = 3\n",
    "B = 4\n",
    "def my_fun(A):\n",
    "    A = 4 # this is the A in the function definition\n",
    "    B = 7 # this is a different b that is local to my_fun\n",
    "    print(A)\n",
    "    print(B)"
   ]
  },
  {
   "cell_type": "code",
   "execution_count": 40,
   "id": "1467b776-ae78-4d78-b34e-43f6169b36c0",
   "metadata": {},
   "outputs": [
    {
     "name": "stdout",
     "output_type": "stream",
     "text": [
      "3\n",
      "4\n",
      "7\n",
      "None\n"
     ]
    }
   ],
   "source": [
    "print(A)\n",
    "print(my_fun(A))"
   ]
  },
  {
   "cell_type": "code",
   "execution_count": 41,
   "id": "35663906-20d0-4f8b-8479-ab17f37c4571",
   "metadata": {},
   "outputs": [
    {
     "name": "stdout",
     "output_type": "stream",
     "text": [
      "4\n"
     ]
    }
   ],
   "source": [
    "print(B)"
   ]
  },
  {
   "cell_type": "code",
   "execution_count": 42,
   "id": "8be061a1-7cea-482d-b07d-d4122e4ae34e",
   "metadata": {},
   "outputs": [
    {
     "name": "stdout",
     "output_type": "stream",
     "text": [
      "3\n"
     ]
    }
   ],
   "source": [
    "# We can refer to a variable name outside the function\n",
    "# This is not recomended\n",
    "A = 3\n",
    "def my_fun():\n",
    "    print(A)\n",
    "my_fun()"
   ]
  },
  {
   "cell_type": "code",
   "execution_count": 44,
   "id": "d0b32b66-6327-4503-b33c-f8ecdfba9ea7",
   "metadata": {},
   "outputs": [
    {
     "name": "stdout",
     "output_type": "stream",
     "text": [
      "4\n"
     ]
    }
   ],
   "source": [
    "# If you want to reassign the A outside of the function\n",
    "# Considered pretty bad pactice\n",
    "A = 3\n",
    "def my_fun():\n",
    "    global A\n",
    "    A = 4\n",
    "my_fun()\n",
    "print(A)"
   ]
  },
  {
   "cell_type": "code",
   "execution_count": null,
   "id": "fbfe9af5-02ac-4e19-90ee-30693ef82808",
   "metadata": {},
   "outputs": [],
   "source": []
  }
 ],
 "metadata": {
  "kernelspec": {
   "display_name": "info2000",
   "language": "python",
   "name": "info2000"
  },
  "language_info": {
   "codemirror_mode": {
    "name": "ipython",
    "version": 3
   },
   "file_extension": ".py",
   "mimetype": "text/x-python",
   "name": "python",
   "nbconvert_exporter": "python",
   "pygments_lexer": "ipython3",
   "version": "3.9.18"
  }
 },
 "nbformat": 4,
 "nbformat_minor": 5
}
