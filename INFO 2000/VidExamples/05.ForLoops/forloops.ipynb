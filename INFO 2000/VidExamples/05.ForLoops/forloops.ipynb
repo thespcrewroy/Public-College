{
 "cells": [
  {
   "cell_type": "code",
   "execution_count": 4,
   "id": "b10e31fa-141b-4d73-ba41-5903683b4fb6",
   "metadata": {},
   "outputs": [
    {
     "name": "stdout",
     "output_type": "stream",
     "text": [
      "0\n",
      "1\n",
      "2\n"
     ]
    }
   ],
   "source": [
    "# 'time' forces python to wait one second before each print statement\n",
    "import time\n",
    "for index in range(0,3):\n",
    "    time.sleep(1)\n",
    "    print(index)"
   ]
  },
  {
   "cell_type": "code",
   "execution_count": 6,
   "id": "bd684849-0e12-4ffe-a069-ae71eb7e94c9",
   "metadata": {},
   "outputs": [
    {
     "name": "stdout",
     "output_type": "stream",
     "text": [
      "1\n",
      "2\n",
      "3\n"
     ]
    }
   ],
   "source": [
    "# Loops through a list directly\n",
    "for item in [1,2,3]:\n",
    "    time.sleep(1)\n",
    "    print(item)\n",
    "    "
   ]
  },
  {
   "cell_type": "code",
   "execution_count": 8,
   "id": "65ca8dd2-1eb8-49ce-b950-b83390f60f2f",
   "metadata": {},
   "outputs": [
    {
     "name": "stdout",
     "output_type": "stream",
     "text": [
      "0 1\n",
      "1 2\n",
      "2 3\n"
     ]
    }
   ],
   "source": [
    "# Used when both the index of the item and the item is needed\n",
    "for index,item in enumerate([1,2,3]):\n",
    "    time.sleep(1)\n",
    "    print(index,item)"
   ]
  },
  {
   "cell_type": "code",
   "execution_count": 1,
   "id": "c44c7554-74df-4fa0-bc9c-6a22c4dbd9e2",
   "metadata": {},
   "outputs": [],
   "source": [
    "# Aliases numpy as np so we can just write np instead of numpy\n",
    "import numpy as np"
   ]
  },
  {
   "cell_type": "code",
   "execution_count": 2,
   "id": "466461f8-8648-480a-8873-d9ab2d64e58a",
   "metadata": {},
   "outputs": [
    {
     "name": "stdout",
     "output_type": "stream",
     "text": [
      "[16673, 16565, 16537, 16763, 16948, 16514]\n"
     ]
    }
   ],
   "source": [
    "# Creates an array of length 6\n",
    "counts = [0] * 6 # Creates a \n",
    "for index in range(0,100000):\n",
    "    roll = np.random.randint(0,6)\n",
    "    counts[roll] += 1 # add this roll to the correct count\n",
    "print(counts)"
   ]
  },
  {
   "cell_type": "code",
   "execution_count": 3,
   "id": "2ce29682-771e-4a2d-beb9-8cda0eae94d4",
   "metadata": {},
   "outputs": [
    {
     "name": "stdout",
     "output_type": "stream",
     "text": [
      "0.16673\n",
      "0.16565\n",
      "0.16537\n",
      "0.16763\n",
      "0.16948\n",
      "0.16514\n"
     ]
    }
   ],
   "source": [
    "for item in counts:\n",
    "    print(item/100000)"
   ]
  },
  {
   "cell_type": "code",
   "execution_count": 6,
   "id": "3ecba921-c21f-4003-8817-b220a91a9768",
   "metadata": {},
   "outputs": [
    {
     "name": "stdout",
     "output_type": "stream",
     "text": [
      "1 0.16673\n",
      "2 0.16565\n",
      "3 0.16537\n",
      "4 0.16763\n",
      "5 0.16948\n",
      "6 0.16514\n"
     ]
    }
   ],
   "source": [
    "for index, item in enumerate(counts):\n",
    "    print(index + 1, item/100000)"
   ]
  },
  {
   "cell_type": "code",
   "execution_count": null,
   "id": "2d0b8024-64b9-43b9-95f1-ea59bac40f1e",
   "metadata": {},
   "outputs": [],
   "source": []
  }
 ],
 "metadata": {
  "kernelspec": {
   "display_name": "base",
   "language": "python",
   "name": "base"
  },
  "language_info": {
   "codemirror_mode": {
    "name": "ipython",
    "version": 3
   },
   "file_extension": ".py",
   "mimetype": "text/x-python",
   "name": "python",
   "nbconvert_exporter": "python",
   "pygments_lexer": "ipython3",
   "version": "3.9.18"
  }
 },
 "nbformat": 4,
 "nbformat_minor": 5
}
