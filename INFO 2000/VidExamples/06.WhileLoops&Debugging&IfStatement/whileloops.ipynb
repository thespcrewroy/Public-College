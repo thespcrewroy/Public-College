{
 "cells": [
  {
   "cell_type": "code",
   "execution_count": 1,
   "id": "3fd548a2-c1a7-4bbd-8232-db25b9857d74",
   "metadata": {},
   "outputs": [
    {
     "name": "stdout",
     "output_type": "stream",
     "text": [
      "343\n"
     ]
    }
   ],
   "source": [
    "target = 342\n",
    "total = 0\n",
    "i = 1\n",
    "while total < target:\n",
    "    total += 1\n",
    "    i += 1\n",
    "print(i)"
   ]
  },
  {
   "cell_type": "code",
   "execution_count": 2,
   "id": "ad81ab5e-0812-45d8-9ac0-69ff4fa420f1",
   "metadata": {},
   "outputs": [
    {
     "name": "stdin",
     "output_type": "stream",
     "text": [
      "Enter a number between 0 and 9, or Q to quit 9\n",
      "Enter a number between 0 and 9, or Q to quit 3\n",
      "Enter a number between 0 and 9, or Q to quit 10\n",
      "Enter a number between 0 and 9, or Q to quit Q\n"
     ]
    },
    {
     "name": "stdout",
     "output_type": "stream",
     "text": [
      "Goodbye\n"
     ]
    }
   ],
   "source": [
    "while True:\n",
    "    selection = input(\"Enter a number between 0 and 9, or Q to quit\")\n",
    "    if selection == 'Q':\n",
    "        break\n",
    "print('Goodbye')"
   ]
  },
  {
   "cell_type": "code",
   "execution_count": null,
   "id": "d258c088-ba7a-47c3-9821-56500b849fca",
   "metadata": {},
   "outputs": [],
   "source": []
  }
 ],
 "metadata": {
  "kernelspec": {
   "display_name": "base",
   "language": "python",
   "name": "base"
  },
  "language_info": {
   "codemirror_mode": {
    "name": "ipython",
    "version": 3
   },
   "file_extension": ".py",
   "mimetype": "text/x-python",
   "name": "python",
   "nbconvert_exporter": "python",
   "pygments_lexer": "ipython3",
   "version": "3.9.18"
  }
 },
 "nbformat": 4,
 "nbformat_minor": 5
}
