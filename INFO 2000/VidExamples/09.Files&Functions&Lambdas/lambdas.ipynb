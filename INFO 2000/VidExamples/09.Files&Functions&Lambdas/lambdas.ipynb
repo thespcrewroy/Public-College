{
 "cells": [
  {
   "cell_type": "code",
   "execution_count": 1,
   "id": "958801c2-bef4-4a2e-85e2-d45f406d968d",
   "metadata": {},
   "outputs": [],
   "source": [
    "# Sync with L1\n",
    "L1 = [1,2,3,4]\n",
    "L2 = [X+1 for X in L1]"
   ]
  },
  {
   "cell_type": "code",
   "execution_count": 2,
   "id": "a1e8f75a-e509-4219-a8c6-50948ccbe942",
   "metadata": {},
   "outputs": [
    {
     "name": "stdout",
     "output_type": "stream",
     "text": [
      "[2, 3, 4, 5]\n"
     ]
    }
   ],
   "source": [
    "print(L2)"
   ]
  },
  {
   "cell_type": "code",
   "execution_count": 4,
   "id": "3943084e-6f5a-4410-b268-bd691b5fe7a1",
   "metadata": {},
   "outputs": [
    {
     "data": {
      "text/plain": [
       "[3, 4]"
      ]
     },
     "execution_count": 4,
     "metadata": {},
     "output_type": "execute_result"
    }
   ],
   "source": [
    "# Quickly filter a list for particular values\n",
    "L = [1,2,3,4]\n",
    "[X for X in L if X > 2]"
   ]
  },
  {
   "cell_type": "code",
   "execution_count": 6,
   "id": "ac17748a-b68c-4f0c-b78c-2e79003c5747",
   "metadata": {},
   "outputs": [
    {
     "data": {
      "text/plain": [
       "['LOW', 'LOW', 'HIGH', 'HIGH']"
      ]
     },
     "execution_count": 6,
     "metadata": {},
     "output_type": "execute_result"
    }
   ],
   "source": [
    "# Combines the if and for loop\n",
    "L = [1,2,3,4]\n",
    "[\"HIGH\" if X > 2 else \"LOW\" for X in L]"
   ]
  },
  {
   "cell_type": "code",
   "execution_count": 8,
   "id": "dedb54d7-3a2b-4c79-9914-13319138d703",
   "metadata": {},
   "outputs": [
    {
     "data": {
      "text/plain": [
       "'HIGH'"
      ]
     },
     "execution_count": 8,
     "metadata": {},
     "output_type": "execute_result"
    }
   ],
   "source": [
    "# if statement\n",
    "x = 3\n",
    "\"HIGH\" if x > 2 else \"LOW\""
   ]
  },
  {
   "cell_type": "code",
   "execution_count": 11,
   "id": "4c569e71-031a-4a34-b8af-a7e81a9b9b82",
   "metadata": {},
   "outputs": [
    {
     "name": "stdout",
     "output_type": "stream",
     "text": [
      "{'A': 1, 'B': 2}\n"
     ]
    }
   ],
   "source": [
    "# Create a dict\n",
    "D = {key:value for key,value in zip([\"A\",\"B\"],[1,2])}\n",
    "print(D)"
   ]
  },
  {
   "cell_type": "code",
   "execution_count": 15,
   "id": "cdddc99b-4ab9-48b8-8ee3-dd435b1e8ca9",
   "metadata": {},
   "outputs": [
    {
     "name": "stdout",
     "output_type": "stream",
     "text": [
      "[2, 3, 4, 5]\n"
     ]
    }
   ],
   "source": [
    "# Function definition does not return a value\n",
    "L = [1,2,3,4]\n",
    "def add_one(X):\n",
    "    return X+1\n",
    "M = map(add_one,L)\n",
    "print(list(M))"
   ]
  },
  {
   "cell_type": "code",
   "execution_count": 16,
   "id": "68418197-fb0c-421a-95de-01bb76631a91",
   "metadata": {},
   "outputs": [
    {
     "name": "stdout",
     "output_type": "stream",
     "text": [
      "[2, 3, 4, 5]\n"
     ]
    }
   ],
   "source": [
    "# Lambda returns a value\n",
    "L = [1,2,3,4]\n",
    "M = map(lambda X:X+1,L)\n",
    "print(list(M))"
   ]
  },
  {
   "cell_type": "code",
   "execution_count": null,
   "id": "f5dbecf7-7577-4e58-a95d-94554236d303",
   "metadata": {},
   "outputs": [],
   "source": []
  }
 ],
 "metadata": {
  "kernelspec": {
   "display_name": "info2000",
   "language": "python",
   "name": "info2000"
  },
  "language_info": {
   "codemirror_mode": {
    "name": "ipython",
    "version": 3
   },
   "file_extension": ".py",
   "mimetype": "text/x-python",
   "name": "python",
   "nbconvert_exporter": "python",
   "pygments_lexer": "ipython3",
   "version": "3.9.18"
  }
 },
 "nbformat": 4,
 "nbformat_minor": 5
}
