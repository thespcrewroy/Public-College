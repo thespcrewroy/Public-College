{
 "cells": [
  {
   "cell_type": "code",
   "execution_count": 31,
   "id": "cf5ab68c-0eb8-4dc8-b2b1-a1ec1dc85c24",
   "metadata": {},
   "outputs": [],
   "source": [
    "# Create the file\n",
    "f = open(\"myfile.txt\", \"w\")\n",
    "f.close()"
   ]
  },
  {
   "cell_type": "code",
   "execution_count": 3,
   "id": "ccfb3b10-3ac9-49aa-963f-6a5cb200ab3d",
   "metadata": {},
   "outputs": [
    {
     "name": "stdout",
     "output_type": "stream",
     "text": [
      "Line 1 of the file\n",
      "Line 2 of the file\n"
     ]
    }
   ],
   "source": [
    "# Open a file for reading and print the whole contents\n",
    "f = open(\"myfile.txt\", \"r\")\n",
    "contents = f.read()\n",
    "print(contents)"
   ]
  },
  {
   "cell_type": "code",
   "execution_count": 5,
   "id": "620b5575-fa54-43a4-a258-527a38341d88",
   "metadata": {},
   "outputs": [
    {
     "name": "stdout",
     "output_type": "stream",
     "text": [
      "Line 1 of \n"
     ]
    }
   ],
   "source": [
    "# Read the first 10 characters of the file\n",
    "f = open(\"myfile.txt\", \"r\")\n",
    "first_10 = f.read(10)\n",
    "print(first_10)"
   ]
  },
  {
   "cell_type": "code",
   "execution_count": 9,
   "id": "7c3e6b70-7b36-4965-89d8-af7a0bd704d3",
   "metadata": {},
   "outputs": [
    {
     "name": "stdout",
     "output_type": "stream",
     "text": [
      "\n"
     ]
    }
   ],
   "source": [
    "# You can continue to read characters\n",
    "next_10 = f.read(10)\n",
    "print(next_10)"
   ]
  },
  {
   "cell_type": "code",
   "execution_count": 11,
   "id": "bea717f0-2fde-49c3-ba75-68a30526cbd0",
   "metadata": {},
   "outputs": [],
   "source": [
    "# Stop reading the file\n",
    "f.close()"
   ]
  },
  {
   "cell_type": "code",
   "execution_count": 15,
   "id": "c3fc6232-ed35-4d4c-a8aa-d8d0de03cffc",
   "metadata": {},
   "outputs": [
    {
     "data": {
      "text/plain": [
       "'Line 1 of the file\\n'"
      ]
     },
     "execution_count": 15,
     "metadata": {},
     "output_type": "execute_result"
    }
   ],
   "source": [
    "# Read the string\n",
    "f = open(\"myfile.txt\", \"r\")\n",
    "f.readline()"
   ]
  },
  {
   "cell_type": "code",
   "execution_count": 17,
   "id": "73366a23-1365-4a9d-9492-09f1ab689362",
   "metadata": {},
   "outputs": [
    {
     "data": {
      "text/plain": [
       "''"
      ]
     },
     "execution_count": 17,
     "metadata": {},
     "output_type": "execute_result"
    }
   ],
   "source": [
    "# Continue to read the next line\n",
    "f.readline()"
   ]
  },
  {
   "cell_type": "code",
   "execution_count": 18,
   "id": "75fa62a6-5758-4b13-9c5a-9673d1811595",
   "metadata": {},
   "outputs": [],
   "source": [
    "# Stop reading the lines\n",
    "f.close()"
   ]
  },
  {
   "cell_type": "code",
   "execution_count": 20,
   "id": "2d34e38a-6f6f-48f5-896d-8c8808ad6a4c",
   "metadata": {},
   "outputs": [
    {
     "name": "stdout",
     "output_type": "stream",
     "text": [
      "Line 1 of the file\n",
      "Line 2 of the file\n"
     ]
    }
   ],
   "source": [
    "# Output the file line by line\n",
    "f = open(\"myfile.txt\", \"r\")\n",
    "while True:\n",
    "    l = f.readline()\n",
    "    if l == '':\n",
    "        break;\n",
    "    print(l.strip())\n",
    "f.close()"
   ]
  },
  {
   "cell_type": "code",
   "execution_count": 22,
   "id": "ad2873f3-bf3c-4e9a-85a5-6e2d83f11655",
   "metadata": {},
   "outputs": [],
   "source": [
    "# Overwrite the file\n",
    "f = open(\"myfile.txt\", \"w\")\n",
    "f.write(\"A line of text\")\n",
    "f.close()"
   ]
  },
  {
   "cell_type": "code",
   "execution_count": 24,
   "id": "8f6c8489-429a-4cd3-8111-0365f4337900",
   "metadata": {},
   "outputs": [],
   "source": [
    "# Append mode\n",
    "f = open(\"myfile.txt\", \"a\")\n",
    "f.write(\"\\nA line of text\")\n",
    "f.close()"
   ]
  },
  {
   "cell_type": "code",
   "execution_count": 1,
   "id": "c1c00f8c-57ff-4b92-9673-8684a2c63582",
   "metadata": {},
   "outputs": [],
   "source": [
    "f = open(\"myfile.txt\", \"a\")"
   ]
  },
  {
   "cell_type": "code",
   "execution_count": 2,
   "id": "14bd236a-2f25-4b25-97f9-68cf701fc28c",
   "metadata": {},
   "outputs": [
    {
     "data": {
      "text/plain": [
       "18"
      ]
     },
     "execution_count": 2,
     "metadata": {},
     "output_type": "execute_result"
    }
   ],
   "source": [
    "f.write(\"\\n Another new line\")"
   ]
  },
  {
   "cell_type": "code",
   "execution_count": 3,
   "id": "443da76f-4b9a-4d72-8ee0-9e47ac1b8796",
   "metadata": {},
   "outputs": [],
   "source": [
    "# Force the writing of text\n",
    "f.flush()"
   ]
  },
  {
   "cell_type": "code",
   "execution_count": 4,
   "id": "2b1d02ee-d91c-49f4-a5a7-589cb56c70cd",
   "metadata": {},
   "outputs": [],
   "source": [
    "f.close()"
   ]
  },
  {
   "cell_type": "code",
   "execution_count": 5,
   "id": "ae75867e-9347-4c33-bb43-84f4c35c301b",
   "metadata": {},
   "outputs": [],
   "source": [
    "# Open and closes the file automatically\n",
    "with open(\"myfile.txt\", \"a\") as f:\n",
    "    f.write(\"\\n Another Line\")"
   ]
  },
  {
   "cell_type": "code",
   "execution_count": 7,
   "id": "b5bda38f-fa20-4217-9a34-2553f132d100",
   "metadata": {},
   "outputs": [],
   "source": [
    "import os"
   ]
  },
  {
   "cell_type": "code",
   "execution_count": 9,
   "id": "89522232-f8c2-481a-ad04-745d8d4a1445",
   "metadata": {},
   "outputs": [
    {
     "data": {
      "text/plain": [
       "'/Users/swapnilroy/Desktop/UGACS/INFO2000/VidExamples/example_6'"
      ]
     },
     "execution_count": 9,
     "metadata": {},
     "output_type": "execute_result"
    }
   ],
   "source": [
    "# Show the file path of the jupyter lab\n",
    "os.getcwd()"
   ]
  },
  {
   "cell_type": "code",
   "execution_count": 10,
   "id": "19650a0d-26be-4935-9a73-6ebc4e30e864",
   "metadata": {},
   "outputs": [
    {
     "data": {
      "text/plain": [
       "'/Users/swapnilroy/Desktop/UGACS/INFO2000/VidExamples'"
      ]
     },
     "execution_count": 10,
     "metadata": {},
     "output_type": "execute_result"
    }
   ],
   "source": [
    "# Change to parent directory\n",
    "os.chdir('..')\n",
    "os.getcwd()"
   ]
  },
  {
   "cell_type": "code",
   "execution_count": 13,
   "id": "01350266-8141-49ca-8140-447901d89baa",
   "metadata": {},
   "outputs": [
    {
     "data": {
      "text/plain": [
       "'/Users/swapnilroy/Desktop/UGACS/INFO2000/VidExamples/example_6'"
      ]
     },
     "execution_count": 13,
     "metadata": {},
     "output_type": "execute_result"
    }
   ],
   "source": [
    "os.getcwd()"
   ]
  },
  {
   "cell_type": "code",
   "execution_count": 16,
   "id": "78e904cb-6c3d-4eb6-abfe-8104b50f1e00",
   "metadata": {},
   "outputs": [
    {
     "name": "stdout",
     "output_type": "stream",
     "text": [
      "<DirEntry 'files.ipynb'>\n",
      "<DirEntry 'myfile.txt'>\n",
      "<DirEntry '.ipynb_checkpoints'>\n"
     ]
    }
   ],
   "source": [
    "# Lists the files in the current directory in long format\n",
    "os.scandir()\n",
    "for directory in os.scandir():\n",
    "    print(directory)"
   ]
  },
  {
   "cell_type": "code",
   "execution_count": 18,
   "id": "c9561023-5e09-4f17-954d-89093c634a52",
   "metadata": {},
   "outputs": [
    {
     "name": "stdout",
     "output_type": "stream",
     "text": [
      "files.ipynb\n",
      "./files.ipynb\n",
      "myfile.txt\n",
      "./myfile.txt\n",
      ".ipynb_checkpoints\n",
      "./.ipynb_checkpoints\n"
     ]
    }
   ],
   "source": [
    "# Lists the names and relative paths of the files in long format\n",
    "os.scandir()\n",
    "for directory in os.scandir():\n",
    "    print(directory.name)\n",
    "    print(directory.path)"
   ]
  },
  {
   "cell_type": "code",
   "execution_count": 19,
   "id": "65c9f409-dfc1-4500-9db3-fb0eb5d2cbeb",
   "metadata": {},
   "outputs": [
    {
     "name": "stdout",
     "output_type": "stream",
     "text": [
      "os.stat_result(st_mode=33188, st_ino=13075226, st_dev=16777233, st_nlink=1, st_uid=501, st_gid=20, st_size=8576, st_atime=1708431396, st_mtime=1708431396, st_ctime=1708431396)\n",
      "os.stat_result(st_mode=33188, st_ino=13075341, st_dev=16777233, st_nlink=1, st_uid=501, st_gid=20, st_size=60, st_atime=1708430777, st_mtime=1708430775, st_ctime=1708430775)\n",
      "os.stat_result(st_mode=16877, st_ino=13075227, st_dev=16777233, st_nlink=4, st_uid=501, st_gid=20, st_size=128, st_atime=1708407567, st_mtime=1708407680, st_ctime=1708407680)\n"
     ]
    }
   ],
   "source": [
    "# Lists all the information about a file\n",
    "os.scandir()\n",
    "for directory in os.scandir():\n",
    "    print(directory.stat())"
   ]
  },
  {
   "cell_type": "code",
   "execution_count": 20,
   "id": "464eac70-7f7a-43c4-94b3-5ce5360650fe",
   "metadata": {},
   "outputs": [
    {
     "name": "stdout",
     "output_type": "stream",
     "text": [
      "8576\n",
      "60\n",
      "128\n"
     ]
    }
   ],
   "source": [
    "# Print out the sizes of the files in the current directory\n",
    "# Lists the names and relative paths of the files in long format\n",
    "os.scandir()\n",
    "for directory in os.scandir():\n",
    "    stats = directory.stat()\n",
    "    print(stats.st_size)"
   ]
  },
  {
   "cell_type": "code",
   "execution_count": 22,
   "id": "bfcf7fc3-5c83-4564-a9fe-b9ef4d771e23",
   "metadata": {},
   "outputs": [
    {
     "name": "stdout",
     "output_type": "stream",
     "text": [
      "./files.ipynb 9938\n",
      "./myfile.txt 60\n",
      "./.ipynb_checkpoints 128\n"
     ]
    }
   ],
   "source": [
    "# Print out the filename and size\n",
    "os.scandir()\n",
    "for directory in os.scandir():\n",
    "    f = directory.path\n",
    "    stats = directory.stat()\n",
    "    print(f,stats.st_size)"
   ]
  },
  {
   "cell_type": "code",
   "execution_count": 23,
   "id": "635f1279-dbb1-4466-b8dd-29383700ef97",
   "metadata": {},
   "outputs": [],
   "source": [
    "# Create a new directory\n",
    "os.makedirs(\"temporary\")"
   ]
  },
  {
   "cell_type": "code",
   "execution_count": 24,
   "id": "9ac0db18-fb31-418c-9e9e-fb2c3677f376",
   "metadata": {},
   "outputs": [],
   "source": [
    "# Rename a directory\n",
    "os.rename(\"temporary\", \"temp\")"
   ]
  },
  {
   "cell_type": "code",
   "execution_count": 25,
   "id": "4d7f761b-b650-4319-9ba0-e3eccb58f682",
   "metadata": {},
   "outputs": [],
   "source": [
    "# Remove a file\n",
    "os.remove(\"myfile.txt\")"
   ]
  },
  {
   "cell_type": "code",
   "execution_count": 26,
   "id": "380d2935-3be2-4981-9c14-5ee21a8e80a8",
   "metadata": {},
   "outputs": [],
   "source": [
    "# Remove a directory\n",
    "os.rmdir(\"temp\")"
   ]
  },
  {
   "cell_type": "code",
   "execution_count": 28,
   "id": "4c0214fe-c684-4b53-9d3e-54e6854ad394",
   "metadata": {},
   "outputs": [],
   "source": [
    "import glob"
   ]
  },
  {
   "cell_type": "code",
   "execution_count": 34,
   "id": "80f263a8-0519-48d7-bfcd-5099e9d2e455",
   "metadata": {},
   "outputs": [
    {
     "data": {
      "text/plain": [
       "['myfile.txt', 'anything.txt']"
      ]
     },
     "execution_count": 34,
     "metadata": {},
     "output_type": "execute_result"
    }
   ],
   "source": [
    "# Find the desired file/directory\n",
    "glob.glob(\"*.txt\")"
   ]
  },
  {
   "cell_type": "code",
   "execution_count": null,
   "id": "1c809c40-2718-4395-8cee-82320b488cbc",
   "metadata": {},
   "outputs": [],
   "source": []
  }
 ],
 "metadata": {
  "kernelspec": {
   "display_name": "base",
   "language": "python",
   "name": "base"
  },
  "language_info": {
   "codemirror_mode": {
    "name": "ipython",
    "version": 3
   },
   "file_extension": ".py",
   "mimetype": "text/x-python",
   "name": "python",
   "nbconvert_exporter": "python",
   "pygments_lexer": "ipython3",
   "version": "3.9.18"
  }
 },
 "nbformat": 4,
 "nbformat_minor": 5
}
