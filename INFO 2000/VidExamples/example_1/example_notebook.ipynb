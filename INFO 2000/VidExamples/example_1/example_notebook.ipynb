{
 "cells": [
  {
   "cell_type": "code",
   "execution_count": 4,
   "id": "bc558442-527b-4d42-9c1e-8e8652f75bbc",
   "metadata": {},
   "outputs": [],
   "source": [
    "# This program is an example\n",
    "import time\n",
    "import os\n",
    "num_files = len(os.listdir(\"data\"))\n",
    "file = open(\"res/time.txt\", \"w\")\n",
    "file.write(f\"The program was last run at {time.ctime()}\\n\")\n",
    "file.write(f\"There are {num_files} in the data folder\\n\")\n",
    "file.close()\n",
    "file.close()"
   ]
  },
  {
   "cell_type": "code",
   "execution_count": 6,
   "id": "dbf0b563-b900-49ae-8213-bea206a9106f",
   "metadata": {},
   "outputs": [
    {
     "name": "stdout",
     "output_type": "stream",
     "text": [
      "/Users/swapnilroy/Desktop/example_1\n",
      "Hello Jupyter\n"
     ]
    }
   ],
   "source": [
    "print(os.getcwd())\n",
    "print(\"Hello Jupyter\")"
   ]
  },
  {
   "cell_type": "code",
   "execution_count": null,
   "id": "acdfa6d4-70fe-49a0-b4db-760b982d99a0",
   "metadata": {},
   "outputs": [],
   "source": []
  }
 ],
 "metadata": {
  "kernelspec": {
   "display_name": "base",
   "language": "python",
   "name": "base"
  },
  "language_info": {
   "codemirror_mode": {
    "name": "ipython",
    "version": 3
   },
   "file_extension": ".py",
   "mimetype": "text/x-python",
   "name": "python",
   "nbconvert_exporter": "python",
   "pygments_lexer": "ipython3",
   "version": "3.9.18"
  }
 },
 "nbformat": 4,
 "nbformat_minor": 5
}
