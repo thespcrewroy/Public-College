{
 "cells": [
  {
   "cell_type": "code",
   "execution_count": 24,
   "id": "51a54345-1c15-40ac-8471-b80139b38ac6",
   "metadata": {},
   "outputs": [],
   "source": [
    "s = \"abc\""
   ]
  },
  {
   "cell_type": "code",
   "execution_count": 25,
   "id": "0e7dc08d-35d4-4b9a-a128-8e69d7700b3a",
   "metadata": {},
   "outputs": [
    {
     "data": {
      "text/plain": [
       "'c'"
      ]
     },
     "execution_count": 25,
     "metadata": {},
     "output_type": "execute_result"
    }
   ],
   "source": [
    "# You can access the string just like a list\n",
    "s[2]"
   ]
  },
  {
   "cell_type": "code",
   "execution_count": 26,
   "id": "819cfcd0-5e71-474f-94ed-a7605e3fde95",
   "metadata": {},
   "outputs": [
    {
     "data": {
      "text/plain": [
       "'cba'"
      ]
     },
     "execution_count": 26,
     "metadata": {},
     "output_type": "execute_result"
    }
   ],
   "source": [
    "s[::-1]"
   ]
  },
  {
   "cell_type": "code",
   "execution_count": 27,
   "id": "a30bebb6-b33f-4ac3-9367-de981fa712dc",
   "metadata": {},
   "outputs": [
    {
     "data": {
      "text/plain": [
       "['a', 'b', 'c']"
      ]
     },
     "execution_count": 27,
     "metadata": {},
     "output_type": "execute_result"
    }
   ],
   "source": [
    "# Convert the string to a list\n",
    "list(s)"
   ]
  },
  {
   "cell_type": "code",
   "execution_count": 28,
   "id": "e77717e7-428f-45cd-979f-c7a7f9ed7d51",
   "metadata": {},
   "outputs": [
    {
     "data": {
      "text/plain": [
       "('a', 'b', 'c')"
      ]
     },
     "execution_count": 28,
     "metadata": {},
     "output_type": "execute_result"
    }
   ],
   "source": [
    "# Convert the string to a tuple\n",
    "tuple(s)"
   ]
  },
  {
   "cell_type": "code",
   "execution_count": 29,
   "id": "9453498f-1403-4e9a-a8c1-5515661562f2",
   "metadata": {},
   "outputs": [
    {
     "data": {
      "text/plain": [
       "'hello world'"
      ]
     },
     "execution_count": 29,
     "metadata": {},
     "output_type": "execute_result"
    }
   ],
   "source": [
    "# Combine strings with '+' operator\n",
    "s = \"hello\" + \" world\"\n",
    "s"
   ]
  },
  {
   "cell_type": "code",
   "execution_count": 30,
   "id": "3269d0ba-5aae-44fe-a1ba-a740047ce05b",
   "metadata": {},
   "outputs": [
    {
     "data": {
      "text/plain": [
       "True"
      ]
     },
     "execution_count": 30,
     "metadata": {},
     "output_type": "execute_result"
    }
   ],
   "source": [
    "# You can use both single or double quotes\n",
    "'hello world' == \"hello world\""
   ]
  },
  {
   "cell_type": "code",
   "execution_count": 31,
   "id": "0e59a4d5-bcb2-4aa8-a37c-aad2616861d9",
   "metadata": {},
   "outputs": [
    {
     "data": {
      "text/plain": [
       "\"kyle's course\""
      ]
     },
     "execution_count": 31,
     "metadata": {},
     "output_type": "execute_result"
    }
   ],
   "source": [
    "# Use an escape sequence if using single quotes with apostrophes\n",
    "'kyle\\'s course'"
   ]
  },
  {
   "cell_type": "code",
   "execution_count": 32,
   "id": "0e39046a-a14b-42a1-bedb-04dccd7dd1b4",
   "metadata": {},
   "outputs": [
    {
     "name": "stdout",
     "output_type": "stream",
     "text": [
      "\"kyle's\" course\n"
     ]
    }
   ],
   "source": [
    "# Use an escape sequence if using dobule quotes with a double quoted string\n",
    "print(\"\\\"kyle's\\\" course\")"
   ]
  },
  {
   "cell_type": "code",
   "execution_count": 33,
   "id": "e6ed099b-5f93-4578-80c8-bebd088236e2",
   "metadata": {},
   "outputs": [
    {
     "name": "stdout",
     "output_type": "stream",
     "text": [
      "\\\n"
     ]
    }
   ],
   "source": [
    "print(\"\\\\\")"
   ]
  },
  {
   "cell_type": "code",
   "execution_count": 34,
   "id": "b3c9cc3c-8d0e-4618-8d5b-8a8288508341",
   "metadata": {},
   "outputs": [
    {
     "name": "stdout",
     "output_type": "stream",
     "text": [
      "\n",
      "This is a \n",
      "multiline string\n",
      "\n"
     ]
    }
   ],
   "source": [
    "# Multiline string\n",
    "print('''\n",
    "This is a \n",
    "multiline string\n",
    "''')"
   ]
  },
  {
   "cell_type": "code",
   "execution_count": 35,
   "id": "766f036d-d847-42d4-ba61-975031221ea7",
   "metadata": {},
   "outputs": [
    {
     "data": {
      "text/plain": [
       "\"\\nThis is a multiline comment.\\nYou don't have to use multiple #'s\\n\""
      ]
     },
     "execution_count": 35,
     "metadata": {},
     "output_type": "execute_result"
    }
   ],
   "source": [
    "\"\"\"\n",
    "This is a multiline comment.\n",
    "You don't have to use multiple #'s\n",
    "\"\"\""
   ]
  },
  {
   "cell_type": "code",
   "execution_count": 36,
   "id": "81a13d0b-7ee1-4f04-a381-14eb51096911",
   "metadata": {},
   "outputs": [],
   "source": [
    "# single-line comment"
   ]
  },
  {
   "cell_type": "code",
   "execution_count": 37,
   "id": "b9f653a5-5c2d-421c-9ca7-b5081a110a78",
   "metadata": {},
   "outputs": [
    {
     "name": "stdout",
     "output_type": "stream",
     "text": [
      "I can include a \\ without issue\n"
     ]
    }
   ],
   "source": [
    "# Raw strings allow you to not worry about escape sequences\n",
    "# Useful for embedding other languages within the python language\n",
    "print(r\"I can include a \\ without issue\")"
   ]
  },
  {
   "cell_type": "code",
   "execution_count": 38,
   "id": "09d534d0-2740-48ac-81e3-79d6b6ea7018",
   "metadata": {},
   "outputs": [],
   "source": [
    "# You can't put a escape sequences at the end however\n",
    "# print(r\"I can't put a \\ at the end\\\")"
   ]
  },
  {
   "cell_type": "code",
   "execution_count": 44,
   "id": "1772d02b-7e83-4e2b-86d6-03d78353a2d4",
   "metadata": {},
   "outputs": [
    {
     "name": "stdout",
     "output_type": "stream",
     "text": [
      "Formatted strings can include varaibles, like hello world\n"
     ]
    }
   ],
   "source": [
    "print(f\"Formatted strings can include varaibles, like {s}\")"
   ]
  },
  {
   "cell_type": "code",
   "execution_count": 47,
   "id": "c1837dfd-c233-4299-befb-9c3f082632b7",
   "metadata": {},
   "outputs": [
    {
     "name": "stdout",
     "output_type": "stream",
     "text": [
      "Formatted numbers are easy: 3.1415927\n"
     ]
    }
   ],
   "source": [
    "# Print PI to 7 decimal places\n",
    "import math\n",
    "print(f\"Formatted numbers are easy: {math.pi:.7f}\")"
   ]
  },
  {
   "cell_type": "code",
   "execution_count": 48,
   "id": "6d4cd2f9-eefa-444d-92aa-871490906dd4",
   "metadata": {},
   "outputs": [
    {
     "data": {
      "text/plain": [
       "3.141592653589793"
      ]
     },
     "execution_count": 48,
     "metadata": {},
     "output_type": "execute_result"
    }
   ],
   "source": [
    "math.pi"
   ]
  },
  {
   "cell_type": "code",
   "execution_count": 50,
   "id": "0524c8e1-78bb-44e8-bb03-d3b06e46b60d",
   "metadata": {},
   "outputs": [
    {
     "data": {
      "text/plain": [
       "11"
      ]
     },
     "execution_count": 50,
     "metadata": {},
     "output_type": "execute_result"
    }
   ],
   "source": [
    "# length string operator\n",
    "len(\"hello world\")"
   ]
  },
  {
   "cell_type": "code",
   "execution_count": 51,
   "id": "2499dbd4-f9cd-4523-a388-711fa7f40b16",
   "metadata": {},
   "outputs": [
    {
     "data": {
      "text/plain": [
       "'HELLO'"
      ]
     },
     "execution_count": 51,
     "metadata": {},
     "output_type": "execute_result"
    }
   ],
   "source": [
    "# Convert to upper case\n",
    "\"hello\".upper()"
   ]
  },
  {
   "cell_type": "code",
   "execution_count": 52,
   "id": "c02832d3-4422-4145-8064-1d1fc3bafc0c",
   "metadata": {},
   "outputs": [
    {
     "data": {
      "text/plain": [
       "'hello'"
      ]
     },
     "execution_count": 52,
     "metadata": {},
     "output_type": "execute_result"
    }
   ],
   "source": [
    "# Conver to lower case\n",
    "\"HELLO\".lower()"
   ]
  },
  {
   "cell_type": "code",
   "execution_count": 53,
   "id": "ce117fcf-2037-410b-93de-f3fd048cf96d",
   "metadata": {},
   "outputs": [
    {
     "data": {
      "text/plain": [
       "'Hello'"
      ]
     },
     "execution_count": 53,
     "metadata": {},
     "output_type": "execute_result"
    }
   ],
   "source": [
    "# Get rid of white space\n",
    "\"     Hello    \".strip()"
   ]
  },
  {
   "cell_type": "code",
   "execution_count": 56,
   "id": "122a88ea-7236-4345-aaf8-8bd80952d7df",
   "metadata": {},
   "outputs": [
    {
     "data": {
      "text/plain": [
       "'1,2,3,4'"
      ]
     },
     "execution_count": 56,
     "metadata": {},
     "output_type": "execute_result"
    }
   ],
   "source": [
    "# Join lists of strings using the calling object\n",
    "\",\".join([\"1\",\"2\",\"3\",\"4\"])"
   ]
  },
  {
   "cell_type": "code",
   "execution_count": 59,
   "id": "2c4b6fc3-143c-44bc-9551-4e8b704de04b",
   "metadata": {},
   "outputs": [
    {
     "data": {
      "text/plain": [
       "'1,2,3,4'"
      ]
     },
     "execution_count": 59,
     "metadata": {},
     "output_type": "execute_result"
    }
   ],
   "source": [
    "# List comprehension which also converts integers to string along with joining\n",
    "\",\".join([str(x) for x in [1,2,3,4]])"
   ]
  },
  {
   "cell_type": "code",
   "execution_count": 61,
   "id": "6ffbdbbb-4b6e-452e-a31f-86ac06f96d20",
   "metadata": {},
   "outputs": [
    {
     "data": {
      "text/plain": [
       "'hewwo worwd'"
      ]
     },
     "execution_count": 61,
     "metadata": {},
     "output_type": "execute_result"
    }
   ],
   "source": [
    "# Replace\n",
    "\"hello world\".replace(\"l\", \"w\")"
   ]
  },
  {
   "cell_type": "code",
   "execution_count": 62,
   "id": "ba63242a-a944-400b-b494-f9d8b1728801",
   "metadata": {},
   "outputs": [
    {
     "data": {
      "text/plain": [
       "['hello world']"
      ]
     },
     "execution_count": 62,
     "metadata": {},
     "output_type": "execute_result"
    }
   ],
   "source": [
    "s.split('--')"
   ]
  },
  {
   "cell_type": "code",
   "execution_count": 64,
   "id": "62b7614b-3433-4a38-89db-c1ba5af1bb99",
   "metadata": {},
   "outputs": [
    {
     "data": {
      "text/plain": [
       "['__add__',\n",
       " '__class__',\n",
       " '__contains__',\n",
       " '__delattr__',\n",
       " '__dir__',\n",
       " '__doc__',\n",
       " '__eq__',\n",
       " '__format__',\n",
       " '__ge__',\n",
       " '__getattribute__',\n",
       " '__getitem__',\n",
       " '__getnewargs__',\n",
       " '__gt__',\n",
       " '__hash__',\n",
       " '__init__',\n",
       " '__init_subclass__',\n",
       " '__iter__',\n",
       " '__le__',\n",
       " '__len__',\n",
       " '__lt__',\n",
       " '__mod__',\n",
       " '__mul__',\n",
       " '__ne__',\n",
       " '__new__',\n",
       " '__reduce__',\n",
       " '__reduce_ex__',\n",
       " '__repr__',\n",
       " '__rmod__',\n",
       " '__rmul__',\n",
       " '__setattr__',\n",
       " '__sizeof__',\n",
       " '__str__',\n",
       " '__subclasshook__',\n",
       " 'capitalize',\n",
       " 'casefold',\n",
       " 'center',\n",
       " 'count',\n",
       " 'encode',\n",
       " 'endswith',\n",
       " 'expandtabs',\n",
       " 'find',\n",
       " 'format',\n",
       " 'format_map',\n",
       " 'index',\n",
       " 'isalnum',\n",
       " 'isalpha',\n",
       " 'isascii',\n",
       " 'isdecimal',\n",
       " 'isdigit',\n",
       " 'isidentifier',\n",
       " 'islower',\n",
       " 'isnumeric',\n",
       " 'isprintable',\n",
       " 'isspace',\n",
       " 'istitle',\n",
       " 'isupper',\n",
       " 'join',\n",
       " 'ljust',\n",
       " 'lower',\n",
       " 'lstrip',\n",
       " 'maketrans',\n",
       " 'partition',\n",
       " 'removeprefix',\n",
       " 'removesuffix',\n",
       " 'replace',\n",
       " 'rfind',\n",
       " 'rindex',\n",
       " 'rjust',\n",
       " 'rpartition',\n",
       " 'rsplit',\n",
       " 'rstrip',\n",
       " 'split',\n",
       " 'splitlines',\n",
       " 'startswith',\n",
       " 'strip',\n",
       " 'swapcase',\n",
       " 'title',\n",
       " 'translate',\n",
       " 'upper',\n",
       " 'zfill']"
      ]
     },
     "execution_count": 64,
     "metadata": {},
     "output_type": "execute_result"
    }
   ],
   "source": [
    "# All functions that apply to string\n",
    "dir(str)"
   ]
  },
  {
   "cell_type": "code",
   "execution_count": 65,
   "id": "f86c5c40-2c04-4372-bb29-96a6cbb70192",
   "metadata": {},
   "outputs": [
    {
     "data": {
      "text/plain": [
       "False"
      ]
     },
     "execution_count": 65,
     "metadata": {},
     "output_type": "execute_result"
    }
   ],
   "source": [
    "# Different capitalization, lengths, spacing are differrently read by the compiler\n",
    "\"Hello\" == \"hello\""
   ]
  },
  {
   "cell_type": "code",
   "execution_count": 67,
   "id": "88953edf-5636-4ac4-89c6-d2206f65b793",
   "metadata": {},
   "outputs": [
    {
     "data": {
      "text/plain": [
       "True"
      ]
     },
     "execution_count": 67,
     "metadata": {},
     "output_type": "execute_result"
    }
   ],
   "source": [
    "\"HeLLo\".lower() == \"hEllO\".lower()"
   ]
  },
  {
   "cell_type": "code",
   "execution_count": 71,
   "id": "ec652f6c-c253-404d-abfa-e64ba35db268",
   "metadata": {},
   "outputs": [
    {
     "data": {
      "text/plain": [
       "104"
      ]
     },
     "execution_count": 71,
     "metadata": {},
     "output_type": "execute_result"
    }
   ],
   "source": [
    "# UTF key conversion\n",
    "ord(\"h\")"
   ]
  },
  {
   "cell_type": "code",
   "execution_count": null,
   "id": "1e7db104-956a-4425-a995-48bfde8f012c",
   "metadata": {},
   "outputs": [],
   "source": []
  }
 ],
 "metadata": {
  "kernelspec": {
   "display_name": "base",
   "language": "python",
   "name": "base"
  },
  "language_info": {
   "codemirror_mode": {
    "name": "ipython",
    "version": 3
   },
   "file_extension": ".py",
   "mimetype": "text/x-python",
   "name": "python",
   "nbconvert_exporter": "python",
   "pygments_lexer": "ipython3",
   "version": "3.9.18"
  }
 },
 "nbformat": 4,
 "nbformat_minor": 5
}
