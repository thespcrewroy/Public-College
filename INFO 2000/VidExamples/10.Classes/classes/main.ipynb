{
 "cells": [
  {
   "cell_type": "code",
   "execution_count": 2,
   "metadata": {},
   "outputs": [],
   "source": [
    "from typing import Any\n",
    "\n",
    "\n",
    "class InventoryItem:\n",
    "    #pass # Placeholder for when I add things to the class later\n",
    "    # Dunder/Magic method (self/object automatically exists when the function is called)\n",
    "    def __init__(self,name,price):\n",
    "        self.name = name\n",
    "        self.price = price\n",
    "    def reduce_price(self, percentage):\n",
    "        self.price *= percentage\n",
    "    def __str__(self):\n",
    "        return f\"Item: {self.name} ${self.price:.2f}\""
   ]
  },
  {
   "cell_type": "code",
   "execution_count": 6,
   "metadata": {},
   "outputs": [
    {
     "name": "stdout",
     "output_type": "stream",
     "text": [
      "<__main__.InventoryItem object at 0x104fd5d60>\n"
     ]
    }
   ],
   "source": [
    "# Creates a new object of type InventoryItem\n",
    "A = InventoryItem(\"Spaceship\", 42)\n",
    "print(A)"
   ]
  },
  {
   "cell_type": "code",
   "execution_count": 10,
   "metadata": {},
   "outputs": [
    {
     "name": "stdout",
     "output_type": "stream",
     "text": [
      "Item: Spaceship $42.00\n",
      "Item: Car $12.00\n",
      "Item: Bear $6.00\n"
     ]
    }
   ],
   "source": [
    "A.name = \"Spaceship\"\n",
    "A.price = 42\n",
    "\n",
    "def print_item(item):\n",
    "    print(f\"Item: {item.name} ${item.price:.2f}\")\n",
    "\n",
    "def create_item(name,price):\n",
    "    to_return = InventoryItem(name,price)\n",
    "    return to_return\n",
    "\n",
    "print_item(A)\n",
    "B = create_item(\"Car\", 12)\n",
    "print_item(B)\n",
    "C = InventoryItem(\"Bear\", 6)\n",
    "print_item(C)"
   ]
  },
  {
   "cell_type": "code",
   "execution_count": 11,
   "metadata": {},
   "outputs": [
    {
     "name": "stdout",
     "output_type": "stream",
     "text": [
      "Item: Spaceship $21.00\n"
     ]
    }
   ],
   "source": [
    "A = InventoryItem(\"Spaceship\", 42)\n",
    "A.reduce_price(.5)\n",
    "print_item(A)"
   ]
  },
  {
   "cell_type": "code",
   "execution_count": 6,
   "metadata": {},
   "outputs": [
    {
     "name": "stdout",
     "output_type": "stream",
     "text": [
      "Item: Spacehip $42.00\n",
      "<__main__.InventoryItem object at 0x109398410>\n"
     ]
    }
   ],
   "source": [
    "A = InventoryItem(\"Spacehip\", 42)\n",
    "print(A) # Print the string that is returned to the object 'A'\n",
    "print(repr(A)) # Prints the representation of A"
   ]
  }
 ],
 "metadata": {
  "kernelspec": {
   "display_name": "Python 3",
   "language": "python",
   "name": "python3"
  },
  "language_info": {
   "codemirror_mode": {
    "name": "ipython",
    "version": 3
   },
   "file_extension": ".py",
   "mimetype": "text/x-python",
   "name": "python",
   "nbconvert_exporter": "python",
   "pygments_lexer": "ipython3",
   "version": "3.12.0"
  }
 },
 "nbformat": 4,
 "nbformat_minor": 2
}
