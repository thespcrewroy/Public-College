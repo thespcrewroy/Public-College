{
 "cells": [
  {
   "cell_type": "code",
   "execution_count": 92,
   "id": "242a0326-108f-406d-8d5f-b8e1a2eff1fa",
   "metadata": {},
   "outputs": [],
   "source": [
    "a = (1,2,3)"
   ]
  },
  {
   "cell_type": "code",
   "execution_count": 93,
   "id": "10ed9eb1-b99f-44f0-b187-4ea9d87a1aa8",
   "metadata": {},
   "outputs": [],
   "source": [
    "# You can choose to leave off the parenthases if you want to\n",
    "b = 1,2,3"
   ]
  },
  {
   "cell_type": "code",
   "execution_count": 94,
   "id": "647ff37a-7ef4-43f1-b274-4b83a202caf9",
   "metadata": {},
   "outputs": [
    {
     "name": "stdout",
     "output_type": "stream",
     "text": [
      "(1, 2, 3) (1, 2, 3)\n"
     ]
    }
   ],
   "source": [
    "print(a,b)"
   ]
  },
  {
   "cell_type": "code",
   "execution_count": 95,
   "id": "d45a9862-911e-4cc7-af2d-dc09ddfd84de",
   "metadata": {},
   "outputs": [],
   "source": [
    "# Unlike list, you cannot change, delete, or append tuple objects\n",
    "# a[0] = 3\n",
    "# del a[0]\n",
    "# a.append(4)"
   ]
  },
  {
   "cell_type": "code",
   "execution_count": 96,
   "id": "d6e3debe-85fc-4bec-b2f6-3f5ace9105c5",
   "metadata": {},
   "outputs": [
    {
     "data": {
      "text/plain": [
       "(2, 3)"
      ]
     },
     "execution_count": 96,
     "metadata": {},
     "output_type": "execute_result"
    }
   ],
   "source": [
    "# You can slice a tuple to create a new tuple consisting of the elements\n",
    "a[1:]"
   ]
  },
  {
   "cell_type": "code",
   "execution_count": 97,
   "id": "95fdfa7f-1357-4caa-a3ba-ae200715d799",
   "metadata": {},
   "outputs": [
    {
     "data": {
      "text/plain": [
       "(2, 3)"
      ]
     },
     "execution_count": 97,
     "metadata": {},
     "output_type": "execute_result"
    }
   ],
   "source": [
    "# You can reassign the tuple to delete values though\n",
    "a = a[1:]\n",
    "a"
   ]
  },
  {
   "cell_type": "code",
   "execution_count": 98,
   "id": "8a4e14f7-9e71-4aa8-8929-62c26550c309",
   "metadata": {},
   "outputs": [
    {
     "name": "stdout",
     "output_type": "stream",
     "text": [
      "[1, 2] [3, 4]\n"
     ]
    }
   ],
   "source": [
    "# You can assign two lists to two, but a exists by itself and b exists by itself\n",
    "a,b = [1,2],[3,4]\n",
    "print(a,b)"
   ]
  },
  {
   "cell_type": "code",
   "execution_count": 99,
   "id": "3d298859-cb46-4c16-a63f-7cd495912b9c",
   "metadata": {},
   "outputs": [
    {
     "data": {
      "text/plain": [
       "[1, 2]"
      ]
     },
     "execution_count": 99,
     "metadata": {},
     "output_type": "execute_result"
    }
   ],
   "source": [
    "a"
   ]
  },
  {
   "cell_type": "code",
   "execution_count": 100,
   "id": "4f46a721-1d94-4c22-933b-435b0867ffdc",
   "metadata": {},
   "outputs": [
    {
     "data": {
      "text/plain": [
       "[3, 4]"
      ]
     },
     "execution_count": 100,
     "metadata": {},
     "output_type": "execute_result"
    }
   ],
   "source": [
    "b"
   ]
  },
  {
   "cell_type": "code",
   "execution_count": 101,
   "id": "f6587a9a-0d9d-49a2-a05b-1ad5fae2b398",
   "metadata": {},
   "outputs": [],
   "source": [
    "# Tuple assignment is cross-object\n",
    "a,b = [1,2]"
   ]
  },
  {
   "cell_type": "code",
   "execution_count": 102,
   "id": "85bc9e51-b64d-411a-b7ab-a5991da9b5c5",
   "metadata": {},
   "outputs": [
    {
     "data": {
      "text/plain": [
       "1"
      ]
     },
     "execution_count": 102,
     "metadata": {},
     "output_type": "execute_result"
    }
   ],
   "source": [
    "a"
   ]
  },
  {
   "cell_type": "code",
   "execution_count": 103,
   "id": "9828a2e2-ae4b-4ea1-863e-e0d7e7f2b6c4",
   "metadata": {},
   "outputs": [
    {
     "data": {
      "text/plain": [
       "2"
      ]
     },
     "execution_count": 103,
     "metadata": {},
     "output_type": "execute_result"
    }
   ],
   "source": [
    "b"
   ]
  },
  {
   "cell_type": "code",
   "execution_count": 104,
   "id": "bdc747d4-a3e1-4c0a-8807-1e7a7266982a",
   "metadata": {},
   "outputs": [],
   "source": [
    "# You cannot assign two to one\n",
    "# a,b = 3"
   ]
  },
  {
   "cell_type": "code",
   "execution_count": 105,
   "id": "b40a7bb0-c4a9-44b4-9470-b4f1a24c1fa6",
   "metadata": {},
   "outputs": [
    {
     "data": {
      "text/plain": [
       "<zip at 0x2c525203b40>"
      ]
     },
     "execution_count": 105,
     "metadata": {},
     "output_type": "execute_result"
    }
   ],
   "source": [
    "# zip takes tuples/lists and zip them together\n",
    "names = ['Kyle','Jag']\n",
    "numbers = [5,7]\n",
    "together = zip(names,numbers)\n",
    "together"
   ]
  },
  {
   "cell_type": "code",
   "execution_count": 106,
   "id": "0b600d48-b119-453f-8063-7bfb4b870bc6",
   "metadata": {},
   "outputs": [
    {
     "data": {
      "text/plain": [
       "('Kyle', 5)"
      ]
     },
     "execution_count": 106,
     "metadata": {},
     "output_type": "execute_result"
    }
   ],
   "source": [
    "# Python's 'next' grabs the next index from the iterator until it throws an error when it crosses the last index\n",
    "next(together)"
   ]
  },
  {
   "cell_type": "code",
   "execution_count": 107,
   "id": "2930a789-cb86-4c9b-87c8-f64707bfc7e3",
   "metadata": {},
   "outputs": [
    {
     "data": {
      "text/plain": [
       "[('Jag', 7)]"
      ]
     },
     "execution_count": 107,
     "metadata": {},
     "output_type": "execute_result"
    }
   ],
   "source": [
    "# Gives you the individual tuples in a list from the point of the iterator\n",
    "list(together)\n",
    "# Running it again will empty it"
   ]
  },
  {
   "cell_type": "code",
   "execution_count": 108,
   "id": "28275aed-c8f7-4c14-89f5-c0847d596303",
   "metadata": {},
   "outputs": [
    {
     "data": {
      "text/plain": [
       "()"
      ]
     },
     "execution_count": 108,
     "metadata": {},
     "output_type": "execute_result"
    }
   ],
   "source": [
    "# Running the tuple in a tuple gives us a tuple of tuples\n",
    "tuple(together)\n",
    "# Running it aagain will empty it"
   ]
  },
  {
   "cell_type": "code",
   "execution_count": null,
   "id": "b476cc05-58d9-40bf-9ef2-a5d0c1c48079",
   "metadata": {},
   "outputs": [],
   "source": []
  }
 ],
 "metadata": {
  "kernelspec": {
   "display_name": "base",
   "language": "python",
   "name": "base"
  },
  "language_info": {
   "codemirror_mode": {
    "name": "ipython",
    "version": 3
   },
   "file_extension": ".py",
   "mimetype": "text/x-python",
   "name": "python",
   "nbconvert_exporter": "python",
   "pygments_lexer": "ipython3",
   "version": "3.9.18"
  }
 },
 "nbformat": 4,
 "nbformat_minor": 5
}
