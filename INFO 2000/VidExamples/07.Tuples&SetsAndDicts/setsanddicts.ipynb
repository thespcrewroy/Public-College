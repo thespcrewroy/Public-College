{
 "cells": [
  {
   "cell_type": "code",
   "execution_count": 1,
   "id": "f4b2be49-7814-47bb-a3ad-cd929fa2c08d",
   "metadata": {},
   "outputs": [
    {
     "name": "stdout",
     "output_type": "stream",
     "text": [
      "{1, 2, 3}\n"
     ]
    }
   ],
   "source": [
    "# This is a set\n",
    "a = {1,2,3}\n",
    "print(a)"
   ]
  },
  {
   "cell_type": "code",
   "execution_count": 2,
   "id": "21906c3b-c823-40af-947f-1c46337d567a",
   "metadata": {},
   "outputs": [
    {
     "name": "stdout",
     "output_type": "stream",
     "text": [
      "{1, 2, 3}\n"
     ]
    }
   ],
   "source": [
    "# Elements have to be unique!\n",
    "a = {1,2,3,3}\n",
    "print(a)"
   ]
  },
  {
   "cell_type": "code",
   "execution_count": 3,
   "id": "31d7735f-699e-4ccc-896b-caf0cbd8ccae",
   "metadata": {},
   "outputs": [],
   "source": [
    "# Sets are immutable\n",
    "# a[2] = 7"
   ]
  },
  {
   "cell_type": "code",
   "execution_count": 4,
   "id": "3f542e60-fae4-4884-9caf-2d976c92c5f5",
   "metadata": {},
   "outputs": [],
   "source": [
    "a = {1,2,3}\n",
    "b = {3,4,5,6}"
   ]
  },
  {
   "cell_type": "code",
   "execution_count": 5,
   "id": "5e07fc7b-bbe4-4d18-9a63-a9af1cdb8eb7",
   "metadata": {},
   "outputs": [
    {
     "name": "stdout",
     "output_type": "stream",
     "text": [
      "3 4\n"
     ]
    }
   ],
   "source": [
    "# Determines how many elements in the set\n",
    "print(len(a),len(b))"
   ]
  },
  {
   "cell_type": "code",
   "execution_count": 6,
   "id": "8ce2177e-965c-47d6-95c3-986103083207",
   "metadata": {},
   "outputs": [
    {
     "name": "stdout",
     "output_type": "stream",
     "text": [
      "{1, 2, 3, 4, 5, 6}\n"
     ]
    }
   ],
   "source": [
    "# Combines sets\n",
    "u = a.union(b)\n",
    "print(u)"
   ]
  },
  {
   "cell_type": "code",
   "execution_count": 7,
   "id": "50db7588-2afb-4144-aac1-a65502356039",
   "metadata": {},
   "outputs": [
    {
     "name": "stdout",
     "output_type": "stream",
     "text": [
      "{1, 2, 3, 4, 5, 6}\n"
     ]
    }
   ],
   "source": [
    "# Same thing as union\n",
    "u = a | b\n",
    "print(u)"
   ]
  },
  {
   "cell_type": "code",
   "execution_count": 8,
   "id": "05f0d0e7-439c-4a13-9c63-dfedf2f763ac",
   "metadata": {},
   "outputs": [
    {
     "name": "stdout",
     "output_type": "stream",
     "text": [
      "{1, 2}\n"
     ]
    }
   ],
   "source": [
    "# Results the elements that are in set a but not in set b\n",
    "d = a.difference(b)\n",
    "print(d)"
   ]
  },
  {
   "cell_type": "code",
   "execution_count": 9,
   "id": "b296baac-1f42-4cc3-a7a8-9fc0f63dcd97",
   "metadata": {},
   "outputs": [
    {
     "name": "stdout",
     "output_type": "stream",
     "text": [
      "{4, 5, 6}\n"
     ]
    }
   ],
   "source": [
    "# Not symetric (a-b is not same as b-a)\n",
    "d = b.difference(a)\n",
    "print(d)"
   ]
  },
  {
   "cell_type": "code",
   "execution_count": 10,
   "id": "413e3499-4ee0-4220-963e-cc0068bc6b61",
   "metadata": {},
   "outputs": [
    {
     "name": "stdout",
     "output_type": "stream",
     "text": [
      "{1, 2}\n"
     ]
    }
   ],
   "source": [
    "# Another way to represent difference function\n",
    "d = a - b\n",
    "print(d)"
   ]
  },
  {
   "cell_type": "code",
   "execution_count": 11,
   "id": "46361fb2-b3c2-42f7-aa15-7540b0830790",
   "metadata": {},
   "outputs": [
    {
     "name": "stdout",
     "output_type": "stream",
     "text": [
      "{3}\n"
     ]
    }
   ],
   "source": [
    "# Returns the elements that are common to both\n",
    "i = a.intersection(b)\n",
    "print(i)"
   ]
  },
  {
   "cell_type": "code",
   "execution_count": 12,
   "id": "044c83a2-69af-422a-a818-83a650de098c",
   "metadata": {},
   "outputs": [
    {
     "name": "stdout",
     "output_type": "stream",
     "text": [
      "{3}\n"
     ]
    }
   ],
   "source": [
    "# Another way to represent the intersection function\n",
    "i = a & b\n",
    "print(i)"
   ]
  },
  {
   "cell_type": "code",
   "execution_count": 13,
   "id": "48171218-c72f-40ef-ab2c-037adcdba2c0",
   "metadata": {},
   "outputs": [
    {
     "name": "stdout",
     "output_type": "stream",
     "text": [
      "{1, 2, 4, 5, 6}\n"
     ]
    }
   ],
   "source": [
    "# (set a - set b).union(set b - set a)\n",
    "sd = a.symmetric_difference(b)\n",
    "print(sd)"
   ]
  },
  {
   "cell_type": "code",
   "execution_count": 14,
   "id": "6879300a-494b-4145-b38f-a7003391a7fe",
   "metadata": {},
   "outputs": [
    {
     "name": "stdout",
     "output_type": "stream",
     "text": [
      "{1, 2, 4, 5, 6}\n"
     ]
    }
   ],
   "source": [
    "# Another way to represent the symmetric_difference function\n",
    "sd = (a-b) | (b-a)\n",
    "print(sd)"
   ]
  },
  {
   "cell_type": "code",
   "execution_count": 15,
   "id": "6a05e80e-142b-4d4d-910c-dafc690d40f5",
   "metadata": {},
   "outputs": [
    {
     "name": "stdout",
     "output_type": "stream",
     "text": [
      "{1, 2, 3, 4, 5}\n"
     ]
    }
   ],
   "source": [
    "# Converts set to a list to eliminate duplicate elements in the list\n",
    "l = [1,2,3,2,1,4,5,2,1]\n",
    "unique = set(l)\n",
    "print(unique)"
   ]
  },
  {
   "cell_type": "code",
   "execution_count": 16,
   "id": "606b3bfe-cc82-4a00-b307-28426f514b9d",
   "metadata": {},
   "outputs": [
    {
     "data": {
      "text/plain": [
       "3"
      ]
     },
     "execution_count": 16,
     "metadata": {},
     "output_type": "execute_result"
    }
   ],
   "source": [
    "# Convert back to a list\n",
    "l = list(unique)\n",
    "l[2]"
   ]
  },
  {
   "cell_type": "code",
   "execution_count": 17,
   "id": "453e1d6b-53d6-4d74-89bc-058a9db34021",
   "metadata": {},
   "outputs": [
    {
     "name": "stdout",
     "output_type": "stream",
     "text": [
      "[1, 2, 7, 4, 5]\n"
     ]
    }
   ],
   "source": [
    "l[2] = 7\n",
    "print(l)"
   ]
  },
  {
   "cell_type": "code",
   "execution_count": 18,
   "id": "bd12c3ea-fd29-401f-aa4d-61904e6ff03e",
   "metadata": {},
   "outputs": [
    {
     "name": "stdout",
     "output_type": "stream",
     "text": [
      "{0: 'a', 1: 'b', 2: 'c'}\n"
     ]
    }
   ],
   "source": [
    "# Dictionary\n",
    "d = {0: 'a',1: 'b', 2:'c'}\n",
    "print(d)"
   ]
  },
  {
   "cell_type": "code",
   "execution_count": 19,
   "id": "f04f4594-7c91-4366-a3a3-6690b5adfbfc",
   "metadata": {},
   "outputs": [
    {
     "name": "stdout",
     "output_type": "stream",
     "text": [
      "{'a': 0, 'b': 2, 'c': 3}\n"
     ]
    }
   ],
   "source": [
    "d = {'a':0,'b': 2, 'c':3}\n",
    "print(d)"
   ]
  },
  {
   "cell_type": "code",
   "execution_count": 20,
   "id": "00d1bc5d-9ec7-4e07-9867-76d5ea20447d",
   "metadata": {},
   "outputs": [
    {
     "name": "stdout",
     "output_type": "stream",
     "text": [
      "{'a': 0, 1: 'b'}\n"
     ]
    }
   ],
   "source": [
    "# Any value can serve as they key or the value\n",
    "# You can also mix and match types\n",
    "d = {'a':0,1:'b'}\n",
    "print(d)"
   ]
  },
  {
   "cell_type": "code",
   "execution_count": 21,
   "id": "5ffd2da3-69f9-4eae-952b-03abe5f13650",
   "metadata": {},
   "outputs": [
    {
     "name": "stdout",
     "output_type": "stream",
     "text": [
      "{'a': 1}\n"
     ]
    }
   ],
   "source": [
    "# You cannot repeat a key however\n",
    "# Python uses the last value you assign to that key\n",
    "d = {'a':0,'a':1}\n",
    "print(d)"
   ]
  },
  {
   "cell_type": "code",
   "execution_count": 22,
   "id": "3e7e2f7b-d493-4bf8-a1bf-39a639ca2c77",
   "metadata": {},
   "outputs": [
    {
     "data": {
      "text/plain": [
       "1"
      ]
     },
     "execution_count": 22,
     "metadata": {},
     "output_type": "execute_result"
    }
   ],
   "source": [
    "# Get the length of a dictionary\n",
    "len(d)"
   ]
  },
  {
   "cell_type": "code",
   "execution_count": 23,
   "id": "a0270b8b-3a30-47ed-bc1b-6bc578cec2be",
   "metadata": {},
   "outputs": [
    {
     "data": {
      "text/plain": [
       "3"
      ]
     },
     "execution_count": 23,
     "metadata": {},
     "output_type": "execute_result"
    }
   ],
   "source": [
    "len({0:'a',1:'b',2:'c'})"
   ]
  },
  {
   "cell_type": "code",
   "execution_count": 24,
   "id": "b1715171-6b3a-4029-a611-9310309ec0fe",
   "metadata": {},
   "outputs": [
    {
     "data": {
      "text/plain": [
       "'a'"
      ]
     },
     "execution_count": 24,
     "metadata": {},
     "output_type": "execute_result"
    }
   ],
   "source": [
    "# Access the element using bracket notation\n",
    "# You cannot access elements outside of the dictionary\n",
    "d = {0:'a',1:'b',2:'c'}\n",
    "d[0]"
   ]
  },
  {
   "cell_type": "code",
   "execution_count": 25,
   "id": "5eb63186-9478-4e4f-a3ee-652250164917",
   "metadata": {},
   "outputs": [
    {
     "data": {
      "text/plain": [
       "[0, 1, 2]"
      ]
     },
     "execution_count": 25,
     "metadata": {},
     "output_type": "execute_result"
    }
   ],
   "source": [
    "# Gives us the list from that dictkey object\n",
    "# More efficient for iterating thru the list\n",
    "list(d.keys())"
   ]
  },
  {
   "cell_type": "code",
   "execution_count": 26,
   "id": "658044ea-6e66-4ab7-991a-ce53ca0655e6",
   "metadata": {},
   "outputs": [
    {
     "data": {
      "text/plain": [
       "dict_values(['a', 'b', 'c'])"
      ]
     },
     "execution_count": 26,
     "metadata": {},
     "output_type": "execute_result"
    }
   ],
   "source": [
    "# Gives us a list of values\n",
    "d.values()"
   ]
  },
  {
   "cell_type": "code",
   "execution_count": 27,
   "id": "8aaf3bff-84ec-4313-83e3-d6f7867c50a3",
   "metadata": {},
   "outputs": [
    {
     "data": {
      "text/plain": [
       "dict_items([(0, 'a'), (1, 'b'), (2, 'c')])"
      ]
     },
     "execution_count": 27,
     "metadata": {},
     "output_type": "execute_result"
    }
   ],
   "source": [
    "# Gives us a list of tuples\n",
    "d.items()"
   ]
  },
  {
   "cell_type": "code",
   "execution_count": 28,
   "id": "a33c6daa-f876-4d4d-8fee-d11e69412a62",
   "metadata": {},
   "outputs": [
    {
     "data": {
      "text/plain": [
       "{0: 'a', 1: 'hello', 2: 'c'}"
      ]
     },
     "execution_count": 28,
     "metadata": {},
     "output_type": "execute_result"
    }
   ],
   "source": [
    "d[1] = 'hello'\n",
    "d"
   ]
  },
  {
   "cell_type": "code",
   "execution_count": 29,
   "id": "d1759248-15ce-4a1a-b4d0-f81a17d432eb",
   "metadata": {},
   "outputs": [
    {
     "data": {
      "text/plain": [
       "{1: 'hello', 2: 'c'}"
      ]
     },
     "execution_count": 29,
     "metadata": {},
     "output_type": "execute_result"
    }
   ],
   "source": [
    "# Delete an element\n",
    "del d[0]\n",
    "d"
   ]
  },
  {
   "cell_type": "code",
   "execution_count": 30,
   "id": "1df2a237-4828-478b-b405-0a27b2669569",
   "metadata": {},
   "outputs": [
    {
     "name": "stdout",
     "output_type": "stream",
     "text": [
      "1 hello\n",
      "2 c\n"
     ]
    }
   ],
   "source": [
    "# Print out the keys and values\n",
    "for k,v in d.items():\n",
    "    print(k,v)"
   ]
  },
  {
   "cell_type": "code",
   "execution_count": 34,
   "id": "aaf91c25-1a0c-4b61-950f-8354830e1798",
   "metadata": {},
   "outputs": [
    {
     "name": "stdout",
     "output_type": "stream",
     "text": [
      "{1: 2, 2: 4, 3: 2, 4: 1, 5: 1, 6: 1}\n"
     ]
    }
   ],
   "source": [
    "# Figure out the mode of each number in the list\n",
    "l = [1,2,3,2,2,1,2,3,4,5,6]\n",
    "counts = {}\n",
    "for n in l:\n",
    "    if n in counts.keys():\n",
    "        counts[n] += 1\n",
    "    else:\n",
    "        counts[n] = 1\n",
    "print(counts)"
   ]
  },
  {
   "cell_type": "code",
   "execution_count": 35,
   "id": "3e63680a-fd00-4f79-bc26-8cd3f0d5d13f",
   "metadata": {},
   "outputs": [
    {
     "name": "stdout",
     "output_type": "stream",
     "text": [
      "dict_keys([1, 2, 3, 4, 5, 6])\n"
     ]
    }
   ],
   "source": [
    "# See how many unique elements are in a list\n",
    "print(counts.keys())"
   ]
  },
  {
   "cell_type": "code",
   "execution_count": 36,
   "id": "54770299-16fc-4efd-9d89-d4ce02055dd4",
   "metadata": {},
   "outputs": [
    {
     "name": "stdout",
     "output_type": "stream",
     "text": [
      "['low', 'med', 'high', 'high', 'med', 'low', 'med', 'high']\n"
     ]
    }
   ],
   "source": [
    "nums = [0,1,2,2,1,0,1,2]\n",
    "m = {0: 'low',1:'med',2:'high'}\n",
    "for i, n in enumerate(nums):\n",
    "    nums[i] = m[n]\n",
    "print(nums)"
   ]
  },
  {
   "cell_type": "code",
   "execution_count": null,
   "id": "6221fd4c-9a2e-4198-93b6-2c4cdf99e430",
   "metadata": {},
   "outputs": [],
   "source": []
  }
 ],
 "metadata": {
  "kernelspec": {
   "display_name": "base",
   "language": "python",
   "name": "base"
  },
  "language_info": {
   "codemirror_mode": {
    "name": "ipython",
    "version": 3
   },
   "file_extension": ".py",
   "mimetype": "text/x-python",
   "name": "python",
   "nbconvert_exporter": "python",
   "pygments_lexer": "ipython3",
   "version": "3.9.18"
  }
 },
 "nbformat": 4,
 "nbformat_minor": 5
}
