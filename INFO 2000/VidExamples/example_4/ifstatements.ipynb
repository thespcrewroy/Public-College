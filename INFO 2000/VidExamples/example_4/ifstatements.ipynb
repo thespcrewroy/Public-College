{
 "cells": [
  {
   "cell_type": "code",
   "execution_count": 1,
   "id": "b8b06444-1277-4591-9afd-a66af621622b",
   "metadata": {},
   "outputs": [],
   "source": [
    "import numpy as np"
   ]
  },
  {
   "cell_type": "code",
   "execution_count": 2,
   "id": "3ea9daa9-461e-42dc-9092-266d1cfab609",
   "metadata": {},
   "outputs": [
    {
     "data": {
      "text/plain": [
       "8"
      ]
     },
     "execution_count": 2,
     "metadata": {},
     "output_type": "execute_result"
    }
   ],
   "source": [
    "np.random.randint(0,10)"
   ]
  },
  {
   "cell_type": "code",
   "execution_count": 5,
   "id": "fb6dc559-d999-4ec6-932d-5f2a068e532e",
   "metadata": {},
   "outputs": [
    {
     "name": "stdin",
     "output_type": "stream",
     "text": [
      "Give me a number:  7\n"
     ]
    },
    {
     "data": {
      "text/plain": [
       "7"
      ]
     },
     "execution_count": 5,
     "metadata": {},
     "output_type": "execute_result"
    }
   ],
   "source": [
    "int(input(\"Give me a number: \"))"
   ]
  },
  {
   "cell_type": "code",
   "execution_count": 6,
   "id": "b4d34ce8-2e80-44f6-9510-46a540a30bf0",
   "metadata": {},
   "outputs": [],
   "source": [
    "target = np.random.randint(0,10)"
   ]
  },
  {
   "cell_type": "code",
   "execution_count": 8,
   "id": "27068379-5c32-4924-8bb5-ba203fd7aa40",
   "metadata": {},
   "outputs": [
    {
     "name": "stdin",
     "output_type": "stream",
     "text": [
      "Guess a number between 0 and 9:  5\n"
     ]
    },
    {
     "name": "stdout",
     "output_type": "stream",
     "text": [
      "Incorrect!\n"
     ]
    }
   ],
   "source": [
    "# Basic number guessing game with if and else statements\n",
    "guess = int(input(\"Guess a number between 0 and 9: \"))\n",
    "\n",
    "if guess == target:\n",
    "    print (\"Correct!\")\n",
    "else:\n",
    "    print (\"Incorrect!\")"
   ]
  },
  {
   "cell_type": "raw",
   "id": "c830c542-4611-4fc7-baa6-3c5c29baf56c",
   "metadata": {},
   "source": [
    "# Basic number guessing game with elif\n",
    "guess = int(input(\"Guess a number between 0 and 9: \"))\n",
    "\n",
    "if guess == target:\n",
    "    print (\"Correct!\")\n",
    "elif guess == (target - 1) or guess == (target + 1):\n",
    "    print(\"Close!\")\n",
    "elif guess < target:\n",
    "    print(\"Too low!\")\n",
    "else:\n",
    "    print (\"Incorrect!\")"
   ]
  },
  {
   "cell_type": "code",
   "execution_count": 12,
   "id": "96c042f1-506b-4ef5-be6e-a8e79979d0f8",
   "metadata": {},
   "outputs": [
    {
     "name": "stdin",
     "output_type": "stream",
     "text": [
      "Guess a number between 0 and 9:  4\n"
     ]
    },
    {
     "name": "stdout",
     "output_type": "stream",
     "text": [
      "Close!\n",
      "You have guessed 1 times\n",
      "You have 4 guesses remaining\n"
     ]
    },
    {
     "name": "stdin",
     "output_type": "stream",
     "text": [
      "Guess a number between 0 and 9:  5\n"
     ]
    },
    {
     "name": "stdout",
     "output_type": "stream",
     "text": [
      "Incorrect!\n",
      "You have guessed 2 times\n",
      "You have 3 guesses remaining\n"
     ]
    },
    {
     "name": "stdin",
     "output_type": "stream",
     "text": [
      "Guess a number between 0 and 9:  3\n"
     ]
    },
    {
     "name": "stdout",
     "output_type": "stream",
     "text": [
      "Correct!\n"
     ]
    }
   ],
   "source": [
    "# A complete guessing game program\n",
    "target = np.random.randint(0,10)\n",
    "for t in range(0,5):\n",
    "    guess = int(input(\"Guess a number between 0 and 9: \"))\n",
    "    if guess == target:\n",
    "        print (\"Correct!\")\n",
    "        break # end the loop early\n",
    "    elif guess == (target - 1) or guess == (target + 1):\n",
    "        print(\"Close!\")\n",
    "    elif guess < target:\n",
    "        print(\"Too low!\")\n",
    "    else:\n",
    "        print (\"Incorrect!\")\n",
    "    print(f\"You have guessed {t+1} times\")\n",
    "    print(f\"You have {5-(t+1)} guesses remaining\")"
   ]
  },
  {
   "cell_type": "code",
   "execution_count": null,
   "id": "0a108a36-fa9d-4041-9113-e9617daa6068",
   "metadata": {},
   "outputs": [],
   "source": []
  }
 ],
 "metadata": {
  "kernelspec": {
   "display_name": "base",
   "language": "python",
   "name": "base"
  },
  "language_info": {
   "codemirror_mode": {
    "name": "ipython",
    "version": 3
   },
   "file_extension": ".py",
   "mimetype": "text/x-python",
   "name": "python",
   "nbconvert_exporter": "python",
   "pygments_lexer": "ipython3",
   "version": "3.9.18"
  }
 },
 "nbformat": 4,
 "nbformat_minor": 5
}
