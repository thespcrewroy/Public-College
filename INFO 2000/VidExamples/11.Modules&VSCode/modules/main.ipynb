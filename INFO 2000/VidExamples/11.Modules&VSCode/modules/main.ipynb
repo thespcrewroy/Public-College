{
 "cells": [
  {
   "cell_type": "code",
   "execution_count": 2,
   "metadata": {},
   "outputs": [],
   "source": [
    "import modules.physics.physics as physics"
   ]
  },
  {
   "cell_type": "code",
   "execution_count": 4,
   "metadata": {},
   "outputs": [
    {
     "name": "stdout",
     "output_type": "stream",
     "text": [
      "9.81\n",
      "20.38735983690112\n"
     ]
    }
   ],
   "source": [
    "# Now we have access to the varaiables and methods in the physics module\n",
    "print(physics.gravity)\n",
    "print(physics.projectile_range([10,10]))"
   ]
  },
  {
   "cell_type": "code",
   "execution_count": 2,
   "metadata": {},
   "outputs": [
    {
     "name": "stdout",
     "output_type": "stream",
     "text": [
      "20.38735983690112\n"
     ]
    }
   ],
   "source": [
    "# You can also import specific things that are inside the module\n",
    "# Any previous import statement takes precedence over this 'from' statement\n",
    "# Restart the kernal to use this from statement if you have other import of the same module\n",
    "# You do not need \"module_name.[function]\" if you are using the 'from'\n",
    "from modules.physics.physics import *\n",
    "print(projectile_range([10,10]))"
   ]
  },
  {
   "cell_type": "code",
   "execution_count": 2,
   "metadata": {},
   "outputs": [
    {
     "name": "stdout",
     "output_type": "stream",
     "text": [
      "20.38735983690112\n"
     ]
    }
   ],
   "source": [
    "# Importing the package folder\n",
    "import physics\n",
    "print(physics.projectile_range([10,10]))"
   ]
  }
 ],
 "metadata": {
  "kernelspec": {
   "display_name": "Python 3",
   "language": "python",
   "name": "python3"
  },
  "language_info": {
   "codemirror_mode": {
    "name": "ipython",
    "version": 3
   },
   "file_extension": ".py",
   "mimetype": "text/x-python",
   "name": "python",
   "nbconvert_exporter": "python",
   "pygments_lexer": "ipython3",
   "version": "3.12.0"
  }
 },
 "nbformat": 4,
 "nbformat_minor": 2
}
