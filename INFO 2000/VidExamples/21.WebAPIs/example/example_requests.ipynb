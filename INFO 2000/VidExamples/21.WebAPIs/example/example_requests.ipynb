{
 "cells": [
  {
   "cell_type": "code",
   "execution_count": 1,
   "metadata": {},
   "outputs": [],
   "source": [
    "import requests\n",
    "import time"
   ]
  },
  {
   "cell_type": "code",
   "execution_count": 2,
   "metadata": {},
   "outputs": [],
   "source": [
    "res = requests.get('https://api.quotable.io/random') # Get an array of quotes"
   ]
  },
  {
   "cell_type": "code",
   "execution_count": 3,
   "metadata": {},
   "outputs": [
    {
     "data": {
      "text/plain": [
       "200"
      ]
     },
     "execution_count": 3,
     "metadata": {},
     "output_type": "execute_result"
    }
   ],
   "source": [
    "res.status_code # Good request"
   ]
  },
  {
   "cell_type": "code",
   "execution_count": 4,
   "metadata": {},
   "outputs": [
    {
     "data": {
      "text/plain": [
       "{'Server': 'Cowboy', 'Report-To': '{\"group\":\"heroku-nel\",\"max_age\":3600,\"endpoints\":[{\"url\":\"https://nel.heroku.com/reports?ts=1712764031&sid=af571f24-03ee-46d1-9f90-ab9030c2c74c&s=kb7jBohnHanODKqg7LPjQ1qJNG3reO%2FL1i1HoG9pRi8%3D\"}]}', 'Reporting-Endpoints': 'heroku-nel=https://nel.heroku.com/reports?ts=1712764031&sid=af571f24-03ee-46d1-9f90-ab9030c2c74c&s=kb7jBohnHanODKqg7LPjQ1qJNG3reO%2FL1i1HoG9pRi8%3D', 'Nel': '{\"report_to\":\"heroku-nel\",\"max_age\":3600,\"success_fraction\":0.005,\"failure_fraction\":0.05,\"response_headers\":[\"Via\"]}', 'Connection': 'keep-alive', 'X-Powered-By': 'Express', 'Access-Control-Allow-Origin': '*', 'Ratelimit-Limit': '220', 'Ratelimit-Remaining': '219', 'Ratelimit-Reset': '50', 'Content-Type': 'application/json; charset=utf-8', 'Content-Length': '231', 'Etag': 'W/\"e7-LcejJL6i8/3NKwLTybTmJE6N6TQ\"', 'Date': 'Wed, 10 Apr 2024 15:47:11 GMT', 'Via': '1.1 vegur'}"
      ]
     },
     "execution_count": 4,
     "metadata": {},
     "output_type": "execute_result"
    }
   ],
   "source": [
    "res.headers # What is in the body of the request"
   ]
  },
  {
   "cell_type": "code",
   "execution_count": 5,
   "metadata": {},
   "outputs": [
    {
     "data": {
      "text/plain": [
       "'{\"_id\":\"4iwVD9jYPBp\",\"content\":\"Well done is better than well said.\",\"author\":\"Benjamin Franklin\",\"tags\":[\"Famous Quotes\",\"Success\"],\"authorSlug\":\"benjamin-franklin\",\"length\":35,\"dateAdded\":\"2019-02-11\",\"dateModified\":\"2023-04-14\"}'"
      ]
     },
     "execution_count": 5,
     "metadata": {},
     "output_type": "execute_result"
    }
   ],
   "source": [
    "res.text # The text of the request's body"
   ]
  },
  {
   "cell_type": "code",
   "execution_count": 6,
   "metadata": {},
   "outputs": [
    {
     "data": {
      "text/plain": [
       "{'_id': '4iwVD9jYPBp',\n",
       " 'content': 'Well done is better than well said.',\n",
       " 'author': 'Benjamin Franklin',\n",
       " 'tags': ['Famous Quotes', 'Success'],\n",
       " 'authorSlug': 'benjamin-franklin',\n",
       " 'length': 35,\n",
       " 'dateAdded': '2019-02-11',\n",
       " 'dateModified': '2023-04-14'}"
      ]
     },
     "execution_count": 6,
     "metadata": {},
     "output_type": "execute_result"
    }
   ],
   "source": [
    "res.json() # The json of the request's body in python dictionary format"
   ]
  },
  {
   "cell_type": "code",
   "execution_count": 7,
   "metadata": {},
   "outputs": [
    {
     "data": {
      "text/plain": [
       "'Well done is better than well said.'"
      ]
     },
     "execution_count": 7,
     "metadata": {},
     "output_type": "execute_result"
    }
   ],
   "source": [
    "res.json()['content'] # Grab particular pieces of content using dictionary keys"
   ]
  },
  {
   "cell_type": "code",
   "execution_count": 8,
   "metadata": {},
   "outputs": [
    {
     "data": {
      "text/plain": [
       "'If we open a quarrel between past and present, we shall find that we have lost the future.'"
      ]
     },
     "execution_count": 8,
     "metadata": {},
     "output_type": "execute_result"
    }
   ],
   "source": [
    " # Use a query parameter to get a specific author\n",
    "res = requests.get('https://api.quotable.io/random', params={\"author\": \"Winston Churchill\"})\n",
    "res.json()['content']"
   ]
  },
  {
   "cell_type": "code",
   "execution_count": 9,
   "metadata": {},
   "outputs": [
    {
     "name": "stdout",
     "output_type": "stream",
     "text": [
      "{'count': 20, 'totalCount': 2127, 'page': 1, 'totalPages': 107, 'lastItemIndex': 20, 'results': [{'_id': 'bfNpGC2NI', 'author': 'Thomas Edison', 'content': 'As a cure for worrying, work is better than whisky.', 'tags': ['Humorous'], 'authorSlug': 'thomas-edison', 'length': 51, 'dateAdded': '2023-04-14', 'dateModified': '2023-04-14'}, {'_id': 'ghVnmSpeAo', 'author': 'Thomas Edison', 'content': 'Everything comes to him who hustles while he waits.', 'tags': ['Success', 'Motivational'], 'authorSlug': 'thomas-edison', 'length': 51, 'dateAdded': '2023-04-14', 'dateModified': '2023-04-14'}, {'_id': '_92j6kAvwd', 'author': 'Thomas Edison', 'content': \"I never did a day's work in my life.  It was all fun.\", 'tags': ['Humorous'], 'authorSlug': 'thomas-edison', 'length': 53, 'dateAdded': '2023-04-14', 'dateModified': '2023-04-14'}, {'_id': 'RTYhCs5Ka', 'author': 'Charles Dickens', 'content': 'I do not know the American gentleman, god forgive me for putting two such words together.', 'tags': ['Humorous'], 'authorSlug': 'charles-dickens', 'length': 89, 'dateAdded': '2023-04-14', 'dateModified': '2023-04-14'}, {'_id': 'RKl9iZrjfP', 'author': 'Charles Dickens', 'content': 'We need never be ashamed of our tears.', 'tags': ['Sadness'], 'authorSlug': 'charles-dickens', 'length': 38, 'dateAdded': '2023-04-14', 'dateModified': '2023-04-14'}, {'_id': '_EC8bhSDQa', 'author': 'Charles Dickens', 'content': 'Minds, like bodies, will often fall into a pimpled, ill-conditioned state from mere excess of comfort.', 'tags': ['Weakness'], 'authorSlug': 'charles-dickens', 'length': 102, 'dateAdded': '2023-04-14', 'dateModified': '2023-04-14'}, {'_id': 'j7W6pP1XiG', 'author': 'Charles Dickens', 'content': 'Train up a fig tree in the way it should go, and when you are old sit under the shade of it.', 'tags': ['Age', 'Wisdom'], 'authorSlug': 'charles-dickens', 'length': 92, 'dateAdded': '2023-04-14', 'dateModified': '2023-04-14'}, {'_id': 'qF9iB6wrCQ', 'author': 'Charles Dickens', 'content': \"Subdue your appetites, my dears, and you've conquered human nature.\", 'tags': [], 'authorSlug': 'charles-dickens', 'length': 67, 'dateAdded': '2023-04-14', 'dateModified': '2023-04-14'}, {'_id': 'btV2j1uf2t', 'author': 'Thomas Edison', 'content': 'Faith, as well intentioned as it may be, must be built on facts, not fiction--faith in fiction is a damnable false hope.', 'tags': ['Religion'], 'authorSlug': 'thomas-edison', 'length': 120, 'dateAdded': '2023-04-14', 'dateModified': '2023-04-14'}, {'_id': 'QfeIDluRi_', 'author': 'Thomas Edison', 'content': 'There is no expedient to which a man will not go to avoid the labor of thinking.', 'tags': ['Work'], 'authorSlug': 'thomas-edison', 'length': 80, 'dateAdded': '2023-04-14', 'dateModified': '2023-04-14'}, {'_id': 'as0ElEk5g7', 'author': 'Charles Dickens', 'content': 'No one is useless in this world who lightens the burdens of another.', 'tags': ['Generosity'], 'authorSlug': 'charles-dickens', 'length': 68, 'dateAdded': '2023-04-14', 'dateModified': '2023-04-14'}, {'_id': 'jQHjwwHpLN', 'author': 'Thomas Edison', 'content': \"Results! Why, man, I have gotten a lot of results. I know several thousand things that won't work.\", 'tags': ['Success', 'Failure', 'Perseverance'], 'authorSlug': 'thomas-edison', 'length': 98, 'dateAdded': '2023-04-14', 'dateModified': '2023-04-14'}, {'_id': 'R1DmP1kYtW', 'author': 'Charles Dickens', 'content': 'Reflect on your present blessings, of which every man has many; not on your past misfortunes, of which all men have some.', 'tags': ['Gratitude'], 'authorSlug': 'charles-dickens', 'length': 121, 'dateAdded': '2023-04-14', 'dateModified': '2023-04-14'}, {'_id': 'niVz2fQWSH', 'author': 'Thomas Edison', 'content': 'Opportunity is missed by most people because it is dressed in overalls and looks like work.', 'tags': ['Opportunity', 'Work'], 'authorSlug': 'thomas-edison', 'length': 91, 'dateAdded': '2023-04-14', 'dateModified': '2023-04-14'}, {'_id': 'ijc0sPlYFd', 'author': 'Thomas Edison', 'content': 'The doctor of the future will give no medicine, but will interest her or his patients in the care of the human frame, in a proper diet, and in the cause and prevention of disease.', 'tags': ['Health', 'Wellness'], 'authorSlug': 'thomas-edison', 'length': 179, 'dateAdded': '2023-04-14', 'dateModified': '2023-04-14'}, {'_id': 'BzfxvRlA2Y', 'author': 'Thomas Edison', 'content': \"We don't know a millionth of one percent about anything.\", 'tags': ['Knowledge'], 'authorSlug': 'thomas-edison', 'length': 56, 'dateAdded': '2023-04-14', 'dateModified': '2023-04-14'}, {'_id': 'XtZMaD2s28', 'author': 'Thomas Edison', 'content': 'If we all did the things we are capable of doing, we would literally astound ourselves.', 'tags': ['Inspirational', 'Motivational'], 'authorSlug': 'thomas-edison', 'length': 87, 'dateAdded': '2023-04-14', 'dateModified': '2023-04-14'}, {'_id': 'KMTJ0Ya3e9', 'author': 'Thomas Edison', 'content': 'To invent, you need a good imagination and a pile of junk.', 'tags': ['Imagination', 'Creativity', 'Science', 'Technology'], 'authorSlug': 'thomas-edison', 'length': 58, 'dateAdded': '2023-04-14', 'dateModified': '2023-04-14'}, {'_id': 'bZIw7gy0sR', 'author': 'Thomas Edison', 'content': 'I never did anything worth doing by accident, nor did any of my inventions come by accident', 'tags': ['Success', 'Science'], 'authorSlug': 'thomas-edison', 'length': 91, 'dateAdded': '2023-04-14', 'dateModified': '2023-04-14'}, {'_id': 'An5NAXPrbN', 'author': 'Thomas Edison', 'content': \"Hell, there are no rules here-- we're trying to accomplish something.\", 'tags': [], 'authorSlug': 'thomas-edison', 'length': 69, 'dateAdded': '2023-04-14', 'dateModified': '2023-04-14'}]}\n"
     ]
    }
   ],
   "source": [
    "res = requests.get('https://api.quotable.io/quotes') # List an array of quotes\n",
    "print(res.json())"
   ]
  },
  {
   "cell_type": "code",
   "execution_count": 10,
   "metadata": {},
   "outputs": [
    {
     "name": "stdout",
     "output_type": "stream",
     "text": [
      "{'count': 20, 'totalCount': 2127, 'page': 2, 'totalPages': 107, 'lastItemIndex': 40, 'results': [{'_id': 'XtZMaD2s28', 'author': 'Thomas Edison', 'content': 'If we all did the things we are capable of doing, we would literally astound ourselves.', 'tags': ['Inspirational', 'Motivational'], 'authorSlug': 'thomas-edison', 'length': 87, 'dateAdded': '2023-04-14', 'dateModified': '2023-04-14'}, {'_id': 'niVz2fQWSH', 'author': 'Thomas Edison', 'content': 'Opportunity is missed by most people because it is dressed in overalls and looks like work.', 'tags': ['Opportunity', 'Work'], 'authorSlug': 'thomas-edison', 'length': 91, 'dateAdded': '2023-04-14', 'dateModified': '2023-04-14'}, {'_id': 'mg8F-nsmPEj', 'author': 'Albert Einstein', 'content': \"Only two things are infinite, the universe and human stupidity, and I'm not sure about the former.\", 'tags': ['Stupidity'], 'authorSlug': 'albert-einstein', 'length': 98, 'dateAdded': '2023-04-06', 'dateModified': '2023-04-14'}, {'_id': 'EG9yQpz6Ku', 'author': 'Albert Einstein', 'content': 'Few people are capable of expressing with equanimity opinions which differ from the prejudices of their social environment. Most people are even incapable of forming such opinions.', 'tags': ['Society'], 'authorSlug': 'albert-einstein', 'length': 180, 'dateAdded': '2023-04-06', 'dateModified': '2023-04-14'}, {'_id': 'inED6huctY', 'author': 'Albert Einstein', 'content': 'If you are out to describe the truth, leave elegance to the tailor.', 'tags': ['Truth'], 'authorSlug': 'albert-einstein', 'length': 67, 'dateAdded': '2023-04-06', 'dateModified': '2023-04-14'}, {'_id': 'dCBRnkMsW', 'author': 'Albert Einstein', 'content': 'Before God we are all equally wise - and equally foolish.', 'tags': ['Religion'], 'authorSlug': 'albert-einstein', 'length': 57, 'dateAdded': '2023-04-06', 'dateModified': '2023-04-14'}, {'_id': '8Oj6iwQ1xp', 'author': 'Albert Einstein', 'content': 'Ethical axioms are found and tested not very differently from the axioms of science. Truth is what stands the test of experience.', 'tags': ['Education', 'Science', 'Ethics'], 'authorSlug': 'albert-einstein', 'length': 129, 'dateAdded': '2023-04-06', 'dateModified': '2023-04-14'}, {'_id': 'ostJK0TXUf', 'author': 'Albert Einstein', 'content': 'Imagination is more important than knowledge...', 'tags': ['Imagination', 'Knowledge'], 'authorSlug': 'albert-einstein', 'length': 47, 'dateAdded': '2023-04-06', 'dateModified': '2023-04-14'}, {'_id': 'xWusiklxiy', 'author': 'Albert Einstein', 'content': 'Do not worry about your difficulties in Mathematics. I can assure you mine are still greater.', 'tags': ['Mathematics', 'Education', 'Science'], 'authorSlug': 'albert-einstein', 'length': 93, 'dateAdded': '2023-04-06', 'dateModified': '2023-04-14'}, {'_id': 'vbvqg3V6j8', 'author': 'Albert Einstein', 'content': 'It is a miracle that curiosity survives formal education.', 'tags': ['Education'], 'authorSlug': 'albert-einstein', 'length': 57, 'dateAdded': '2023-04-06', 'dateModified': '2023-04-14'}, {'_id': 'wFrlCzqagir', 'author': 'Albert Einstein', 'content': 'The ideals which have lighted my way, and time after time have given me new courage to face life cheerfully, have been Kindness, Beauty, and Truth. The trite subjects of human efforts, possessions, outward success, luxury have always seemed to me contemptible.', 'tags': ['Success'], 'authorSlug': 'albert-einstein', 'length': 260, 'dateAdded': '2023-04-06', 'dateModified': '2023-04-14'}, {'_id': 'iCcQwfTUU3', 'author': 'Albert Einstein', 'content': 'Laws alone can not secure freedom of expression; in order that every man present his views without penalty there must be spirit of tolerance in the entire population.', 'tags': ['Freedom', 'Tolerance'], 'authorSlug': 'albert-einstein', 'length': 166, 'dateAdded': '2023-04-06', 'dateModified': '2023-04-14'}, {'_id': 'cOuSBYiscf', 'author': 'Albert Einstein', 'content': 'I never think of the future - it comes soon enough.', 'tags': ['Future'], 'authorSlug': 'albert-einstein', 'length': 51, 'dateAdded': '2023-04-06', 'dateModified': '2023-04-14'}, {'_id': 'aQSSYBocy9', 'author': 'Albert Einstein', 'content': 'Every day I remind myself that my inner and outer life are based on the labors of other men, living and dead, and that I must exert myself in order to give in the same measure as I have received and am still receiving.', 'tags': ['History', 'Science'], 'authorSlug': 'albert-einstein', 'length': 218, 'dateAdded': '2023-04-06', 'dateModified': '2023-04-14'}, {'_id': '4FLFmHaK7-', 'author': 'Albert Einstein', 'content': 'It is the supreme art of the teacher to awaken joy in creative expression and knowledge.', 'tags': ['Knowledge', 'Education'], 'authorSlug': 'albert-einstein', 'length': 88, 'dateAdded': '2023-04-06', 'dateModified': '2023-04-14'}, {'_id': 'b437W9Z_RN_', 'author': 'Albert Einstein', 'content': 'Reading, after a certain age, diverts the mind too much from its creative pursuits. Any man who reads too much and uses his own brain too little falls into lazy habits of thinking.', 'tags': ['Education'], 'authorSlug': 'albert-einstein', 'length': 180, 'dateAdded': '2023-04-06', 'dateModified': '2023-04-14'}, {'_id': 'fC5Jr2NsYm', 'author': 'Albert Einstein', 'content': \"Gravitation cannot be held responsible for people falling in love. How on earth can you explain in terms of chemistry and physics so important a biological phenomenon as first love? Put your hand on a stove for a minute and it seems like an hour. Sit with that special girl for an hour and it seems like a minute. That's relativity.\", 'tags': ['Love', 'Science'], 'authorSlug': 'albert-einstein', 'length': 332, 'dateAdded': '2023-04-06', 'dateModified': '2023-04-14'}, {'_id': '8WhYatXQzF', 'author': 'Albert Einstein', 'content': 'If I had only known, I would have been a locksmith.', 'tags': ['Humorous'], 'authorSlug': 'albert-einstein', 'length': 51, 'dateAdded': '2023-04-06', 'dateModified': '2023-04-14'}, {'_id': '2ts3DrACVY', 'author': 'Albert Einstein', 'content': 'I never teach my pupils. I only attempt to provide the conditions in which they can learn.', 'tags': ['Education', 'Science'], 'authorSlug': 'albert-einstein', 'length': 90, 'dateAdded': '2023-04-06', 'dateModified': '2023-04-14'}, {'_id': 'mqbH2SBrIS', 'author': 'Albert Einstein', 'content': 'I know not with what weapons World War III will be fought, but World War IV will be fought with sticks and stones.', 'tags': ['History', 'War'], 'authorSlug': 'albert-einstein', 'length': 114, 'dateAdded': '2023-04-06', 'dateModified': '2023-04-14'}]}\n"
     ]
    }
   ],
   "source": [
    "import requests\n",
    "\n",
    "try:\n",
    "    res = requests.get(\"https://api.quotable.io/quotes\", params={\"page\": 2}) # Access a particular page with a parameter\n",
    "    res.raise_for_status()  # Raise an error for bad responses (e.g., 404, 500)\n",
    "    data = res.json()  # Parse response JSON\n",
    "    print(data)  # Print the parsed JSON data\n",
    "except requests.RequestException as e:\n",
    "    print(\"Error fetching data:\", e)"
   ]
  },
  {
   "cell_type": "code",
   "execution_count": 22,
   "metadata": {},
   "outputs": [],
   "source": [
    "import requests\n",
    "import time\n",
    "\n",
    "quotes = []  # Create an empty list to store quotes\n",
    "for page in range(1, 10):  # Loop through the first 10 pages\n",
    "    res = requests.get(\"https://api.quotable.io/quotes\", params={\"page\": page})  # Access a particular page with a parameter\n",
    "    quotes.extend(res.json()['results'])  # Append the data that is in the results field\n",
    "    time.sleep(1)  # Increase delay to 1 second between requests"
   ]
  },
  {
   "cell_type": "code",
   "execution_count": 14,
   "metadata": {},
   "outputs": [],
   "source": [
    "import pandas as pd"
   ]
  },
  {
   "cell_type": "code",
   "execution_count": 23,
   "metadata": {},
   "outputs": [
    {
     "data": {
      "text/html": [
       "<div>\n",
       "<style scoped>\n",
       "    .dataframe tbody tr th:only-of-type {\n",
       "        vertical-align: middle;\n",
       "    }\n",
       "\n",
       "    .dataframe tbody tr th {\n",
       "        vertical-align: top;\n",
       "    }\n",
       "\n",
       "    .dataframe thead th {\n",
       "        text-align: right;\n",
       "    }\n",
       "</style>\n",
       "<table border=\"1\" class=\"dataframe\">\n",
       "  <thead>\n",
       "    <tr style=\"text-align: right;\">\n",
       "      <th></th>\n",
       "      <th>_id</th>\n",
       "      <th>author</th>\n",
       "      <th>content</th>\n",
       "      <th>tags</th>\n",
       "      <th>authorSlug</th>\n",
       "      <th>length</th>\n",
       "      <th>dateAdded</th>\n",
       "      <th>dateModified</th>\n",
       "    </tr>\n",
       "  </thead>\n",
       "  <tbody>\n",
       "    <tr>\n",
       "      <th>0</th>\n",
       "      <td>bfNpGC2NI</td>\n",
       "      <td>Thomas Edison</td>\n",
       "      <td>As a cure for worrying, work is better than wh...</td>\n",
       "      <td>[Humorous]</td>\n",
       "      <td>thomas-edison</td>\n",
       "      <td>51</td>\n",
       "      <td>2023-04-14</td>\n",
       "      <td>2023-04-14</td>\n",
       "    </tr>\n",
       "    <tr>\n",
       "      <th>1</th>\n",
       "      <td>ghVnmSpeAo</td>\n",
       "      <td>Thomas Edison</td>\n",
       "      <td>Everything comes to him who hustles while he w...</td>\n",
       "      <td>[Success, Motivational]</td>\n",
       "      <td>thomas-edison</td>\n",
       "      <td>51</td>\n",
       "      <td>2023-04-14</td>\n",
       "      <td>2023-04-14</td>\n",
       "    </tr>\n",
       "    <tr>\n",
       "      <th>2</th>\n",
       "      <td>_92j6kAvwd</td>\n",
       "      <td>Thomas Edison</td>\n",
       "      <td>I never did a day's work in my life.  It was a...</td>\n",
       "      <td>[Humorous]</td>\n",
       "      <td>thomas-edison</td>\n",
       "      <td>53</td>\n",
       "      <td>2023-04-14</td>\n",
       "      <td>2023-04-14</td>\n",
       "    </tr>\n",
       "    <tr>\n",
       "      <th>3</th>\n",
       "      <td>RTYhCs5Ka</td>\n",
       "      <td>Charles Dickens</td>\n",
       "      <td>I do not know the American gentleman, god forg...</td>\n",
       "      <td>[Humorous]</td>\n",
       "      <td>charles-dickens</td>\n",
       "      <td>89</td>\n",
       "      <td>2023-04-14</td>\n",
       "      <td>2023-04-14</td>\n",
       "    </tr>\n",
       "    <tr>\n",
       "      <th>4</th>\n",
       "      <td>RKl9iZrjfP</td>\n",
       "      <td>Charles Dickens</td>\n",
       "      <td>We need never be ashamed of our tears.</td>\n",
       "      <td>[Sadness]</td>\n",
       "      <td>charles-dickens</td>\n",
       "      <td>38</td>\n",
       "      <td>2023-04-14</td>\n",
       "      <td>2023-04-14</td>\n",
       "    </tr>\n",
       "    <tr>\n",
       "      <th>...</th>\n",
       "      <td>...</td>\n",
       "      <td>...</td>\n",
       "      <td>...</td>\n",
       "      <td>...</td>\n",
       "      <td>...</td>\n",
       "      <td>...</td>\n",
       "      <td>...</td>\n",
       "      <td>...</td>\n",
       "    </tr>\n",
       "    <tr>\n",
       "      <th>175</th>\n",
       "      <td>vtzyn3LKIA</td>\n",
       "      <td>Wayne Gretzky</td>\n",
       "      <td>A good hockey player plays where the puck is. ...</td>\n",
       "      <td>[Sports, Competition]</td>\n",
       "      <td>wayne-gretzky</td>\n",
       "      <td>104</td>\n",
       "      <td>2022-07-06</td>\n",
       "      <td>2023-04-14</td>\n",
       "    </tr>\n",
       "    <tr>\n",
       "      <th>176</th>\n",
       "      <td>Rqv9duD-Lc</td>\n",
       "      <td>Barry Switzer</td>\n",
       "      <td>Some people are born on third base and go thro...</td>\n",
       "      <td>[Sports, Competition]</td>\n",
       "      <td>barry-switzer</td>\n",
       "      <td>82</td>\n",
       "      <td>2022-07-06</td>\n",
       "      <td>2023-04-14</td>\n",
       "    </tr>\n",
       "    <tr>\n",
       "      <th>177</th>\n",
       "      <td>wNd1PnDiIN</td>\n",
       "      <td>Bob Feller</td>\n",
       "      <td>Every day is a new opportunity. You can build ...</td>\n",
       "      <td>[Sports, Competition]</td>\n",
       "      <td>bob-feller</td>\n",
       "      <td>200</td>\n",
       "      <td>2022-07-06</td>\n",
       "      <td>2023-04-14</td>\n",
       "    </tr>\n",
       "    <tr>\n",
       "      <th>178</th>\n",
       "      <td>yq5LCWQjDJU</td>\n",
       "      <td>Niccolò Machiavelli</td>\n",
       "      <td>No enterprise is more likely to succeed than o...</td>\n",
       "      <td>[Business]</td>\n",
       "      <td>niccolo-machiavelli</td>\n",
       "      <td>105</td>\n",
       "      <td>2022-07-06</td>\n",
       "      <td>2023-04-14</td>\n",
       "    </tr>\n",
       "    <tr>\n",
       "      <th>179</th>\n",
       "      <td>J471lzY_ZWf</td>\n",
       "      <td>Jim Bouton</td>\n",
       "      <td>You spend a good piece of your life gripping a...</td>\n",
       "      <td>[Sports, Competition]</td>\n",
       "      <td>jim-bouton</td>\n",
       "      <td>130</td>\n",
       "      <td>2022-07-06</td>\n",
       "      <td>2023-04-14</td>\n",
       "    </tr>\n",
       "  </tbody>\n",
       "</table>\n",
       "<p>180 rows × 8 columns</p>\n",
       "</div>"
      ],
      "text/plain": [
       "             _id               author  \\\n",
       "0      bfNpGC2NI        Thomas Edison   \n",
       "1     ghVnmSpeAo        Thomas Edison   \n",
       "2     _92j6kAvwd        Thomas Edison   \n",
       "3      RTYhCs5Ka      Charles Dickens   \n",
       "4     RKl9iZrjfP      Charles Dickens   \n",
       "..           ...                  ...   \n",
       "175   vtzyn3LKIA        Wayne Gretzky   \n",
       "176   Rqv9duD-Lc        Barry Switzer   \n",
       "177   wNd1PnDiIN           Bob Feller   \n",
       "178  yq5LCWQjDJU  Niccolò Machiavelli   \n",
       "179  J471lzY_ZWf           Jim Bouton   \n",
       "\n",
       "                                               content  \\\n",
       "0    As a cure for worrying, work is better than wh...   \n",
       "1    Everything comes to him who hustles while he w...   \n",
       "2    I never did a day's work in my life.  It was a...   \n",
       "3    I do not know the American gentleman, god forg...   \n",
       "4               We need never be ashamed of our tears.   \n",
       "..                                                 ...   \n",
       "175  A good hockey player plays where the puck is. ...   \n",
       "176  Some people are born on third base and go thro...   \n",
       "177  Every day is a new opportunity. You can build ...   \n",
       "178  No enterprise is more likely to succeed than o...   \n",
       "179  You spend a good piece of your life gripping a...   \n",
       "\n",
       "                        tags           authorSlug  length   dateAdded  \\\n",
       "0                 [Humorous]        thomas-edison      51  2023-04-14   \n",
       "1    [Success, Motivational]        thomas-edison      51  2023-04-14   \n",
       "2                 [Humorous]        thomas-edison      53  2023-04-14   \n",
       "3                 [Humorous]      charles-dickens      89  2023-04-14   \n",
       "4                  [Sadness]      charles-dickens      38  2023-04-14   \n",
       "..                       ...                  ...     ...         ...   \n",
       "175    [Sports, Competition]        wayne-gretzky     104  2022-07-06   \n",
       "176    [Sports, Competition]        barry-switzer      82  2022-07-06   \n",
       "177    [Sports, Competition]           bob-feller     200  2022-07-06   \n",
       "178               [Business]  niccolo-machiavelli     105  2022-07-06   \n",
       "179    [Sports, Competition]           jim-bouton     130  2022-07-06   \n",
       "\n",
       "    dateModified  \n",
       "0     2023-04-14  \n",
       "1     2023-04-14  \n",
       "2     2023-04-14  \n",
       "3     2023-04-14  \n",
       "4     2023-04-14  \n",
       "..           ...  \n",
       "175   2023-04-14  \n",
       "176   2023-04-14  \n",
       "177   2023-04-14  \n",
       "178   2023-04-14  \n",
       "179   2023-04-14  \n",
       "\n",
       "[180 rows x 8 columns]"
      ]
     },
     "execution_count": 23,
     "metadata": {},
     "output_type": "execute_result"
    }
   ],
   "source": [
    "df = pd.DataFrame.from_records(quotes) # Create a pandas dataframe from the list of quotes\n",
    "df # Display the dataframe"
   ]
  },
  {
   "cell_type": "code",
   "execution_count": 15,
   "metadata": {},
   "outputs": [],
   "source": [
    "res = requests.get(\"https://api.open-meteo.com/v1/forecast\",params={\"latitude\":52.52,\"longitude\":13.41,\"hourly\":\"temperature_2m\"}) # Get the weather forecast"
   ]
  },
  {
   "cell_type": "code",
   "execution_count": 16,
   "metadata": {},
   "outputs": [
    {
     "data": {
      "text/html": [
       "<div>\n",
       "<style scoped>\n",
       "    .dataframe tbody tr th:only-of-type {\n",
       "        vertical-align: middle;\n",
       "    }\n",
       "\n",
       "    .dataframe tbody tr th {\n",
       "        vertical-align: top;\n",
       "    }\n",
       "\n",
       "    .dataframe thead th {\n",
       "        text-align: right;\n",
       "    }\n",
       "</style>\n",
       "<table border=\"1\" class=\"dataframe\">\n",
       "  <thead>\n",
       "    <tr style=\"text-align: right;\">\n",
       "      <th></th>\n",
       "      <th>temperature_2m</th>\n",
       "    </tr>\n",
       "    <tr>\n",
       "      <th>time</th>\n",
       "      <th></th>\n",
       "    </tr>\n",
       "  </thead>\n",
       "  <tbody>\n",
       "    <tr>\n",
       "      <th>2024-04-10T00:00</th>\n",
       "      <td>11.4</td>\n",
       "    </tr>\n",
       "    <tr>\n",
       "      <th>2024-04-10T01:00</th>\n",
       "      <td>11.1</td>\n",
       "    </tr>\n",
       "    <tr>\n",
       "      <th>2024-04-10T02:00</th>\n",
       "      <td>11.1</td>\n",
       "    </tr>\n",
       "    <tr>\n",
       "      <th>2024-04-10T03:00</th>\n",
       "      <td>11.1</td>\n",
       "    </tr>\n",
       "    <tr>\n",
       "      <th>2024-04-10T04:00</th>\n",
       "      <td>11.0</td>\n",
       "    </tr>\n",
       "    <tr>\n",
       "      <th>...</th>\n",
       "      <td>...</td>\n",
       "    </tr>\n",
       "    <tr>\n",
       "      <th>2024-04-16T19:00</th>\n",
       "      <td>6.7</td>\n",
       "    </tr>\n",
       "    <tr>\n",
       "      <th>2024-04-16T20:00</th>\n",
       "      <td>5.9</td>\n",
       "    </tr>\n",
       "    <tr>\n",
       "      <th>2024-04-16T21:00</th>\n",
       "      <td>5.3</td>\n",
       "    </tr>\n",
       "    <tr>\n",
       "      <th>2024-04-16T22:00</th>\n",
       "      <td>5.0</td>\n",
       "    </tr>\n",
       "    <tr>\n",
       "      <th>2024-04-16T23:00</th>\n",
       "      <td>4.9</td>\n",
       "    </tr>\n",
       "  </tbody>\n",
       "</table>\n",
       "<p>168 rows × 1 columns</p>\n",
       "</div>"
      ],
      "text/plain": [
       "                  temperature_2m\n",
       "time                            \n",
       "2024-04-10T00:00            11.4\n",
       "2024-04-10T01:00            11.1\n",
       "2024-04-10T02:00            11.1\n",
       "2024-04-10T03:00            11.1\n",
       "2024-04-10T04:00            11.0\n",
       "...                          ...\n",
       "2024-04-16T19:00             6.7\n",
       "2024-04-16T20:00             5.9\n",
       "2024-04-16T21:00             5.3\n",
       "2024-04-16T22:00             5.0\n",
       "2024-04-16T23:00             4.9\n",
       "\n",
       "[168 rows x 1 columns]"
      ]
     },
     "execution_count": 16,
     "metadata": {},
     "output_type": "execute_result"
    }
   ],
   "source": [
    "df = pd.DataFrame.from_records(res.json()['hourly']) # Create a pandas dataframe from the list of temperature data\n",
    "df.set_index('time', inplace=True) # Set the time as the index\n",
    "df # Display the timeseries dataset"
   ]
  },
  {
   "cell_type": "code",
   "execution_count": 17,
   "metadata": {},
   "outputs": [
    {
     "data": {
      "text/plain": [
       "<Axes: xlabel='time'>"
      ]
     },
     "execution_count": 17,
     "metadata": {},
     "output_type": "execute_result"
    },
    {
     "data": {
      "image/png": "[encoded data removed]",
      "text/plain": [
       "<Figure size 640x480 with 1 Axes>"
      ]
     },
     "metadata": {},
     "output_type": "display_data"
    }
   ],
   "source": [
    "df.plot() # Plot the timeseries data"
   ]
  },
  {
   "cell_type": "code",
   "execution_count": 21,
   "metadata": {},
   "outputs": [
    {
     "name": "stdout",
     "output_type": "stream",
     "text": [
      "{'Meta Data': {'1. Information': 'Intraday (5min) open, high, low, close prices and volume', '2. Symbol': 'IBM', '3. Last Refreshed': '2024-04-09 19:55:00', '4. Interval': '5min', '5. Output Size': 'Compact', '6. Time Zone': 'US/Eastern'}, 'Time Series (5min)': {'2024-04-09 19:55:00': {'1. open': '189.3100', '2. high': '189.4500', '3. low': '189.3100', '4. close': '189.3300', '5. volume': '8'}, '2024-04-09 19:50:00': {'1. open': '189.4600', '2. high': '189.4600', '3. low': '189.4500', '4. close': '189.4500', '5. volume': '9'}, '2024-04-09 19:40:00': {'1. open': '189.4500', '2. high': '189.4500', '3. low': '189.4500', '4. close': '189.4500', '5. volume': '5'}, '2024-04-09 19:25:00': {'1. open': '189.5000', '2. high': '189.5000', '3. low': '189.5000', '4. close': '189.5000', '5. volume': '2'}, '2024-04-09 19:20:00': {'1. open': '189.4000', '2. high': '189.4000', '3. low': '189.4000', '4. close': '189.4000', '5. volume': '5'}, '2024-04-09 19:05:00': {'1. open': '189.3100', '2. high': '189.5000', '3. low': '189.3100', '4. close': '189.5000', '5. volume': '11'}, '2024-04-09 19:00:00': {'1. open': '189.3100', '2. high': '189.3100', '3. low': '189.3100', '4. close': '189.3100', '5. volume': '419403'}, '2024-04-09 18:55:00': {'1. open': '189.3100', '2. high': '189.3100', '3. low': '189.3100', '4. close': '189.3100', '5. volume': '5'}, '2024-04-09 18:40:00': {'1. open': '189.3100', '2. high': '189.3500', '3. low': '189.3100', '4. close': '189.3300', '5. volume': '23'}, '2024-04-09 18:30:00': {'1. open': '189.3100', '2. high': '189.4910', '3. low': '189.3100', '4. close': '189.4910', '5. volume': '419414'}, '2024-04-09 18:25:00': {'1. open': '189.3600', '2. high': '189.5000', '3. low': '189.3600', '4. close': '189.5000', '5. volume': '7'}, '2024-04-09 18:15:00': {'1. open': '189.3400', '2. high': '189.3400', '3. low': '189.3100', '4. close': '189.3100', '5. volume': '75'}, '2024-04-09 18:10:00': {'1. open': '189.4000', '2. high': '189.4000', '3. low': '189.4000', '4. close': '189.4000', '5. volume': '1'}, '2024-04-09 18:05:00': {'1. open': '189.3400', '2. high': '189.3400', '3. low': '189.3400', '4. close': '189.3400', '5. volume': '5'}, '2024-04-09 18:00:00': {'1. open': '189.3400', '2. high': '189.3400', '3. low': '189.3400', '4. close': '189.3400', '5. volume': '2'}, '2024-04-09 17:50:00': {'1. open': '189.4000', '2. high': '189.4000', '3. low': '189.3400', '4. close': '189.3400', '5. volume': '35'}, '2024-04-09 17:35:00': {'1. open': '189.3400', '2. high': '189.5000', '3. low': '189.3400', '4. close': '189.5000', '5. volume': '14'}, '2024-04-09 17:30:00': {'1. open': '189.3400', '2. high': '189.3400', '3. low': '189.3400', '4. close': '189.3400', '5. volume': '5'}, '2024-04-09 17:25:00': {'1. open': '189.3100', '2. high': '189.3110', '3. low': '189.3100', '4. close': '189.3110', '5. volume': '108'}, '2024-04-09 17:15:00': {'1. open': '189.3100', '2. high': '189.3100', '3. low': '189.3100', '4. close': '189.3100', '5. volume': '148'}, '2024-04-09 17:10:00': {'1. open': '189.4900', '2. high': '189.4900', '3. low': '189.4900', '4. close': '189.4900', '5. volume': '5'}, '2024-04-09 17:05:00': {'1. open': '189.3100', '2. high': '189.4500', '3. low': '189.3100', '4. close': '189.3100', '5. volume': '5'}, '2024-04-09 17:00:00': {'1. open': '189.4800', '2. high': '189.4800', '3. low': '189.3100', '4. close': '189.3100', '5. volume': '20'}, '2024-04-09 16:55:00': {'1. open': '189.3400', '2. high': '189.3400', '3. low': '189.3400', '4. close': '189.3400', '5. volume': '4'}, '2024-04-09 16:50:00': {'1. open': '189.3300', '2. high': '189.5000', '3. low': '189.3300', '4. close': '189.5000', '5. volume': '51'}, '2024-04-09 16:45:00': {'1. open': '189.3100', '2. high': '189.5000', '3. low': '189.3100', '4. close': '189.4900', '5. volume': '254'}, '2024-04-09 16:40:00': {'1. open': '188.7500', '2. high': '188.7500', '3. low': '188.7500', '4. close': '188.7500', '5. volume': '50'}, '2024-04-09 16:35:00': {'1. open': '188.6600', '2. high': '188.6600', '3. low': '188.6600', '4. close': '188.6600', '5. volume': '2'}, '2024-04-09 16:30:00': {'1. open': '189.4800', '2. high': '189.4800', '3. low': '189.4800', '4. close': '189.4800', '5. volume': '5'}, '2024-04-09 16:25:00': {'1. open': '189.5000', '2. high': '189.5000', '3. low': '189.5000', '4. close': '189.5000', '5. volume': '26'}, '2024-04-09 16:20:00': {'1. open': '189.3100', '2. high': '189.3100', '3. low': '189.3100', '4. close': '189.3100', '5. volume': '2806'}, '2024-04-09 16:15:00': {'1. open': '189.3100', '2. high': '189.3100', '3. low': '189.2000', '4. close': '189.2000', '5. volume': '2'}, '2024-04-09 16:10:00': {'1. open': '189.3100', '2. high': '189.6600', '3. low': '189.3100', '4. close': '189.6600', '5. volume': '419419'}, '2024-04-09 16:05:00': {'1. open': '189.3100', '2. high': '189.3100', '3. low': '189.2700', '4. close': '189.2700', '5. volume': '813'}, '2024-04-09 16:00:00': {'1. open': '189.3300', '2. high': '189.6600', '3. low': '189.3100', '4. close': '189.6600', '5. volume': '980585'}, '2024-04-09 15:55:00': {'1. open': '189.1000', '2. high': '189.3600', '3. low': '189.0000', '4. close': '189.3300', '5. volume': '213811'}, '2024-04-09 15:50:00': {'1. open': '188.4900', '2. high': '189.0500', '3. low': '188.4000', '4. close': '189.0500', '5. volume': '80173'}, '2024-04-09 15:45:00': {'1. open': '188.7050', '2. high': '188.7050', '3. low': '188.3900', '4. close': '188.4950', '5. volume': '32738'}, '2024-04-09 15:40:00': {'1. open': '188.7550', '2. high': '188.7850', '3. low': '188.5750', '4. close': '188.7100', '5. volume': '34529'}, '2024-04-09 15:35:00': {'1. open': '188.7950', '2. high': '188.8600', '3. low': '188.7000', '4. close': '188.7350', '5. volume': '30469'}, '2024-04-09 15:30:00': {'1. open': '188.5900', '2. high': '188.8100', '3. low': '188.5100', '4. close': '188.7750', '5. volume': '29475'}, '2024-04-09 15:25:00': {'1. open': '188.2400', '2. high': '188.6100', '3. low': '188.2000', '4. close': '188.6000', '5. volume': '20095'}, '2024-04-09 15:20:00': {'1. open': '188.0800', '2. high': '188.2710', '3. low': '188.0600', '4. close': '188.2250', '5. volume': '17275'}, '2024-04-09 15:15:00': {'1. open': '187.7200', '2. high': '188.0800', '3. low': '187.7200', '4. close': '188.0800', '5. volume': '16888'}, '2024-04-09 15:10:00': {'1. open': '187.7040', '2. high': '187.7600', '3. low': '187.6100', '4. close': '187.7300', '5. volume': '17187'}, '2024-04-09 15:05:00': {'1. open': '187.8700', '2. high': '187.9000', '3. low': '187.7000', '4. close': '187.7150', '5. volume': '15841'}, '2024-04-09 15:00:00': {'1. open': '188.0440', '2. high': '188.0440', '3. low': '187.8200', '4. close': '187.8400', '5. volume': '11984'}, '2024-04-09 14:55:00': {'1. open': '187.9140', '2. high': '188.0500', '3. low': '187.9100', '4. close': '188.0300', '5. volume': '11392'}, '2024-04-09 14:50:00': {'1. open': '187.8500', '2. high': '187.9500', '3. low': '187.8200', '4. close': '187.9200', '5. volume': '11061'}, '2024-04-09 14:45:00': {'1. open': '187.8000', '2. high': '187.9700', '3. low': '187.7830', '4. close': '187.8600', '5. volume': '11804'}, '2024-04-09 14:40:00': {'1. open': '187.8000', '2. high': '187.9400', '3. low': '187.8000', '4. close': '187.8000', '5. volume': '16042'}, '2024-04-09 14:35:00': {'1. open': '187.8800', '2. high': '187.9750', '3. low': '187.7600', '4. close': '187.7700', '5. volume': '16230'}, '2024-04-09 14:30:00': {'1. open': '187.9300', '2. high': '187.9900', '3. low': '187.8500', '4. close': '187.8500', '5. volume': '11162'}, '2024-04-09 14:25:00': {'1. open': '187.9400', '2. high': '188.0000', '3. low': '187.9000', '4. close': '187.9200', '5. volume': '17982'}, '2024-04-09 14:20:00': {'1. open': '188.2400', '2. high': '188.2600', '3. low': '187.9400', '4. close': '187.9400', '5. volume': '12164'}, '2024-04-09 14:15:00': {'1. open': '188.1700', '2. high': '188.2700', '3. low': '188.1200', '4. close': '188.2650', '5. volume': '8510'}, '2024-04-09 14:10:00': {'1. open': '188.1600', '2. high': '188.2700', '3. low': '188.0800', '4. close': '188.1800', '5. volume': '16500'}, '2024-04-09 14:05:00': {'1. open': '188.1800', '2. high': '188.1900', '3. low': '188.0600', '4. close': '188.1640', '5. volume': '12142'}, '2024-04-09 14:00:00': {'1. open': '188.1400', '2. high': '188.1600', '3. low': '188.0000', '4. close': '188.1500', '5. volume': '8175'}, '2024-04-09 13:55:00': {'1. open': '188.1700', '2. high': '188.2300', '3. low': '188.0700', '4. close': '188.1600', '5. volume': '10065'}, '2024-04-09 13:50:00': {'1. open': '188.0350', '2. high': '188.1750', '3. low': '188.0350', '4. close': '188.1500', '5. volume': '11199'}, '2024-04-09 13:45:00': {'1. open': '188.0200', '2. high': '188.0700', '3. low': '187.9650', '4. close': '187.9700', '5. volume': '11841'}, '2024-04-09 13:40:00': {'1. open': '188.0900', '2. high': '188.1650', '3. low': '187.9400', '4. close': '188.0400', '5. volume': '13967'}, '2024-04-09 13:35:00': {'1. open': '187.9200', '2. high': '188.0700', '3. low': '187.9200', '4. close': '188.0100', '5. volume': '9939'}, '2024-04-09 13:30:00': {'1. open': '187.8900', '2. high': '187.9800', '3. low': '187.8700', '4. close': '187.8800', '5. volume': '5876'}, '2024-04-09 13:25:00': {'1. open': '187.8530', '2. high': '187.8900', '3. low': '187.7900', '4. close': '187.8700', '5. volume': '7683'}, '2024-04-09 13:20:00': {'1. open': '187.8200', '2. high': '188.0070', '3. low': '187.8200', '4. close': '187.9200', '5. volume': '10190'}, '2024-04-09 13:15:00': {'1. open': '187.8600', '2. high': '187.9000', '3. low': '187.8000', '4. close': '187.8100', '5. volume': '12643'}, '2024-04-09 13:10:00': {'1. open': '187.9200', '2. high': '187.9200', '3. low': '187.7900', '4. close': '187.8650', '5. volume': '7889'}, '2024-04-09 13:05:00': {'1. open': '187.8950', '2. high': '187.9900', '3. low': '187.8500', '4. close': '187.9200', '5. volume': '7413'}, '2024-04-09 13:00:00': {'1. open': '187.8250', '2. high': '187.9310', '3. low': '187.7900', '4. close': '187.8700', '5. volume': '12923'}, '2024-04-09 12:55:00': {'1. open': '187.9500', '2. high': '187.9800', '3. low': '187.8300', '4. close': '187.8300', '5. volume': '306313'}, '2024-04-09 12:50:00': {'1. open': '188.2500', '2. high': '188.2600', '3. low': '187.9040', '4. close': '187.9550', '5. volume': '8932'}, '2024-04-09 12:45:00': {'1. open': '188.3050', '2. high': '188.3700', '3. low': '188.2640', '4. close': '188.3030', '5. volume': '10541'}, '2024-04-09 12:40:00': {'1. open': '188.6800', '2. high': '188.7000', '3. low': '188.3180', '4. close': '188.3180', '5. volume': '15639'}, '2024-04-09 12:35:00': {'1. open': '188.8200', '2. high': '188.8200', '3. low': '188.6600', '4. close': '188.7100', '5. volume': '16732'}, '2024-04-09 12:30:00': {'1. open': '188.7500', '2. high': '188.8600', '3. low': '188.6650', '4. close': '188.8600', '5. volume': '13111'}, '2024-04-09 12:25:00': {'1. open': '188.8200', '2. high': '188.9000', '3. low': '188.7770', '4. close': '188.7800', '5. volume': '18072'}, '2024-04-09 12:20:00': {'1. open': '188.6450', '2. high': '188.7800', '3. low': '188.6400', '4. close': '188.7800', '5. volume': '24718'}, '2024-04-09 12:15:00': {'1. open': '188.6800', '2. high': '188.7300', '3. low': '188.6200', '4. close': '188.6200', '5. volume': '17361'}, '2024-04-09 12:10:00': {'1. open': '188.5150', '2. high': '188.7500', '3. low': '188.4280', '4. close': '188.6800', '5. volume': '25511'}, '2024-04-09 12:05:00': {'1. open': '188.4100', '2. high': '188.5800', '3. low': '188.3440', '4. close': '188.5350', '5. volume': '19088'}, '2024-04-09 12:00:00': {'1. open': '188.3450', '2. high': '188.5200', '3. low': '188.3200', '4. close': '188.4100', '5. volume': '22130'}, '2024-04-09 11:55:00': {'1. open': '188.2300', '2. high': '188.4300', '3. low': '188.2110', '4. close': '188.3750', '5. volume': '21967'}, '2024-04-09 11:50:00': {'1. open': '188.0900', '2. high': '188.2300', '3. low': '187.9950', '4. close': '188.2200', '5. volume': '19400'}, '2024-04-09 11:45:00': {'1. open': '187.9970', '2. high': '188.1400', '3. low': '187.9700', '4. close': '188.1400', '5. volume': '14647'}, '2024-04-09 11:40:00': {'1. open': '187.7100', '2. high': '188.0400', '3. low': '187.6900', '4. close': '188.0210', '5. volume': '15675'}, '2024-04-09 11:35:00': {'1. open': '187.7300', '2. high': '187.9050', '3. low': '187.7000', '4. close': '187.7100', '5. volume': '15392'}, '2024-04-09 11:30:00': {'1. open': '187.8800', '2. high': '187.9200', '3. low': '187.7110', '4. close': '187.7550', '5. volume': '18076'}, '2024-04-09 11:25:00': {'1. open': '187.9800', '2. high': '188.1600', '3. low': '187.8900', '4. close': '187.9210', '5. volume': '15758'}, '2024-04-09 11:20:00': {'1. open': '187.7650', '2. high': '188.0200', '3. low': '187.7500', '4. close': '188.0100', '5. volume': '13591'}, '2024-04-09 11:15:00': {'1. open': '187.3770', '2. high': '187.6950', '3. low': '187.3500', '4. close': '187.6200', '5. volume': '17566'}, '2024-04-09 11:10:00': {'1. open': '187.1000', '2. high': '187.3300', '3. low': '187.0200', '4. close': '187.3000', '5. volume': '25748'}, '2024-04-09 11:05:00': {'1. open': '186.8100', '2. high': '187.1300', '3. low': '186.6900', '4. close': '187.0600', '5. volume': '36563'}, '2024-04-09 11:00:00': {'1. open': '187.0050', '2. high': '187.0700', '3. low': '186.6600', '4. close': '186.8100', '5. volume': '46713'}, '2024-04-09 10:55:00': {'1. open': '186.9800', '2. high': '187.0900', '3. low': '186.8800', '4. close': '187.0400', '5. volume': '36950'}, '2024-04-09 10:50:00': {'1. open': '187.0500', '2. high': '187.2800', '3. low': '186.9200', '4. close': '186.9510', '5. volume': '52261'}, '2024-04-09 10:45:00': {'1. open': '187.4300', '2. high': '187.4700', '3. low': '187.0200', '4. close': '187.1000', '5. volume': '21056'}, '2024-04-09 10:40:00': {'1. open': '187.7700', '2. high': '187.8100', '3. low': '187.2200', '4. close': '187.3400', '5. volume': '36261'}, '2024-04-09 10:35:00': {'1. open': '188.0800', '2. high': '188.1300', '3. low': '187.6900', '4. close': '187.7100', '5. volume': '55106'}}}\n"
     ]
    }
   ],
   "source": [
    "key = open(\"./apikey\").read() # Read the API key from a file\n",
    "base_url = \"https://www.alphavantage.co/query\" # Base URL for the API\n",
    "symbol=\"IBM\" # Stock symbol for IBM\n",
    "params={\"function\":\"TIME_SERIES_INTRADAY\",\"symbol\":symbol,\"interval\":\"5min\",\"apikey\":key} # Parameters for the API\n",
    "stock_res = requests.get(base_url, params=params) # Get the stock data\n",
    "print(stock_res.json()) # Print the stock data"
   ]
  },
  {
   "cell_type": "code",
   "execution_count": 24,
   "metadata": {},
   "outputs": [
    {
     "data": {
      "text/html": [
       "<div>\n",
       "<style scoped>\n",
       "    .dataframe tbody tr th:only-of-type {\n",
       "        vertical-align: middle;\n",
       "    }\n",
       "\n",
       "    .dataframe tbody tr th {\n",
       "        vertical-align: top;\n",
       "    }\n",
       "\n",
       "    .dataframe thead th {\n",
       "        text-align: right;\n",
       "    }\n",
       "</style>\n",
       "<table border=\"1\" class=\"dataframe\">\n",
       "  <thead>\n",
       "    <tr style=\"text-align: right;\">\n",
       "      <th></th>\n",
       "      <th>1. open</th>\n",
       "      <th>2. high</th>\n",
       "      <th>3. low</th>\n",
       "      <th>4. close</th>\n",
       "      <th>5. volume</th>\n",
       "    </tr>\n",
       "  </thead>\n",
       "  <tbody>\n",
       "    <tr>\n",
       "      <th>2024-04-09 10:35:00</th>\n",
       "      <td>188.0800</td>\n",
       "      <td>188.1300</td>\n",
       "      <td>187.6900</td>\n",
       "      <td>187.7100</td>\n",
       "      <td>55106</td>\n",
       "    </tr>\n",
       "    <tr>\n",
       "      <th>2024-04-09 10:40:00</th>\n",
       "      <td>187.7700</td>\n",
       "      <td>187.8100</td>\n",
       "      <td>187.2200</td>\n",
       "      <td>187.3400</td>\n",
       "      <td>36261</td>\n",
       "    </tr>\n",
       "    <tr>\n",
       "      <th>2024-04-09 10:45:00</th>\n",
       "      <td>187.4300</td>\n",
       "      <td>187.4700</td>\n",
       "      <td>187.0200</td>\n",
       "      <td>187.1000</td>\n",
       "      <td>21056</td>\n",
       "    </tr>\n",
       "    <tr>\n",
       "      <th>2024-04-09 10:50:00</th>\n",
       "      <td>187.0500</td>\n",
       "      <td>187.2800</td>\n",
       "      <td>186.9200</td>\n",
       "      <td>186.9510</td>\n",
       "      <td>52261</td>\n",
       "    </tr>\n",
       "    <tr>\n",
       "      <th>2024-04-09 10:55:00</th>\n",
       "      <td>186.9800</td>\n",
       "      <td>187.0900</td>\n",
       "      <td>186.8800</td>\n",
       "      <td>187.0400</td>\n",
       "      <td>36950</td>\n",
       "    </tr>\n",
       "    <tr>\n",
       "      <th>...</th>\n",
       "      <td>...</td>\n",
       "      <td>...</td>\n",
       "      <td>...</td>\n",
       "      <td>...</td>\n",
       "      <td>...</td>\n",
       "    </tr>\n",
       "    <tr>\n",
       "      <th>2024-04-09 19:20:00</th>\n",
       "      <td>189.4000</td>\n",
       "      <td>189.4000</td>\n",
       "      <td>189.4000</td>\n",
       "      <td>189.4000</td>\n",
       "      <td>5</td>\n",
       "    </tr>\n",
       "    <tr>\n",
       "      <th>2024-04-09 19:25:00</th>\n",
       "      <td>189.5000</td>\n",
       "      <td>189.5000</td>\n",
       "      <td>189.5000</td>\n",
       "      <td>189.5000</td>\n",
       "      <td>2</td>\n",
       "    </tr>\n",
       "    <tr>\n",
       "      <th>2024-04-09 19:40:00</th>\n",
       "      <td>189.4500</td>\n",
       "      <td>189.4500</td>\n",
       "      <td>189.4500</td>\n",
       "      <td>189.4500</td>\n",
       "      <td>5</td>\n",
       "    </tr>\n",
       "    <tr>\n",
       "      <th>2024-04-09 19:50:00</th>\n",
       "      <td>189.4600</td>\n",
       "      <td>189.4600</td>\n",
       "      <td>189.4500</td>\n",
       "      <td>189.4500</td>\n",
       "      <td>9</td>\n",
       "    </tr>\n",
       "    <tr>\n",
       "      <th>2024-04-09 19:55:00</th>\n",
       "      <td>189.3100</td>\n",
       "      <td>189.4500</td>\n",
       "      <td>189.3100</td>\n",
       "      <td>189.3300</td>\n",
       "      <td>8</td>\n",
       "    </tr>\n",
       "  </tbody>\n",
       "</table>\n",
       "<p>100 rows × 5 columns</p>\n",
       "</div>"
      ],
      "text/plain": [
       "                      1. open   2. high    3. low  4. close 5. volume\n",
       "2024-04-09 10:35:00  188.0800  188.1300  187.6900  187.7100     55106\n",
       "2024-04-09 10:40:00  187.7700  187.8100  187.2200  187.3400     36261\n",
       "2024-04-09 10:45:00  187.4300  187.4700  187.0200  187.1000     21056\n",
       "2024-04-09 10:50:00  187.0500  187.2800  186.9200  186.9510     52261\n",
       "2024-04-09 10:55:00  186.9800  187.0900  186.8800  187.0400     36950\n",
       "...                       ...       ...       ...       ...       ...\n",
       "2024-04-09 19:20:00  189.4000  189.4000  189.4000  189.4000         5\n",
       "2024-04-09 19:25:00  189.5000  189.5000  189.5000  189.5000         2\n",
       "2024-04-09 19:40:00  189.4500  189.4500  189.4500  189.4500         5\n",
       "2024-04-09 19:50:00  189.4600  189.4600  189.4500  189.4500         9\n",
       "2024-04-09 19:55:00  189.3100  189.4500  189.3100  189.3300         8\n",
       "\n",
       "[100 rows x 5 columns]"
      ]
     },
     "execution_count": 24,
     "metadata": {},
     "output_type": "execute_result"
    }
   ],
   "source": [
    "df = pd.DataFrame.from_records(stock_res.json()['Time Series (5min)']).T # Create a transposed pandas dataframe from the stock data\n",
    "df"
   ]
  }
 ],
 "metadata": {
  "kernelspec": {
   "display_name": "info2000",
   "language": "python",
   "name": "python3"
  },
  "language_info": {
   "codemirror_mode": {
    "name": "ipython",
    "version": 3
   },
   "file_extension": ".py",
   "mimetype": "text/x-python",
   "name": "python",
   "nbconvert_exporter": "python",
   "pygments_lexer": "ipython3",
   "version": "3.9.18"
  }
 },
 "nbformat": 4,
 "nbformat_minor": 2
}
