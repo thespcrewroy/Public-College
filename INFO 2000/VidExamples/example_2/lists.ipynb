{
 "cells": [
  {
   "cell_type": "code",
   "execution_count": 1,
   "id": "3bd4cb0b-d258-4313-8415-cd41a2369e58",
   "metadata": {},
   "outputs": [
    {
     "data": {
      "text/plain": [
       "[1, 2, 3]"
      ]
     },
     "execution_count": 1,
     "metadata": {},
     "output_type": "execute_result"
    }
   ],
   "source": [
    "[1,2,3]"
   ]
  },
  {
   "cell_type": "code",
   "execution_count": 2,
   "id": "fc884bf8-6ba0-4f9d-87b1-f352bc99bf2b",
   "metadata": {},
   "outputs": [
    {
     "data": {
      "text/plain": [
       "[1, 2, 'hello']"
      ]
     },
     "execution_count": 2,
     "metadata": {},
     "output_type": "execute_result"
    }
   ],
   "source": [
    "[1,2,\"hello\"]"
   ]
  },
  {
   "cell_type": "code",
   "execution_count": 3,
   "id": "0218c545-a9d0-4b0e-b9bc-b3165b35a6dd",
   "metadata": {},
   "outputs": [],
   "source": [
    "a = [1,2,\"hello\"]"
   ]
  },
  {
   "cell_type": "code",
   "execution_count": 4,
   "id": "b09d968d-66d6-41b4-a71b-095ef479c907",
   "metadata": {},
   "outputs": [
    {
     "data": {
      "text/plain": [
       "1"
      ]
     },
     "execution_count": 4,
     "metadata": {},
     "output_type": "execute_result"
    }
   ],
   "source": [
    "a[0]"
   ]
  },
  {
   "cell_type": "code",
   "execution_count": 5,
   "id": "b32aa971-4e80-4ab0-a76d-7d011ff8de29",
   "metadata": {},
   "outputs": [
    {
     "data": {
      "text/plain": [
       "2"
      ]
     },
     "execution_count": 5,
     "metadata": {},
     "output_type": "execute_result"
    }
   ],
   "source": [
    "a[1]"
   ]
  },
  {
   "cell_type": "code",
   "execution_count": 6,
   "id": "50e29008-dc31-41fa-a417-1ae0640bf47f",
   "metadata": {},
   "outputs": [
    {
     "data": {
      "text/plain": [
       "'hello'"
      ]
     },
     "execution_count": 6,
     "metadata": {},
     "output_type": "execute_result"
    }
   ],
   "source": [
    "a[2]"
   ]
  },
  {
   "cell_type": "code",
   "execution_count": 7,
   "id": "48db8f0f-26f5-4ee9-9b9f-bdb98356e5ba",
   "metadata": {},
   "outputs": [],
   "source": [
    "a[1] = 3"
   ]
  },
  {
   "cell_type": "code",
   "execution_count": 8,
   "id": "55cd3446-aae5-4f27-9ab3-2ab3cbd32c1b",
   "metadata": {},
   "outputs": [
    {
     "data": {
      "text/plain": [
       "[1, 3, 'hello']"
      ]
     },
     "execution_count": 8,
     "metadata": {},
     "output_type": "execute_result"
    }
   ],
   "source": [
    "a"
   ]
  },
  {
   "cell_type": "code",
   "execution_count": 9,
   "id": "704a093a-e42d-4991-9e4d-d71af41fd5af",
   "metadata": {},
   "outputs": [
    {
     "data": {
      "text/plain": [
       "'hello'"
      ]
     },
     "execution_count": 9,
     "metadata": {},
     "output_type": "execute_result"
    }
   ],
   "source": [
    "# Negative Indexing\n",
    "a[-1]"
   ]
  },
  {
   "cell_type": "code",
   "execution_count": 10,
   "id": "259a6abc-5b49-4daf-acd4-c4829bc0ac5e",
   "metadata": {},
   "outputs": [
    {
     "data": {
      "text/plain": [
       "[1, 3, 'hello']"
      ]
     },
     "execution_count": 10,
     "metadata": {},
     "output_type": "execute_result"
    }
   ],
   "source": [
    "a"
   ]
  },
  {
   "cell_type": "code",
   "execution_count": 11,
   "id": "6c7873b6-8fa3-48d5-9e66-aa9cc55faabe",
   "metadata": {},
   "outputs": [],
   "source": [
    "# Slicing\n",
    "a = [1,3,\"hello\",\"world\"]"
   ]
  },
  {
   "cell_type": "code",
   "execution_count": 12,
   "id": "a42ab642-4723-425f-9d52-00b8e1fbd742",
   "metadata": {},
   "outputs": [
    {
     "data": {
      "text/plain": [
       "['hello', 'world']"
      ]
     },
     "execution_count": 12,
     "metadata": {},
     "output_type": "execute_result"
    }
   ],
   "source": [
    "# I only want from the 2nd element forward\n",
    "a[2:]"
   ]
  },
  {
   "cell_type": "code",
   "execution_count": 13,
   "id": "e183600d-d01c-4a05-b757-d03447d875cc",
   "metadata": {},
   "outputs": [
    {
     "data": {
      "text/plain": [
       "[1, 3, 'hello']"
      ]
     },
     "execution_count": 13,
     "metadata": {},
     "output_type": "execute_result"
    }
   ],
   "source": [
    "# I only want from the beginning of the list upto a 2nd element\n",
    "a[:3]"
   ]
  },
  {
   "cell_type": "code",
   "execution_count": 14,
   "id": "19968d24-957e-4a30-a20b-f16789cd13b7",
   "metadata": {},
   "outputs": [
    {
     "data": {
      "text/plain": [
       "[1, 3, 'hello']"
      ]
     },
     "execution_count": 14,
     "metadata": {},
     "output_type": "execute_result"
    }
   ],
   "source": [
    "# Another way to represent a[:3]\n",
    "a[0:3]"
   ]
  },
  {
   "cell_type": "code",
   "execution_count": 15,
   "id": "6c111219-1eef-4f17-96db-bffad3fa7ff2",
   "metadata": {},
   "outputs": [
    {
     "data": {
      "text/plain": [
       "[1, 'hello']"
      ]
     },
     "execution_count": 15,
     "metadata": {},
     "output_type": "execute_result"
    }
   ],
   "source": [
    "# Every even element\n",
    "a[::2]"
   ]
  },
  {
   "cell_type": "code",
   "execution_count": 16,
   "id": "aa79ae3f-c926-4eca-9100-e54fbc377e5f",
   "metadata": {},
   "outputs": [
    {
     "data": {
      "text/plain": [
       "[3, 'world']"
      ]
     },
     "execution_count": 16,
     "metadata": {},
     "output_type": "execute_result"
    }
   ],
   "source": [
    "# Every odd element\n",
    "a[1::2]"
   ]
  },
  {
   "cell_type": "code",
   "execution_count": 17,
   "id": "28765b36-dc66-43aa-a4d9-eef954e0ab70",
   "metadata": {},
   "outputs": [
    {
     "data": {
      "text/plain": [
       "['world', 'hello', 3, 1]"
      ]
     },
     "execution_count": 17,
     "metadata": {},
     "output_type": "execute_result"
    }
   ],
   "source": [
    "# Stepping through the list backwards up to the last element\n",
    "a[::-1]"
   ]
  },
  {
   "cell_type": "code",
   "execution_count": 18,
   "id": "962129ac-5da2-4b27-a32f-e1f32f8a3493",
   "metadata": {},
   "outputs": [
    {
     "data": {
      "text/plain": [
       "['hello', 3, 1]"
      ]
     },
     "execution_count": 18,
     "metadata": {},
     "output_type": "execute_result"
    }
   ],
   "source": [
    "# Stepping through the list backward -1 from element -2\n",
    "a[-2::-1]"
   ]
  },
  {
   "cell_type": "code",
   "execution_count": 19,
   "id": "29cd604d-74f4-4e95-bb41-e8371d2384dd",
   "metadata": {},
   "outputs": [
    {
     "data": {
      "text/plain": [
       "['hello', 3, 1]"
      ]
     },
     "execution_count": 19,
     "metadata": {},
     "output_type": "execute_result"
    }
   ],
   "source": [
    "# Stepping through the list backward -1 from element -2 to element -5\n",
    "a[-2:-5:-1]"
   ]
  },
  {
   "cell_type": "code",
   "execution_count": 20,
   "id": "e33630bb-0e1f-4cd1-a356-60f2834d64d1",
   "metadata": {},
   "outputs": [
    {
     "data": {
      "text/plain": [
       "['hello', 'world']"
      ]
     },
     "execution_count": 20,
     "metadata": {},
     "output_type": "execute_result"
    }
   ],
   "source": [
    "# Stepping through the list +1 from element 2\n",
    "a[2::1]"
   ]
  },
  {
   "cell_type": "code",
   "execution_count": 21,
   "id": "2d66caa6-ae4d-4663-b0d9-47ece7966c22",
   "metadata": {},
   "outputs": [
    {
     "data": {
      "text/plain": [
       "['hello', 'world']"
      ]
     },
     "execution_count": 21,
     "metadata": {},
     "output_type": "execute_result"
    }
   ],
   "source": [
    "# Stepping through the list +1 from element 2 to element 4\n",
    "a[2:4:1]"
   ]
  },
  {
   "cell_type": "code",
   "execution_count": 22,
   "id": "afcf4b51-3aa3-4d1c-886b-526b31cc4369",
   "metadata": {},
   "outputs": [
    {
     "data": {
      "text/plain": [
       "[]"
      ]
     },
     "execution_count": 22,
     "metadata": {},
     "output_type": "execute_result"
    }
   ],
   "source": [
    "# Does not make logical sense to step from 0 to 3 backwards -1, so it creates an empty\n",
    "a[0:3:-1]"
   ]
  },
  {
   "cell_type": "code",
   "execution_count": 23,
   "id": "9763285d-1c81-4ba7-867e-12b699ce9c01",
   "metadata": {},
   "outputs": [
    {
     "data": {
      "text/plain": [
       "[1, 3, 'hello', 'world']"
      ]
     },
     "execution_count": 23,
     "metadata": {},
     "output_type": "execute_result"
    }
   ],
   "source": [
    "a"
   ]
  },
  {
   "cell_type": "code",
   "execution_count": 24,
   "id": "b7aaf8ac-73be-43d4-be33-dd2a9c735e22",
   "metadata": {},
   "outputs": [],
   "source": [
    "a[2:4] = ['Hello', 'World']"
   ]
  },
  {
   "cell_type": "code",
   "execution_count": 25,
   "id": "c502e0f5-132d-4099-8829-23f99ec0a8b6",
   "metadata": {},
   "outputs": [
    {
     "data": {
      "text/plain": [
       "[1, 3, 'Hello', 'World']"
      ]
     },
     "execution_count": 25,
     "metadata": {},
     "output_type": "execute_result"
    }
   ],
   "source": [
    "a"
   ]
  },
  {
   "cell_type": "code",
   "execution_count": 26,
   "id": "1c29a3b7-f76b-4328-9997-61ddf4a767ae",
   "metadata": {},
   "outputs": [
    {
     "data": {
      "text/plain": [
       "4"
      ]
     },
     "execution_count": 26,
     "metadata": {},
     "output_type": "execute_result"
    }
   ],
   "source": [
    "# Provides length of list object\n",
    "len(a)"
   ]
  },
  {
   "cell_type": "code",
   "execution_count": 27,
   "id": "e37c980b-5b37-4fc4-a571-d6866d78efdb",
   "metadata": {},
   "outputs": [],
   "source": [
    "# No natural way to convert the list with int and str into a sorted list\n",
    "# sorted(a)"
   ]
  },
  {
   "cell_type": "code",
   "execution_count": 28,
   "id": "39ed2d63-7718-4454-96d3-fb4bbf529343",
   "metadata": {},
   "outputs": [],
   "source": [
    "# Create a new list nums\n",
    "nums = [5,4,1,6,7]"
   ]
  },
  {
   "cell_type": "code",
   "execution_count": 29,
   "id": "4fefe2ed-410c-4de7-867b-55aa7e4953af",
   "metadata": {},
   "outputs": [
    {
     "data": {
      "text/plain": [
       "[1, 4, 5, 6, 7]"
      ]
     },
     "execution_count": 29,
     "metadata": {},
     "output_type": "execute_result"
    }
   ],
   "source": [
    "# Sorts the array nums\n",
    "sorted(nums)"
   ]
  },
  {
   "cell_type": "code",
   "execution_count": 30,
   "id": "2a6861f2-5ed2-4c10-b427-db3e9e7e7d47",
   "metadata": {},
   "outputs": [],
   "source": [
    "# Create a new list reverse_nums\n",
    "reverse_nums = [5,4,1,6,7]"
   ]
  },
  {
   "cell_type": "code",
   "execution_count": 31,
   "id": "c4ac9b05-6b1e-47e1-a8d7-7b6d9a2a61bc",
   "metadata": {},
   "outputs": [
    {
     "data": {
      "text/plain": [
       "[7, 6, 5, 4, 1]"
      ]
     },
     "execution_count": 31,
     "metadata": {},
     "output_type": "execute_result"
    }
   ],
   "source": [
    "# Sorts the list reverse_nums in reverse\n",
    "sorted(nums,reverse=True)"
   ]
  },
  {
   "cell_type": "code",
   "execution_count": 32,
   "id": "6a0b63e7-85f1-42d0-b88c-88e3d5891099",
   "metadata": {},
   "outputs": [
    {
     "data": {
      "text/plain": [
       "[1, 4, 5, 6, 7]"
      ]
     },
     "execution_count": 32,
     "metadata": {},
     "output_type": "execute_result"
    }
   ],
   "source": [
    "# Sorts the list from a certain index to another\n",
    "sorted(nums)[::1]"
   ]
  },
  {
   "cell_type": "code",
   "execution_count": 33,
   "id": "ae9c8b13-1d07-489b-8c10-3b0aa3e61617",
   "metadata": {},
   "outputs": [
    {
     "data": {
      "text/plain": [
       "[0, 0, 0, 0, 0, 0, 0, 0, 0, 0]"
      ]
     },
     "execution_count": 33,
     "metadata": {},
     "output_type": "execute_result"
    }
   ],
   "source": [
    "# Gives a list of zeroes called 'zeroes'\n",
    "zeroes = [0]*10\n",
    "zeroes"
   ]
  },
  {
   "cell_type": "code",
   "execution_count": 34,
   "id": "2d3d4e8b-9cb5-434b-88de-65c631a6b9ad",
   "metadata": {},
   "outputs": [
    {
     "data": {
      "text/plain": [
       "[5, 4, 1, 6, 7, 8, 2]"
      ]
     },
     "execution_count": 34,
     "metadata": {},
     "output_type": "execute_result"
    }
   ],
   "source": [
    "# Appends the list\n",
    "nums += [8,2]\n",
    "nums"
   ]
  },
  {
   "cell_type": "code",
   "execution_count": 35,
   "id": "30bec194-ee22-4d54-a70b-50579e407de7",
   "metadata": {},
   "outputs": [
    {
     "data": {
      "text/plain": [
       "[5, 4, 1, 6, 7, 8, 2, 8, 2]"
      ]
     },
     "execution_count": 35,
     "metadata": {},
     "output_type": "execute_result"
    }
   ],
   "source": [
    "# Extends nums list with another list\n",
    "nums.extend([8,2])\n",
    "nums"
   ]
  },
  {
   "cell_type": "code",
   "execution_count": 36,
   "id": "5a74a325-e22e-4f5b-9009-9df06e9f5409",
   "metadata": {},
   "outputs": [
    {
     "data": {
      "text/plain": [
       "[5, 4, 1, 6, 7, 8, 2, 8, 2, 9]"
      ]
     },
     "execution_count": 36,
     "metadata": {},
     "output_type": "execute_result"
    }
   ],
   "source": [
    "# You only use a single number for this append\n",
    "nums.append(9)\n",
    "nums"
   ]
  },
  {
   "cell_type": "code",
   "execution_count": 37,
   "id": "35ac1a7d-a02e-4dc0-9cc4-b498633baf4d",
   "metadata": {},
   "outputs": [
    {
     "data": {
      "text/plain": [
       "[5, 4, 1, 6, 7, 8, 2, 8, 2, 9, [10, 15]]"
      ]
     },
     "execution_count": 37,
     "metadata": {},
     "output_type": "execute_result"
    }
   ],
   "source": [
    "# Appends a list inside a list\n",
    "# List can contain any object, including list objects\n",
    "nums.append([10,15])\n",
    "nums"
   ]
  },
  {
   "cell_type": "code",
   "execution_count": 38,
   "id": "18da73b8-787d-411d-b8c5-0d4f54f9633c",
   "metadata": {},
   "outputs": [],
   "source": [
    "# Delete a list\n",
    "del a"
   ]
  },
  {
   "cell_type": "code",
   "execution_count": 39,
   "id": "106adac0-4911-44ce-a096-2562c05d31e9",
   "metadata": {},
   "outputs": [
    {
     "data": {
      "text/plain": [
       "[5, 4, 1, 6, 7, 8, 2, 8, 2, 9]"
      ]
     },
     "execution_count": 39,
     "metadata": {},
     "output_type": "execute_result"
    }
   ],
   "source": [
    "# Delete an element\n",
    "del nums [-1]\n",
    "nums"
   ]
  },
  {
   "cell_type": "code",
   "execution_count": 40,
   "id": "6c9251ae-3ab9-48e7-ace5-80f0a423fd13",
   "metadata": {},
   "outputs": [],
   "source": [
    "# Delete in the middle of the list from index 2 to index 3\n",
    "del nums[2:4]"
   ]
  },
  {
   "cell_type": "code",
   "execution_count": 41,
   "id": "6535460f-bfec-4404-819a-dd12fb034cb0",
   "metadata": {},
   "outputs": [
    {
     "data": {
      "text/plain": [
       "[5, 4, 7, 8, 2, 8, 2, 9]"
      ]
     },
     "execution_count": 41,
     "metadata": {},
     "output_type": "execute_result"
    }
   ],
   "source": [
    "nums"
   ]
  },
  {
   "cell_type": "code",
   "execution_count": 42,
   "id": "7d79d290-5a5c-4569-b3d8-ab48c45c67f7",
   "metadata": {},
   "outputs": [
    {
     "data": {
      "text/plain": [
       "[5, 9]"
      ]
     },
     "execution_count": 42,
     "metadata": {},
     "output_type": "execute_result"
    }
   ],
   "source": [
    "# Assigns the first and last column to the list\n",
    "nums = nums[:1] + nums[-1:]\n",
    "nums"
   ]
  },
  {
   "cell_type": "code",
   "execution_count": 46,
   "id": "e9aed8b3-3fda-48cd-a834-5d180a305d44",
   "metadata": {},
   "outputs": [
    {
     "data": {
      "text/plain": [
       "True"
      ]
     },
     "execution_count": 46,
     "metadata": {},
     "output_type": "execute_result"
    }
   ],
   "source": [
    "# Search a list\n",
    "9 in nums"
   ]
  },
  {
   "cell_type": "code",
   "execution_count": 47,
   "id": "52fe0d25-1fe3-4341-9ef1-12fe71134900",
   "metadata": {},
   "outputs": [
    {
     "data": {
      "text/plain": [
       "False"
      ]
     },
     "execution_count": 47,
     "metadata": {},
     "output_type": "execute_result"
    }
   ],
   "source": [
    "7 in nums"
   ]
  },
  {
   "cell_type": "code",
   "execution_count": null,
   "id": "b2b067e1-bffa-499d-b1d1-e5d9d91675cc",
   "metadata": {},
   "outputs": [],
   "source": []
  }
 ],
 "metadata": {
  "kernelspec": {
   "display_name": "base",
   "language": "python",
   "name": "base"
  },
  "language_info": {
   "codemirror_mode": {
    "name": "ipython",
    "version": 3
   },
   "file_extension": ".py",
   "mimetype": "text/x-python",
   "name": "python",
   "nbconvert_exporter": "python",
   "pygments_lexer": "ipython3",
   "version": "3.9.18"
  }
 },
 "nbformat": 4,
 "nbformat_minor": 5
}
