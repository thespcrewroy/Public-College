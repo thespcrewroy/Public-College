{
 "cells": [
  {
   "cell_type": "markdown",
   "metadata": {},
   "source": [
    "# Files\n"
   ]
  },
  {
   "cell_type": "markdown",
   "metadata": {},
   "source": [
    "Create a text file, my file.txt, and write 3 interesting facts about python into it (you may use python, or nano, or any means you choose to create the file). For example the file might contain:\n",
    "Python is named after Monty Python\n",
    "Python has a Zen of Python etc\n",
    "In python, write code that uses a loop to read the contents of the file and prints each line"
   ]
  },
  {
   "cell_type": "code",
   "execution_count": 1,
   "metadata": {},
   "outputs": [
    {
     "name": "stdout",
     "output_type": "stream",
     "text": [
      "Python is named after Monty Python\n",
      "Python has a Zen of Python\n",
      "The Python programming language is older than Java\n"
     ]
    }
   ],
   "source": [
    "# Create a text file, my file.txt, and write 3 interesting facts about python into it (you may use python, or\n",
    "facts = ['Python is named after Monty Python', 'Python has a Zen of Python', 'The Python programming language is older than Java']\n",
    "\n",
    "# add a newline for each fact\n",
    "facts = [fact+'\\n' for fact in facts]\n",
    "with open ('my_file.txt','w') as F:\n",
    "    F.writelines(facts)    \n",
    "\n",
    "# reading the contents of the file and printing each line.\n",
    "with open('my_file.txt','r') as F:\n",
    "    line = F.readline()\n",
    "    while not line=='':\n",
    "        print(line, end='') # specify end argument to prevent double new line when printing\n",
    "        line = F.readline()"
   ]
  },
  {
   "cell_type": "markdown",
   "metadata": {},
   "source": [
    "Write a Python program to write the elements of the list color = [’Red’, ’Green’, ’White’, ’Black’,’Pink’,’Yellow’], to a file called “color list file.txt”, with each element in a new line"
   ]
  },
  {
   "cell_type": "code",
   "execution_count": 3,
   "metadata": {},
   "outputs": [],
   "source": [
    "colors = ['Red', 'Green','White','Black','Pink','Yellow']\n",
    "colors = [color+'\\n' for color in colors]\n",
    "with open('color_list.txt', 'w') as F:\n",
    "    F.writelines(colors)"
   ]
  },
  {
   "cell_type": "markdown",
   "metadata": {},
   "source": [
    "write a program that gets the name and age of a person and stores it into a dictionary with name and\n",
    "age as the keys. Get age and name input data from 5 users, and store it in a new file called data.txt. To\n",
    "verify your work, write code that reads data.txt and prints out the people and their ages."
   ]
  },
  {
   "cell_type": "code",
   "execution_count": 32,
   "metadata": {},
   "outputs": [
    {
     "name": "stdout",
     "output_type": "stream",
     "text": [
      "{\n",
      "      \"name\": [\n",
      "            \"Curie\",\n",
      "            \"Einstein\",\n",
      "            \"Messi\",\n",
      "            \"Spongebob\",\n",
      "            \"Grogu\"\n",
      "      ],\n",
      "      \"age\": [\n",
      "            \"40\",\n",
      "            \"40\",\n",
      "            \"36\",\n",
      "            \"2\",\n",
      "            \"54\"\n",
      "      ]\n",
      "}\n"
     ]
    }
   ],
   "source": [
    "\n",
    "import json\n",
    "# get the names and the ages\n",
    "people ={'name':[], 'age':[]} # empty list to hold the people\n",
    "for i in range (5):\n",
    "    name,age = input(\"Enter name and age separated by a space: \").split()\n",
    "    people['name'].append(name)\n",
    "    people['age'].append(age)\n",
    "\n",
    "# now save it in the file\n",
    "with open('data.txt','w') as datafile:\n",
    "    json.dump(people, datafile, indent=6)\n",
    "\n",
    "# confirm that it works\n",
    "with open ('data.txt','r') as datafile:\n",
    "    contents = datafile.read()\n",
    "    print(contents)"
   ]
  },
  {
   "cell_type": "code",
   "execution_count": null,
   "metadata": {},
   "outputs": [
    {
     "name": "stdout",
     "output_type": "stream",
     "text": [
      "Marie Curie is 40.0 years old\n",
      "Albert Einstein is 40.0 years old\n",
      "Lionel Messi is 36.0 years old\n",
      "Spongebob SP is 2.0 years old\n",
      "Baby Yoda is 54.0 years old\n"
     ]
    }
   ],
   "source": [
    "# Another way to do it\n",
    "import json\n",
    "users = {} # empty dictionary to hold the users\n",
    "# get 5 names and ages\n",
    "for _ in range(5):\n",
    "    name = input('Enter name')\n",
    "    age = float(input('Enter age:'))\n",
    "    users[name] = age\n",
    "with open('data.txt','w') as F:\n",
    "    json.dump(users,F)\n",
    "\n",
    "# verify that it works by reading from file and printing user details\n",
    "with open('data.txt','r') as F:\n",
    "    users_from_file = json.load(F)\n",
    "    # then iterate through the dictionary\n",
    "    for name, age in users_from_file.items():\n",
    "        print(f\"{name} is {age} years old\")"
   ]
  },
  {
   "cell_type": "code",
   "execution_count": 7,
   "metadata": {},
   "outputs": [],
   "source": [
    "lines = ['line1','line2', 'line3']\n",
    "with open('lines.txt','w') as F:\n",
    "    for line in lines:\n",
    "        F.write(line+'\\n')\n",
    "\n",
    "with open('lines.txt','r') as F:\n",
    "    lines_in = F.readlines()\n",
    "    lines_in.reverse()\n",
    "    lines_in.insert(1,'this line has been inserted via Python code\\n')\n",
    "# now write it back\n",
    "with open('lines.txt','w') as F:\n",
    "    F.writelines(lines_in)"
   ]
  },
  {
   "cell_type": "markdown",
   "metadata": {},
   "source": [
    "# Functions and List comprehensions"
   ]
  },
  {
   "cell_type": "markdown",
   "metadata": {},
   "source": [
    "Write a function called oddCuberoot(). The function takes in a number and returns its cube-root if the\n",
    "number is odd and greater than zero, otherwise, print a statement that the number is zero or even, or\n",
    "negative."
   ]
  },
  {
   "cell_type": "code",
   "execution_count": 4,
   "metadata": {},
   "outputs": [
    {
     "name": "stdout",
     "output_type": "stream",
     "text": [
      "-1 is negative!\n",
      "0 is 0!\n",
      "1.0\n",
      "2 is even!\n",
      "1.4422495703074083\n"
     ]
    }
   ],
   "source": [
    "def oddCuberoot(n:float)->float:\n",
    "    '''returns cuberoot of number if number is odd and greater than 0\n",
    "        inputs:\n",
    "            n:float: the number we want the cuberoot for\n",
    "        outputs:\n",
    "            cuberoot:float cuberoot of the number\n",
    "    '''\n",
    "    if n%2 and n > 0:\n",
    "        return n**(1/3)\n",
    "    elif n == 0:\n",
    "        return f\"{n} is 0!\"\n",
    "    elif n%2 == 0:\n",
    "        return f\"{n} is even!\"\n",
    "    else:\n",
    "        return f\"{n} is negative!\"\n",
    "\n",
    "# test the function\n",
    "\n",
    "for i in range(-1,4):\n",
    "    print(oddCuberoot(i)) "
   ]
  },
  {
   "cell_type": "markdown",
   "metadata": {},
   "source": [
    "Use list comprehension to gather all even numbers from the list below into a new list called even_numbers.\n",
    "numbers = [10,3,4,6,35,9,3,12]"
   ]
  },
  {
   "cell_type": "code",
   "execution_count": 11,
   "metadata": {},
   "outputs": [
    {
     "name": "stdout",
     "output_type": "stream",
     "text": [
      "even numbers: [10, 4, 6, 12]\n"
     ]
    }
   ],
   "source": [
    "numbers = [10,3,4,6,35,9,3,12]\n",
    "even_numbers = [num for num in numbers if not num%2]\n",
    "print(f\"even numbers: {even_numbers}\")"
   ]
  },
  {
   "cell_type": "markdown",
   "metadata": {},
   "source": [
    " Given the string my string = ”Will I succeed if I tried that trick?”, use list comprehension to perform the\n",
    "following tasks:\n",
    "(a) remove any short words (containing 2 or fewer characters)\n",
    "(b) convert all the returned characters to lowercase\n",
    "(c) Return the modified string as a new list"
   ]
  },
  {
   "cell_type": "code",
   "execution_count": 14,
   "metadata": {},
   "outputs": [
    {
     "name": "stdout",
     "output_type": "stream",
     "text": [
      "['will', 'succeed', 'tried', 'that', 'trick?']\n",
      "will succeed tried that trick?\n"
     ]
    }
   ],
   "source": [
    "my_string = \"Will I succeed if I tried that trick?\"\n",
    "words = my_string.split() # split the words and store them in a list\n",
    "words = [word.lower() for word in words if len(word)>2]\n",
    "print(words)\n",
    "print(\" \".join(words)) # if you want to print it as a string"
   ]
  },
  {
   "cell_type": "markdown",
   "metadata": {},
   "source": [
    "Write a function that takes a list and returns a new list with unique elements of the first list. As an\n",
    "example, test it on [1,2,3,3,4,5,5,6] and it should return [1,2,3,4,5,6]"
   ]
  },
  {
   "cell_type": "code",
   "execution_count": 15,
   "metadata": {},
   "outputs": [
    {
     "name": "stdout",
     "output_type": "stream",
     "text": [
      "[1, 2, 3, 3, 4, 5, 5, 6] -> [1, 2, 3, 4, 5, 6] \n"
     ]
    }
   ],
   "source": [
    "def remove_duplicates(numbers:list)->list:\n",
    "    '''returns unique elements of a list\n",
    "    inputs:\n",
    "        numbers:list: list of numbers that may contain duplicates\n",
    "    outputs:\n",
    "        numbers:list: a list of the numbers without duplicates\n",
    "    '''\n",
    "    return list(set(numbers)) # set converts the list into a set which eliminates duplicates\n",
    "                              # then we cast it back into a list\n",
    "\n",
    "# test\n",
    "l = [1,2,3,3,4,5,5,6]\n",
    "print(f\"{l} -> {remove_duplicates(l)} \")"
   ]
  },
  {
   "cell_type": "markdown",
   "metadata": {},
   "source": [
    "Assume that hotel room costs are constant at $140 per night in the cities mentioned below. Airfares,\n",
    "in dollars, to these cities from your location are: ”Charlotte”: $183, ”Tampa”: $220, ”Pittsburgh”:\n",
    "$222,”Atlanta”: $475. The rental car costs $40 per day. Spending money required = $X per day,\n",
    "depending on the user. Write separate functions to:\n",
    "- compute hotel cost based on the number of days of stay\n",
    "-  determine airfare based on the city\n",
    "- compute the rental car cost based on the number of days of stay\n",
    "- calculate total trip cost based on city, days, and spending money as inputs from users. This function should call the other functions"
   ]
  },
  {
   "cell_type": "code",
   "execution_count": 21,
   "metadata": {},
   "outputs": [
    {
     "name": "stdout",
     "output_type": "stream",
     "text": [
      "Your trip will cost 3895.0\n"
     ]
    }
   ],
   "source": [
    "# define some common variables \n",
    "room_cost = 140\n",
    "car_rental = 40\n",
    "air_fares = {\"charlotte\":183,\"tampa\":220,\"pittsburgh\":222, \"atlanta\":475}\n",
    "\n",
    "def compute_hotel_cost(days:int)->float:\n",
    "    '''computes hotel cost based on length of stays (days)\n",
    "    inputs:\n",
    "        days:int : number of days staying at hotel\n",
    "    outputs:\n",
    "        cost:float : cost based on stay\n",
    "    '''\n",
    "    return room_cost * days\n",
    "\n",
    "def compute_air_fare(city:str)->float:\n",
    "    '''computes airfare to a city\n",
    "    inputs:\n",
    "        city:str : city flying to\n",
    "    outputs:\n",
    "        fare:float : amount it costs to fly there\n",
    "    '''\n",
    "    return air_fares[city.casefold()]\n",
    "\n",
    "def compute_car_rental(days:int)->float:\n",
    "    ''' computes the cost of renting a car based on days \n",
    "    inputs:\n",
    "        days:int: amount of days car is needed for\n",
    "    outputs:\n",
    "        cost: float: how much it will cost to rent the car\n",
    "\n",
    "    '''\n",
    "    return days * car_rental\n",
    "\n",
    "def compute_total_cost()->float:\n",
    "    '''\n",
    "    gets info from user on their travel plans and returns the total cost\n",
    "    inputs:\n",
    "        none\n",
    "    outputs:\n",
    "        total_cost:float : total computed cost\n",
    "    '''\n",
    "    city = input(\"city flying to:\")\n",
    "    days = float(input(\"How many days will you spend there?\"))\n",
    "    per_diem_cost = float(input(\"What is the daily per diem for {city}?\"))\n",
    "\n",
    "    return compute_hotel_cost(days) + compute_air_fare(city) + compute_car_rental(days) + days * per_diem_cost\n",
    "\n",
    "# test it\n",
    "print(f\"Your trip will cost $ {compute_total_cost()}\")"
   ]
  },
  {
   "cell_type": "markdown",
   "metadata": {},
   "source": [
    "Create a checker board generator, which takes as inputs n and 2 elements to generate an n x n checker-\n",
    "board with those two elements as alternating squares"
   ]
  },
  {
   "cell_type": "code",
   "execution_count": 31,
   "metadata": {},
   "outputs": [
    {
     "name": "stdout",
     "output_type": "stream",
     "text": [
      "['7', '6']\n",
      "['6', '7']\n",
      "_______________\n",
      "['A', 'B', 'A']\n",
      "['B', 'A', 'B']\n",
      "['A', 'B', 'A']\n",
      "_______________\n",
      "['c', 'd', 'c', 'd']\n",
      "['d', 'c', 'd', 'c']\n",
      "['c', 'd', 'c', 'd']\n",
      "['d', 'c', 'd', 'c']\n",
      "_______________\n",
      "invalid\n"
     ]
    }
   ],
   "source": [
    "def checker_board(n:int, symbol1:str, symbol2:str)->list:\n",
    "    ''' generates a checker board with alternating symbols\n",
    "    inputs:\n",
    "        n:int: length of the sides\n",
    "        symbol1:str: one of the alternating symbols \n",
    "        symbol2:str: the second alternating symbol\n",
    "    outputs:\n",
    "        board:list: a list of lists containing the checker board\n",
    "    '''\n",
    "    if symbol1 == symbol2:\n",
    "        return (\"invalid\")\n",
    "    else:\n",
    "        board = []\n",
    "        for i in range(n):\n",
    "            row = []\n",
    "            for j in range(n):\n",
    "                if i%2:\n",
    "                    if j%2:\n",
    "                        row.append(symbol1)\n",
    "                    else:\n",
    "                        row.append(symbol2)\n",
    "                else: # alternate\n",
    "                    if not j%2:\n",
    "                        row.append(symbol1)\n",
    "                    else:\n",
    "                        row.append(symbol2)                   \n",
    "            board.append(row)\n",
    "    return board\n",
    "# test \n",
    "board = checker_board(2,'7','6')\n",
    "for row in board:\n",
    "    print(row)\n",
    "print(\"_______________\")\n",
    "board = checker_board(3,'A','B')\n",
    "for row in board:\n",
    "    print(row)\n",
    "print(\"_______________\")\n",
    "board = checker_board(4,'c','d')\n",
    "for row in board:\n",
    "    print(row)\n",
    "print(\"_______________\")\n",
    "board = checker_board(4,'c','c')\n",
    "print(board)"
   ]
  }
 ],
 "metadata": {
  "kernelspec": {
   "display_name": "info2000",
   "language": "python",
   "name": "python3"
  },
  "language_info": {
   "codemirror_mode": {
    "name": "ipython",
    "version": 3
   },
   "file_extension": ".py",
   "mimetype": "text/x-python",
   "name": "python",
   "nbconvert_exporter": "python",
   "pygments_lexer": "ipython3",
   "version": "3.12.0"
  }
 },
 "nbformat": 4,
 "nbformat_minor": 2
}
