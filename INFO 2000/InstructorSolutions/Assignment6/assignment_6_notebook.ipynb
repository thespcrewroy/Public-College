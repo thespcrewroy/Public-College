{
 "cells": [
  {
   "cell_type": "markdown",
   "id": "83080394-0437-4ebe-b21a-eb2cf11c086b",
   "metadata": {},
   "source": [
    "# 1 Deep Thought\n",
    "Write a program that prompts the user for the answer to the Great Question of Life, the Universe and Everything, outputting Yes if the user inputs 42 or (case-insensitively) forty-two or forty two. Otherwise output No. Use ’q’ or ’Q’ to quit"
   ]
  },
  {
   "cell_type": "code",
   "execution_count": 1,
   "id": "b40f7c2b-eb08-40ef-9760-c09565c647da",
   "metadata": {
    "tags": []
   },
   "outputs": [
    {
     "name": "stdout",
     "output_type": "stream",
     "text": [
      "What's the answer to the Great Question of Life, the Universe and Everything? (q to quit) food\n"
     ]
    },
    {
     "name": "stdout",
     "output_type": "stream",
     "text": [
      "No\n"
     ]
    },
    {
     "name": "stdout",
     "output_type": "stream",
     "text": [
      "What's the answer to the Great Question of Life, the Universe and Everything? (q to quit) Water\n"
     ]
    },
    {
     "name": "stdout",
     "output_type": "stream",
     "text": [
      "No\n"
     ]
    },
    {
     "name": "stdout",
     "output_type": "stream",
     "text": [
      "What's the answer to the Great Question of Life, the Universe and Everything? (q to quit) Hope\n"
     ]
    },
    {
     "name": "stdout",
     "output_type": "stream",
     "text": [
      "No\n"
     ]
    },
    {
     "name": "stdout",
     "output_type": "stream",
     "text": [
      "What's the answer to the Great Question of Life, the Universe and Everything? (q to quit) 42\n"
     ]
    },
    {
     "name": "stdout",
     "output_type": "stream",
     "text": [
      "Yes\n"
     ]
    },
    {
     "name": "stdout",
     "output_type": "stream",
     "text": [
      "What's the answer to the Great Question of Life, the Universe and Everything? (q to quit) forty two\n"
     ]
    },
    {
     "name": "stdout",
     "output_type": "stream",
     "text": [
      "Yes\n"
     ]
    },
    {
     "name": "stdout",
     "output_type": "stream",
     "text": [
      "What's the answer to the Great Question of Life, the Universe and Everything? (q to quit) FoRTY-Two\n"
     ]
    },
    {
     "name": "stdout",
     "output_type": "stream",
     "text": [
      "Yes\n"
     ]
    },
    {
     "name": "stdout",
     "output_type": "stream",
     "text": [
      "What's the answer to the Great Question of Life, the Universe and Everything? (q to quit) q\n"
     ]
    },
    {
     "name": "stdout",
     "output_type": "stream",
     "text": [
      "Thanks for trying. Bye!\n"
     ]
    }
   ],
   "source": [
    "# create a list to hold the permissible answers\n",
    "forty_twos = ['42','forty-two','forty two']\n",
    "\n",
    "while True:\n",
    "    # Ask question and get user input\n",
    "    user_in = input(\"What's the answer to the Great Question of Life, the Universe and Everything? (q to quit)\")\n",
    "    if user_in.casefold()== 'q':\n",
    "        break\n",
    "    else:\n",
    "        if user_in.casefold() in forty_twos:\n",
    "            print(\"Yes\")\n",
    "        else:\n",
    "            print(\"No\")\n",
    "    \n",
    "print(\"Thanks for trying. Bye!\")"
   ]
  },
  {
   "cell_type": "markdown",
   "id": "5dd83d22-3453-47b6-a35c-b28c5a8efed1",
   "metadata": {},
   "source": [
    "## 2 Playback Speed\n",
    "Some people have a habit of ~~lecturing~~ speaking rather quickly, and it’d be nice to slow them down, a la\n",
    "YouTube’s 0.75 playback speed, or even by having them pause between words. Implement a program in Python\n",
    "that prompts the user for input and then outputs that same input, replacing each space with ... (i.e., three\n",
    "periods). Use ’q’ or ’Q’ to quit"
   ]
  },
  {
   "cell_type": "code",
   "execution_count": 2,
   "id": "f671725f-01c3-407f-bc4d-1ab1aeef3343",
   "metadata": {},
   "outputs": [
    {
     "name": "stdout",
     "output_type": "stream",
     "text": [
      "Say something please. (q|Q to quit) speaking slowly\n"
     ]
    },
    {
     "name": "stdout",
     "output_type": "stream",
     "text": [
      "speaking...slowly\n"
     ]
    },
    {
     "name": "stdout",
     "output_type": "stream",
     "text": [
      "Say something please. (q|Q to quit) speaking     slowwwly\n"
     ]
    },
    {
     "name": "stdout",
     "output_type": "stream",
     "text": [
      "speaking...............slowwwly\n"
     ]
    },
    {
     "name": "stdout",
     "output_type": "stream",
     "text": [
      "Say something please. (q|Q to quit) speaking normally\n"
     ]
    },
    {
     "name": "stdout",
     "output_type": "stream",
     "text": [
      "speaking...normally\n"
     ]
    },
    {
     "name": "stdout",
     "output_type": "stream",
     "text": [
      "Say something please. (q|Q to quit) q\n"
     ]
    },
    {
     "name": "stdout",
     "output_type": "stream",
     "text": [
      "bye\n"
     ]
    }
   ],
   "source": [
    "while True:\n",
    "    user_in = input(\"Say something please. (q|Q to quit)\")\n",
    "    if user_in.casefold() == 'q':\n",
    "        break\n",
    "    print(user_in.replace(\" \",\"...\"))\n",
    "print(\"bye\")"
   ]
  },
  {
   "cell_type": "markdown",
   "id": "4437e735-e08f-4a03-9ea2-74ced1052569",
   "metadata": {},
   "source": [
    "## 4 Database\n",
    "Imagine you’ve been approached by the principal of a neighboring high school to develop a student grade\n",
    "self-reporting system. The aim is to create a program that enables students to create an account using a\n",
    "username and password. Students can then input their grades for specific courses such as Math, Physics,\n",
    "Geography, and Chemistry.\n",
    "The program should operate according to the following guidelines:\n",
    "Begin by prompting the user for their name:\n",
    "1. If the user’s name exists in the database:\n",
    "- Prompt for their password and display their grades.\n",
    "- If an incorrect password is entered, keep prompting for the correct one until accurate, then display their grades.\n",
    "\n",
    "2. If the user doesn’t exist in the database:\n",
    "- Request them to create a password.\n",
    "- Add their name and password to the database for future logins.\n",
    "- Prompt them for their grades in the specified subjects and store them for future access.\n",
    "You have the flexibility to use IDs instead of names or enhance the program according to your judgment, as\n",
    "long as it achieves the primary goals: existing users should log in with a username/ID and password to view\n",
    "their grades, and new users should be able to create an account and input their grades into the database."
   ]
  },
  {
   "cell_type": "code",
   "execution_count": 3,
   "id": "c842ef4c-2382-48d2-bdc2-c0913ea107a4",
   "metadata": {},
   "outputs": [
    {
     "name": "stdout",
     "output_type": "stream",
     "text": [
      "Enter name: (q|Q to quit) Andrew\n",
      "Enter password for: Andrew password\n",
      "Math grade: 99\n",
      "Physics grade: 97\n",
      "Chemistry grade: 95\n",
      "Geography grade: 93\n"
     ]
    },
    {
     "name": "stdout",
     "output_type": "stream",
     "text": [
      "successfully added you to the database!\n"
     ]
    },
    {
     "name": "stdout",
     "output_type": "stream",
     "text": [
      "Enter name: (q|Q to quit) Rukangu\n",
      "Enter password for: Rukangu pass\n",
      "Math grade: 100\n",
      "Physics grade: 99\n",
      "Chemistry grade: 98\n",
      "Geography grade: 97\n"
     ]
    },
    {
     "name": "stdout",
     "output_type": "stream",
     "text": [
      "successfully added you to the database!\n"
     ]
    },
    {
     "name": "stdout",
     "output_type": "stream",
     "text": [
      "Enter name: (q|Q to quit) Andrew\n",
      "Enter password for: Andrew PASswprd\n"
     ]
    },
    {
     "name": "stdout",
     "output_type": "stream",
     "text": [
      "Incorrect password. Try again\n"
     ]
    },
    {
     "name": "stdout",
     "output_type": "stream",
     "text": [
      "Enter password for: Andrew password\n"
     ]
    },
    {
     "name": "stdout",
     "output_type": "stream",
     "text": [
      "Hello Andrew, your scores are:\n",
      "Math 99.0\n",
      "Physics 97.0\n",
      "Geography 95.0\n",
      "Chemistry 93.0\n"
     ]
    },
    {
     "name": "stdout",
     "output_type": "stream",
     "text": [
      "Enter name: (q|Q to quit) Rukangu\n",
      "Enter password for: Rukangu Passs\n"
     ]
    },
    {
     "name": "stdout",
     "output_type": "stream",
     "text": [
      "Incorrect password. Try again\n"
     ]
    },
    {
     "name": "stdout",
     "output_type": "stream",
     "text": [
      "Enter password for: Rukangu pass\n"
     ]
    },
    {
     "name": "stdout",
     "output_type": "stream",
     "text": [
      "Hello Rukangu, your scores are:\n",
      "Math 100.0\n",
      "Physics 99.0\n",
      "Geography 98.0\n",
      "Chemistry 97.0\n"
     ]
    },
    {
     "name": "stdout",
     "output_type": "stream",
     "text": [
      "Enter name: (q|Q to quit) q\n"
     ]
    },
    {
     "name": "stdout",
     "output_type": "stream",
     "text": [
      "Bye!\n"
     ]
    }
   ],
   "source": [
    "database = {}\n",
    "\n",
    "# the structure I choose for my database is a dictionary of dictionaries:\n",
    "\n",
    "# each user has a dictionary, whose key is their name. This dictionary will hold their password (a string) and grades (which is a list)\n",
    "\n",
    "# {\"name\":{\"password\":\"USER_DEFINED_PASSWORD\", \"grades\":[0,0,0,0] }} --> shell of the database structure\n",
    "\n",
    "\n",
    "while True:\n",
    "    user_name = input(\"Enter name: (q|Q to quit)\")\n",
    "    if user_name.casefold() == 'q':\n",
    "        break\n",
    "    if user_name.casefold() in database.keys():\n",
    "        password_on_file = database[user_name.casefold()]['password'] # this is the password\n",
    "        while True:\n",
    "            entered_password = input(f\"Enter password for: {user_name}\")\n",
    "            if entered_password == password_on_file:\n",
    "                user_dict = database[user_name.casefold()]\n",
    "                grades = user_dict['grades']\n",
    "                # print the scores and break from the while loop\n",
    "                print(f\"Hello {user_name.title()}, your scores are:\")\n",
    "                print(f\"Math {grades[0]}\", f\"Physics {grades[1]}\", f\"Geography {grades[2]}\", f\"Chemistry {grades[3]}\", sep = '\\n') # look at the print function's documentation for an explanation of the sep keyword\n",
    "                break\n",
    "            else:\n",
    "                print(\"Incorrect password. Try again\")\n",
    "\n",
    "    else: #if user name isn't in the database, let's add them\n",
    "        entered_password = input(f\"Enter password for: {user_name}\")\n",
    "        # add casefolded username to the database\n",
    "        database[user_name.casefold()] = {'password':entered_password, 'grades' : []}\n",
    "        math = float(input(\"Math grade:\"))\n",
    "        physics = float(input(\"Physics grade:\"))\n",
    "        chemistry = float(input(\"Chemistry grade:\"))\n",
    "        geography = float(input(\"Geography grade:\"))\n",
    "        # actually put this in the list of grades\n",
    "        database[user_name.casefold()]['grades'] = [math, physics, chemistry, geography]\n",
    "        print(\"successfully added you to the database!\")\n",
    "print(\"Bye!\")\n",
    "    "
   ]
  },
  {
   "cell_type": "markdown",
   "id": "f8f9b1a2-0153-45e7-9514-daca972fc838",
   "metadata": {},
   "source": [
    "# 4.1 Grades\n",
    "You are given a dictionary named student_scores with student names as keys and their semester test\n",
    "scores as values in a list. Your task is to populate a list called who passed with the names of individuals\n",
    "who achieved a perfect score (100%) in all tests. Ensure that the final list is sorted alphabetically."
   ]
  },
  {
   "cell_type": "code",
   "execution_count": 4,
   "id": "961810c0-69a7-4669-831c-3986d6723ea9",
   "metadata": {},
   "outputs": [
    {
     "name": "stdout",
     "output_type": "stream",
     "text": [
      " The following passed: ['Curie', 'Einstein']\n",
      " The following passed: ['Cruise', 'Gandhi', 'Hawking', 'Newton']\n",
      " The following passed: []\n"
     ]
    }
   ],
   "source": [
    "# student dictionary\n",
    "student_scores_1 = {\n",
    "\"Einstein\" : [\"5/5\", \"50/50\", \"10/10\", \"10/10\"],\n",
    "\"Jordan\" : [\"4/8\", \"50/57\", \"7/10\", \"10/18\"],\n",
    "\"Tesla\" : [\"8/10\", \"22/25\", \"3/5\", \"5/5\"],\n",
    "\"Curie\" : [\"3/3\", \"20/20\"]\n",
    "}\n",
    "\n",
    "who_passed_1 = [] # accumulates the students that passed\n",
    "\n",
    "for student, grades in student_scores_1.items():\n",
    "    passed = True # our flag\n",
    "    for grade_item in grades:\n",
    "        score,total_points = grade_item.split('/')\n",
    "        if not score==total_points:\n",
    "            passed = False\n",
    "    if passed:\n",
    "        who_passed_1.append(student)\n",
    "    \n",
    "print(f\" The following passed: {sorted(who_passed_1)}\")\n",
    "\n",
    "\n",
    "# second dictionary\n",
    "\n",
    "student_scores_2 = {\n",
    "\"Hawking\" : [\"10/10\"],\n",
    "\"Newton\" : [\"30/30\"],\n",
    "\"Gandhi\" : [\"100/100\"],\n",
    "\"Cruise\" : [\"1/1\"]\n",
    "}\n",
    "who_passed_2 = [] # accumulates the students that passed\n",
    "\n",
    "for student, grades in student_scores_2.items():\n",
    "    passed = True # our flag\n",
    "    for grade_item in grades:\n",
    "        score,total_points = grade_item.split('/')\n",
    "        if not score==total_points:\n",
    "            passed = False\n",
    "    if passed:\n",
    "        who_passed_2.append(student)\n",
    "print(f\" The following passed: {sorted(who_passed_2)}\")\n",
    "\n",
    "# third dictionary\n",
    "student_scores_3 = {\n",
    "\"Turing\" : [\"10/10\", \"2/4\"],\n",
    "\"Ali\" : [\"7/9\", \"2/3\"]\n",
    "}\n",
    "\n",
    "who_passed_3 = [] # accumulates the students that passed\n",
    "\n",
    "for student, grades in student_scores_3.items():\n",
    "    passed = True # our flag\n",
    "    for grade_item in grades:\n",
    "        score,total_points = grade_item.split('/')\n",
    "        if not score==total_points:\n",
    "            passed = False\n",
    "    if passed:\n",
    "        who_passed_3.append(student)\n",
    "print(f\" The following passed: {sorted(who_passed_3)}\")"
   ]
  },
  {
   "cell_type": "markdown",
   "id": "13214de1-480e-4c60-9f1e-01ab65676fad",
   "metadata": {},
   "source": [
    "# Pluralizing\n",
    "Given the following list of 10 fruits: [”apple”, ”banana”, ”orange”, ”grape”, ”kiwi”, ”mango”, ”strawberry”,\n",
    "”pineapple”, ”watermelon”, ”cherry”]. Write a program that asks the user for their name. Then, it will randomly\n",
    "select a number between 0 and 10 and pick one type of fruit from the list to give to the user. If the user\n",
    "receives 0 fruits, the program should print the message: ”Sorry name, you get no fruits today.” Otherwise, it\n",
    "should print: ”Hello {name}, you get {number} {fruit(s)}. Enjoy!” Ensure that the fruit name is appropriately\n",
    "pluralized if the user gets more than one, and in its singular form if they receive only one fruit. Your program\n",
    "should run perpetually until the user inputs ’q’ or ’Q’ to quit.\n"
   ]
  },
  {
   "cell_type": "code",
   "execution_count": 1,
   "id": "cfebbebe-f923-472d-882b-5569c3e13332",
   "metadata": {},
   "outputs": [
    {
     "name": "stdout",
     "output_type": "stream",
     "text": [
      "Hello Andrew, you get 6 strawberries. Enjoy!\n",
      "Hello Andrew, you get 9 grapes. Enjoy!\n",
      "Hello Einstein, you get 4 cherries. Enjoy!\n",
      "Hello Curie, you get 9 bananas. Enjoy!\n",
      "Hello Newton, you get 9 cherries. Enjoy!\n",
      "Hello Newton, you get 4 grapes. Enjoy!\n",
      "Hello Marie, you get 2 pineapples. Enjoy!\n",
      "Hello Curie, you get 7 cherries. Enjoy!\n",
      "Hello Kyle, you get 4 mangoes. Enjoy!\n",
      "Hello Johnsen, you get 1 grape. Enjoy!\n",
      "Hello qq, you get 5 grapes. Enjoy!\n"
     ]
    }
   ],
   "source": [
    "# using two lists\n",
    "\n",
    "import random\n",
    "\n",
    "fruits = ['apple', 'banana', 'orange', 'grape', 'kiwi', 'mango', 'strawberry',\n",
    "'pineapple', 'watermelon', 'cherry']\n",
    "plural_fruits = ['apples', 'bananas', 'oranges', 'grapes', 'kiwis', 'mangoes', 'strawberries',\n",
    "'pineapples', 'watermelons', 'cherries']\n",
    "\n",
    "while True:\n",
    "    # get user name\n",
    "    name = input(\"Enter name: (q|Q to quit)\").strip()\n",
    "    if name.casefold() in ['q','quit','n','no']:\n",
    "        break # quit if user enters q\n",
    "    # generate random number between 0 and 10\n",
    "    random_number = random.randint(0,10)\n",
    "    if random_number == 0:\n",
    "        print(f'Sorry {name}, you get no fruits today!')\n",
    "    elif random_number == 1:\n",
    "        print(f'Hello {name}, you get 1 {random.choice(fruits)}. Enjoy!')\n",
    "    else:\n",
    "        print(f'Hello {name}, you get {random_number} {random.choice(plural_fruits)}. Enjoy!')\n",
    "    "
   ]
  },
  {
   "cell_type": "code",
   "execution_count": null,
   "id": "b32ce939-17e5-466c-99a5-8c0857ee1381",
   "metadata": {},
   "outputs": [
    {
     "name": "stdout",
     "output_type": "stream",
     "text": [
      "Enter name: (q|Q to quit) Andrew\n"
     ]
    },
    {
     "name": "stdout",
     "output_type": "stream",
     "text": [
      "Hello Andrew, you get 5 bananas. Enjoy!\n"
     ]
    },
    {
     "name": "stdout",
     "output_type": "stream",
     "text": [
      "Enter name: (q|Q to quit) Einstein\n"
     ]
    },
    {
     "name": "stdout",
     "output_type": "stream",
     "text": [
      "Hello Einstein, you get 8 watermelons. Enjoy!\n"
     ]
    },
    {
     "name": "stdout",
     "output_type": "stream",
     "text": [
      "Enter name: (q|Q to quit) Marie\n"
     ]
    },
    {
     "name": "stdout",
     "output_type": "stream",
     "text": [
      "Hello Marie, you get 3 watermelons. Enjoy!\n"
     ]
    },
    {
     "name": "stdout",
     "output_type": "stream",
     "text": [
      "Enter name: (q|Q to quit) Curie\n"
     ]
    },
    {
     "name": "stdout",
     "output_type": "stream",
     "text": [
      "Sorry Curie, you get no fruits today!\n"
     ]
    },
    {
     "name": "stdout",
     "output_type": "stream",
     "text": [
      "Enter name: (q|Q to quit) Messi\n"
     ]
    },
    {
     "name": "stdout",
     "output_type": "stream",
     "text": [
      "Hello Messi, you get 6 mangoes. Enjoy!\n"
     ]
    },
    {
     "name": "stdout",
     "output_type": "stream",
     "text": [
      "Enter name: (q|Q to quit) Lionel\n"
     ]
    },
    {
     "name": "stdout",
     "output_type": "stream",
     "text": [
      "Hello Lionel, you get 3 cherries. Enjoy!\n"
     ]
    },
    {
     "name": "stdout",
     "output_type": "stream",
     "text": [
      "Enter name: (q|Q to quit) Sadio\n"
     ]
    },
    {
     "name": "stdout",
     "output_type": "stream",
     "text": [
      "Hello Sadio, you get 8 grapes. Enjoy!\n"
     ]
    },
    {
     "name": "stdout",
     "output_type": "stream",
     "text": [
      "Enter name: (q|Q to quit) Mane\n"
     ]
    },
    {
     "name": "stdout",
     "output_type": "stream",
     "text": [
      "Hello Mane, you get 4 watermelons. Enjoy!\n"
     ]
    },
    {
     "name": "stdout",
     "output_type": "stream",
     "text": [
      "Enter name: (q|Q to quit) Kyle\n"
     ]
    },
    {
     "name": "stdout",
     "output_type": "stream",
     "text": [
      "Hello Kyle, you get 10 oranges. Enjoy!\n"
     ]
    },
    {
     "name": "stdout",
     "output_type": "stream",
     "text": [
      "Enter name: (q|Q to quit) Johnsen\n"
     ]
    },
    {
     "name": "stdout",
     "output_type": "stream",
     "text": [
      "Hello Johnsen, you get 8 apples. Enjoy!\n"
     ]
    }
   ],
   "source": [
    "# using a library\n",
    "# note, you need to first install the library in your envrionment using conda\n",
    "import random\n",
    "import inflect\n",
    "\n",
    "engine = inflect.engine()\n",
    "\n",
    "fruits = ['apple', 'banana', 'orange', 'grape', 'kiwi', 'mango', 'strawberry',\n",
    "'pineapple', 'watermelon', 'cherry']\n",
    "\n",
    "while True:\n",
    "    # get user name\n",
    "    name = input(\"Enter name: (q|Q to quit)\").strip()\n",
    "    if name.casefold() in ['q','quit','n','no']:\n",
    "        break # quit if user enters q\n",
    "    # generate random number between 0 and 10\n",
    "    random_number = random.randint(0,10)\n",
    "    fruit = random.choice(fruits)\n",
    "    if random_number == 0:\n",
    "        print(f'Sorry {name}, you get no fruits today!')\n",
    "    elif random_number == 1:\n",
    "        print(f'Hello {name}, you get 1 {fruit}. Enjoy!')\n",
    "    else:\n",
    "        print(f'Hello {name}, you get {random_number} {engine.plural(fruit)}. Enjoy!')\n",
    "    "
   ]
  },
  {
   "cell_type": "code",
   "execution_count": null,
   "id": "5a19a4cb-1509-4cb3-9049-fda024bfb966",
   "metadata": {},
   "outputs": [],
   "source": []
  }
 ],
 "metadata": {
  "kernelspec": {
   "display_name": "info2000",
   "language": "python",
   "name": "python3"
  },
  "language_info": {
   "codemirror_mode": {
    "name": "ipython",
    "version": 3
   },
   "file_extension": ".py",
   "mimetype": "text/x-python",
   "name": "python",
   "nbconvert_exporter": "python",
   "pygments_lexer": "ipython3",
   "version": "3.9.18"
  }
 },
 "nbformat": 4,
 "nbformat_minor": 5
}
