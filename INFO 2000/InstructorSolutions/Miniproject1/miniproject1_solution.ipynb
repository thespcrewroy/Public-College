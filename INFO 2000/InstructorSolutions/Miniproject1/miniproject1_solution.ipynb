{
 "cells": [
  {
   "cell_type": "markdown",
   "metadata": {},
   "source": [
    "### Monty Hall Simulation"
   ]
  },
  {
   "cell_type": "markdown",
   "metadata": {},
   "source": [
    "The Monty Hall problem is a well-known probability puzzle named after the host of the TV game show ”Let’s Make a Deal.” Here’s the premise: Behind three doors, there are two goats and a car. The host knows what’s behind each door, but the contestant does not. The contestant selects one door, and then the host opens one of the remaining doors, revealing a goat. Now, the contestant is offered the opportunity to change their initial choice. Would you stick with your first pick, or would you switch? It’s a counterintuitive problem with a surprising solution. You can read more about it in this [wikipedia](https://en.wikipedia.org/wiki/Monty_Hall_problem) article: . In this mini-project, you’ll be\n",
    "developing a Monty Hall simulator in Python. This project is divided into two parts: \n",
    "- Implementing an Interactive Monty Hall Simulator\n",
    "- Implementing a Function to Simulate Multiple Trial Runs"
   ]
  },
  {
   "cell_type": "code",
   "execution_count": 10,
   "metadata": {},
   "outputs": [
    {
     "name": "stdout",
     "output_type": "stream",
     "text": [
      "Welcome to the Monty Hall Game!\n",
      "Select a lucky door out of three!\n",
      "Beware, behind one door lies a car, while the other two doors conceal a goat\n",
      "You will have the option of switching your choice :)\n",
      "You won a Goat!\n",
      "played: 1\n",
      "won 0\n",
      "win%:0.00\n",
      "You won a Car!\n",
      "played: 2\n",
      "won 1\n",
      "win%:50.00\n",
      "You won a Goat!\n",
      "played: 3\n",
      "won 1\n",
      "win%:33.33\n",
      "You won a Car!\n",
      "played: 4\n",
      "won 2\n",
      "win%:50.00\n",
      "You won a Goat!\n",
      "played: 5\n",
      "won 2\n",
      "win%:40.00\n",
      "You won a Car!\n",
      "played: 6\n",
      "won 3\n",
      "win%:50.00\n",
      "Thanks for playing. Bye!\n"
     ]
    }
   ],
   "source": [
    "import random\n",
    "# interactive simulation\n",
    "welcome_message = \"Welcome to the Monty Hall Game!\\nSelect a lucky door out of three!\\nBeware, behind one door lies a car, while the other two doors conceal a goat\\nYou will have the option of switching your choice :)\"\n",
    "\n",
    "print(welcome_message)\n",
    "\n",
    "#stats\n",
    "plays = 0 \n",
    "wins = 0\n",
    "while True:\n",
    "    doors = ['Goat','Goat', 'Car']\n",
    "    random.shuffle(doors) # shuffle so that it's randomized\n",
    "    user_in = input(\"select one of the doors [0,1, or 2]. q to quit\")\n",
    "    valid_inputs = ['0','1','2']\n",
    "    if user_in.casefold() == 'q':\n",
    "        print(\"Thanks for playing. Bye!\")\n",
    "        break\n",
    "    while True: # keep user in this loop until they pick a valid door\n",
    "        if user_in.strip() in valid_inputs:\n",
    "            break\n",
    "        else:\n",
    "            user_in = input(\"invalid input! Select one of the doors [0,1, or 2]\")\n",
    "    # now the host needs to pick a door with a goat out of the remaining two doors\n",
    "    doors_index = [0,1,2]\n",
    "    # we need to remove the index with the car, and the user-selected index,...\n",
    "    # then sample randomly from the remaining indexes\n",
    "\n",
    "    # first remove car index because we don't want to reveal the car\n",
    "    index_with_prize = doors.index('Car')\n",
    "    doors_index.remove(index_with_prize)\n",
    "    # next, remove the user's choice too, because we do not want to show them what they picked\n",
    "    # note: if user has picked car, it's been removed in step 1    \n",
    "    if(not int(user_in) == index_with_prize):\n",
    "        doors_index.remove(int(user_in))\n",
    "\n",
    "    door_to_reveal = random.choice(doors_index) \n",
    "\n",
    "    switch_input = input(f\"You selected door {user_in}\\nThere's a goat behind door {door_to_reveal}.\\nWould you like to switch?\\ny:yes \\t n:no\")\n",
    "    valid_switch = ['y','n']\n",
    "    while True:\n",
    "        if switch_input.casefold().strip() in valid_switch:\n",
    "            break\n",
    "        else:\n",
    "            switch_input = input(f\"Invalid input!!\\nWould you like to switch?\\ny:yes \\t n:no\")\n",
    "    prize = ''\n",
    "    if switch_input.casefold().strip() == 'n':\n",
    "        prize = doors[int(user_in)]\n",
    "        print(f\"You won a {prize}!\")\n",
    "    else:\n",
    "        # we need the door that wasn't revealed and wasn't chosen by the user\n",
    "        # let's use set difference to find the remaining door\n",
    "        doors_to_avoid = {int(user_in), door_to_reveal}\n",
    "        all_doors = {0,1,2}\n",
    "        switched_choice = list(all_doors - doors_to_avoid)[0]\n",
    "        prize = doors[switched_choice]\n",
    "        print(f\"You won a {prize}!\")\n",
    "    #compute the stats\n",
    "    plays +=1\n",
    "    if prize == 'Car':\n",
    "        wins += 1\n",
    "    print(f\"played: {plays}\\nwon {wins}\\nwin%:{100*wins/plays:.2f}\")"
   ]
  },
  {
   "cell_type": "code",
   "execution_count": 5,
   "metadata": {},
   "outputs": [
    {
     "name": "stdout",
     "output_type": "stream",
     "text": [
      "1000000 runs without switch = 33.2809% win rate \n",
      "1000000 runs with switch = 66.6956% win rate \n"
     ]
    }
   ],
   "source": [
    "# Automating the simulation\n",
    "import random\n",
    "def monty_hall_simulation(num_trials, switch):\n",
    "    \"\"\"\n",
    "        Simulates the Monty Hall problem for the specified number of trials.\n",
    "        Parameters:\n",
    "        - num_trials (int): The number of trials to simulate.\n",
    "        - switch(bool): Whether to switch or not\n",
    "        Returns:\n",
    "        - wins (int)\n",
    "        - win_percentage (float)\n",
    "    \"\"\"\n",
    "    wins = 0\n",
    "    plays = 0\n",
    "    doors = ['Goat','Goat', 'Car']\n",
    "    for _ in range(num_trials):\n",
    "        random.shuffle(doors) # shuffle so that it's randomized\n",
    "        doors_index = [0,1,2]\n",
    "        initial_pick = random.choice(doors_index)        \n",
    "        # we need to remove the index with the car, and the user-selected index,...\n",
    "        # then sample randomly from the remaining indexes\n",
    "        index_with_prize = doors.index('Car')\n",
    "        doors_index.remove(index_with_prize)   \n",
    "        if(not initial_pick == index_with_prize):\n",
    "            doors_index.remove(initial_pick)\n",
    "        door_to_reveal = random.choice(doors_index)\n",
    "        prize = ''    \n",
    "        if switch:\n",
    "            new_pick = list({0,1,2} - {initial_pick,door_to_reveal})[0]\n",
    "            prize = doors[new_pick]\n",
    "        else:\n",
    "            prize = doors[initial_pick]\n",
    "        if(prize == 'Car'):\n",
    "            wins += 1\n",
    "        plays+=1\n",
    "    return wins, 100*wins/plays\n",
    "runs = 1000000\n",
    "wins, percentage = monty_hall_simulation(num_trials=runs,switch=False)\n",
    "print(f\"{runs} runs without switch = {percentage}% win rate \")\n",
    "\n",
    "wins, percentage = monty_hall_simulation(num_trials=runs,switch=True)\n",
    "print(f\"{runs} runs with switch = {percentage}% win rate \")\n",
    "\n"
   ]
  },
  {
   "cell_type": "markdown",
   "metadata": {},
   "source": [
    "# Listserv"
   ]
  },
  {
   "cell_type": "code",
   "execution_count": 1,
   "metadata": {},
   "outputs": [],
   "source": [
    "import random\n",
    "student_names_file = \"listserv_files/student_names.txt\"\n",
    "student_emails_file = 'student_emails.txt'\n",
    "# read the student names from file into a list\n",
    "with open(student_names_file, 'r') as f:\n",
    "    names = f.readlines()"
   ]
  },
  {
   "cell_type": "code",
   "execution_count": 2,
   "metadata": {},
   "outputs": [],
   "source": [
    "# debug: Look at the names\n",
    "# names"
   ]
  },
  {
   "cell_type": "code",
   "execution_count": 3,
   "metadata": {},
   "outputs": [
    {
     "name": "stdout",
     "output_type": "stream",
     "text": [
      "26\n",
      "25\n"
     ]
    }
   ],
   "source": [
    "# The first line is a header, so let's remove it from the list we've read in\n",
    "print(len(names))\n",
    "names = names[1:] # drop the first line\n",
    "print(len(names))"
   ]
  },
  {
   "cell_type": "code",
   "execution_count": 4,
   "metadata": {},
   "outputs": [],
   "source": [
    "# also, the names are tab separated('\\t'), and some middle names are dash separated ('-'), while some middle names might be space sperated (' ')\n",
    "# in addition, the names end with a new line (\\n)\n",
    "# we need to split on the \\t, strip the (\\n) and take care of all the special separators\n",
    "\n",
    "email_addresses = []\n",
    "for student_name in names:\n",
    "    email_address = ''\n",
    "    student_name = student_name.strip('\\n') # strip the \\n\n",
    "    name_list = student_name.split('\\t')[::-1] # split on the \\t and reverse\n",
    "    for name in name_list:\n",
    "        # we need to handle the special case where the middle name is separated by a space or a dash\n",
    "        if ' ' in name:\n",
    "            # print(f'spaced name: {name}') # debug\n",
    "            middle_name, last_name = name.split(' ')\n",
    "            email_address += middle_name[0].lower()+last_name[0].lower()\n",
    "        elif '-' in name:\n",
    "            # print(f'dashed name: {name}') # debug\n",
    "            middle_name, last_name = name.split('-')\n",
    "            email_address += middle_name[0].lower()+last_name[0].lower()\n",
    "            \n",
    "        else:\n",
    "            email_address += name[0].lower() # add first character to name      \n",
    "\n",
    "    # generate 5 digit random number\n",
    "    random_number =f'{random.randint(0,99999):0>5d}'\n",
    "    email_address = email_address + random_number + '@uga.edu\\n'\n",
    "    email_addresses.append(email_address)\n",
    "with open (student_emails_file, 'w') as f:\n",
    "    f.writelines(email_addresses)"
   ]
  },
  {
   "cell_type": "code",
   "execution_count": 3,
   "metadata": {},
   "outputs": [
    {
     "ename": "FileNotFoundError",
     "evalue": "[Errno 2] No such file or directory: 'listserv_files/email_template.txt'",
     "output_type": "error",
     "traceback": [
      "\u001b[0;31m---------------------------------------------------------------------------\u001b[0m",
      "\u001b[0;31mFileNotFoundError\u001b[0m                         Traceback (most recent call last)",
      "Cell \u001b[0;32mIn[3], line 8\u001b[0m\n\u001b[1;32m      6\u001b[0m athens_attractions_file \u001b[38;5;241m=\u001b[39m \u001b[38;5;124m'\u001b[39m\u001b[38;5;124mlistserv_files/athens_attractions.txt\u001b[39m\u001b[38;5;124m'\u001b[39m\n\u001b[1;32m      7\u001b[0m \u001b[38;5;66;03m#read the template from file into a string\u001b[39;00m\n\u001b[0;32m----> 8\u001b[0m \u001b[38;5;28;01mwith\u001b[39;00m \u001b[38;5;28;43mopen\u001b[39;49m\u001b[43m \u001b[49m\u001b[43m(\u001b[49m\u001b[43memail_template_file\u001b[49m\u001b[43m,\u001b[49m\u001b[43m \u001b[49m\u001b[38;5;124;43m'\u001b[39;49m\u001b[38;5;124;43mr\u001b[39;49m\u001b[38;5;124;43m'\u001b[39;49m\u001b[43m)\u001b[49m \u001b[38;5;28;01mas\u001b[39;00m file:\n\u001b[1;32m      9\u001b[0m     email_template \u001b[38;5;241m=\u001b[39m file\u001b[38;5;241m.\u001b[39mread()\n\u001b[1;32m     10\u001b[0m \u001b[38;5;66;03m# read the attractions from file into a list of strings\u001b[39;00m\n",
      "File \u001b[0;32m~/miniconda3/envs/info2000/lib/python3.9/site-packages/IPython/core/interactiveshell.py:286\u001b[0m, in \u001b[0;36m_modified_open\u001b[0;34m(file, *args, **kwargs)\u001b[0m\n\u001b[1;32m    279\u001b[0m \u001b[38;5;28;01mif\u001b[39;00m file \u001b[38;5;129;01min\u001b[39;00m {\u001b[38;5;241m0\u001b[39m, \u001b[38;5;241m1\u001b[39m, \u001b[38;5;241m2\u001b[39m}:\n\u001b[1;32m    280\u001b[0m     \u001b[38;5;28;01mraise\u001b[39;00m \u001b[38;5;167;01mValueError\u001b[39;00m(\n\u001b[1;32m    281\u001b[0m         \u001b[38;5;124mf\u001b[39m\u001b[38;5;124m\"\u001b[39m\u001b[38;5;124mIPython won\u001b[39m\u001b[38;5;124m'\u001b[39m\u001b[38;5;124mt let you open fd=\u001b[39m\u001b[38;5;132;01m{\u001b[39;00mfile\u001b[38;5;132;01m}\u001b[39;00m\u001b[38;5;124m by default \u001b[39m\u001b[38;5;124m\"\u001b[39m\n\u001b[1;32m    282\u001b[0m         \u001b[38;5;124m\"\u001b[39m\u001b[38;5;124mas it is likely to crash IPython. If you know what you are doing, \u001b[39m\u001b[38;5;124m\"\u001b[39m\n\u001b[1;32m    283\u001b[0m         \u001b[38;5;124m\"\u001b[39m\u001b[38;5;124myou can use builtins\u001b[39m\u001b[38;5;124m'\u001b[39m\u001b[38;5;124m open.\u001b[39m\u001b[38;5;124m\"\u001b[39m\n\u001b[1;32m    284\u001b[0m     )\n\u001b[0;32m--> 286\u001b[0m \u001b[38;5;28;01mreturn\u001b[39;00m \u001b[43mio_open\u001b[49m\u001b[43m(\u001b[49m\u001b[43mfile\u001b[49m\u001b[43m,\u001b[49m\u001b[43m \u001b[49m\u001b[38;5;241;43m*\u001b[39;49m\u001b[43margs\u001b[49m\u001b[43m,\u001b[49m\u001b[43m \u001b[49m\u001b[38;5;241;43m*\u001b[39;49m\u001b[38;5;241;43m*\u001b[39;49m\u001b[43mkwargs\u001b[49m\u001b[43m)\u001b[49m\n",
      "\u001b[0;31mFileNotFoundError\u001b[0m: [Errno 2] No such file or directory: 'listserv_files/email_template.txt'"
     ]
    }
   ],
   "source": [
    "#create an email for each student\n",
    "sender = 'Jere Morehead'\n",
    "sender_title = 'UGA President'\n",
    "email_template_file = 'listserv_files/email_template.txt'\n",
    "completed_emails_file = 'completed_emails.txt'\n",
    "athens_attractions_file = 'listserv_files/athens_attractions.txt'\n",
    "#read the template from file into a string\n",
    "with open (email_template_file, 'r') as file:\n",
    "    email_template = file.read()\n",
    "# read the attractions from file into a list of strings\n",
    "with open (athens_attractions_file, 'r') as file:\n",
    "    athens_attractions = file.readlines()\n",
    "with open (completed_emails_file, 'a') as file:\n",
    "    for name in names:\n",
    "        #pick 3 attractions at random\n",
    "        attractions = random.sample(athens_attractions,3)\n",
    "        name = name.strip('\\n') # strip the \\t\n",
    "        name_list = name.split('\\t') # split on the \\t\n",
    "        last_name = name_list[0]\n",
    "        first_name = name_list[-1]\n",
    "        email_body = email_template.replace(\"[first_name]\",first_name)\n",
    "        email_body = email_body.replace(\"[last_name]\",last_name)\n",
    "        email_body = email_body.replace(\"[from_sender]\",sender)\n",
    "        email_body = email_body.replace(\"[sender_title]\",sender_title)\n",
    "        email_body = email_body.replace(\"[attraction1]\", attractions[0])\n",
    "        email_body = email_body.replace(\"[attraction2]\", attractions[1])\n",
    "        email_body = email_body.replace(\"[attraction3]\", attractions[2])\n",
    "        file.write(email_body +\"\\n\\n\")\n",
    "# print (email_body) # debug"
   ]
  },
  {
   "cell_type": "code",
   "execution_count": null,
   "metadata": {},
   "outputs": [],
   "source": []
  }
 ],
 "metadata": {
  "kernelspec": {
   "display_name": "info2000",
   "language": "python",
   "name": "python3"
  },
  "language_info": {
   "codemirror_mode": {
    "name": "ipython",
    "version": 3
   },
   "file_extension": ".py",
   "mimetype": "text/x-python",
   "name": "python",
   "nbconvert_exporter": "python",
   "pygments_lexer": "ipython3",
   "version": "3.9.18"
  }
 },
 "nbformat": 4,
 "nbformat_minor": 2
}
