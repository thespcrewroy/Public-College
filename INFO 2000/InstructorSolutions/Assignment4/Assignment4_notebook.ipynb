{
 "cells": [
  {
   "cell_type": "markdown",
   "id": "10a53bc7-c984-44f3-a3e6-1a4dd8c04f3e",
   "metadata": {},
   "source": [
    "## Andrew Rukangu\n",
    "## Assignment 4: Datatypes, Operators, Variables and Lists\n",
    "### INFO2000"
   ]
  },
  {
   "cell_type": "markdown",
   "id": "287eacff-64ec-4d6c-846a-c4bd09e68763",
   "metadata": {},
   "source": [
    "**Example**"
   ]
  },
  {
   "cell_type": "code",
   "execution_count": 10,
   "id": "e0e16bc5-9d54-4d9c-a905-bc750089d380",
   "metadata": {},
   "outputs": [
    {
     "name": "stdout",
     "output_type": "stream",
     "text": [
      "The sum of 22.0 + 18.0 = 40.0\n"
     ]
    }
   ],
   "source": [
    "num1 = float(input(\"Enter first number: \"))\n",
    "num2 = float(input(\"Enter second number: \"))\n",
    "total = num1 + num2\n",
    "print(f\"The sum of {num1} + {num2} = {total}\")"
   ]
  },
  {
   "cell_type": "markdown",
   "id": "71576ae3-0ff3-4c14-937f-5674defdb5d5",
   "metadata": {},
   "source": [
    "## Datatypes and Variables\n",
    "1. Assign 18, ”numbers”, and 12.5 to three variables and print their datatypes\n",
    "2. Use formatted printing to print out: ” 18 and 12.5 are numbers”\n",
    "3. For the above variables cast the float to integer, the string to bool, and the integer to string.\n",
    "4. Compare ’games’ and ’Games’ using the equality operator to see if they are equal and print out the\n",
    "boolean result of the comparison with a helpful message.\n",
    "5. In a new cell, perform the following assignment, name = Einstein. Why doesn’t it work? Add a\n",
    "comment in your code explaining why."
   ]
  },
  {
   "cell_type": "code",
   "execution_count": 11,
   "id": "41632aa9-e93a-4909-9069-fde4ab24a4ac",
   "metadata": {},
   "outputs": [
    {
     "name": "stdout",
     "output_type": "stream",
     "text": [
      "18 is an <class 'int'>, 'numbers' is a <class 'str'>, and 12.5 is a <class 'int'>\n",
      "\n",
      "Another way to print it is: 18 is an int, 'numbers' is a str, and 12.5 is a float\n"
     ]
    }
   ],
   "source": [
    "#1 \n",
    "num1 = 18\n",
    "str1 = 'numbers'\n",
    "num2 = 12.5\n",
    "\n",
    "print(f\"{num1} is an {type(num1)}, '{str1}' is a {type(str1)}, and {num2} is a {type(num1)}\\n\")\n",
    "print(f\"Another way to print it is: {num1} is an {type(num1).__name__}, '{str1}' is a {type(str1).__name__}, and {num2} is a {type(num2).__name__}\")"
   ]
  },
  {
   "cell_type": "code",
   "execution_count": 12,
   "id": "b4723871-f325-4479-b0b3-643db48b1ad5",
   "metadata": {},
   "outputs": [
    {
     "name": "stdout",
     "output_type": "stream",
     "text": [
      "18 and 12.5 are numbers\n"
     ]
    }
   ],
   "source": [
    "#2\n",
    "print(f\"{num1} and {num2} are {str1}\")"
   ]
  },
  {
   "cell_type": "code",
   "execution_count": 13,
   "id": "d9bffcf3-a10c-4776-8b56-58e678e1b60f",
   "metadata": {},
   "outputs": [
    {
     "name": "stdout",
     "output_type": "stream",
     "text": [
      "18 is now a str, 12 is now an int, and True is now a bool\n"
     ]
    }
   ],
   "source": [
    "#3 \n",
    "num2 = int(num2) # float to integer\n",
    "str1 = bool(str1) # string to bool\n",
    "num1 = str(num1) # integer to string\n",
    "print(f\"{num1} is now a {type(num1).__name__}, {num2} is now an {type(num2).__name__}, and {str1} is now a {type(str1).__name__}\")"
   ]
  },
  {
   "cell_type": "code",
   "execution_count": 14,
   "id": "855e1afe-3a5d-4764-9e8d-1596644e0c98",
   "metadata": {},
   "outputs": [
    {
     "name": "stdout",
     "output_type": "stream",
     "text": [
      "Performing the comparison 'Games' == 'games' yields False, because they are not equal\n"
     ]
    }
   ],
   "source": [
    "#4 \n",
    "print(f\"Performing the comparison 'Games' == 'games' yields {'Games' == 'games'}, because they are not equal\")"
   ]
  },
  {
   "cell_type": "code",
   "execution_count": 1,
   "id": "0c838591-9319-4e46-ad9c-02fffea398b0",
   "metadata": {},
   "outputs": [
    {
     "ename": "NameError",
     "evalue": "name 'Einstein' is not defined",
     "output_type": "error",
     "traceback": [
      "\u001b[1;31m---------------------------------------------------------------------------\u001b[0m",
      "\u001b[1;31mNameError\u001b[0m                                 Traceback (most recent call last)",
      "Cell \u001b[1;32mIn[1], line 2\u001b[0m\n\u001b[0;32m      1\u001b[0m \u001b[38;5;66;03m#5 \u001b[39;00m\n\u001b[1;32m----> 2\u001b[0m name \u001b[38;5;241m=\u001b[39m \u001b[43mEinstein\u001b[49m\n",
      "\u001b[1;31mNameError\u001b[0m: name 'Einstein' is not defined"
     ]
    }
   ],
   "source": [
    "#5 \n",
    "name = Einstein\n",
    "\n",
    "# This doesn't work because the there is no variable named Einstein. We are telling the computer to go fetch the value in a location called Einstein, but we haven't defined it yet!\n",
    "\n",
    "\n"
   ]
  },
  {
   "cell_type": "markdown",
   "id": "43a08aab-eaaa-4704-823f-fd9ad6c43bc8",
   "metadata": {},
   "source": [
    "**two ways to fix this:**"
   ]
  },
  {
   "cell_type": "code",
   "execution_count": 2,
   "id": "774101f9-7bc7-427c-89a4-25c3ac57579c",
   "metadata": {},
   "outputs": [
    {
     "name": "stdout",
     "output_type": "stream",
     "text": [
      "Einstein\n"
     ]
    }
   ],
   "source": [
    "#a: create a string and assign it to the variable name\n",
    "name = 'Einstein'\n",
    "print(name)\n"
   ]
  },
  {
   "cell_type": "code",
   "execution_count": 4,
   "id": "113d3639",
   "metadata": {},
   "outputs": [
    {
     "name": "stdout",
     "output_type": "stream",
     "text": [
      "A brilliant physicist\n"
     ]
    }
   ],
   "source": [
    "#b: first create a variable called HarryPotter and give it a value,\n",
    "Einstein = \"A brilliant physicist\" # or HarryPotter = 15, or HarryPotter = complex(2,3) or HarryPotter = \"Harry Potter\" etc.\n",
    "# then perform the assignment: \n",
    "name = Einstein \n",
    "print(name)"
   ]
  },
  {
   "cell_type": "markdown",
   "id": "2155eaa3-726f-4a3d-8616-7a3a299d1f2b",
   "metadata": {},
   "source": [
    "## Math Operators\n",
    "1. Assign e = 2.71828, x = 2, y = 1.5 and z = 4. Without using the math library, calculate the following:\n",
    "    - $\\frac{\\sqrt{z}}{y} + x$\n",
    "    - $(x + y)^2$\n",
    "    - $e^{(-2x(y+x))}$\n",
    "\n",
    "2. The Body Mass Index or BMI is calculated using the following formula: BMI = (Weight in Kilograms /\n",
    "(Height in Meters x Height in Meters)). Write a program that asks the user for their height in inches, and\n",
    "weight in pounds and prints out their BMI. Note, you will need to convert the inputs into metric units.\n",
    "3. Write a program that asks the user for the coefficients (a,b, and c) of a quadratic equation and computes\n",
    "and prints out the root (x) using the quadratic formula: $ax^2+bx+c=0 \\implies x=\\frac{-b \\pm \\sqrt{b^2-4ac}}{2a}$"
   ]
  },
  {
   "cell_type": "code",
   "execution_count": 5,
   "id": "cc50e584-576b-4bdd-8ae3-b4d4d530dc43",
   "metadata": {},
   "outputs": [],
   "source": [
    "#1\n",
    "#Assigning the variables\n",
    "e = 2.71828\n",
    "x = 2\n",
    "y = 1.5\n",
    "z = 4"
   ]
  },
  {
   "cell_type": "markdown",
   "id": "37a0f337",
   "metadata": {},
   "source": [
    "$\\frac{\\sqrt{z}}{y} + x$"
   ]
  },
  {
   "cell_type": "code",
   "execution_count": 6,
   "id": "70b024ee-7522-4e35-a53e-3cc8d80f2c00",
   "metadata": {},
   "outputs": [
    {
     "name": "stdout",
     "output_type": "stream",
     "text": [
      "3.333333333333333\n"
     ]
    }
   ],
   "source": [
    "#a \n",
    "result = ((z**0.5)/y) + x\n",
    "print(result)"
   ]
  },
  {
   "cell_type": "markdown",
   "id": "6c7d8db7",
   "metadata": {},
   "source": [
    "$(x + y)^2$"
   ]
  },
  {
   "cell_type": "code",
   "execution_count": 7,
   "id": "9940bf9f-8b82-481e-84f1-d1d312979396",
   "metadata": {},
   "outputs": [
    {
     "name": "stdout",
     "output_type": "stream",
     "text": [
      "12.25\n"
     ]
    }
   ],
   "source": [
    "#b \n",
    "result = (x + y)**2\n",
    "print(result)"
   ]
  },
  {
   "cell_type": "markdown",
   "id": "41e7fb0d",
   "metadata": {},
   "source": [
    "$e^{(-2x(y+x))}$"
   ]
  },
  {
   "cell_type": "code",
   "execution_count": 8,
   "id": "84431f20-8993-44ac-8d6c-985ecc47b42b",
   "metadata": {},
   "outputs": [
    {
     "name": "stdout",
     "output_type": "stream",
     "text": [
      "8.315365497611809e-07\n"
     ]
    }
   ],
   "source": [
    "#c \n",
    "result = e**(-2*x*(y+x))\n",
    "print(result)"
   ]
  },
  {
   "cell_type": "markdown",
   "id": "42199073",
   "metadata": {},
   "source": [
    "## BMI"
   ]
  },
  {
   "cell_type": "code",
   "execution_count": null,
   "id": "7186a05e",
   "metadata": {},
   "outputs": [
    {
     "name": "stdout",
     "output_type": "stream",
     "text": [
      "You weigh 63.50288 kg and your height is 1.6764 m. Therefore your BMI is 22.59634087679562\n"
     ]
    }
   ],
   "source": [
    "#2\n",
    "in_to_m = 0.0254\n",
    "lb_to_kg = 0.453592\n",
    "height = in_to_m * float(input(\"Enter your height in inches\"))\n",
    "weight = lb_to_kg * float(input(\"Enter weight in pounds\"))\n",
    "print(f\"You weigh {weight} kg and your height is {height} m. Therefore your BMI is {weight/(height**2)}\")"
   ]
  },
  {
   "cell_type": "markdown",
   "id": "85c3f1d5",
   "metadata": {},
   "source": [
    "$ax^2+bx+c=0 \\implies x=\\frac{-b \\pm \\sqrt{b^2-4ac}}{2a}$"
   ]
  },
  {
   "cell_type": "code",
   "execution_count": null,
   "id": "b94d10d9-38ac-48fc-a6a2-529a87e1b9d4",
   "metadata": {},
   "outputs": [
    {
     "name": "stdout",
     "output_type": "stream",
     "text": [
      "x = 3.0 or 3.0\n"
     ]
    }
   ],
   "source": [
    "#3\n",
    "# get the inputs from the user:\n",
    "a = float(input(\"Enter a: \"))\n",
    "b = float(input(\"Enter b: \"))\n",
    "c = float(input(\"Enter c: \"))\n",
    "numerator1 = -b + (b**2 - (4*a*c))**0.5\n",
    "numerator2 = -b - (b**2 - (4*a*c))**0.5\n",
    "solution1 = numerator1/(2 *a)\n",
    "solution2 = numerator2/(2 *a)\n",
    "print(f\"x = {solution1} or {solution2}\")"
   ]
  },
  {
   "cell_type": "markdown",
   "id": "3a7ce3ca-c4d9-41fe-8ba1-b7224e39b7c1",
   "metadata": {},
   "source": [
    "## Lists\n",
    "Create a list with 10 numbers, in no particular order, and assign it to a variable, my list.\n",
    "1. store the 1st and 6th elements of my list to two variables, x and y. Add x and y, and find their square root.\n",
    "2. create an empty list and call it list 2. Add x, y, and the result of the summation and square root in (1)\n",
    "above to list 2.\n",
    "3. reverse the order of list 2 and print it\n",
    "4. print all the elements of my list except the last element\n",
    "5. extract the values in the odd-numbered indexes of my list (i.e. my list[1], my list[3] etc.) and put them\n",
    "in a new list, named odd indexed list. print the result\n",
    "6. sort odd indexed list in ascending order and print the result.\n",
    "7. extend odd indexed list by adding 3 more numbers to it and print the resulting list and its length.\n",
    "8. delete my list"
   ]
  },
  {
   "cell_type": "code",
   "execution_count": null,
   "id": "3cf3af18-723b-4226-b2bb-5a40a74c8f16",
   "metadata": {},
   "outputs": [
    {
     "name": "stdout",
     "output_type": "stream",
     "text": [
      "The square root of 2 + 23 is 5.0\n"
     ]
    }
   ],
   "source": [
    "# creating the list\n",
    "my_list = [2,4,67,32,-4,23,13,78,-54, 22]\n",
    "\n",
    "#1 sum and square root\n",
    "x = my_list[0]\n",
    "y = my_list[5]\n",
    "print(f\"The square root of {x} + {y} is {(x+y)**0.5}\")"
   ]
  },
  {
   "cell_type": "code",
   "execution_count": null,
   "id": "6347a3e9-5514-47ce-b01a-b3d4192ebb2a",
   "metadata": {},
   "outputs": [
    {
     "name": "stdout",
     "output_type": "stream",
     "text": [
      "original list: [2, 23, 5.0], reversed list: [5.0, 23, 2]\n"
     ]
    }
   ],
   "source": [
    "#2 appending\n",
    "list_2 = []\n",
    "list_2.append(x)\n",
    "list_2.append(y)\n",
    "list_2.append((x+y)**0.5)\n",
    "#3\n",
    "print(f\"original list: {list_2}, reversed list: {list_2[::-1]}\")"
   ]
  },
  {
   "cell_type": "code",
   "execution_count": null,
   "id": "5d2bcc82-fd28-419b-82ff-70ca095c3ac7",
   "metadata": {},
   "outputs": [
    {
     "name": "stdout",
     "output_type": "stream",
     "text": [
      "my_list: [2, 4, 67, 32, -4, 23, 13, 78, -54, 22], my_list without last element: [2, 4, 67, 32, -4, 23, 13, 78, -54]\n"
     ]
    }
   ],
   "source": [
    "#4 \n",
    "print(f\"my_list: {my_list}, my_list without last element: {my_list[:-1]}\")"
   ]
  },
  {
   "cell_type": "code",
   "execution_count": null,
   "id": "aa7d5df7-e7a0-48d3-b681-b4aa04d2a0a7",
   "metadata": {},
   "outputs": [
    {
     "name": "stdout",
     "output_type": "stream",
     "text": [
      "values in the odd-numbered indeces of my_list: [4, 32, 23, 78, 22]\n"
     ]
    }
   ],
   "source": [
    "#5 odd-indeces\n",
    "odd_indexed_list = my_list[1::2]\n",
    "print(f\"values in the odd-numbered indeces of my_list: {odd_indexed_list}\")"
   ]
  },
  {
   "cell_type": "code",
   "execution_count": null,
   "id": "6a2e789a-5600-4917-afa8-d480dfecabfc",
   "metadata": {},
   "outputs": [
    {
     "name": "stdout",
     "output_type": "stream",
     "text": [
      "odd-indexed-list sorted in ascending order: [4, 22, 23, 32, 78]\n"
     ]
    }
   ],
   "source": [
    "#6 sorting\n",
    "print(f\"odd-indexed-list sorted in ascending order: {sorted(odd_indexed_list, reverse = False)}\")"
   ]
  },
  {
   "cell_type": "code",
   "execution_count": null,
   "id": "dfafc95b-f46f-45d2-956b-df4b4638bd0e",
   "metadata": {},
   "outputs": [
    {
     "name": "stdout",
     "output_type": "stream",
     "text": [
      "Extended list: [4, 32, 23, 78, 22, 100, 1000, 10000]\n"
     ]
    }
   ],
   "source": [
    "#7 extending\n",
    "odd_indexed_list.extend([100,1000,10000])\n",
    "print(f\"Extended list: {odd_indexed_list}\")"
   ]
  },
  {
   "cell_type": "code",
   "execution_count": null,
   "id": "a22cff3a-9574-4e40-8766-2a78fbfc0da0",
   "metadata": {},
   "outputs": [],
   "source": [
    "#8 deleting \n",
    "del my_list"
   ]
  },
  {
   "cell_type": "code",
   "execution_count": null,
   "id": "48b44907-8571-4533-9b70-ce92ee812bf6",
   "metadata": {},
   "outputs": [
    {
     "ename": "NameError",
     "evalue": "name 'my_list' is not defined",
     "output_type": "error",
     "traceback": [
      "\u001b[1;31m---------------------------------------------------------------------------\u001b[0m",
      "\u001b[1;31mNameError\u001b[0m                                 Traceback (most recent call last)",
      "Cell \u001b[1;32mIn[26], line 1\u001b[0m\n\u001b[1;32m----> 1\u001b[0m my_list\n",
      "\u001b[1;31mNameError\u001b[0m: name 'my_list' is not defined"
     ]
    }
   ],
   "source": [
    "my_list"
   ]
  },
  {
   "cell_type": "markdown",
   "id": "521a86ea-37ac-4073-85ed-497cd86dd3d1",
   "metadata": {},
   "source": [
    "## 4 Random Library\n",
    "Import the random library using ‘import random’\n",
    "1. Create a list of 10 types of pizza toppings and use the random.sample() function to randomly select 3\n",
    "types to order as a pizza tonight. Print the pizza toppings.\n",
    "2. Create a list of 5 local restaurants with their pricing (e.g. last resort grill: \\$\\$, restaurant2: \\$\\$, restautrant3: \\$, etc), and use the random.shuffle() function to randomly select one to go to for dinner tonight. Print the selected restaurant with a helpful message.\n",
    "3. Create a list of 10 outdoor activities (e.g., soccer, hiking, biking, kayaking), and use the random.choice()\n",
    "function to randomly select one activity to do this weekend."
   ]
  },
  {
   "cell_type": "code",
   "execution_count": 21,
   "id": "83d4e7e3-8a71-4122-b55e-fc68136d1ce6",
   "metadata": {},
   "outputs": [],
   "source": [
    "import random"
   ]
  },
  {
   "cell_type": "code",
   "execution_count": 22,
   "id": "bdd6d7a8-3bd7-4c22-adc2-917d85ab8e36",
   "metadata": {},
   "outputs": [
    {
     "name": "stdout",
     "output_type": "stream",
     "text": [
      "Order a ['chicken', 'extra cheese', 'pineapple'] pizza tonight\n"
     ]
    }
   ],
   "source": [
    "#1 pizza\n",
    "pizza_toppings = ['beef','chicken','mushrooms','tomatoes','pineapple','pepperoni','onions','garlic','anchovies','extra cheese']\n",
    "print(f\"Order a {random.sample(pizza_toppings,3)} pizza tonight\")"
   ]
  },
  {
   "cell_type": "code",
   "execution_count": 24,
   "id": "f05930dd-57dd-411c-b237-8c37deeb11e1",
   "metadata": {},
   "outputs": [
    {
     "name": "stdout",
     "output_type": "stream",
     "text": [
      "Let's go to Cali N Titos: $ for dinner tonight!\n"
     ]
    }
   ],
   "source": [
    "#2 local restaurants\n",
    "#create the list manually\n",
    "restaurant_list = ['Cali N Titos: $', \"George's Lowcountry Table: $$\", 'South Kitchen + Bar: $$', 'Five and Ten: $$$', 'Marker seven Coastal Grill: $$',\n",
    "'The Expat: $$', 'The Place: $$', 'Taste of India: $$', 'The Royal Peasant: $$', 'Porterhouse Grill: $$$']\n",
    "random.shuffle(restaurant_list)\n",
    "# list has been shuffled in place so any selection is going to be random\n",
    "print(f\"Let's go to {restaurant_list[0]} for dinner tonight!\")"
   ]
  },
  {
   "cell_type": "code",
   "execution_count": 25,
   "id": "6fc17a7b",
   "metadata": {},
   "outputs": [
    {
     "name": "stdout",
     "output_type": "stream",
     "text": [
      "Let's go running this weekend!\n"
     ]
    }
   ],
   "source": [
    "# outdoor activities\n",
    "activities = ['soccer', 'hiking', 'biking', 'kayaking', 'walking', 'running', 'golfing', 'skiing','ice-skating', 'rock-climbing']\n",
    "print(f\"Let's go {random.choice(activities)} this weekend!\")"
   ]
  }
 ],
 "metadata": {
  "kernelspec": {
   "display_name": "Python 3 (ipykernel)",
   "language": "python",
   "name": "python3"
  },
  "language_info": {
   "codemirror_mode": {
    "name": "ipython",
    "version": 3
   },
   "file_extension": ".py",
   "mimetype": "text/x-python",
   "name": "python",
   "nbconvert_exporter": "python",
   "pygments_lexer": "ipython3",
   "version": "3.9.16"
  },
  "vscode": {
   "interpreter": {
    "hash": "60f0f795f07f7aa19765fea307adca417ceedcaaa24e4a6c659dc8332ac2aa26"
   }
  }
 },
 "nbformat": 4,
 "nbformat_minor": 5
}
