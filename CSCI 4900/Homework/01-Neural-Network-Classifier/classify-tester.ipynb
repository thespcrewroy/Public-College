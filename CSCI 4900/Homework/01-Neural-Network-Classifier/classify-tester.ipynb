{
 "cells": [
  {
   "cell_type": "code",
   "execution_count": 52,
   "metadata": {},
   "outputs": [],
   "source": [
    "'''Import standard data sceince libraries'''\n",
    "import os # used for file handling\n",
    "from matplotlib import pyplot as plt # used for plotting graphs\n",
    "import numpy as np # used for numerical computing\n",
    "\n",
    "'''Import image processing libraries'''\n",
    "from PIL import Image # used for image processing\n",
    "\n",
    "'''Import Torch Libraries'''\n",
    "import torch # Pytorch\n",
    "import torchvision.datasets as datasets # Import the datasets from torchvision for training and testing\n",
    "import torchvision.transforms as transforms # used for transforming image\n",
    "import torch.nn as nn # Pytorch Neural Network class\n",
    "import torch.optim as optim # Pytorch Optimizer\n",
    "from torchsummary import summary # used to get the model summary"
   ]
  },
  {
   "cell_type": "code",
   "execution_count": 36,
   "metadata": {},
   "outputs": [
    {
     "data": {
      "text/plain": [
       "<torch._C.Generator at 0x1112940d0>"
      ]
     },
     "execution_count": 36,
     "metadata": {},
     "output_type": "execute_result"
    }
   ],
   "source": [
    "'''Set manual seed for the torch randomly generated parameters to have same values'''\n",
    "torch.manual_seed(42) # So that weights are always initialized to some particular random value"
   ]
  },
  {
   "cell_type": "code",
   "execution_count": 37,
   "metadata": {},
   "outputs": [],
   "source": [
    "'''Check if CPU or GPU is available'''\n",
    "device = 'cuda' if torch.cuda.is_available() else 'cpu' # set the device to GPU is available else CPU"
   ]
  },
  {
   "cell_type": "code",
   "execution_count": 30,
   "metadata": {},
   "outputs": [],
   "source": [
    "'''Create a folder for saved models if it doesn't exist'''\n",
    "if not os.path.exists('model'): # if the folder doesn't exist\n",
    "    os.makedirs('model') # create the folder"
   ]
  },
  {
   "cell_type": "code",
   "execution_count": 31,
   "metadata": {},
   "outputs": [],
   "source": [
    "'''\n",
    "Specify transforms using torchvision.transforms as transforms\n",
    "# One of the methods of normalizing the data from the world of statistics is (x - x.mean()) / x.std()) (F-score)\n",
    "'''\n",
    "\n",
    "train_transformations = transforms.Compose([ # Compose is used to chain multiple transformations together\n",
    "    transforms.ToTensor(), # Convert the image to a tensor\n",
    "    transforms.Normalize(mean=[0.4914, 0.4822, 0.4465], std=[0.2023, 0.1994, 0.2010]) # Normalize the image\n",
    "]) # The mean and standard deviation values are the values for the CIFAR-10 dataset\n",
    "\n",
    "test_transformations = transforms.Compose([ # Compose is used to chain multiple transformations together\n",
    "    transforms.ToTensor(), # Convert the image to a tensor\n",
    "    transforms.Normalize(mean=[0.4914, 0.4822, 0.4465], std=[0.2023, 0.1994, 0.2010]) # Normalize the image\n",
    "]) # The mean and standard deviation values are the values for the CIFAR-10 dataset"
   ]
  },
  {
   "cell_type": "code",
   "execution_count": 35,
   "metadata": {},
   "outputs": [
    {
     "name": "stdout",
     "output_type": "stream",
     "text": [
      "Files already downloaded and verified\n",
      "Classes in data:\n",
      "['airplane', 'automobile', 'bird', 'cat', 'deer', 'dog', 'frog', 'horse', 'ship', 'truck']\n",
      "\n",
      "Length of Test Set: 10000\n"
     ]
    }
   ],
   "source": [
    "'''----------------- prepare training data -----------------------'''\n",
    "train_set = datasets.CIFAR10(\n",
    "    root='./data.cifar10',                          # location of the dataset\n",
    "    train=True,                                     # this is training data\n",
    "    transform=train_transformations,                # Converts a PIL.Image or numpy.ndarray to torch.FloatTensor of shape (C x H x W)\n",
    "    download=True                                   # if you haven't had the dataset, this will automatically download it for you\n",
    ") # CIFAR-10 dataset (60,000 32x32 colour images in 10 classes, with 6,000 images per class\n",
    "\n",
    "'''----------------- prepare testing data -----------------------'''\n",
    "test_set = datasets.CIFAR10(\n",
    "    root='./data.cifar10/',                         # location of the dataset\n",
    "    train=False,                                    # this is testing data\n",
    "    transform=test_transformations,                 # Converts a PIL.Image or numpy.ndarray to torch.FloatTensor of shape (C x H x W)\n",
    ") # CIFAR-10 dataset (60,000 32x32 colour images in 10 classes, with 6,000 images per class\n",
    "\n",
    "# Print the classes in the train set and length of test set\n",
    "print(f\"Classes in data:\\n{train_set.classes}\\n\\nLength of Test Set: {len(test_set)}\")"
   ]
  },
  {
   "cell_type": "code",
   "execution_count": null,
   "metadata": {},
   "outputs": [],
   "source": [
    "'''Load datasets into Dataloader using torch library'''\n",
    "train_loader = torch.utils.data.DataLoader(train_set, batch_size=64,shuffle=True) # Load the training data\n",
    "test_loader = torch.utils.data.DataLoader(test_set, batch_size =64,shuffle=False) # Load the testing data"
   ]
  },
  {
   "cell_type": "code",
   "execution_count": 39,
   "metadata": {},
   "outputs": [
    {
     "name": "stdout",
     "output_type": "stream",
     "text": [
      "torch.Size([64, 3, 32, 32]) torch.Size([64])\n",
      "torch.Size([64, 3, 32, 32]) torch.Size([64])\n"
     ]
    }
   ],
   "source": [
    "'''Check if the mini batch is being loaded everytime we call train loader'''\n",
    "for l in range(2):\n",
    "    img,lab = next(iter(train_loader))\n",
    "    print(img.size(),lab.size())"
   ]
  },
  {
   "cell_type": "code",
   "execution_count": 45,
   "metadata": {},
   "outputs": [],
   "source": [
    "'''----------------- build the model ------------------------'''\n",
    "class SwapNet(nn.Module):\n",
    "    def __init__(self):\n",
    "        super(SwapNet, self).__init__()\n",
    "        self.fc1 = nn.Linear(3 * 32 * 32, 512) # 3*32*32 = 3072 (flattened image)\n",
    "        self.fc2 = nn.Linear(512, 256) # 512 input features, 256 output features\n",
    "        self.fc3 = nn.Linear(256, 10) # 256 input features, 10 output features (for 10 classes)\n",
    "        self.drop = nn.Dropout(0.2) # Dropout layer with 20% probability\n",
    "        self.relu = nn.ReLU() # ReLU activation function\n",
    "\n",
    "    def forward(self, x):\n",
    "        x = x.view(x.size(0), -1) # Flatten the CIFAR-10 image (3x32x32 -> 3072)\n",
    "        \n",
    "        # First fully connected layer + ReLU + dropout\n",
    "        x = self.fc1(x) # Fully connected\n",
    "        x = self.relu(x) # ReLU\n",
    "        x = self.drop(x) # Dropout\n",
    "        \n",
    "        # Second fully connected layer + ReLU + dropout\n",
    "        x = self.fc2(x) # Fully connected\n",
    "        x = self.relu(x) # ReLU\n",
    "        x = self.drop(x) # Dropout\n",
    "        \n",
    "        # Output layer (logits for 10 classes; no activation here because CrossEntropyLoss applies softmax internally)\n",
    "        x = self.fc3(x) # Fully connected\n",
    "        return x"
   ]
  },
  {
   "cell_type": "code",
   "execution_count": 47,
   "metadata": {},
   "outputs": [
    {
     "name": "stdout",
     "output_type": "stream",
     "text": [
      "----------------------------------------------------------------\n",
      "        Layer (type)               Output Shape         Param #\n",
      "================================================================\n",
      "            Linear-1                  [-1, 512]       1,573,376\n",
      "              ReLU-2                  [-1, 512]               0\n",
      "           Dropout-3                  [-1, 512]               0\n",
      "            Linear-4                  [-1, 256]         131,328\n",
      "              ReLU-5                  [-1, 256]               0\n",
      "           Dropout-6                  [-1, 256]               0\n",
      "            Linear-7                   [-1, 10]           2,570\n",
      "================================================================\n",
      "Total params: 1,707,274\n",
      "Trainable params: 1,707,274\n",
      "Non-trainable params: 0\n",
      "----------------------------------------------------------------\n",
      "Input size (MB): 0.01\n",
      "Forward/backward pass size (MB): 0.02\n",
      "Params size (MB): 6.51\n",
      "Estimated Total Size (MB): 6.54\n",
      "----------------------------------------------------------------\n"
     ]
    }
   ],
   "source": [
    "'''\n",
    "Model Summary: Tells you how you built the model:\n",
    "    * the number of parameters in the model\n",
    "    * the weights in every convolutional layer that need to get trained in the fully connected layers\n",
    "    * tells use that there are 6.58 million weights that need to be trained when we train the model\n",
    "'''\n",
    "model = SwapNet().to(device) # Create an instance of the model and send it to the device\n",
    "summary(model, input_size=(3, 32, 32)) # Print the model summary\n"
   ]
  },
  {
   "cell_type": "code",
   "execution_count": 48,
   "metadata": {},
   "outputs": [],
   "source": [
    "n_epoch = 30 # Number of epochs\n",
    "lr = 0.001 # Learning rate\n",
    "optimizer = optim.Adam(model.parameters(),lr = lr) # Adam optimizer is used\n",
    "loss_fn = nn.CrossEntropyLoss() # CrossEntropyLoss is used for multi-class classification as a loss function   "
   ]
  },
  {
   "cell_type": "code",
   "execution_count": null,
   "metadata": {},
   "outputs": [],
   "source": [
    "'''Containers for storing data'''\n",
    "\n",
    "train_correct = 0 # Number of correct predictions in training set\n",
    "train_samples = 0 # Number of samples in training set\n",
    "test_correct = 0 # Number of correct predictions in testing set\n",
    "test_samples = 0 # Number of samples in testing set\n",
    "\n",
    "train_losses = [] # List to store training losses\n",
    "test_losses = [] # List to store testing losses"
   ]
  },
  {
   "cell_type": "code",
   "execution_count": null,
   "metadata": {},
   "outputs": [
    {
     "name": "stdout",
     "output_type": "stream",
     "text": [
      "Epoch:0 Train Loss:1.4152134656906128 Accuracy: 37.76% Test Loss: 1.5495151281356812 TestAccuracy: 43.42%\n",
      "Epoch:1 Train Loss:1.6318811178207397 Accuracy: 40.43% Test Loss: 1.66453218460083 TestAccuracy: 44.65%\n",
      "Epoch:2 Train Loss:1.8203985691070557 Accuracy: 42.04% Test Loss: 1.4564577341079712 TestAccuracy: 45.66%\n",
      "Epoch:3 Train Loss:0.7136831879615784 Accuracy: 43.18% Test Loss: 1.324305772781372 TestAccuracy: 46.41%\n",
      "Epoch:4 Train Loss:0.9193024635314941 Accuracy: 44.18% Test Loss: 1.3764280080795288 TestAccuracy: 47.11%\n",
      "Epoch:5 Train Loss:1.549744725227356 Accuracy: 45.08% Test Loss: 1.690565586090088 TestAccuracy: 47.35%\n",
      "Epoch:6 Train Loss:1.6578853130340576 Accuracy: 45.85% Test Loss: 1.4165393114089966 TestAccuracy: 47.79%\n",
      "Epoch:7 Train Loss:2.2408101558685303 Accuracy: 46.57% Test Loss: 1.4295449256896973 TestAccuracy: 48.16%\n",
      "Epoch:8 Train Loss:1.9459586143493652 Accuracy: 47.21% Test Loss: 1.6822524070739746 TestAccuracy: 48.41%\n",
      "Epoch:9 Train Loss:0.9974238872528076 Accuracy: 47.82% Test Loss: 1.5662901401519775 TestAccuracy: 48.66%\n",
      "Epoch:10 Train Loss:0.9675878882408142 Accuracy: 48.37% Test Loss: 1.5447355508804321 TestAccuracy: 48.82%\n",
      "Epoch:11 Train Loss:1.1570907831192017 Accuracy: 48.87% Test Loss: 1.363341212272644 TestAccuracy: 48.96%\n",
      "Epoch:12 Train Loss:1.693853735923767 Accuracy: 49.36% Test Loss: 1.391799807548523 TestAccuracy: 49.08%\n",
      "Epoch:13 Train Loss:0.8637445569038391 Accuracy: 49.83% Test Loss: 1.484250545501709 TestAccuracy: 49.23%\n",
      "Epoch:14 Train Loss:1.0542771816253662 Accuracy: 50.29% Test Loss: 1.5231190919876099 TestAccuracy: 49.42%\n",
      "Epoch:15 Train Loss:1.0971906185150146 Accuracy: 50.75% Test Loss: 1.3910921812057495 TestAccuracy: 49.55%\n",
      "Epoch:16 Train Loss:1.3506906032562256 Accuracy: 51.18% Test Loss: 1.4477462768554688 TestAccuracy: 49.65%\n",
      "Epoch:17 Train Loss:1.0592901706695557 Accuracy: 51.59% Test Loss: 1.5995614528656006 TestAccuracy: 49.71%\n",
      "Epoch:18 Train Loss:1.0356485843658447 Accuracy: 51.96% Test Loss: 1.3839285373687744 TestAccuracy: 49.88%\n",
      "Epoch:19 Train Loss:0.9330446720123291 Accuracy: 52.33% Test Loss: 1.5277907848358154 TestAccuracy: 49.94%\n",
      "Epoch:20 Train Loss:1.4806383848190308 Accuracy: 52.70% Test Loss: 1.4495539665222168 TestAccuracy: 50.05%\n",
      "Epoch:21 Train Loss:1.1950562000274658 Accuracy: 53.06% Test Loss: 1.5047690868377686 TestAccuracy: 50.12%\n",
      "Epoch:22 Train Loss:0.9331158995628357 Accuracy: 53.40% Test Loss: 1.5829867124557495 TestAccuracy: 50.20%\n",
      "Epoch:23 Train Loss:0.9879295825958252 Accuracy: 53.74% Test Loss: 1.7865891456604004 TestAccuracy: 50.29%\n",
      "Epoch:24 Train Loss:0.8801493048667908 Accuracy: 54.05% Test Loss: 1.5514582395553589 TestAccuracy: 50.40%\n",
      "Epoch:25 Train Loss:1.1441534757614136 Accuracy: 54.38% Test Loss: 1.3740761280059814 TestAccuracy: 50.47%\n",
      "Epoch:26 Train Loss:1.1290415525436401 Accuracy: 54.68% Test Loss: 2.0406930446624756 TestAccuracy: 50.54%\n",
      "Epoch:27 Train Loss:0.6858684420585632 Accuracy: 54.98% Test Loss: 2.1348323822021484 TestAccuracy: 50.60%\n",
      "Epoch:28 Train Loss:1.361751675605774 Accuracy: 55.27% Test Loss: 2.084803581237793 TestAccuracy: 50.65%\n",
      "Epoch:29 Train Loss:1.0633150339126587 Accuracy: 55.55% Test Loss: 1.7514840364456177 TestAccuracy: 50.69%\n"
     ]
    }
   ],
   "source": [
    "'''Train-Test Loop'''\n",
    "\n",
    "for epoch in range(n_epoch): # Loop through the number of epochs\n",
    "    model.train() # Set the model to training mode\n",
    "    for idx,data in enumerate(train_loader): # Loop through the training data\n",
    "        X,y = data # Get the features and labels from the data\n",
    "        \n",
    "        optimizer.zero_grad() # Zero the gradients\n",
    "        y_pred = model(X) # Get the predictions\n",
    "        \n",
    "        loss = loss_fn(y_pred.float(),y) # Calculate the loss\n",
    "\n",
    "        _, predicted = torch.max(y_pred, 1) # Get the predicted class\n",
    "        \n",
    "        # Update the running total of correct predictions and samples\n",
    "        train_correct += (predicted == y).sum().item() # Get the number of correct predictions\n",
    "        train_samples += y.size(0) # Get the number of samples\n",
    "        \n",
    "        loss.backward() # Backpropagate the loss\n",
    "        optimizer.step() # Update the weights\n",
    "\n",
    "    model.eval() # Set the model to evaluation mode\n",
    "    with torch.no_grad(): # No need to calculate gradients\n",
    "        for data in test_loader: # Loop through the testing data\n",
    "            images,labels=data[0],data[1] # Get the features and labels\n",
    "            \n",
    "            outputs=model(images) # Get the predictions\n",
    "            \n",
    "            test_loss= loss_fn(outputs.float(),labels) # Calculate the loss\n",
    "            \n",
    "            _, predicted = outputs.max(1) # Get the predicted class\n",
    "            test_samples+= labels.size(0) # Get the number of samples\n",
    "            test_correct += predicted.eq(labels).sum().item() # Get the number of correct predictions\n",
    "        \n",
    "        \n",
    "    # Display metrics\n",
    "    train_losses.append(loss.item()) # Append the training loss\n",
    "    test_losses.append(test_loss.item()) # Append the test loss\n",
    "    train_accuracy = 100 * train_correct / train_samples # Calculate the training accuracy\n",
    "    test_accuracy = 100 * test_correct / test_samples # Calculate the test accuracy\n",
    "    print(f\"Epoch:{epoch} Train Loss:{loss.item()} Accuracy: {train_accuracy:.2f}% Test Loss: {test_loss.item()} TestAccuracy: {test_accuracy:.2f}%\") # Print the metrics"
   ]
  },
  {
   "cell_type": "code",
   "execution_count": 53,
   "metadata": {},
   "outputs": [
    {
     "data": {
      "image/png": "[encoded data removed]",
      "text/plain": [
       "<Figure size 640x480 with 1 Axes>"
      ]
     },
     "metadata": {},
     "output_type": "display_data"
    }
   ],
   "source": [
    "'''Loss curve plotting'''\n",
    "\n",
    "ep = [] # Store number of epochs\n",
    "for i in range(n_epoch):\n",
    "    ep.append(i)\n",
    "    \n",
    "plt.plot(ep,train_losses)\n",
    "plt.plot(ep,test_losses,c='r')\n",
    "plt.show()"
   ]
  }
 ],
 "metadata": {
  "kernelspec": {
   "display_name": "info2000",
   "language": "python",
   "name": "python3"
  },
  "language_info": {
   "codemirror_mode": {
    "name": "ipython",
    "version": 3
   },
   "file_extension": ".py",
   "mimetype": "text/x-python",
   "name": "python",
   "nbconvert_exporter": "python",
   "pygments_lexer": "ipython3",
   "version": "3.10.13"
  }
 },
 "nbformat": 4,
 "nbformat_minor": 2
}
